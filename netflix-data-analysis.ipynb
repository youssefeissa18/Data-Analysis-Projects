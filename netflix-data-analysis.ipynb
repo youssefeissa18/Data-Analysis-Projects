{
 "cells": [
  {
   "cell_type": "markdown",
   "id": "e8216b4f",
   "metadata": {
    "papermill": {
     "duration": 0.019415,
     "end_time": "2024-03-16T19:48:42.836111",
     "exception": false,
     "start_time": "2024-03-16T19:48:42.816696",
     "status": "completed"
    },
    "tags": []
   },
   "source": [
    "# Importing Needed Libraries¶"
   ]
  },
  {
   "cell_type": "code",
   "execution_count": 1,
   "id": "b97a3382",
   "metadata": {
    "execution": {
     "iopub.execute_input": "2024-03-16T19:48:42.876611Z",
     "iopub.status.busy": "2024-03-16T19:48:42.876168Z",
     "iopub.status.idle": "2024-03-16T19:48:45.624162Z",
     "shell.execute_reply": "2024-03-16T19:48:45.623182Z"
    },
    "papermill": {
     "duration": 2.771744,
     "end_time": "2024-03-16T19:48:45.626929",
     "exception": false,
     "start_time": "2024-03-16T19:48:42.855185",
     "status": "completed"
    },
    "tags": []
   },
   "outputs": [],
   "source": [
    "import numpy as np\n",
    "import pandas as pd\n",
    "import matplotlib.pyplot as plt\n",
    "import seaborn as sns"
   ]
  },
  {
   "cell_type": "markdown",
   "id": "46138c86",
   "metadata": {
    "papermill": {
     "duration": 0.018961,
     "end_time": "2024-03-16T19:48:45.666209",
     "exception": false,
     "start_time": "2024-03-16T19:48:45.647248",
     "status": "completed"
    },
    "tags": []
   },
   "source": [
    "# Read the Data"
   ]
  },
  {
   "cell_type": "code",
   "execution_count": 2,
   "id": "790eb4b2",
   "metadata": {
    "execution": {
     "iopub.execute_input": "2024-03-16T19:48:45.710613Z",
     "iopub.status.busy": "2024-03-16T19:48:45.709634Z",
     "iopub.status.idle": "2024-03-16T19:48:45.801439Z",
     "shell.execute_reply": "2024-03-16T19:48:45.799951Z"
    },
    "papermill": {
     "duration": 0.117689,
     "end_time": "2024-03-16T19:48:45.804414",
     "exception": false,
     "start_time": "2024-03-16T19:48:45.686725",
     "status": "completed"
    },
    "tags": []
   },
   "outputs": [],
   "source": [
    "df = pd.read_csv('/kaggle/input/netflix-data-cleaning-analysis-and-visualization/netflix1.csv')"
   ]
  },
  {
   "cell_type": "code",
   "execution_count": 3,
   "id": "04ea2956",
   "metadata": {
    "execution": {
     "iopub.execute_input": "2024-03-16T19:48:45.846196Z",
     "iopub.status.busy": "2024-03-16T19:48:45.845757Z",
     "iopub.status.idle": "2024-03-16T19:48:45.854579Z",
     "shell.execute_reply": "2024-03-16T19:48:45.853081Z"
    },
    "papermill": {
     "duration": 0.033133,
     "end_time": "2024-03-16T19:48:45.857000",
     "exception": false,
     "start_time": "2024-03-16T19:48:45.823867",
     "status": "completed"
    },
    "tags": []
   },
   "outputs": [
    {
     "data": {
      "text/plain": [
       "(8790, 10)"
      ]
     },
     "execution_count": 3,
     "metadata": {},
     "output_type": "execute_result"
    }
   ],
   "source": [
    "df.shape"
   ]
  },
  {
   "cell_type": "code",
   "execution_count": 4,
   "id": "fc74a47a",
   "metadata": {
    "execution": {
     "iopub.execute_input": "2024-03-16T19:48:45.900231Z",
     "iopub.status.busy": "2024-03-16T19:48:45.899803Z",
     "iopub.status.idle": "2024-03-16T19:48:45.924160Z",
     "shell.execute_reply": "2024-03-16T19:48:45.922564Z"
    },
    "papermill": {
     "duration": 0.049667,
     "end_time": "2024-03-16T19:48:45.927014",
     "exception": false,
     "start_time": "2024-03-16T19:48:45.877347",
     "status": "completed"
    },
    "tags": []
   },
   "outputs": [
    {
     "data": {
      "text/html": [
       "<div>\n",
       "<style scoped>\n",
       "    .dataframe tbody tr th:only-of-type {\n",
       "        vertical-align: middle;\n",
       "    }\n",
       "\n",
       "    .dataframe tbody tr th {\n",
       "        vertical-align: top;\n",
       "    }\n",
       "\n",
       "    .dataframe thead th {\n",
       "        text-align: right;\n",
       "    }\n",
       "</style>\n",
       "<table border=\"1\" class=\"dataframe\">\n",
       "  <thead>\n",
       "    <tr style=\"text-align: right;\">\n",
       "      <th></th>\n",
       "      <th>show_id</th>\n",
       "      <th>type</th>\n",
       "      <th>title</th>\n",
       "      <th>director</th>\n",
       "      <th>country</th>\n",
       "      <th>date_added</th>\n",
       "      <th>release_year</th>\n",
       "      <th>rating</th>\n",
       "      <th>duration</th>\n",
       "      <th>listed_in</th>\n",
       "    </tr>\n",
       "  </thead>\n",
       "  <tbody>\n",
       "    <tr>\n",
       "      <th>0</th>\n",
       "      <td>s1</td>\n",
       "      <td>Movie</td>\n",
       "      <td>Dick Johnson Is Dead</td>\n",
       "      <td>Kirsten Johnson</td>\n",
       "      <td>United States</td>\n",
       "      <td>9/25/2021</td>\n",
       "      <td>2020</td>\n",
       "      <td>PG-13</td>\n",
       "      <td>90 min</td>\n",
       "      <td>Documentaries</td>\n",
       "    </tr>\n",
       "    <tr>\n",
       "      <th>1</th>\n",
       "      <td>s3</td>\n",
       "      <td>TV Show</td>\n",
       "      <td>Ganglands</td>\n",
       "      <td>Julien Leclercq</td>\n",
       "      <td>France</td>\n",
       "      <td>9/24/2021</td>\n",
       "      <td>2021</td>\n",
       "      <td>TV-MA</td>\n",
       "      <td>1 Season</td>\n",
       "      <td>Crime TV Shows, International TV Shows, TV Act...</td>\n",
       "    </tr>\n",
       "    <tr>\n",
       "      <th>2</th>\n",
       "      <td>s6</td>\n",
       "      <td>TV Show</td>\n",
       "      <td>Midnight Mass</td>\n",
       "      <td>Mike Flanagan</td>\n",
       "      <td>United States</td>\n",
       "      <td>9/24/2021</td>\n",
       "      <td>2021</td>\n",
       "      <td>TV-MA</td>\n",
       "      <td>1 Season</td>\n",
       "      <td>TV Dramas, TV Horror, TV Mysteries</td>\n",
       "    </tr>\n",
       "    <tr>\n",
       "      <th>3</th>\n",
       "      <td>s14</td>\n",
       "      <td>Movie</td>\n",
       "      <td>Confessions of an Invisible Girl</td>\n",
       "      <td>Bruno Garotti</td>\n",
       "      <td>Brazil</td>\n",
       "      <td>9/22/2021</td>\n",
       "      <td>2021</td>\n",
       "      <td>TV-PG</td>\n",
       "      <td>91 min</td>\n",
       "      <td>Children &amp; Family Movies, Comedies</td>\n",
       "    </tr>\n",
       "    <tr>\n",
       "      <th>4</th>\n",
       "      <td>s8</td>\n",
       "      <td>Movie</td>\n",
       "      <td>Sankofa</td>\n",
       "      <td>Haile Gerima</td>\n",
       "      <td>United States</td>\n",
       "      <td>9/24/2021</td>\n",
       "      <td>1993</td>\n",
       "      <td>TV-MA</td>\n",
       "      <td>125 min</td>\n",
       "      <td>Dramas, Independent Movies, International Movies</td>\n",
       "    </tr>\n",
       "  </tbody>\n",
       "</table>\n",
       "</div>"
      ],
      "text/plain": [
       "  show_id     type                             title         director  \\\n",
       "0      s1    Movie              Dick Johnson Is Dead  Kirsten Johnson   \n",
       "1      s3  TV Show                         Ganglands  Julien Leclercq   \n",
       "2      s6  TV Show                     Midnight Mass    Mike Flanagan   \n",
       "3     s14    Movie  Confessions of an Invisible Girl    Bruno Garotti   \n",
       "4      s8    Movie                           Sankofa     Haile Gerima   \n",
       "\n",
       "         country date_added  release_year rating  duration  \\\n",
       "0  United States  9/25/2021          2020  PG-13    90 min   \n",
       "1         France  9/24/2021          2021  TV-MA  1 Season   \n",
       "2  United States  9/24/2021          2021  TV-MA  1 Season   \n",
       "3         Brazil  9/22/2021          2021  TV-PG    91 min   \n",
       "4  United States  9/24/2021          1993  TV-MA   125 min   \n",
       "\n",
       "                                           listed_in  \n",
       "0                                      Documentaries  \n",
       "1  Crime TV Shows, International TV Shows, TV Act...  \n",
       "2                 TV Dramas, TV Horror, TV Mysteries  \n",
       "3                 Children & Family Movies, Comedies  \n",
       "4   Dramas, Independent Movies, International Movies  "
      ]
     },
     "execution_count": 4,
     "metadata": {},
     "output_type": "execute_result"
    }
   ],
   "source": [
    "df.head()"
   ]
  },
  {
   "cell_type": "code",
   "execution_count": 5,
   "id": "f077290e",
   "metadata": {
    "execution": {
     "iopub.execute_input": "2024-03-16T19:48:45.971779Z",
     "iopub.status.busy": "2024-03-16T19:48:45.970668Z",
     "iopub.status.idle": "2024-03-16T19:48:45.986059Z",
     "shell.execute_reply": "2024-03-16T19:48:45.985089Z"
    },
    "papermill": {
     "duration": 0.040644,
     "end_time": "2024-03-16T19:48:45.988567",
     "exception": false,
     "start_time": "2024-03-16T19:48:45.947923",
     "status": "completed"
    },
    "tags": []
   },
   "outputs": [
    {
     "data": {
      "text/html": [
       "<div>\n",
       "<style scoped>\n",
       "    .dataframe tbody tr th:only-of-type {\n",
       "        vertical-align: middle;\n",
       "    }\n",
       "\n",
       "    .dataframe tbody tr th {\n",
       "        vertical-align: top;\n",
       "    }\n",
       "\n",
       "    .dataframe thead th {\n",
       "        text-align: right;\n",
       "    }\n",
       "</style>\n",
       "<table border=\"1\" class=\"dataframe\">\n",
       "  <thead>\n",
       "    <tr style=\"text-align: right;\">\n",
       "      <th></th>\n",
       "      <th>show_id</th>\n",
       "      <th>type</th>\n",
       "      <th>title</th>\n",
       "      <th>director</th>\n",
       "      <th>country</th>\n",
       "      <th>date_added</th>\n",
       "      <th>release_year</th>\n",
       "      <th>rating</th>\n",
       "      <th>duration</th>\n",
       "      <th>listed_in</th>\n",
       "    </tr>\n",
       "  </thead>\n",
       "  <tbody>\n",
       "    <tr>\n",
       "      <th>8785</th>\n",
       "      <td>s8797</td>\n",
       "      <td>TV Show</td>\n",
       "      <td>Yunus Emre</td>\n",
       "      <td>Not Given</td>\n",
       "      <td>Turkey</td>\n",
       "      <td>1/17/2017</td>\n",
       "      <td>2016</td>\n",
       "      <td>TV-PG</td>\n",
       "      <td>2 Seasons</td>\n",
       "      <td>International TV Shows, TV Dramas</td>\n",
       "    </tr>\n",
       "    <tr>\n",
       "      <th>8786</th>\n",
       "      <td>s8798</td>\n",
       "      <td>TV Show</td>\n",
       "      <td>Zak Storm</td>\n",
       "      <td>Not Given</td>\n",
       "      <td>United States</td>\n",
       "      <td>9/13/2018</td>\n",
       "      <td>2016</td>\n",
       "      <td>TV-Y7</td>\n",
       "      <td>3 Seasons</td>\n",
       "      <td>Kids' TV</td>\n",
       "    </tr>\n",
       "    <tr>\n",
       "      <th>8787</th>\n",
       "      <td>s8801</td>\n",
       "      <td>TV Show</td>\n",
       "      <td>Zindagi Gulzar Hai</td>\n",
       "      <td>Not Given</td>\n",
       "      <td>Pakistan</td>\n",
       "      <td>12/15/2016</td>\n",
       "      <td>2012</td>\n",
       "      <td>TV-PG</td>\n",
       "      <td>1 Season</td>\n",
       "      <td>International TV Shows, Romantic TV Shows, TV ...</td>\n",
       "    </tr>\n",
       "    <tr>\n",
       "      <th>8788</th>\n",
       "      <td>s8784</td>\n",
       "      <td>TV Show</td>\n",
       "      <td>Yoko</td>\n",
       "      <td>Not Given</td>\n",
       "      <td>Pakistan</td>\n",
       "      <td>6/23/2018</td>\n",
       "      <td>2016</td>\n",
       "      <td>TV-Y</td>\n",
       "      <td>1 Season</td>\n",
       "      <td>Kids' TV</td>\n",
       "    </tr>\n",
       "    <tr>\n",
       "      <th>8789</th>\n",
       "      <td>s8786</td>\n",
       "      <td>TV Show</td>\n",
       "      <td>YOM</td>\n",
       "      <td>Not Given</td>\n",
       "      <td>Pakistan</td>\n",
       "      <td>6/7/2018</td>\n",
       "      <td>2016</td>\n",
       "      <td>TV-Y7</td>\n",
       "      <td>1 Season</td>\n",
       "      <td>Kids' TV</td>\n",
       "    </tr>\n",
       "  </tbody>\n",
       "</table>\n",
       "</div>"
      ],
      "text/plain": [
       "     show_id     type               title   director        country  \\\n",
       "8785   s8797  TV Show          Yunus Emre  Not Given         Turkey   \n",
       "8786   s8798  TV Show           Zak Storm  Not Given  United States   \n",
       "8787   s8801  TV Show  Zindagi Gulzar Hai  Not Given       Pakistan   \n",
       "8788   s8784  TV Show                Yoko  Not Given       Pakistan   \n",
       "8789   s8786  TV Show                 YOM  Not Given       Pakistan   \n",
       "\n",
       "      date_added  release_year rating   duration  \\\n",
       "8785   1/17/2017          2016  TV-PG  2 Seasons   \n",
       "8786   9/13/2018          2016  TV-Y7  3 Seasons   \n",
       "8787  12/15/2016          2012  TV-PG   1 Season   \n",
       "8788   6/23/2018          2016   TV-Y   1 Season   \n",
       "8789    6/7/2018          2016  TV-Y7   1 Season   \n",
       "\n",
       "                                              listed_in  \n",
       "8785                  International TV Shows, TV Dramas  \n",
       "8786                                           Kids' TV  \n",
       "8787  International TV Shows, Romantic TV Shows, TV ...  \n",
       "8788                                           Kids' TV  \n",
       "8789                                           Kids' TV  "
      ]
     },
     "execution_count": 5,
     "metadata": {},
     "output_type": "execute_result"
    }
   ],
   "source": [
    "df.tail()"
   ]
  },
  {
   "cell_type": "markdown",
   "id": "6e2f1024",
   "metadata": {
    "papermill": {
     "duration": 0.019866,
     "end_time": "2024-03-16T19:48:46.030392",
     "exception": false,
     "start_time": "2024-03-16T19:48:46.010526",
     "status": "completed"
    },
    "tags": []
   },
   "source": [
    "**show the first 5 rows and last 5 rows from data**"
   ]
  },
  {
   "cell_type": "markdown",
   "id": "f116b155",
   "metadata": {
    "papermill": {
     "duration": 0.019484,
     "end_time": "2024-03-16T19:48:46.071126",
     "exception": false,
     "start_time": "2024-03-16T19:48:46.051642",
     "status": "completed"
    },
    "tags": []
   },
   "source": [
    "# Exploring the Data¶"
   ]
  },
  {
   "cell_type": "code",
   "execution_count": 6,
   "id": "251c0fb1",
   "metadata": {
    "execution": {
     "iopub.execute_input": "2024-03-16T19:48:46.114672Z",
     "iopub.status.busy": "2024-03-16T19:48:46.114259Z",
     "iopub.status.idle": "2024-03-16T19:48:46.151130Z",
     "shell.execute_reply": "2024-03-16T19:48:46.149724Z"
    },
    "papermill": {
     "duration": 0.062349,
     "end_time": "2024-03-16T19:48:46.154148",
     "exception": false,
     "start_time": "2024-03-16T19:48:46.091799",
     "status": "completed"
    },
    "tags": []
   },
   "outputs": [
    {
     "name": "stdout",
     "output_type": "stream",
     "text": [
      "<class 'pandas.core.frame.DataFrame'>\n",
      "RangeIndex: 8790 entries, 0 to 8789\n",
      "Data columns (total 10 columns):\n",
      " #   Column        Non-Null Count  Dtype \n",
      "---  ------        --------------  ----- \n",
      " 0   show_id       8790 non-null   object\n",
      " 1   type          8790 non-null   object\n",
      " 2   title         8790 non-null   object\n",
      " 3   director      8790 non-null   object\n",
      " 4   country       8790 non-null   object\n",
      " 5   date_added    8790 non-null   object\n",
      " 6   release_year  8790 non-null   int64 \n",
      " 7   rating        8790 non-null   object\n",
      " 8   duration      8790 non-null   object\n",
      " 9   listed_in     8790 non-null   object\n",
      "dtypes: int64(1), object(9)\n",
      "memory usage: 686.8+ KB\n"
     ]
    }
   ],
   "source": [
    "df.info()"
   ]
  },
  {
   "cell_type": "markdown",
   "id": "6df6ad5f",
   "metadata": {
    "papermill": {
     "duration": 0.020099,
     "end_time": "2024-03-16T19:48:46.194892",
     "exception": false,
     "start_time": "2024-03-16T19:48:46.174793",
     "status": "completed"
    },
    "tags": []
   },
   "source": [
    "**there are not null value and the data is completed**"
   ]
  },
  {
   "cell_type": "code",
   "execution_count": 7,
   "id": "3e0c8c8e",
   "metadata": {
    "execution": {
     "iopub.execute_input": "2024-03-16T19:48:46.238135Z",
     "iopub.status.busy": "2024-03-16T19:48:46.237750Z",
     "iopub.status.idle": "2024-03-16T19:48:46.256824Z",
     "shell.execute_reply": "2024-03-16T19:48:46.255565Z"
    },
    "papermill": {
     "duration": 0.043826,
     "end_time": "2024-03-16T19:48:46.259724",
     "exception": false,
     "start_time": "2024-03-16T19:48:46.215898",
     "status": "completed"
    },
    "tags": []
   },
   "outputs": [
    {
     "data": {
      "text/plain": [
       "show_id         0\n",
       "type            0\n",
       "title           0\n",
       "director        0\n",
       "country         0\n",
       "date_added      0\n",
       "release_year    0\n",
       "rating          0\n",
       "duration        0\n",
       "listed_in       0\n",
       "dtype: int64"
      ]
     },
     "execution_count": 7,
     "metadata": {},
     "output_type": "execute_result"
    }
   ],
   "source": [
    "df.isna().sum()"
   ]
  },
  {
   "cell_type": "markdown",
   "id": "541489cc",
   "metadata": {
    "papermill": {
     "duration": 0.020565,
     "end_time": "2024-03-16T19:48:46.300583",
     "exception": false,
     "start_time": "2024-03-16T19:48:46.280018",
     "status": "completed"
    },
    "tags": []
   },
   "source": [
    "**there is no nan value**"
   ]
  },
  {
   "cell_type": "code",
   "execution_count": 8,
   "id": "bb3e4458",
   "metadata": {
    "execution": {
     "iopub.execute_input": "2024-03-16T19:48:46.343709Z",
     "iopub.status.busy": "2024-03-16T19:48:46.343235Z",
     "iopub.status.idle": "2024-03-16T19:48:46.365114Z",
     "shell.execute_reply": "2024-03-16T19:48:46.363757Z"
    },
    "papermill": {
     "duration": 0.046445,
     "end_time": "2024-03-16T19:48:46.367456",
     "exception": false,
     "start_time": "2024-03-16T19:48:46.321011",
     "status": "completed"
    },
    "tags": []
   },
   "outputs": [
    {
     "data": {
      "text/plain": [
       "0"
      ]
     },
     "execution_count": 8,
     "metadata": {},
     "output_type": "execute_result"
    }
   ],
   "source": [
    "df.duplicated().sum()"
   ]
  },
  {
   "cell_type": "markdown",
   "id": "7cf475f7",
   "metadata": {
    "papermill": {
     "duration": 0.0202,
     "end_time": "2024-03-16T19:48:46.407635",
     "exception": false,
     "start_time": "2024-03-16T19:48:46.387435",
     "status": "completed"
    },
    "tags": []
   },
   "source": [
    "**there is no duplicated value in data**"
   ]
  },
  {
   "cell_type": "markdown",
   "id": "fe3ca233",
   "metadata": {
    "papermill": {
     "duration": 0.019906,
     "end_time": "2024-03-16T19:48:46.448085",
     "exception": false,
     "start_time": "2024-03-16T19:48:46.428179",
     "status": "completed"
    },
    "tags": []
   },
   "source": [
    "# Cleaning the Data"
   ]
  },
  {
   "cell_type": "code",
   "execution_count": 9,
   "id": "daf6a7b1",
   "metadata": {
    "execution": {
     "iopub.execute_input": "2024-03-16T19:48:46.491274Z",
     "iopub.status.busy": "2024-03-16T19:48:46.490283Z",
     "iopub.status.idle": "2024-03-16T19:48:46.498887Z",
     "shell.execute_reply": "2024-03-16T19:48:46.497548Z"
    },
    "papermill": {
     "duration": 0.033514,
     "end_time": "2024-03-16T19:48:46.501913",
     "exception": false,
     "start_time": "2024-03-16T19:48:46.468399",
     "status": "completed"
    },
    "tags": []
   },
   "outputs": [
    {
     "data": {
      "text/plain": [
       "Index(['show_id', 'type', 'title', 'director', 'country', 'date_added',\n",
       "       'release_year', 'rating', 'duration', 'listed_in'],\n",
       "      dtype='object')"
      ]
     },
     "execution_count": 9,
     "metadata": {},
     "output_type": "execute_result"
    }
   ],
   "source": [
    "df.columns"
   ]
  },
  {
   "cell_type": "code",
   "execution_count": 10,
   "id": "5f5139eb",
   "metadata": {
    "execution": {
     "iopub.execute_input": "2024-03-16T19:48:46.547786Z",
     "iopub.status.busy": "2024-03-16T19:48:46.547395Z",
     "iopub.status.idle": "2024-03-16T19:48:46.554766Z",
     "shell.execute_reply": "2024-03-16T19:48:46.553518Z"
    },
    "papermill": {
     "duration": 0.034106,
     "end_time": "2024-03-16T19:48:46.557375",
     "exception": false,
     "start_time": "2024-03-16T19:48:46.523269",
     "status": "completed"
    },
    "tags": []
   },
   "outputs": [],
   "source": [
    "df.rename(columns={'date_added':'Date',\"listed_in\":\"category\"},inplace=True)"
   ]
  },
  {
   "cell_type": "markdown",
   "id": "6319460f",
   "metadata": {
    "papermill": {
     "duration": 0.021741,
     "end_time": "2024-03-16T19:48:46.601513",
     "exception": false,
     "start_time": "2024-03-16T19:48:46.579772",
     "status": "completed"
    },
    "tags": []
   },
   "source": [
    "**the date is object datatype will convert to datetime**"
   ]
  },
  {
   "cell_type": "code",
   "execution_count": 11,
   "id": "72b992ce",
   "metadata": {
    "execution": {
     "iopub.execute_input": "2024-03-16T19:48:46.646087Z",
     "iopub.status.busy": "2024-03-16T19:48:46.645713Z",
     "iopub.status.idle": "2024-03-16T19:48:46.663401Z",
     "shell.execute_reply": "2024-03-16T19:48:46.662063Z"
    },
    "papermill": {
     "duration": 0.043345,
     "end_time": "2024-03-16T19:48:46.665948",
     "exception": false,
     "start_time": "2024-03-16T19:48:46.622603",
     "status": "completed"
    },
    "tags": []
   },
   "outputs": [
    {
     "data": {
      "text/html": [
       "<div>\n",
       "<style scoped>\n",
       "    .dataframe tbody tr th:only-of-type {\n",
       "        vertical-align: middle;\n",
       "    }\n",
       "\n",
       "    .dataframe tbody tr th {\n",
       "        vertical-align: top;\n",
       "    }\n",
       "\n",
       "    .dataframe thead th {\n",
       "        text-align: right;\n",
       "    }\n",
       "</style>\n",
       "<table border=\"1\" class=\"dataframe\">\n",
       "  <thead>\n",
       "    <tr style=\"text-align: right;\">\n",
       "      <th></th>\n",
       "      <th>show_id</th>\n",
       "      <th>type</th>\n",
       "      <th>title</th>\n",
       "      <th>director</th>\n",
       "      <th>country</th>\n",
       "      <th>Date</th>\n",
       "      <th>release_year</th>\n",
       "      <th>rating</th>\n",
       "      <th>duration</th>\n",
       "      <th>category</th>\n",
       "    </tr>\n",
       "  </thead>\n",
       "  <tbody>\n",
       "    <tr>\n",
       "      <th>0</th>\n",
       "      <td>s1</td>\n",
       "      <td>Movie</td>\n",
       "      <td>Dick Johnson Is Dead</td>\n",
       "      <td>Kirsten Johnson</td>\n",
       "      <td>United States</td>\n",
       "      <td>9/25/2021</td>\n",
       "      <td>2020</td>\n",
       "      <td>PG-13</td>\n",
       "      <td>90 min</td>\n",
       "      <td>Documentaries</td>\n",
       "    </tr>\n",
       "    <tr>\n",
       "      <th>1</th>\n",
       "      <td>s3</td>\n",
       "      <td>TV Show</td>\n",
       "      <td>Ganglands</td>\n",
       "      <td>Julien Leclercq</td>\n",
       "      <td>France</td>\n",
       "      <td>9/24/2021</td>\n",
       "      <td>2021</td>\n",
       "      <td>TV-MA</td>\n",
       "      <td>1 Season</td>\n",
       "      <td>Crime TV Shows, International TV Shows, TV Act...</td>\n",
       "    </tr>\n",
       "    <tr>\n",
       "      <th>2</th>\n",
       "      <td>s6</td>\n",
       "      <td>TV Show</td>\n",
       "      <td>Midnight Mass</td>\n",
       "      <td>Mike Flanagan</td>\n",
       "      <td>United States</td>\n",
       "      <td>9/24/2021</td>\n",
       "      <td>2021</td>\n",
       "      <td>TV-MA</td>\n",
       "      <td>1 Season</td>\n",
       "      <td>TV Dramas, TV Horror, TV Mysteries</td>\n",
       "    </tr>\n",
       "    <tr>\n",
       "      <th>3</th>\n",
       "      <td>s14</td>\n",
       "      <td>Movie</td>\n",
       "      <td>Confessions of an Invisible Girl</td>\n",
       "      <td>Bruno Garotti</td>\n",
       "      <td>Brazil</td>\n",
       "      <td>9/22/2021</td>\n",
       "      <td>2021</td>\n",
       "      <td>TV-PG</td>\n",
       "      <td>91 min</td>\n",
       "      <td>Children &amp; Family Movies, Comedies</td>\n",
       "    </tr>\n",
       "    <tr>\n",
       "      <th>4</th>\n",
       "      <td>s8</td>\n",
       "      <td>Movie</td>\n",
       "      <td>Sankofa</td>\n",
       "      <td>Haile Gerima</td>\n",
       "      <td>United States</td>\n",
       "      <td>9/24/2021</td>\n",
       "      <td>1993</td>\n",
       "      <td>TV-MA</td>\n",
       "      <td>125 min</td>\n",
       "      <td>Dramas, Independent Movies, International Movies</td>\n",
       "    </tr>\n",
       "  </tbody>\n",
       "</table>\n",
       "</div>"
      ],
      "text/plain": [
       "  show_id     type                             title         director  \\\n",
       "0      s1    Movie              Dick Johnson Is Dead  Kirsten Johnson   \n",
       "1      s3  TV Show                         Ganglands  Julien Leclercq   \n",
       "2      s6  TV Show                     Midnight Mass    Mike Flanagan   \n",
       "3     s14    Movie  Confessions of an Invisible Girl    Bruno Garotti   \n",
       "4      s8    Movie                           Sankofa     Haile Gerima   \n",
       "\n",
       "         country       Date  release_year rating  duration  \\\n",
       "0  United States  9/25/2021          2020  PG-13    90 min   \n",
       "1         France  9/24/2021          2021  TV-MA  1 Season   \n",
       "2  United States  9/24/2021          2021  TV-MA  1 Season   \n",
       "3         Brazil  9/22/2021          2021  TV-PG    91 min   \n",
       "4  United States  9/24/2021          1993  TV-MA   125 min   \n",
       "\n",
       "                                            category  \n",
       "0                                      Documentaries  \n",
       "1  Crime TV Shows, International TV Shows, TV Act...  \n",
       "2                 TV Dramas, TV Horror, TV Mysteries  \n",
       "3                 Children & Family Movies, Comedies  \n",
       "4   Dramas, Independent Movies, International Movies  "
      ]
     },
     "execution_count": 11,
     "metadata": {},
     "output_type": "execute_result"
    }
   ],
   "source": [
    "df.head()"
   ]
  },
  {
   "cell_type": "code",
   "execution_count": 12,
   "id": "cb382405",
   "metadata": {
    "execution": {
     "iopub.execute_input": "2024-03-16T19:48:46.710896Z",
     "iopub.status.busy": "2024-03-16T19:48:46.710417Z",
     "iopub.status.idle": "2024-03-16T19:48:46.733189Z",
     "shell.execute_reply": "2024-03-16T19:48:46.732050Z"
    },
    "papermill": {
     "duration": 0.049029,
     "end_time": "2024-03-16T19:48:46.736205",
     "exception": false,
     "start_time": "2024-03-16T19:48:46.687176",
     "status": "completed"
    },
    "tags": []
   },
   "outputs": [],
   "source": [
    "df['Date'] = pd.to_datetime(df['Date'])"
   ]
  },
  {
   "cell_type": "code",
   "execution_count": 13,
   "id": "545217ac",
   "metadata": {
    "execution": {
     "iopub.execute_input": "2024-03-16T19:48:46.876392Z",
     "iopub.status.busy": "2024-03-16T19:48:46.875970Z",
     "iopub.status.idle": "2024-03-16T19:48:46.898268Z",
     "shell.execute_reply": "2024-03-16T19:48:46.897077Z"
    },
    "papermill": {
     "duration": 0.14238,
     "end_time": "2024-03-16T19:48:46.901301",
     "exception": false,
     "start_time": "2024-03-16T19:48:46.758921",
     "status": "completed"
    },
    "tags": []
   },
   "outputs": [
    {
     "name": "stdout",
     "output_type": "stream",
     "text": [
      "<class 'pandas.core.frame.DataFrame'>\n",
      "RangeIndex: 8790 entries, 0 to 8789\n",
      "Data columns (total 10 columns):\n",
      " #   Column        Non-Null Count  Dtype         \n",
      "---  ------        --------------  -----         \n",
      " 0   show_id       8790 non-null   object        \n",
      " 1   type          8790 non-null   object        \n",
      " 2   title         8790 non-null   object        \n",
      " 3   director      8790 non-null   object        \n",
      " 4   country       8790 non-null   object        \n",
      " 5   Date          8790 non-null   datetime64[ns]\n",
      " 6   release_year  8790 non-null   int64         \n",
      " 7   rating        8790 non-null   object        \n",
      " 8   duration      8790 non-null   object        \n",
      " 9   category      8790 non-null   object        \n",
      "dtypes: datetime64[ns](1), int64(1), object(8)\n",
      "memory usage: 686.8+ KB\n"
     ]
    }
   ],
   "source": [
    "df.info()"
   ]
  },
  {
   "cell_type": "code",
   "execution_count": 14,
   "id": "eeed0d79",
   "metadata": {
    "execution": {
     "iopub.execute_input": "2024-03-16T19:48:46.948264Z",
     "iopub.status.busy": "2024-03-16T19:48:46.947818Z",
     "iopub.status.idle": "2024-03-16T19:48:46.974092Z",
     "shell.execute_reply": "2024-03-16T19:48:46.972719Z"
    },
    "papermill": {
     "duration": 0.053011,
     "end_time": "2024-03-16T19:48:46.977035",
     "exception": false,
     "start_time": "2024-03-16T19:48:46.924024",
     "status": "completed"
    },
    "tags": []
   },
   "outputs": [
    {
     "data": {
      "text/html": [
       "<div>\n",
       "<style scoped>\n",
       "    .dataframe tbody tr th:only-of-type {\n",
       "        vertical-align: middle;\n",
       "    }\n",
       "\n",
       "    .dataframe tbody tr th {\n",
       "        vertical-align: top;\n",
       "    }\n",
       "\n",
       "    .dataframe thead th {\n",
       "        text-align: right;\n",
       "    }\n",
       "</style>\n",
       "<table border=\"1\" class=\"dataframe\">\n",
       "  <thead>\n",
       "    <tr style=\"text-align: right;\">\n",
       "      <th></th>\n",
       "      <th>Date</th>\n",
       "      <th>release_year</th>\n",
       "    </tr>\n",
       "  </thead>\n",
       "  <tbody>\n",
       "    <tr>\n",
       "      <th>count</th>\n",
       "      <td>8790</td>\n",
       "      <td>8790.000000</td>\n",
       "    </tr>\n",
       "    <tr>\n",
       "      <th>mean</th>\n",
       "      <td>2019-05-17 21:44:01.638225408</td>\n",
       "      <td>2014.183163</td>\n",
       "    </tr>\n",
       "    <tr>\n",
       "      <th>min</th>\n",
       "      <td>2008-01-01 00:00:00</td>\n",
       "      <td>1925.000000</td>\n",
       "    </tr>\n",
       "    <tr>\n",
       "      <th>25%</th>\n",
       "      <td>2018-04-06 00:00:00</td>\n",
       "      <td>2013.000000</td>\n",
       "    </tr>\n",
       "    <tr>\n",
       "      <th>50%</th>\n",
       "      <td>2019-07-03 00:00:00</td>\n",
       "      <td>2017.000000</td>\n",
       "    </tr>\n",
       "    <tr>\n",
       "      <th>75%</th>\n",
       "      <td>2020-08-19 18:00:00</td>\n",
       "      <td>2019.000000</td>\n",
       "    </tr>\n",
       "    <tr>\n",
       "      <th>max</th>\n",
       "      <td>2021-09-25 00:00:00</td>\n",
       "      <td>2021.000000</td>\n",
       "    </tr>\n",
       "    <tr>\n",
       "      <th>std</th>\n",
       "      <td>NaN</td>\n",
       "      <td>8.825466</td>\n",
       "    </tr>\n",
       "  </tbody>\n",
       "</table>\n",
       "</div>"
      ],
      "text/plain": [
       "                                Date  release_year\n",
       "count                           8790   8790.000000\n",
       "mean   2019-05-17 21:44:01.638225408   2014.183163\n",
       "min              2008-01-01 00:00:00   1925.000000\n",
       "25%              2018-04-06 00:00:00   2013.000000\n",
       "50%              2019-07-03 00:00:00   2017.000000\n",
       "75%              2020-08-19 18:00:00   2019.000000\n",
       "max              2021-09-25 00:00:00   2021.000000\n",
       "std                              NaN      8.825466"
      ]
     },
     "execution_count": 14,
     "metadata": {},
     "output_type": "execute_result"
    }
   ],
   "source": [
    "df.describe()"
   ]
  },
  {
   "cell_type": "markdown",
   "id": "02e05bfa",
   "metadata": {
    "papermill": {
     "duration": 0.023166,
     "end_time": "2024-03-16T19:48:47.022946",
     "exception": false,
     "start_time": "2024-03-16T19:48:46.999780",
     "status": "completed"
    },
    "tags": []
   },
   "source": [
    "# Analysis Vusalization"
   ]
  },
  {
   "cell_type": "markdown",
   "id": "5e1b8ee5",
   "metadata": {
    "papermill": {
     "duration": 0.021562,
     "end_time": "2024-03-16T19:48:47.067799",
     "exception": false,
     "start_time": "2024-03-16T19:48:47.046237",
     "status": "completed"
    },
    "tags": []
   },
   "source": [
    "<h2>The movie type<h2>"
   ]
  },
  {
   "cell_type": "code",
   "execution_count": 15,
   "id": "12c742f9",
   "metadata": {
    "execution": {
     "iopub.execute_input": "2024-03-16T19:48:47.113188Z",
     "iopub.status.busy": "2024-03-16T19:48:47.112728Z",
     "iopub.status.idle": "2024-03-16T19:48:47.122405Z",
     "shell.execute_reply": "2024-03-16T19:48:47.120917Z"
    },
    "papermill": {
     "duration": 0.035664,
     "end_time": "2024-03-16T19:48:47.125090",
     "exception": false,
     "start_time": "2024-03-16T19:48:47.089426",
     "status": "completed"
    },
    "tags": []
   },
   "outputs": [],
   "source": [
    "showtype = df['type'].value_counts().reset_index()"
   ]
  },
  {
   "cell_type": "markdown",
   "id": "787acfe5",
   "metadata": {
    "papermill": {
     "duration": 0.022202,
     "end_time": "2024-03-16T19:48:47.169094",
     "exception": false,
     "start_time": "2024-03-16T19:48:47.146892",
     "status": "completed"
    },
    "tags": []
   },
   "source": [
    "**from column type show we have from movie 6126 and tvshow 2664**"
   ]
  },
  {
   "cell_type": "code",
   "execution_count": 16,
   "id": "658f2bd9",
   "metadata": {
    "execution": {
     "iopub.execute_input": "2024-03-16T19:48:47.216967Z",
     "iopub.status.busy": "2024-03-16T19:48:47.216218Z",
     "iopub.status.idle": "2024-03-16T19:48:47.226166Z",
     "shell.execute_reply": "2024-03-16T19:48:47.224553Z"
    },
    "papermill": {
     "duration": 0.037788,
     "end_time": "2024-03-16T19:48:47.229329",
     "exception": false,
     "start_time": "2024-03-16T19:48:47.191541",
     "status": "completed"
    },
    "tags": []
   },
   "outputs": [
    {
     "data": {
      "text/html": [
       "<div>\n",
       "<style scoped>\n",
       "    .dataframe tbody tr th:only-of-type {\n",
       "        vertical-align: middle;\n",
       "    }\n",
       "\n",
       "    .dataframe tbody tr th {\n",
       "        vertical-align: top;\n",
       "    }\n",
       "\n",
       "    .dataframe thead th {\n",
       "        text-align: right;\n",
       "    }\n",
       "</style>\n",
       "<table border=\"1\" class=\"dataframe\">\n",
       "  <thead>\n",
       "    <tr style=\"text-align: right;\">\n",
       "      <th></th>\n",
       "      <th>type</th>\n",
       "      <th>count</th>\n",
       "    </tr>\n",
       "  </thead>\n",
       "  <tbody>\n",
       "    <tr>\n",
       "      <th>0</th>\n",
       "      <td>Movie</td>\n",
       "      <td>6126</td>\n",
       "    </tr>\n",
       "    <tr>\n",
       "      <th>1</th>\n",
       "      <td>TV Show</td>\n",
       "      <td>2664</td>\n",
       "    </tr>\n",
       "  </tbody>\n",
       "</table>\n",
       "</div>"
      ],
      "text/plain": [
       "      type  count\n",
       "0    Movie   6126\n",
       "1  TV Show   2664"
      ]
     },
     "execution_count": 16,
     "metadata": {},
     "output_type": "execute_result"
    }
   ],
   "source": [
    "showtype"
   ]
  },
  {
   "cell_type": "code",
   "execution_count": 17,
   "id": "cd952d4f",
   "metadata": {
    "execution": {
     "iopub.execute_input": "2024-03-16T19:48:47.276154Z",
     "iopub.status.busy": "2024-03-16T19:48:47.275755Z",
     "iopub.status.idle": "2024-03-16T19:48:47.458388Z",
     "shell.execute_reply": "2024-03-16T19:48:47.457109Z"
    },
    "papermill": {
     "duration": 0.212356,
     "end_time": "2024-03-16T19:48:47.464374",
     "exception": false,
     "start_time": "2024-03-16T19:48:47.252018",
     "status": "completed"
    },
    "tags": []
   },
   "outputs": [
    {
     "data": {
      "image/png": "[encoded data removed]",
      "text/plain": [
       "<Figure size 2000x600 with 1 Axes>"
      ]
     },
     "metadata": {},
     "output_type": "display_data"
    }
   ],
   "source": [
    "plt.figure(figsize=(20,6))\n",
    "plt.pie(showtype['count'],labels=['Movie','TVshow'],autopct='%1.3f%%',explode=[0,0.1])\n",
    "plt.show()"
   ]
  },
  {
   "cell_type": "markdown",
   "id": "0b964e51",
   "metadata": {
    "papermill": {
     "duration": 0.022996,
     "end_time": "2024-03-16T19:48:47.530213",
     "exception": false,
     "start_time": "2024-03-16T19:48:47.507217",
     "status": "completed"
    },
    "tags": []
   },
   "source": [
    "**different between TVshow and Movie**"
   ]
  },
  {
   "cell_type": "code",
   "execution_count": 18,
   "id": "e05ba9fd",
   "metadata": {
    "execution": {
     "iopub.execute_input": "2024-03-16T19:48:47.580869Z",
     "iopub.status.busy": "2024-03-16T19:48:47.580443Z",
     "iopub.status.idle": "2024-03-16T19:48:47.596221Z",
     "shell.execute_reply": "2024-03-16T19:48:47.595316Z"
    },
    "papermill": {
     "duration": 0.044009,
     "end_time": "2024-03-16T19:48:47.598675",
     "exception": false,
     "start_time": "2024-03-16T19:48:47.554666",
     "status": "completed"
    },
    "tags": []
   },
   "outputs": [
    {
     "data": {
      "text/html": [
       "<div>\n",
       "<style scoped>\n",
       "    .dataframe tbody tr th:only-of-type {\n",
       "        vertical-align: middle;\n",
       "    }\n",
       "\n",
       "    .dataframe tbody tr th {\n",
       "        vertical-align: top;\n",
       "    }\n",
       "\n",
       "    .dataframe thead th {\n",
       "        text-align: right;\n",
       "    }\n",
       "</style>\n",
       "<table border=\"1\" class=\"dataframe\">\n",
       "  <thead>\n",
       "    <tr style=\"text-align: right;\">\n",
       "      <th></th>\n",
       "      <th>show_id</th>\n",
       "      <th>type</th>\n",
       "      <th>title</th>\n",
       "      <th>director</th>\n",
       "      <th>country</th>\n",
       "      <th>Date</th>\n",
       "      <th>release_year</th>\n",
       "      <th>rating</th>\n",
       "      <th>duration</th>\n",
       "      <th>category</th>\n",
       "    </tr>\n",
       "  </thead>\n",
       "  <tbody>\n",
       "    <tr>\n",
       "      <th>0</th>\n",
       "      <td>s1</td>\n",
       "      <td>Movie</td>\n",
       "      <td>Dick Johnson Is Dead</td>\n",
       "      <td>Kirsten Johnson</td>\n",
       "      <td>United States</td>\n",
       "      <td>2021-09-25</td>\n",
       "      <td>2020</td>\n",
       "      <td>PG-13</td>\n",
       "      <td>90 min</td>\n",
       "      <td>Documentaries</td>\n",
       "    </tr>\n",
       "    <tr>\n",
       "      <th>1</th>\n",
       "      <td>s3</td>\n",
       "      <td>TV Show</td>\n",
       "      <td>Ganglands</td>\n",
       "      <td>Julien Leclercq</td>\n",
       "      <td>France</td>\n",
       "      <td>2021-09-24</td>\n",
       "      <td>2021</td>\n",
       "      <td>TV-MA</td>\n",
       "      <td>1 Season</td>\n",
       "      <td>Crime TV Shows, International TV Shows, TV Act...</td>\n",
       "    </tr>\n",
       "    <tr>\n",
       "      <th>2</th>\n",
       "      <td>s6</td>\n",
       "      <td>TV Show</td>\n",
       "      <td>Midnight Mass</td>\n",
       "      <td>Mike Flanagan</td>\n",
       "      <td>United States</td>\n",
       "      <td>2021-09-24</td>\n",
       "      <td>2021</td>\n",
       "      <td>TV-MA</td>\n",
       "      <td>1 Season</td>\n",
       "      <td>TV Dramas, TV Horror, TV Mysteries</td>\n",
       "    </tr>\n",
       "    <tr>\n",
       "      <th>3</th>\n",
       "      <td>s14</td>\n",
       "      <td>Movie</td>\n",
       "      <td>Confessions of an Invisible Girl</td>\n",
       "      <td>Bruno Garotti</td>\n",
       "      <td>Brazil</td>\n",
       "      <td>2021-09-22</td>\n",
       "      <td>2021</td>\n",
       "      <td>TV-PG</td>\n",
       "      <td>91 min</td>\n",
       "      <td>Children &amp; Family Movies, Comedies</td>\n",
       "    </tr>\n",
       "    <tr>\n",
       "      <th>4</th>\n",
       "      <td>s8</td>\n",
       "      <td>Movie</td>\n",
       "      <td>Sankofa</td>\n",
       "      <td>Haile Gerima</td>\n",
       "      <td>United States</td>\n",
       "      <td>2021-09-24</td>\n",
       "      <td>1993</td>\n",
       "      <td>TV-MA</td>\n",
       "      <td>125 min</td>\n",
       "      <td>Dramas, Independent Movies, International Movies</td>\n",
       "    </tr>\n",
       "  </tbody>\n",
       "</table>\n",
       "</div>"
      ],
      "text/plain": [
       "  show_id     type                             title         director  \\\n",
       "0      s1    Movie              Dick Johnson Is Dead  Kirsten Johnson   \n",
       "1      s3  TV Show                         Ganglands  Julien Leclercq   \n",
       "2      s6  TV Show                     Midnight Mass    Mike Flanagan   \n",
       "3     s14    Movie  Confessions of an Invisible Girl    Bruno Garotti   \n",
       "4      s8    Movie                           Sankofa     Haile Gerima   \n",
       "\n",
       "         country       Date  release_year rating  duration  \\\n",
       "0  United States 2021-09-25          2020  PG-13    90 min   \n",
       "1         France 2021-09-24          2021  TV-MA  1 Season   \n",
       "2  United States 2021-09-24          2021  TV-MA  1 Season   \n",
       "3         Brazil 2021-09-22          2021  TV-PG    91 min   \n",
       "4  United States 2021-09-24          1993  TV-MA   125 min   \n",
       "\n",
       "                                            category  \n",
       "0                                      Documentaries  \n",
       "1  Crime TV Shows, International TV Shows, TV Act...  \n",
       "2                 TV Dramas, TV Horror, TV Mysteries  \n",
       "3                 Children & Family Movies, Comedies  \n",
       "4   Dramas, Independent Movies, International Movies  "
      ]
     },
     "execution_count": 18,
     "metadata": {},
     "output_type": "execute_result"
    }
   ],
   "source": [
    "df.head()"
   ]
  },
  {
   "cell_type": "markdown",
   "id": "077d7d4d",
   "metadata": {
    "papermill": {
     "duration": 0.023508,
     "end_time": "2024-03-16T19:48:47.646395",
     "exception": false,
     "start_time": "2024-03-16T19:48:47.622887",
     "status": "completed"
    },
    "tags": []
   },
   "source": [
    "<h2>the differnce between director is given or not<h2>"
   ]
  },
  {
   "cell_type": "code",
   "execution_count": 19,
   "id": "485c5d15",
   "metadata": {
    "execution": {
     "iopub.execute_input": "2024-03-16T19:48:47.696845Z",
     "iopub.status.busy": "2024-03-16T19:48:47.696369Z",
     "iopub.status.idle": "2024-03-16T19:48:47.712521Z",
     "shell.execute_reply": "2024-03-16T19:48:47.710600Z"
    },
    "papermill": {
     "duration": 0.044201,
     "end_time": "2024-03-16T19:48:47.714954",
     "exception": false,
     "start_time": "2024-03-16T19:48:47.670753",
     "status": "completed"
    },
    "tags": []
   },
   "outputs": [
    {
     "data": {
      "text/plain": [
       "director\n",
       "Not Given                 2588\n",
       "Rajiv Chilaka               20\n",
       "Alastair Fothergill         18\n",
       "Raúl Campos, Jan Suter      18\n",
       "Suhas Kadav                 16\n",
       "Marcus Raboy                16\n",
       "Jay Karas                   14\n",
       "Cathy Garcia-Molina         13\n",
       "Martin Scorsese             12\n",
       "Youssef Chahine             12\n",
       "Name: count, dtype: int64"
      ]
     },
     "execution_count": 19,
     "metadata": {},
     "output_type": "execute_result"
    }
   ],
   "source": [
    "directors = df['director'].value_counts()\n",
    "directors.head(10)"
   ]
  },
  {
   "cell_type": "code",
   "execution_count": 20,
   "id": "5c6fcbb2",
   "metadata": {
    "execution": {
     "iopub.execute_input": "2024-03-16T19:48:47.770597Z",
     "iopub.status.busy": "2024-03-16T19:48:47.769634Z",
     "iopub.status.idle": "2024-03-16T19:48:47.779345Z",
     "shell.execute_reply": "2024-03-16T19:48:47.778199Z"
    },
    "papermill": {
     "duration": 0.043458,
     "end_time": "2024-03-16T19:48:47.782724",
     "exception": false,
     "start_time": "2024-03-16T19:48:47.739266",
     "status": "completed"
    },
    "tags": []
   },
   "outputs": [
    {
     "name": "stdout",
     "output_type": "stream",
     "text": [
      "given directors = 6202\n"
     ]
    },
    {
     "name": "stderr",
     "output_type": "stream",
     "text": [
      "/tmp/ipykernel_18/4101068066.py:1: FutureWarning: Series.__getitem__ treating keys as positions is deprecated. In a future version, integer keys will always be treated as labels (consistent with DataFrame behavior). To access a value by position, use `ser.iloc[pos]`\n",
      "  given_directors = directors.sum() - directors[0]\n"
     ]
    }
   ],
   "source": [
    "given_directors = directors.sum() - directors[0]\n",
    "print(f'given directors = {given_directors}')"
   ]
  },
  {
   "cell_type": "code",
   "execution_count": 21,
   "id": "528e0aed",
   "metadata": {
    "execution": {
     "iopub.execute_input": "2024-03-16T19:48:47.840624Z",
     "iopub.status.busy": "2024-03-16T19:48:47.839692Z",
     "iopub.status.idle": "2024-03-16T19:48:48.507560Z",
     "shell.execute_reply": "2024-03-16T19:48:48.506058Z"
    },
    "papermill": {
     "duration": 0.69666,
     "end_time": "2024-03-16T19:48:48.510857",
     "exception": false,
     "start_time": "2024-03-16T19:48:47.814197",
     "status": "completed"
    },
    "tags": []
   },
   "outputs": [
    {
     "name": "stderr",
     "output_type": "stream",
     "text": [
      "/tmp/ipykernel_18/1251533954.py:6: FutureWarning: Series.__getitem__ treating keys as positions is deprecated. In a future version, integer keys will always be treated as labels (consistent with DataFrame behavior). To access a value by position, use `ser.iloc[pos]`\n",
      "  values=[directors[0], given_directors],\n"
     ]
    },
    {
     "data": {
      "text/html": [
       "        <script type=\"text/javascript\">\n",
       "        window.PlotlyConfig = {MathJaxConfig: 'local'};\n",
       "        if (window.MathJax && window.MathJax.Hub && window.MathJax.Hub.Config) {window.MathJax.Hub.Config({SVG: {font: \"STIX-Web\"}});}\n",
       "        if (typeof require !== 'undefined') {\n",
       "        require.undef(\"plotly\");\n",
       "        requirejs.config({\n",
       "            paths: {\n",
       "                'plotly': ['https://cdn.plot.ly/plotly-2.27.0.min']\n",
       "            }\n",
       "        });\n",
       "        require(['plotly'], function(Plotly) {\n",
       "            window._Plotly = Plotly;\n",
       "        });\n",
       "        }\n",
       "        </script>\n",
       "        "
      ]
     },
     "metadata": {},
     "output_type": "display_data"
    },
    {
     "data": {
      "text/html": [
       "<div>                            <div id=\"f3f103e1-ab8b-4b6b-9ec5-0841b643e822\" class=\"plotly-graph-div\" style=\"height:525px; width:100%;\"></div>            <script type=\"text/javascript\">                require([\"plotly\"], function(Plotly) {                    window.PLOTLYENV=window.PLOTLYENV || {};                                    if (document.getElementById(\"f3f103e1-ab8b-4b6b-9ec5-0841b643e822\")) {                    Plotly.newPlot(                        \"f3f103e1-ab8b-4b6b-9ec5-0841b643e822\",                        [{\"labels\":[\"Given Directors\",\"Not Given Directors\"],\"marker\":{\"colors\":[\"black\",\"darkred\"]},\"title\":{\"text\":\"Given Directors Vs Not Given Directors\"},\"values\":[2588,6202],\"type\":\"pie\"}],                        {\"template\":{\"data\":{\"histogram2dcontour\":[{\"type\":\"histogram2dcontour\",\"colorbar\":{\"outlinewidth\":0,\"ticks\":\"\"},\"colorscale\":[[0.0,\"#0d0887\"],[0.1111111111111111,\"#46039f\"],[0.2222222222222222,\"#7201a8\"],[0.3333333333333333,\"#9c179e\"],[0.4444444444444444,\"#bd3786\"],[0.5555555555555556,\"#d8576b\"],[0.6666666666666666,\"#ed7953\"],[0.7777777777777778,\"#fb9f3a\"],[0.8888888888888888,\"#fdca26\"],[1.0,\"#f0f921\"]]}],\"choropleth\":[{\"type\":\"choropleth\",\"colorbar\":{\"outlinewidth\":0,\"ticks\":\"\"}}],\"histogram2d\":[{\"type\":\"histogram2d\",\"colorbar\":{\"outlinewidth\":0,\"ticks\":\"\"},\"colorscale\":[[0.0,\"#0d0887\"],[0.1111111111111111,\"#46039f\"],[0.2222222222222222,\"#7201a8\"],[0.3333333333333333,\"#9c179e\"],[0.4444444444444444,\"#bd3786\"],[0.5555555555555556,\"#d8576b\"],[0.6666666666666666,\"#ed7953\"],[0.7777777777777778,\"#fb9f3a\"],[0.8888888888888888,\"#fdca26\"],[1.0,\"#f0f921\"]]}],\"heatmap\":[{\"type\":\"heatmap\",\"colorbar\":{\"outlinewidth\":0,\"ticks\":\"\"},\"colorscale\":[[0.0,\"#0d0887\"],[0.1111111111111111,\"#46039f\"],[0.2222222222222222,\"#7201a8\"],[0.3333333333333333,\"#9c179e\"],[0.4444444444444444,\"#bd3786\"],[0.5555555555555556,\"#d8576b\"],[0.6666666666666666,\"#ed7953\"],[0.7777777777777778,\"#fb9f3a\"],[0.8888888888888888,\"#fdca26\"],[1.0,\"#f0f921\"]]}],\"heatmapgl\":[{\"type\":\"heatmapgl\",\"colorbar\":{\"outlinewidth\":0,\"ticks\":\"\"},\"colorscale\":[[0.0,\"#0d0887\"],[0.1111111111111111,\"#46039f\"],[0.2222222222222222,\"#7201a8\"],[0.3333333333333333,\"#9c179e\"],[0.4444444444444444,\"#bd3786\"],[0.5555555555555556,\"#d8576b\"],[0.6666666666666666,\"#ed7953\"],[0.7777777777777778,\"#fb9f3a\"],[0.8888888888888888,\"#fdca26\"],[1.0,\"#f0f921\"]]}],\"contourcarpet\":[{\"type\":\"contourcarpet\",\"colorbar\":{\"outlinewidth\":0,\"ticks\":\"\"}}],\"contour\":[{\"type\":\"contour\",\"colorbar\":{\"outlinewidth\":0,\"ticks\":\"\"},\"colorscale\":[[0.0,\"#0d0887\"],[0.1111111111111111,\"#46039f\"],[0.2222222222222222,\"#7201a8\"],[0.3333333333333333,\"#9c179e\"],[0.4444444444444444,\"#bd3786\"],[0.5555555555555556,\"#d8576b\"],[0.6666666666666666,\"#ed7953\"],[0.7777777777777778,\"#fb9f3a\"],[0.8888888888888888,\"#fdca26\"],[1.0,\"#f0f921\"]]}],\"surface\":[{\"type\":\"surface\",\"colorbar\":{\"outlinewidth\":0,\"ticks\":\"\"},\"colorscale\":[[0.0,\"#0d0887\"],[0.1111111111111111,\"#46039f\"],[0.2222222222222222,\"#7201a8\"],[0.3333333333333333,\"#9c179e\"],[0.4444444444444444,\"#bd3786\"],[0.5555555555555556,\"#d8576b\"],[0.6666666666666666,\"#ed7953\"],[0.7777777777777778,\"#fb9f3a\"],[0.8888888888888888,\"#fdca26\"],[1.0,\"#f0f921\"]]}],\"mesh3d\":[{\"type\":\"mesh3d\",\"colorbar\":{\"outlinewidth\":0,\"ticks\":\"\"}}],\"scatter\":[{\"fillpattern\":{\"fillmode\":\"overlay\",\"size\":10,\"solidity\":0.2},\"type\":\"scatter\"}],\"parcoords\":[{\"type\":\"parcoords\",\"line\":{\"colorbar\":{\"outlinewidth\":0,\"ticks\":\"\"}}}],\"scatterpolargl\":[{\"type\":\"scatterpolargl\",\"marker\":{\"colorbar\":{\"outlinewidth\":0,\"ticks\":\"\"}}}],\"bar\":[{\"error_x\":{\"color\":\"#2a3f5f\"},\"error_y\":{\"color\":\"#2a3f5f\"},\"marker\":{\"line\":{\"color\":\"#E5ECF6\",\"width\":0.5},\"pattern\":{\"fillmode\":\"overlay\",\"size\":10,\"solidity\":0.2}},\"type\":\"bar\"}],\"scattergeo\":[{\"type\":\"scattergeo\",\"marker\":{\"colorbar\":{\"outlinewidth\":0,\"ticks\":\"\"}}}],\"scatterpolar\":[{\"type\":\"scatterpolar\",\"marker\":{\"colorbar\":{\"outlinewidth\":0,\"ticks\":\"\"}}}],\"histogram\":[{\"marker\":{\"pattern\":{\"fillmode\":\"overlay\",\"size\":10,\"solidity\":0.2}},\"type\":\"histogram\"}],\"scattergl\":[{\"type\":\"scattergl\",\"marker\":{\"colorbar\":{\"outlinewidth\":0,\"ticks\":\"\"}}}],\"scatter3d\":[{\"type\":\"scatter3d\",\"line\":{\"colorbar\":{\"outlinewidth\":0,\"ticks\":\"\"}},\"marker\":{\"colorbar\":{\"outlinewidth\":0,\"ticks\":\"\"}}}],\"scattermapbox\":[{\"type\":\"scattermapbox\",\"marker\":{\"colorbar\":{\"outlinewidth\":0,\"ticks\":\"\"}}}],\"scatterternary\":[{\"type\":\"scatterternary\",\"marker\":{\"colorbar\":{\"outlinewidth\":0,\"ticks\":\"\"}}}],\"scattercarpet\":[{\"type\":\"scattercarpet\",\"marker\":{\"colorbar\":{\"outlinewidth\":0,\"ticks\":\"\"}}}],\"carpet\":[{\"aaxis\":{\"endlinecolor\":\"#2a3f5f\",\"gridcolor\":\"white\",\"linecolor\":\"white\",\"minorgridcolor\":\"white\",\"startlinecolor\":\"#2a3f5f\"},\"baxis\":{\"endlinecolor\":\"#2a3f5f\",\"gridcolor\":\"white\",\"linecolor\":\"white\",\"minorgridcolor\":\"white\",\"startlinecolor\":\"#2a3f5f\"},\"type\":\"carpet\"}],\"table\":[{\"cells\":{\"fill\":{\"color\":\"#EBF0F8\"},\"line\":{\"color\":\"white\"}},\"header\":{\"fill\":{\"color\":\"#C8D4E3\"},\"line\":{\"color\":\"white\"}},\"type\":\"table\"}],\"barpolar\":[{\"marker\":{\"line\":{\"color\":\"#E5ECF6\",\"width\":0.5},\"pattern\":{\"fillmode\":\"overlay\",\"size\":10,\"solidity\":0.2}},\"type\":\"barpolar\"}],\"pie\":[{\"automargin\":true,\"type\":\"pie\"}]},\"layout\":{\"autotypenumbers\":\"strict\",\"colorway\":[\"#636efa\",\"#EF553B\",\"#00cc96\",\"#ab63fa\",\"#FFA15A\",\"#19d3f3\",\"#FF6692\",\"#B6E880\",\"#FF97FF\",\"#FECB52\"],\"font\":{\"color\":\"#2a3f5f\"},\"hovermode\":\"closest\",\"hoverlabel\":{\"align\":\"left\"},\"paper_bgcolor\":\"white\",\"plot_bgcolor\":\"#E5ECF6\",\"polar\":{\"bgcolor\":\"#E5ECF6\",\"angularaxis\":{\"gridcolor\":\"white\",\"linecolor\":\"white\",\"ticks\":\"\"},\"radialaxis\":{\"gridcolor\":\"white\",\"linecolor\":\"white\",\"ticks\":\"\"}},\"ternary\":{\"bgcolor\":\"#E5ECF6\",\"aaxis\":{\"gridcolor\":\"white\",\"linecolor\":\"white\",\"ticks\":\"\"},\"baxis\":{\"gridcolor\":\"white\",\"linecolor\":\"white\",\"ticks\":\"\"},\"caxis\":{\"gridcolor\":\"white\",\"linecolor\":\"white\",\"ticks\":\"\"}},\"coloraxis\":{\"colorbar\":{\"outlinewidth\":0,\"ticks\":\"\"}},\"colorscale\":{\"sequential\":[[0.0,\"#0d0887\"],[0.1111111111111111,\"#46039f\"],[0.2222222222222222,\"#7201a8\"],[0.3333333333333333,\"#9c179e\"],[0.4444444444444444,\"#bd3786\"],[0.5555555555555556,\"#d8576b\"],[0.6666666666666666,\"#ed7953\"],[0.7777777777777778,\"#fb9f3a\"],[0.8888888888888888,\"#fdca26\"],[1.0,\"#f0f921\"]],\"sequentialminus\":[[0.0,\"#0d0887\"],[0.1111111111111111,\"#46039f\"],[0.2222222222222222,\"#7201a8\"],[0.3333333333333333,\"#9c179e\"],[0.4444444444444444,\"#bd3786\"],[0.5555555555555556,\"#d8576b\"],[0.6666666666666666,\"#ed7953\"],[0.7777777777777778,\"#fb9f3a\"],[0.8888888888888888,\"#fdca26\"],[1.0,\"#f0f921\"]],\"diverging\":[[0,\"#8e0152\"],[0.1,\"#c51b7d\"],[0.2,\"#de77ae\"],[0.3,\"#f1b6da\"],[0.4,\"#fde0ef\"],[0.5,\"#f7f7f7\"],[0.6,\"#e6f5d0\"],[0.7,\"#b8e186\"],[0.8,\"#7fbc41\"],[0.9,\"#4d9221\"],[1,\"#276419\"]]},\"xaxis\":{\"gridcolor\":\"white\",\"linecolor\":\"white\",\"ticks\":\"\",\"title\":{\"standoff\":15},\"zerolinecolor\":\"white\",\"automargin\":true,\"zerolinewidth\":2},\"yaxis\":{\"gridcolor\":\"white\",\"linecolor\":\"white\",\"ticks\":\"\",\"title\":{\"standoff\":15},\"zerolinecolor\":\"white\",\"automargin\":true,\"zerolinewidth\":2},\"scene\":{\"xaxis\":{\"backgroundcolor\":\"#E5ECF6\",\"gridcolor\":\"white\",\"linecolor\":\"white\",\"showbackground\":true,\"ticks\":\"\",\"zerolinecolor\":\"white\",\"gridwidth\":2},\"yaxis\":{\"backgroundcolor\":\"#E5ECF6\",\"gridcolor\":\"white\",\"linecolor\":\"white\",\"showbackground\":true,\"ticks\":\"\",\"zerolinecolor\":\"white\",\"gridwidth\":2},\"zaxis\":{\"backgroundcolor\":\"#E5ECF6\",\"gridcolor\":\"white\",\"linecolor\":\"white\",\"showbackground\":true,\"ticks\":\"\",\"zerolinecolor\":\"white\",\"gridwidth\":2}},\"shapedefaults\":{\"line\":{\"color\":\"#2a3f5f\"}},\"annotationdefaults\":{\"arrowcolor\":\"#2a3f5f\",\"arrowhead\":0,\"arrowwidth\":1},\"geo\":{\"bgcolor\":\"white\",\"landcolor\":\"#E5ECF6\",\"subunitcolor\":\"white\",\"showland\":true,\"showlakes\":true,\"lakecolor\":\"white\"},\"title\":{\"x\":0.05},\"mapbox\":{\"style\":\"light\"}}}},                        {\"responsive\": true}                    ).then(function(){\n",
       "                            \n",
       "var gd = document.getElementById('f3f103e1-ab8b-4b6b-9ec5-0841b643e822');\n",
       "var x = new MutationObserver(function (mutations, observer) {{\n",
       "        var display = window.getComputedStyle(gd).display;\n",
       "        if (!display || display === 'none') {{\n",
       "            console.log([gd, 'removed!']);\n",
       "            Plotly.purge(gd);\n",
       "            observer.disconnect();\n",
       "        }}\n",
       "}});\n",
       "\n",
       "// Listen for the removal of the full notebook cells\n",
       "var notebookContainer = gd.closest('#notebook-container');\n",
       "if (notebookContainer) {{\n",
       "    x.observe(notebookContainer, {childList: true});\n",
       "}}\n",
       "\n",
       "// Listen for the clearing of the current output cell\n",
       "var outputEl = gd.closest('.output');\n",
       "if (outputEl) {{\n",
       "    x.observe(outputEl, {childList: true});\n",
       "}}\n",
       "\n",
       "                        })                };                });            </script>        </div>"
      ]
     },
     "metadata": {},
     "output_type": "display_data"
    }
   ],
   "source": [
    "import plotly.graph_objects as go\n",
    "\n",
    "# Assuming you have values for directors[0] and given_directors\n",
    "\n",
    "fig = go.Figure(data=[go.Pie(labels=['Given Directors', 'Not Given Directors'], \n",
    "                             values=[directors[0], given_directors],\n",
    "                             title='Given Directors Vs Not Given Directors',\n",
    "                             marker=dict(colors=['black', 'darkred']))])\n",
    "\n",
    "fig.show()\n"
   ]
  },
  {
   "cell_type": "markdown",
   "id": "eb7f117d",
   "metadata": {
    "papermill": {
     "duration": 0.023618,
     "end_time": "2024-03-16T19:48:48.560552",
     "exception": false,
     "start_time": "2024-03-16T19:48:48.536934",
     "status": "completed"
    },
    "tags": []
   },
   "source": [
    "**difference between dirctor given or not given**"
   ]
  },
  {
   "cell_type": "markdown",
   "id": "16e74c66",
   "metadata": {
    "papermill": {
     "duration": 0.023485,
     "end_time": "2024-03-16T19:48:48.607806",
     "exception": false,
     "start_time": "2024-03-16T19:48:48.584321",
     "status": "completed"
    },
    "tags": []
   },
   "source": [
    "<h2>the number of movie or dirctor doing<h2>"
   ]
  },
  {
   "cell_type": "code",
   "execution_count": 22,
   "id": "243c110a",
   "metadata": {
    "execution": {
     "iopub.execute_input": "2024-03-16T19:48:48.658617Z",
     "iopub.status.busy": "2024-03-16T19:48:48.658110Z",
     "iopub.status.idle": "2024-03-16T19:48:48.692411Z",
     "shell.execute_reply": "2024-03-16T19:48:48.691053Z"
    },
    "papermill": {
     "duration": 0.063915,
     "end_time": "2024-03-16T19:48:48.695439",
     "exception": false,
     "start_time": "2024-03-16T19:48:48.631524",
     "status": "completed"
    },
    "tags": []
   },
   "outputs": [
    {
     "data": {
      "text/html": [
       "<div>\n",
       "<style scoped>\n",
       "    .dataframe tbody tr th:only-of-type {\n",
       "        vertical-align: middle;\n",
       "    }\n",
       "\n",
       "    .dataframe tbody tr th {\n",
       "        vertical-align: top;\n",
       "    }\n",
       "\n",
       "    .dataframe thead th {\n",
       "        text-align: right;\n",
       "    }\n",
       "</style>\n",
       "<table border=\"1\" class=\"dataframe\">\n",
       "  <thead>\n",
       "    <tr style=\"text-align: right;\">\n",
       "      <th></th>\n",
       "      <th>director</th>\n",
       "      <th>type</th>\n",
       "      <th>count</th>\n",
       "    </tr>\n",
       "  </thead>\n",
       "  <tbody>\n",
       "    <tr>\n",
       "      <th>0</th>\n",
       "      <td>A. L. Vijay</td>\n",
       "      <td>Movie</td>\n",
       "      <td>2</td>\n",
       "    </tr>\n",
       "    <tr>\n",
       "      <th>1</th>\n",
       "      <td>A. Raajdheep</td>\n",
       "      <td>Movie</td>\n",
       "      <td>1</td>\n",
       "    </tr>\n",
       "    <tr>\n",
       "      <th>2</th>\n",
       "      <td>A. Salaam</td>\n",
       "      <td>Movie</td>\n",
       "      <td>1</td>\n",
       "    </tr>\n",
       "    <tr>\n",
       "      <th>3</th>\n",
       "      <td>A.R. Murugadoss</td>\n",
       "      <td>Movie</td>\n",
       "      <td>2</td>\n",
       "    </tr>\n",
       "    <tr>\n",
       "      <th>4</th>\n",
       "      <td>Aadish Keluskar</td>\n",
       "      <td>Movie</td>\n",
       "      <td>1</td>\n",
       "    </tr>\n",
       "    <tr>\n",
       "      <th>5</th>\n",
       "      <td>Aamir Bashir</td>\n",
       "      <td>Movie</td>\n",
       "      <td>1</td>\n",
       "    </tr>\n",
       "    <tr>\n",
       "      <th>6</th>\n",
       "      <td>Aamir Khan</td>\n",
       "      <td>Movie</td>\n",
       "      <td>1</td>\n",
       "    </tr>\n",
       "    <tr>\n",
       "      <th>7</th>\n",
       "      <td>Aanand Rai</td>\n",
       "      <td>Movie</td>\n",
       "      <td>1</td>\n",
       "    </tr>\n",
       "    <tr>\n",
       "      <th>8</th>\n",
       "      <td>Aaron Burns</td>\n",
       "      <td>Movie</td>\n",
       "      <td>1</td>\n",
       "    </tr>\n",
       "    <tr>\n",
       "      <th>9</th>\n",
       "      <td>Aaron Hancox, Michael McNamara</td>\n",
       "      <td>Movie</td>\n",
       "      <td>1</td>\n",
       "    </tr>\n",
       "    <tr>\n",
       "      <th>10</th>\n",
       "      <td>Aaron Hann, Mario Miscione</td>\n",
       "      <td>Movie</td>\n",
       "      <td>1</td>\n",
       "    </tr>\n",
       "    <tr>\n",
       "      <th>11</th>\n",
       "      <td>Aaron Lieber</td>\n",
       "      <td>Movie</td>\n",
       "      <td>1</td>\n",
       "    </tr>\n",
       "    <tr>\n",
       "      <th>12</th>\n",
       "      <td>Aaron Nee, Adam Nee</td>\n",
       "      <td>Movie</td>\n",
       "      <td>1</td>\n",
       "    </tr>\n",
       "    <tr>\n",
       "      <th>13</th>\n",
       "      <td>Aaron Sorkin</td>\n",
       "      <td>Movie</td>\n",
       "      <td>2</td>\n",
       "    </tr>\n",
       "    <tr>\n",
       "      <th>14</th>\n",
       "      <td>Aaron Woodley</td>\n",
       "      <td>Movie</td>\n",
       "      <td>1</td>\n",
       "    </tr>\n",
       "  </tbody>\n",
       "</table>\n",
       "</div>"
      ],
      "text/plain": [
       "                          director   type  count\n",
       "0                      A. L. Vijay  Movie      2\n",
       "1                     A. Raajdheep  Movie      1\n",
       "2                        A. Salaam  Movie      1\n",
       "3                  A.R. Murugadoss  Movie      2\n",
       "4                  Aadish Keluskar  Movie      1\n",
       "5                     Aamir Bashir  Movie      1\n",
       "6                       Aamir Khan  Movie      1\n",
       "7                       Aanand Rai  Movie      1\n",
       "8                      Aaron Burns  Movie      1\n",
       "9   Aaron Hancox, Michael McNamara  Movie      1\n",
       "10      Aaron Hann, Mario Miscione  Movie      1\n",
       "11                    Aaron Lieber  Movie      1\n",
       "12             Aaron Nee, Adam Nee  Movie      1\n",
       "13                    Aaron Sorkin  Movie      2\n",
       "14                   Aaron Woodley  Movie      1"
      ]
     },
     "execution_count": 22,
     "metadata": {},
     "output_type": "execute_result"
    }
   ],
   "source": [
    "directors = df.groupby(['director', 'type'])['director'].value_counts().reset_index().head(15)\n",
    "directors"
   ]
  },
  {
   "cell_type": "code",
   "execution_count": 23,
   "id": "87b3c99b",
   "metadata": {
    "execution": {
     "iopub.execute_input": "2024-03-16T19:48:48.747952Z",
     "iopub.status.busy": "2024-03-16T19:48:48.747445Z",
     "iopub.status.idle": "2024-03-16T19:48:49.186658Z",
     "shell.execute_reply": "2024-03-16T19:48:49.185451Z"
    },
    "papermill": {
     "duration": 0.46802,
     "end_time": "2024-03-16T19:48:49.189120",
     "exception": false,
     "start_time": "2024-03-16T19:48:48.721100",
     "status": "completed"
    },
    "tags": []
   },
   "outputs": [
    {
     "data": {
      "image/png": "[encoded data removed]",
      "text/plain": [
       "<Figure size 2000x600 with 1 Axes>"
      ]
     },
     "metadata": {},
     "output_type": "display_data"
    }
   ],
   "source": [
    "plt.figure(figsize=(20,6))\n",
    "plt.bar(directors['director'],directors['count'],color='darkred')\n",
    "plt.xticks(rotation=90)\n",
    "plt.show()"
   ]
  },
  {
   "cell_type": "markdown",
   "id": "31a2afa3",
   "metadata": {
    "papermill": {
     "duration": 0.025448,
     "end_time": "2024-03-16T19:48:49.240547",
     "exception": false,
     "start_time": "2024-03-16T19:48:49.215099",
     "status": "completed"
    },
    "tags": []
   },
   "source": [
    "**number of movie or TVshow to 15 dirctor**"
   ]
  },
  {
   "cell_type": "markdown",
   "id": "ffaf7213",
   "metadata": {
    "papermill": {
     "duration": 0.024457,
     "end_time": "2024-03-16T19:48:49.289649",
     "exception": false,
     "start_time": "2024-03-16T19:48:49.265192",
     "status": "completed"
    },
    "tags": []
   },
   "source": [
    "<h2>Country Column<h2>"
   ]
  },
  {
   "cell_type": "code",
   "execution_count": 24,
   "id": "ee5596cf",
   "metadata": {
    "execution": {
     "iopub.execute_input": "2024-03-16T19:48:49.340635Z",
     "iopub.status.busy": "2024-03-16T19:48:49.340141Z",
     "iopub.status.idle": "2024-03-16T19:48:49.362119Z",
     "shell.execute_reply": "2024-03-16T19:48:49.360683Z"
    },
    "papermill": {
     "duration": 0.050534,
     "end_time": "2024-03-16T19:48:49.364660",
     "exception": false,
     "start_time": "2024-03-16T19:48:49.314126",
     "status": "completed"
    },
    "tags": []
   },
   "outputs": [
    {
     "data": {
      "text/html": [
       "<div>\n",
       "<style scoped>\n",
       "    .dataframe tbody tr th:only-of-type {\n",
       "        vertical-align: middle;\n",
       "    }\n",
       "\n",
       "    .dataframe tbody tr th {\n",
       "        vertical-align: top;\n",
       "    }\n",
       "\n",
       "    .dataframe thead th {\n",
       "        text-align: right;\n",
       "    }\n",
       "</style>\n",
       "<table border=\"1\" class=\"dataframe\">\n",
       "  <thead>\n",
       "    <tr style=\"text-align: right;\">\n",
       "      <th></th>\n",
       "      <th>country</th>\n",
       "      <th>count</th>\n",
       "    </tr>\n",
       "  </thead>\n",
       "  <tbody>\n",
       "    <tr>\n",
       "      <th>0</th>\n",
       "      <td>United States</td>\n",
       "      <td>3240</td>\n",
       "    </tr>\n",
       "    <tr>\n",
       "      <th>1</th>\n",
       "      <td>India</td>\n",
       "      <td>1057</td>\n",
       "    </tr>\n",
       "    <tr>\n",
       "      <th>2</th>\n",
       "      <td>United Kingdom</td>\n",
       "      <td>638</td>\n",
       "    </tr>\n",
       "    <tr>\n",
       "      <th>3</th>\n",
       "      <td>Pakistan</td>\n",
       "      <td>421</td>\n",
       "    </tr>\n",
       "    <tr>\n",
       "      <th>4</th>\n",
       "      <td>Not Given</td>\n",
       "      <td>287</td>\n",
       "    </tr>\n",
       "    <tr>\n",
       "      <th>5</th>\n",
       "      <td>Canada</td>\n",
       "      <td>271</td>\n",
       "    </tr>\n",
       "    <tr>\n",
       "      <th>6</th>\n",
       "      <td>Japan</td>\n",
       "      <td>259</td>\n",
       "    </tr>\n",
       "    <tr>\n",
       "      <th>7</th>\n",
       "      <td>South Korea</td>\n",
       "      <td>214</td>\n",
       "    </tr>\n",
       "    <tr>\n",
       "      <th>8</th>\n",
       "      <td>France</td>\n",
       "      <td>213</td>\n",
       "    </tr>\n",
       "    <tr>\n",
       "      <th>9</th>\n",
       "      <td>Spain</td>\n",
       "      <td>182</td>\n",
       "    </tr>\n",
       "    <tr>\n",
       "      <th>10</th>\n",
       "      <td>Mexico</td>\n",
       "      <td>138</td>\n",
       "    </tr>\n",
       "    <tr>\n",
       "      <th>11</th>\n",
       "      <td>Egypt</td>\n",
       "      <td>123</td>\n",
       "    </tr>\n",
       "    <tr>\n",
       "      <th>12</th>\n",
       "      <td>Australia</td>\n",
       "      <td>114</td>\n",
       "    </tr>\n",
       "    <tr>\n",
       "      <th>13</th>\n",
       "      <td>Turkey</td>\n",
       "      <td>112</td>\n",
       "    </tr>\n",
       "    <tr>\n",
       "      <th>14</th>\n",
       "      <td>Nigeria</td>\n",
       "      <td>105</td>\n",
       "    </tr>\n",
       "    <tr>\n",
       "      <th>15</th>\n",
       "      <td>Germany</td>\n",
       "      <td>104</td>\n",
       "    </tr>\n",
       "    <tr>\n",
       "      <th>16</th>\n",
       "      <td>China</td>\n",
       "      <td>100</td>\n",
       "    </tr>\n",
       "    <tr>\n",
       "      <th>17</th>\n",
       "      <td>Brazil</td>\n",
       "      <td>88</td>\n",
       "    </tr>\n",
       "    <tr>\n",
       "      <th>18</th>\n",
       "      <td>Taiwan</td>\n",
       "      <td>86</td>\n",
       "    </tr>\n",
       "    <tr>\n",
       "      <th>19</th>\n",
       "      <td>Indonesia</td>\n",
       "      <td>86</td>\n",
       "    </tr>\n",
       "    <tr>\n",
       "      <th>20</th>\n",
       "      <td>Philippines</td>\n",
       "      <td>83</td>\n",
       "    </tr>\n",
       "    <tr>\n",
       "      <th>21</th>\n",
       "      <td>Hong Kong</td>\n",
       "      <td>79</td>\n",
       "    </tr>\n",
       "    <tr>\n",
       "      <th>22</th>\n",
       "      <td>Argentina</td>\n",
       "      <td>76</td>\n",
       "    </tr>\n",
       "    <tr>\n",
       "      <th>23</th>\n",
       "      <td>Italy</td>\n",
       "      <td>66</td>\n",
       "    </tr>\n",
       "    <tr>\n",
       "      <th>24</th>\n",
       "      <td>Thailand</td>\n",
       "      <td>66</td>\n",
       "    </tr>\n",
       "    <tr>\n",
       "      <th>25</th>\n",
       "      <td>Colombia</td>\n",
       "      <td>42</td>\n",
       "    </tr>\n",
       "    <tr>\n",
       "      <th>26</th>\n",
       "      <td>South Africa</td>\n",
       "      <td>42</td>\n",
       "    </tr>\n",
       "    <tr>\n",
       "      <th>27</th>\n",
       "      <td>Denmark</td>\n",
       "      <td>30</td>\n",
       "    </tr>\n",
       "    <tr>\n",
       "      <th>28</th>\n",
       "      <td>Poland</td>\n",
       "      <td>30</td>\n",
       "    </tr>\n",
       "    <tr>\n",
       "      <th>29</th>\n",
       "      <td>Netherlands</td>\n",
       "      <td>28</td>\n",
       "    </tr>\n",
       "    <tr>\n",
       "      <th>30</th>\n",
       "      <td>Ireland</td>\n",
       "      <td>28</td>\n",
       "    </tr>\n",
       "    <tr>\n",
       "      <th>31</th>\n",
       "      <td>Singapore</td>\n",
       "      <td>28</td>\n",
       "    </tr>\n",
       "    <tr>\n",
       "      <th>32</th>\n",
       "      <td>Lebanon</td>\n",
       "      <td>24</td>\n",
       "    </tr>\n",
       "    <tr>\n",
       "      <th>33</th>\n",
       "      <td>Malaysia</td>\n",
       "      <td>23</td>\n",
       "    </tr>\n",
       "    <tr>\n",
       "      <th>34</th>\n",
       "      <td>Israel</td>\n",
       "      <td>22</td>\n",
       "    </tr>\n",
       "    <tr>\n",
       "      <th>35</th>\n",
       "      <td>Chile</td>\n",
       "      <td>22</td>\n",
       "    </tr>\n",
       "    <tr>\n",
       "      <th>36</th>\n",
       "      <td>Norway</td>\n",
       "      <td>21</td>\n",
       "    </tr>\n",
       "    <tr>\n",
       "      <th>37</th>\n",
       "      <td>United Arab Emirates</td>\n",
       "      <td>21</td>\n",
       "    </tr>\n",
       "    <tr>\n",
       "      <th>38</th>\n",
       "      <td>Russia</td>\n",
       "      <td>19</td>\n",
       "    </tr>\n",
       "    <tr>\n",
       "      <th>39</th>\n",
       "      <td>Sweden</td>\n",
       "      <td>19</td>\n",
       "    </tr>\n",
       "    <tr>\n",
       "      <th>40</th>\n",
       "      <td>Belgium</td>\n",
       "      <td>18</td>\n",
       "    </tr>\n",
       "    <tr>\n",
       "      <th>41</th>\n",
       "      <td>New Zealand</td>\n",
       "      <td>17</td>\n",
       "    </tr>\n",
       "    <tr>\n",
       "      <th>42</th>\n",
       "      <td>Saudi Arabia</td>\n",
       "      <td>12</td>\n",
       "    </tr>\n",
       "    <tr>\n",
       "      <th>43</th>\n",
       "      <td>Romania</td>\n",
       "      <td>10</td>\n",
       "    </tr>\n",
       "    <tr>\n",
       "      <th>44</th>\n",
       "      <td>Austria</td>\n",
       "      <td>9</td>\n",
       "    </tr>\n",
       "    <tr>\n",
       "      <th>45</th>\n",
       "      <td>Uruguay</td>\n",
       "      <td>9</td>\n",
       "    </tr>\n",
       "    <tr>\n",
       "      <th>46</th>\n",
       "      <td>Switzerland</td>\n",
       "      <td>8</td>\n",
       "    </tr>\n",
       "    <tr>\n",
       "      <th>47</th>\n",
       "      <td>Vietnam</td>\n",
       "      <td>7</td>\n",
       "    </tr>\n",
       "    <tr>\n",
       "      <th>48</th>\n",
       "      <td>Kuwait</td>\n",
       "      <td>7</td>\n",
       "    </tr>\n",
       "    <tr>\n",
       "      <th>49</th>\n",
       "      <td>Peru</td>\n",
       "      <td>6</td>\n",
       "    </tr>\n",
       "    <tr>\n",
       "      <th>50</th>\n",
       "      <td>Finland</td>\n",
       "      <td>6</td>\n",
       "    </tr>\n",
       "    <tr>\n",
       "      <th>51</th>\n",
       "      <td>Iceland</td>\n",
       "      <td>6</td>\n",
       "    </tr>\n",
       "    <tr>\n",
       "      <th>52</th>\n",
       "      <td>Czech Republic</td>\n",
       "      <td>6</td>\n",
       "    </tr>\n",
       "    <tr>\n",
       "      <th>54</th>\n",
       "      <td>Bulgaria</td>\n",
       "      <td>5</td>\n",
       "    </tr>\n",
       "    <tr>\n",
       "      <th>53</th>\n",
       "      <td>Hungary</td>\n",
       "      <td>5</td>\n",
       "    </tr>\n",
       "    <tr>\n",
       "      <th>55</th>\n",
       "      <td>Kenya</td>\n",
       "      <td>4</td>\n",
       "    </tr>\n",
       "    <tr>\n",
       "      <th>56</th>\n",
       "      <td>Ghana</td>\n",
       "      <td>4</td>\n",
       "    </tr>\n",
       "    <tr>\n",
       "      <th>57</th>\n",
       "      <td>Portugal</td>\n",
       "      <td>4</td>\n",
       "    </tr>\n",
       "    <tr>\n",
       "      <th>58</th>\n",
       "      <td>Bangladesh</td>\n",
       "      <td>3</td>\n",
       "    </tr>\n",
       "    <tr>\n",
       "      <th>59</th>\n",
       "      <td>Serbia</td>\n",
       "      <td>3</td>\n",
       "    </tr>\n",
       "  </tbody>\n",
       "</table>\n",
       "</div>"
      ],
      "text/plain": [
       "                 country  count\n",
       "0          United States   3240\n",
       "1                  India   1057\n",
       "2         United Kingdom    638\n",
       "3               Pakistan    421\n",
       "4              Not Given    287\n",
       "5                 Canada    271\n",
       "6                  Japan    259\n",
       "7            South Korea    214\n",
       "8                 France    213\n",
       "9                  Spain    182\n",
       "10                Mexico    138\n",
       "11                 Egypt    123\n",
       "12             Australia    114\n",
       "13                Turkey    112\n",
       "14               Nigeria    105\n",
       "15               Germany    104\n",
       "16                 China    100\n",
       "17                Brazil     88\n",
       "18                Taiwan     86\n",
       "19             Indonesia     86\n",
       "20           Philippines     83\n",
       "21             Hong Kong     79\n",
       "22             Argentina     76\n",
       "23                 Italy     66\n",
       "24              Thailand     66\n",
       "25              Colombia     42\n",
       "26          South Africa     42\n",
       "27               Denmark     30\n",
       "28                Poland     30\n",
       "29           Netherlands     28\n",
       "30               Ireland     28\n",
       "31             Singapore     28\n",
       "32               Lebanon     24\n",
       "33              Malaysia     23\n",
       "34                Israel     22\n",
       "35                 Chile     22\n",
       "36                Norway     21\n",
       "37  United Arab Emirates     21\n",
       "38                Russia     19\n",
       "39                Sweden     19\n",
       "40               Belgium     18\n",
       "41           New Zealand     17\n",
       "42          Saudi Arabia     12\n",
       "43               Romania     10\n",
       "44               Austria      9\n",
       "45               Uruguay      9\n",
       "46           Switzerland      8\n",
       "47               Vietnam      7\n",
       "48                Kuwait      7\n",
       "49                  Peru      6\n",
       "50               Finland      6\n",
       "51               Iceland      6\n",
       "52        Czech Republic      6\n",
       "54              Bulgaria      5\n",
       "53               Hungary      5\n",
       "55                 Kenya      4\n",
       "56                 Ghana      4\n",
       "57              Portugal      4\n",
       "58            Bangladesh      3\n",
       "59                Serbia      3"
      ]
     },
     "execution_count": 24,
     "metadata": {},
     "output_type": "execute_result"
    }
   ],
   "source": [
    "country = df['country'].value_counts().reset_index().sort_values(by='count',ascending = False).head(60)\n",
    "country"
   ]
  },
  {
   "cell_type": "code",
   "execution_count": 25,
   "id": "97d9630d",
   "metadata": {
    "execution": {
     "iopub.execute_input": "2024-03-16T19:48:49.419332Z",
     "iopub.status.busy": "2024-03-16T19:48:49.418432Z",
     "iopub.status.idle": "2024-03-16T19:48:50.085566Z",
     "shell.execute_reply": "2024-03-16T19:48:50.084367Z"
    },
    "papermill": {
     "duration": 0.697863,
     "end_time": "2024-03-16T19:48:50.089050",
     "exception": false,
     "start_time": "2024-03-16T19:48:49.391187",
     "status": "completed"
    },
    "tags": []
   },
   "outputs": [
    {
     "data": {
      "image/png": "[encoded data removed]",
      "text/plain": [
       "<Figure size 2000x600 with 1 Axes>"
      ]
     },
     "metadata": {},
     "output_type": "display_data"
    }
   ],
   "source": [
    "plt.figure(figsize=(20,6))\n",
    "plt.plot(country['country'],country['count'],color='darkred')\n",
    "plt.xticks(rotation=90)\n",
    "plt.show()"
   ]
  },
  {
   "cell_type": "markdown",
   "id": "9f83746e",
   "metadata": {
    "papermill": {
     "duration": 0.02635,
     "end_time": "2024-03-16T19:48:50.142318",
     "exception": false,
     "start_time": "2024-03-16T19:48:50.115968",
     "status": "completed"
    },
    "tags": []
   },
   "source": [
    "**this graph show the more shows is in US**"
   ]
  },
  {
   "cell_type": "markdown",
   "id": "3f66a46d",
   "metadata": {
    "papermill": {
     "duration": 0.027796,
     "end_time": "2024-03-16T19:48:50.196670",
     "exception": false,
     "start_time": "2024-03-16T19:48:50.168874",
     "status": "completed"
    },
    "tags": []
   },
   "source": [
    "**now determine the TVshow and movie in the every countery**\n",
    "<h2>Top 15 country<h2>"
   ]
  },
  {
   "cell_type": "code",
   "execution_count": 26,
   "id": "585c27e8",
   "metadata": {
    "execution": {
     "iopub.execute_input": "2024-03-16T19:48:50.254272Z",
     "iopub.status.busy": "2024-03-16T19:48:50.253830Z",
     "iopub.status.idle": "2024-03-16T19:48:50.271393Z",
     "shell.execute_reply": "2024-03-16T19:48:50.269776Z"
    },
    "papermill": {
     "duration": 0.049544,
     "end_time": "2024-03-16T19:48:50.273719",
     "exception": false,
     "start_time": "2024-03-16T19:48:50.224175",
     "status": "completed"
    },
    "tags": []
   },
   "outputs": [
    {
     "data": {
      "text/html": [
       "<div>\n",
       "<style scoped>\n",
       "    .dataframe tbody tr th:only-of-type {\n",
       "        vertical-align: middle;\n",
       "    }\n",
       "\n",
       "    .dataframe tbody tr th {\n",
       "        vertical-align: top;\n",
       "    }\n",
       "\n",
       "    .dataframe thead th {\n",
       "        text-align: right;\n",
       "    }\n",
       "</style>\n",
       "<table border=\"1\" class=\"dataframe\">\n",
       "  <thead>\n",
       "    <tr style=\"text-align: right;\">\n",
       "      <th></th>\n",
       "      <th>country</th>\n",
       "      <th>count</th>\n",
       "    </tr>\n",
       "  </thead>\n",
       "  <tbody>\n",
       "    <tr>\n",
       "      <th>0</th>\n",
       "      <td>United States</td>\n",
       "      <td>3240</td>\n",
       "    </tr>\n",
       "    <tr>\n",
       "      <th>1</th>\n",
       "      <td>India</td>\n",
       "      <td>1057</td>\n",
       "    </tr>\n",
       "    <tr>\n",
       "      <th>2</th>\n",
       "      <td>United Kingdom</td>\n",
       "      <td>638</td>\n",
       "    </tr>\n",
       "    <tr>\n",
       "      <th>3</th>\n",
       "      <td>Pakistan</td>\n",
       "      <td>421</td>\n",
       "    </tr>\n",
       "    <tr>\n",
       "      <th>4</th>\n",
       "      <td>Not Given</td>\n",
       "      <td>287</td>\n",
       "    </tr>\n",
       "    <tr>\n",
       "      <th>5</th>\n",
       "      <td>Canada</td>\n",
       "      <td>271</td>\n",
       "    </tr>\n",
       "    <tr>\n",
       "      <th>6</th>\n",
       "      <td>Japan</td>\n",
       "      <td>259</td>\n",
       "    </tr>\n",
       "    <tr>\n",
       "      <th>7</th>\n",
       "      <td>South Korea</td>\n",
       "      <td>214</td>\n",
       "    </tr>\n",
       "    <tr>\n",
       "      <th>8</th>\n",
       "      <td>France</td>\n",
       "      <td>213</td>\n",
       "    </tr>\n",
       "    <tr>\n",
       "      <th>9</th>\n",
       "      <td>Spain</td>\n",
       "      <td>182</td>\n",
       "    </tr>\n",
       "  </tbody>\n",
       "</table>\n",
       "</div>"
      ],
      "text/plain": [
       "          country  count\n",
       "0   United States   3240\n",
       "1           India   1057\n",
       "2  United Kingdom    638\n",
       "3        Pakistan    421\n",
       "4       Not Given    287\n",
       "5          Canada    271\n",
       "6           Japan    259\n",
       "7     South Korea    214\n",
       "8          France    213\n",
       "9           Spain    182"
      ]
     },
     "execution_count": 26,
     "metadata": {},
     "output_type": "execute_result"
    }
   ],
   "source": [
    "country = df['country'].value_counts().reset_index().sort_values(by='count',ascending = False).head(10)\n",
    "country"
   ]
  },
  {
   "cell_type": "code",
   "execution_count": 27,
   "id": "657a6a5b",
   "metadata": {
    "execution": {
     "iopub.execute_input": "2024-03-16T19:48:50.332655Z",
     "iopub.status.busy": "2024-03-16T19:48:50.332186Z",
     "iopub.status.idle": "2024-03-16T19:48:50.791109Z",
     "shell.execute_reply": "2024-03-16T19:48:50.789821Z"
    },
    "papermill": {
     "duration": 0.491815,
     "end_time": "2024-03-16T19:48:50.794082",
     "exception": false,
     "start_time": "2024-03-16T19:48:50.302267",
     "status": "completed"
    },
    "tags": []
   },
   "outputs": [
    {
     "data": {
      "text/plain": [
       "Text(0, 0.5, 'No of Movies')"
      ]
     },
     "execution_count": 27,
     "metadata": {},
     "output_type": "execute_result"
    },
    {
     "data": {
      "image/png": "[encoded data removed]",
      "text/plain": [
       "<Figure size 2000x800 with 1 Axes>"
      ]
     },
     "metadata": {},
     "output_type": "display_data"
    }
   ],
   "source": [
    "plt.figure(figsize=(20,8))\n",
    "plt.title('Top 10 countries')\n",
    "sns.barplot(x='country',y='count',data=country)\n",
    "plt.xlabel('Country')\n",
    "plt.ylabel('No of Movies')"
   ]
  },
  {
   "cell_type": "markdown",
   "id": "6d505c33",
   "metadata": {
    "papermill": {
     "duration": 0.027044,
     "end_time": "2024-03-16T19:48:50.848973",
     "exception": false,
     "start_time": "2024-03-16T19:48:50.821929",
     "status": "completed"
    },
    "tags": []
   },
   "source": [
    "**US have the greatest number of movie between top 10 Country**"
   ]
  },
  {
   "cell_type": "code",
   "execution_count": 28,
   "id": "24a3b0ba",
   "metadata": {
    "execution": {
     "iopub.execute_input": "2024-03-16T19:48:50.906007Z",
     "iopub.status.busy": "2024-03-16T19:48:50.905622Z",
     "iopub.status.idle": "2024-03-16T19:48:50.918931Z",
     "shell.execute_reply": "2024-03-16T19:48:50.917575Z"
    },
    "papermill": {
     "duration": 0.0451,
     "end_time": "2024-03-16T19:48:50.921635",
     "exception": false,
     "start_time": "2024-03-16T19:48:50.876535",
     "status": "completed"
    },
    "tags": []
   },
   "outputs": [
    {
     "data": {
      "text/html": [
       "<div>\n",
       "<style scoped>\n",
       "    .dataframe tbody tr th:only-of-type {\n",
       "        vertical-align: middle;\n",
       "    }\n",
       "\n",
       "    .dataframe tbody tr th {\n",
       "        vertical-align: top;\n",
       "    }\n",
       "\n",
       "    .dataframe thead th {\n",
       "        text-align: right;\n",
       "    }\n",
       "</style>\n",
       "<table border=\"1\" class=\"dataframe\">\n",
       "  <thead>\n",
       "    <tr style=\"text-align: right;\">\n",
       "      <th></th>\n",
       "      <th>country</th>\n",
       "      <th>count</th>\n",
       "    </tr>\n",
       "  </thead>\n",
       "  <tbody>\n",
       "    <tr>\n",
       "      <th>0</th>\n",
       "      <td>United States</td>\n",
       "      <td>3240</td>\n",
       "    </tr>\n",
       "    <tr>\n",
       "      <th>1</th>\n",
       "      <td>India</td>\n",
       "      <td>1057</td>\n",
       "    </tr>\n",
       "    <tr>\n",
       "      <th>2</th>\n",
       "      <td>United Kingdom</td>\n",
       "      <td>638</td>\n",
       "    </tr>\n",
       "    <tr>\n",
       "      <th>3</th>\n",
       "      <td>Pakistan</td>\n",
       "      <td>421</td>\n",
       "    </tr>\n",
       "    <tr>\n",
       "      <th>4</th>\n",
       "      <td>Not Given</td>\n",
       "      <td>287</td>\n",
       "    </tr>\n",
       "    <tr>\n",
       "      <th>5</th>\n",
       "      <td>Canada</td>\n",
       "      <td>271</td>\n",
       "    </tr>\n",
       "    <tr>\n",
       "      <th>6</th>\n",
       "      <td>Japan</td>\n",
       "      <td>259</td>\n",
       "    </tr>\n",
       "    <tr>\n",
       "      <th>7</th>\n",
       "      <td>South Korea</td>\n",
       "      <td>214</td>\n",
       "    </tr>\n",
       "    <tr>\n",
       "      <th>8</th>\n",
       "      <td>France</td>\n",
       "      <td>213</td>\n",
       "    </tr>\n",
       "    <tr>\n",
       "      <th>9</th>\n",
       "      <td>Spain</td>\n",
       "      <td>182</td>\n",
       "    </tr>\n",
       "  </tbody>\n",
       "</table>\n",
       "</div>"
      ],
      "text/plain": [
       "          country  count\n",
       "0   United States   3240\n",
       "1           India   1057\n",
       "2  United Kingdom    638\n",
       "3        Pakistan    421\n",
       "4       Not Given    287\n",
       "5          Canada    271\n",
       "6           Japan    259\n",
       "7     South Korea    214\n",
       "8          France    213\n",
       "9           Spain    182"
      ]
     },
     "execution_count": 28,
     "metadata": {},
     "output_type": "execute_result"
    }
   ],
   "source": [
    "top10_country=country.sort_values(by='count',ascending=False).head(10)\n",
    "top10_country"
   ]
  },
  {
   "cell_type": "code",
   "execution_count": 29,
   "id": "e2b51af9",
   "metadata": {
    "execution": {
     "iopub.execute_input": "2024-03-16T19:48:50.979567Z",
     "iopub.status.busy": "2024-03-16T19:48:50.979043Z",
     "iopub.status.idle": "2024-03-16T19:48:51.494856Z",
     "shell.execute_reply": "2024-03-16T19:48:51.493495Z"
    },
    "papermill": {
     "duration": 0.547956,
     "end_time": "2024-03-16T19:48:51.497607",
     "exception": false,
     "start_time": "2024-03-16T19:48:50.949651",
     "status": "completed"
    },
    "tags": []
   },
   "outputs": [
    {
     "data": {
      "image/png": "[encoded data removed]",
      "text/plain": [
       "<Figure size 640x480 with 1 Axes>"
      ]
     },
     "metadata": {},
     "output_type": "display_data"
    }
   ],
   "source": [
    "sns.barplot(data=top10_country,x='country',y='count',hue=df['type'],alpha=0.8,width=0.6)\n",
    "plt.ylabel('Count')\n",
    "plt.xlabel('Contries')\n",
    "plt.title('Top 10 Countries')\n",
    "plt.xticks(rotation=90)\n",
    "plt.show()"
   ]
  },
  {
   "cell_type": "markdown",
   "id": "0756ee89",
   "metadata": {
    "papermill": {
     "duration": 0.0292,
     "end_time": "2024-03-16T19:48:51.558345",
     "exception": false,
     "start_time": "2024-03-16T19:48:51.529145",
     "status": "completed"
    },
    "tags": []
   },
   "source": [
    "<h2>Release year<h2>"
   ]
  },
  {
   "cell_type": "code",
   "execution_count": 30,
   "id": "4b1892ce",
   "metadata": {
    "execution": {
     "iopub.execute_input": "2024-03-16T19:48:51.621050Z",
     "iopub.status.busy": "2024-03-16T19:48:51.619444Z",
     "iopub.status.idle": "2024-03-16T19:48:51.981631Z",
     "shell.execute_reply": "2024-03-16T19:48:51.980694Z"
    },
    "papermill": {
     "duration": 0.39654,
     "end_time": "2024-03-16T19:48:51.984044",
     "exception": false,
     "start_time": "2024-03-16T19:48:51.587504",
     "status": "completed"
    },
    "tags": []
   },
   "outputs": [
    {
     "data": {
      "image/png": "[encoded data removed]",
      "text/plain": [
       "<Figure size 640x480 with 1 Axes>"
      ]
     },
     "metadata": {},
     "output_type": "display_data"
    }
   ],
   "source": [
    "df['release_year'].plot(kind='hist', bins=30)\n",
    "plt.title('Distribution of Release Years')\n",
    "plt.xlabel('Release Year')\n",
    "plt.ylabel('Count')\n",
    "plt.show()"
   ]
  },
  {
   "cell_type": "markdown",
   "id": "c2441f26",
   "metadata": {
    "papermill": {
     "duration": 0.028748,
     "end_time": "2024-03-16T19:48:52.042651",
     "exception": false,
     "start_time": "2024-03-16T19:48:52.013903",
     "status": "completed"
    },
    "tags": []
   },
   "source": [
    "**Distribution Show the more movie and TVshow is from 2010 to 2020**"
   ]
  },
  {
   "cell_type": "markdown",
   "id": "76223271",
   "metadata": {
    "papermill": {
     "duration": 0.028389,
     "end_time": "2024-03-16T19:48:52.099840",
     "exception": false,
     "start_time": "2024-03-16T19:48:52.071451",
     "status": "completed"
    },
    "tags": []
   },
   "source": [
    "<h2>Rating<h2>"
   ]
  },
  {
   "cell_type": "code",
   "execution_count": 31,
   "id": "bbf54886",
   "metadata": {
    "execution": {
     "iopub.execute_input": "2024-03-16T19:48:52.161992Z",
     "iopub.status.busy": "2024-03-16T19:48:52.160868Z",
     "iopub.status.idle": "2024-03-16T19:48:52.182748Z",
     "shell.execute_reply": "2024-03-16T19:48:52.181522Z"
    },
    "papermill": {
     "duration": 0.056191,
     "end_time": "2024-03-16T19:48:52.185649",
     "exception": false,
     "start_time": "2024-03-16T19:48:52.129458",
     "status": "completed"
    },
    "tags": []
   },
   "outputs": [
    {
     "data": {
      "text/html": [
       "<div>\n",
       "<style scoped>\n",
       "    .dataframe tbody tr th:only-of-type {\n",
       "        vertical-align: middle;\n",
       "    }\n",
       "\n",
       "    .dataframe tbody tr th {\n",
       "        vertical-align: top;\n",
       "    }\n",
       "\n",
       "    .dataframe thead th {\n",
       "        text-align: right;\n",
       "    }\n",
       "</style>\n",
       "<table border=\"1\" class=\"dataframe\">\n",
       "  <thead>\n",
       "    <tr style=\"text-align: right;\">\n",
       "      <th></th>\n",
       "      <th>rating</th>\n",
       "      <th>type</th>\n",
       "      <th>count</th>\n",
       "    </tr>\n",
       "  </thead>\n",
       "  <tbody>\n",
       "    <tr>\n",
       "      <th>0</th>\n",
       "      <td>G</td>\n",
       "      <td>Movie</td>\n",
       "      <td>41</td>\n",
       "    </tr>\n",
       "    <tr>\n",
       "      <th>1</th>\n",
       "      <td>NC-17</td>\n",
       "      <td>Movie</td>\n",
       "      <td>3</td>\n",
       "    </tr>\n",
       "    <tr>\n",
       "      <th>2</th>\n",
       "      <td>NR</td>\n",
       "      <td>Movie</td>\n",
       "      <td>75</td>\n",
       "    </tr>\n",
       "    <tr>\n",
       "      <th>3</th>\n",
       "      <td>NR</td>\n",
       "      <td>TV Show</td>\n",
       "      <td>4</td>\n",
       "    </tr>\n",
       "    <tr>\n",
       "      <th>4</th>\n",
       "      <td>PG</td>\n",
       "      <td>Movie</td>\n",
       "      <td>287</td>\n",
       "    </tr>\n",
       "    <tr>\n",
       "      <th>5</th>\n",
       "      <td>PG-13</td>\n",
       "      <td>Movie</td>\n",
       "      <td>490</td>\n",
       "    </tr>\n",
       "    <tr>\n",
       "      <th>6</th>\n",
       "      <td>R</td>\n",
       "      <td>Movie</td>\n",
       "      <td>797</td>\n",
       "    </tr>\n",
       "    <tr>\n",
       "      <th>7</th>\n",
       "      <td>R</td>\n",
       "      <td>TV Show</td>\n",
       "      <td>2</td>\n",
       "    </tr>\n",
       "    <tr>\n",
       "      <th>8</th>\n",
       "      <td>TV-14</td>\n",
       "      <td>Movie</td>\n",
       "      <td>1427</td>\n",
       "    </tr>\n",
       "    <tr>\n",
       "      <th>9</th>\n",
       "      <td>TV-14</td>\n",
       "      <td>TV Show</td>\n",
       "      <td>730</td>\n",
       "    </tr>\n",
       "    <tr>\n",
       "      <th>10</th>\n",
       "      <td>TV-G</td>\n",
       "      <td>Movie</td>\n",
       "      <td>126</td>\n",
       "    </tr>\n",
       "    <tr>\n",
       "      <th>11</th>\n",
       "      <td>TV-G</td>\n",
       "      <td>TV Show</td>\n",
       "      <td>94</td>\n",
       "    </tr>\n",
       "    <tr>\n",
       "      <th>12</th>\n",
       "      <td>TV-MA</td>\n",
       "      <td>Movie</td>\n",
       "      <td>2062</td>\n",
       "    </tr>\n",
       "    <tr>\n",
       "      <th>13</th>\n",
       "      <td>TV-MA</td>\n",
       "      <td>TV Show</td>\n",
       "      <td>1143</td>\n",
       "    </tr>\n",
       "    <tr>\n",
       "      <th>14</th>\n",
       "      <td>TV-PG</td>\n",
       "      <td>Movie</td>\n",
       "      <td>540</td>\n",
       "    </tr>\n",
       "    <tr>\n",
       "      <th>15</th>\n",
       "      <td>TV-PG</td>\n",
       "      <td>TV Show</td>\n",
       "      <td>321</td>\n",
       "    </tr>\n",
       "    <tr>\n",
       "      <th>16</th>\n",
       "      <td>TV-Y</td>\n",
       "      <td>Movie</td>\n",
       "      <td>131</td>\n",
       "    </tr>\n",
       "    <tr>\n",
       "      <th>17</th>\n",
       "      <td>TV-Y</td>\n",
       "      <td>TV Show</td>\n",
       "      <td>175</td>\n",
       "    </tr>\n",
       "    <tr>\n",
       "      <th>18</th>\n",
       "      <td>TV-Y7</td>\n",
       "      <td>Movie</td>\n",
       "      <td>139</td>\n",
       "    </tr>\n",
       "    <tr>\n",
       "      <th>19</th>\n",
       "      <td>TV-Y7</td>\n",
       "      <td>TV Show</td>\n",
       "      <td>194</td>\n",
       "    </tr>\n",
       "    <tr>\n",
       "      <th>20</th>\n",
       "      <td>TV-Y7-FV</td>\n",
       "      <td>Movie</td>\n",
       "      <td>5</td>\n",
       "    </tr>\n",
       "    <tr>\n",
       "      <th>21</th>\n",
       "      <td>TV-Y7-FV</td>\n",
       "      <td>TV Show</td>\n",
       "      <td>1</td>\n",
       "    </tr>\n",
       "    <tr>\n",
       "      <th>22</th>\n",
       "      <td>UR</td>\n",
       "      <td>Movie</td>\n",
       "      <td>3</td>\n",
       "    </tr>\n",
       "  </tbody>\n",
       "</table>\n",
       "</div>"
      ],
      "text/plain": [
       "      rating     type  count\n",
       "0          G    Movie     41\n",
       "1      NC-17    Movie      3\n",
       "2         NR    Movie     75\n",
       "3         NR  TV Show      4\n",
       "4         PG    Movie    287\n",
       "5      PG-13    Movie    490\n",
       "6          R    Movie    797\n",
       "7          R  TV Show      2\n",
       "8      TV-14    Movie   1427\n",
       "9      TV-14  TV Show    730\n",
       "10      TV-G    Movie    126\n",
       "11      TV-G  TV Show     94\n",
       "12     TV-MA    Movie   2062\n",
       "13     TV-MA  TV Show   1143\n",
       "14     TV-PG    Movie    540\n",
       "15     TV-PG  TV Show    321\n",
       "16      TV-Y    Movie    131\n",
       "17      TV-Y  TV Show    175\n",
       "18     TV-Y7    Movie    139\n",
       "19     TV-Y7  TV Show    194\n",
       "20  TV-Y7-FV    Movie      5\n",
       "21  TV-Y7-FV  TV Show      1\n",
       "22        UR    Movie      3"
      ]
     },
     "execution_count": 31,
     "metadata": {},
     "output_type": "execute_result"
    }
   ],
   "source": [
    "ratings = df.groupby(['rating', 'type'])['type'].value_counts().reset_index()\n",
    "ratings"
   ]
  },
  {
   "cell_type": "code",
   "execution_count": 32,
   "id": "53d3e404",
   "metadata": {
    "execution": {
     "iopub.execute_input": "2024-03-16T19:48:52.249412Z",
     "iopub.status.busy": "2024-03-16T19:48:52.248950Z",
     "iopub.status.idle": "2024-03-16T19:48:52.264999Z",
     "shell.execute_reply": "2024-03-16T19:48:52.263499Z"
    },
    "papermill": {
     "duration": 0.051369,
     "end_time": "2024-03-16T19:48:52.267412",
     "exception": false,
     "start_time": "2024-03-16T19:48:52.216043",
     "status": "completed"
    },
    "tags": []
   },
   "outputs": [
    {
     "data": {
      "text/html": [
       "<div>\n",
       "<style scoped>\n",
       "    .dataframe tbody tr th:only-of-type {\n",
       "        vertical-align: middle;\n",
       "    }\n",
       "\n",
       "    .dataframe tbody tr th {\n",
       "        vertical-align: top;\n",
       "    }\n",
       "\n",
       "    .dataframe thead th {\n",
       "        text-align: right;\n",
       "    }\n",
       "</style>\n",
       "<table border=\"1\" class=\"dataframe\">\n",
       "  <thead>\n",
       "    <tr style=\"text-align: right;\">\n",
       "      <th></th>\n",
       "      <th>rating</th>\n",
       "      <th>type</th>\n",
       "      <th>count</th>\n",
       "    </tr>\n",
       "  </thead>\n",
       "  <tbody>\n",
       "    <tr>\n",
       "      <th>12</th>\n",
       "      <td>TV-MA</td>\n",
       "      <td>Movie</td>\n",
       "      <td>2062</td>\n",
       "    </tr>\n",
       "    <tr>\n",
       "      <th>8</th>\n",
       "      <td>TV-14</td>\n",
       "      <td>Movie</td>\n",
       "      <td>1427</td>\n",
       "    </tr>\n",
       "    <tr>\n",
       "      <th>6</th>\n",
       "      <td>R</td>\n",
       "      <td>Movie</td>\n",
       "      <td>797</td>\n",
       "    </tr>\n",
       "    <tr>\n",
       "      <th>14</th>\n",
       "      <td>TV-PG</td>\n",
       "      <td>Movie</td>\n",
       "      <td>540</td>\n",
       "    </tr>\n",
       "    <tr>\n",
       "      <th>5</th>\n",
       "      <td>PG-13</td>\n",
       "      <td>Movie</td>\n",
       "      <td>490</td>\n",
       "    </tr>\n",
       "    <tr>\n",
       "      <th>4</th>\n",
       "      <td>PG</td>\n",
       "      <td>Movie</td>\n",
       "      <td>287</td>\n",
       "    </tr>\n",
       "    <tr>\n",
       "      <th>18</th>\n",
       "      <td>TV-Y7</td>\n",
       "      <td>Movie</td>\n",
       "      <td>139</td>\n",
       "    </tr>\n",
       "    <tr>\n",
       "      <th>16</th>\n",
       "      <td>TV-Y</td>\n",
       "      <td>Movie</td>\n",
       "      <td>131</td>\n",
       "    </tr>\n",
       "    <tr>\n",
       "      <th>10</th>\n",
       "      <td>TV-G</td>\n",
       "      <td>Movie</td>\n",
       "      <td>126</td>\n",
       "    </tr>\n",
       "    <tr>\n",
       "      <th>2</th>\n",
       "      <td>NR</td>\n",
       "      <td>Movie</td>\n",
       "      <td>75</td>\n",
       "    </tr>\n",
       "  </tbody>\n",
       "</table>\n",
       "</div>"
      ],
      "text/plain": [
       "   rating   type  count\n",
       "12  TV-MA  Movie   2062\n",
       "8   TV-14  Movie   1427\n",
       "6       R  Movie    797\n",
       "14  TV-PG  Movie    540\n",
       "5   PG-13  Movie    490\n",
       "4      PG  Movie    287\n",
       "18  TV-Y7  Movie    139\n",
       "16   TV-Y  Movie    131\n",
       "10   TV-G  Movie    126\n",
       "2      NR  Movie     75"
      ]
     },
     "execution_count": 32,
     "metadata": {},
     "output_type": "execute_result"
    }
   ],
   "source": [
    "top_10_movie_ratings = ratings[ratings['type'] == 'Movie'].sort_values(by='count', ascending=False).iloc[0:10]\n",
    "top_10_movie_ratings"
   ]
  },
  {
   "cell_type": "code",
   "execution_count": 33,
   "id": "58daf463",
   "metadata": {
    "execution": {
     "iopub.execute_input": "2024-03-16T19:48:52.330119Z",
     "iopub.status.busy": "2024-03-16T19:48:52.329685Z",
     "iopub.status.idle": "2024-03-16T19:48:52.677907Z",
     "shell.execute_reply": "2024-03-16T19:48:52.676597Z"
    },
    "papermill": {
     "duration": 0.384024,
     "end_time": "2024-03-16T19:48:52.681727",
     "exception": false,
     "start_time": "2024-03-16T19:48:52.297703",
     "status": "completed"
    },
    "tags": []
   },
   "outputs": [
    {
     "data": {
      "image/png": "[encoded data removed]",
      "text/plain": [
       "<Figure size 640x480 with 1 Axes>"
      ]
     },
     "metadata": {},
     "output_type": "display_data"
    }
   ],
   "source": [
    "top_10_movie_ratings.plot(x='rating', y='count', kind='bar')\n",
    "plt.title('Top 10 Movie Ratings')\n",
    "plt.xlabel('Rating')\n",
    "plt.ylabel('Count')\n",
    "plt.xticks(rotation=90)\n",
    "plt.show()"
   ]
  },
  {
   "cell_type": "code",
   "execution_count": 34,
   "id": "d2841c52",
   "metadata": {
    "execution": {
     "iopub.execute_input": "2024-03-16T19:48:52.749554Z",
     "iopub.status.busy": "2024-03-16T19:48:52.747973Z",
     "iopub.status.idle": "2024-03-16T19:48:52.764579Z",
     "shell.execute_reply": "2024-03-16T19:48:52.763218Z"
    },
    "papermill": {
     "duration": 0.053748,
     "end_time": "2024-03-16T19:48:52.767110",
     "exception": false,
     "start_time": "2024-03-16T19:48:52.713362",
     "status": "completed"
    },
    "tags": []
   },
   "outputs": [
    {
     "data": {
      "text/html": [
       "<div>\n",
       "<style scoped>\n",
       "    .dataframe tbody tr th:only-of-type {\n",
       "        vertical-align: middle;\n",
       "    }\n",
       "\n",
       "    .dataframe tbody tr th {\n",
       "        vertical-align: top;\n",
       "    }\n",
       "\n",
       "    .dataframe thead th {\n",
       "        text-align: right;\n",
       "    }\n",
       "</style>\n",
       "<table border=\"1\" class=\"dataframe\">\n",
       "  <thead>\n",
       "    <tr style=\"text-align: right;\">\n",
       "      <th></th>\n",
       "      <th>rating</th>\n",
       "      <th>type</th>\n",
       "      <th>count</th>\n",
       "    </tr>\n",
       "  </thead>\n",
       "  <tbody>\n",
       "    <tr>\n",
       "      <th>13</th>\n",
       "      <td>TV-MA</td>\n",
       "      <td>TV Show</td>\n",
       "      <td>1143</td>\n",
       "    </tr>\n",
       "    <tr>\n",
       "      <th>9</th>\n",
       "      <td>TV-14</td>\n",
       "      <td>TV Show</td>\n",
       "      <td>730</td>\n",
       "    </tr>\n",
       "    <tr>\n",
       "      <th>15</th>\n",
       "      <td>TV-PG</td>\n",
       "      <td>TV Show</td>\n",
       "      <td>321</td>\n",
       "    </tr>\n",
       "    <tr>\n",
       "      <th>19</th>\n",
       "      <td>TV-Y7</td>\n",
       "      <td>TV Show</td>\n",
       "      <td>194</td>\n",
       "    </tr>\n",
       "    <tr>\n",
       "      <th>17</th>\n",
       "      <td>TV-Y</td>\n",
       "      <td>TV Show</td>\n",
       "      <td>175</td>\n",
       "    </tr>\n",
       "    <tr>\n",
       "      <th>11</th>\n",
       "      <td>TV-G</td>\n",
       "      <td>TV Show</td>\n",
       "      <td>94</td>\n",
       "    </tr>\n",
       "    <tr>\n",
       "      <th>3</th>\n",
       "      <td>NR</td>\n",
       "      <td>TV Show</td>\n",
       "      <td>4</td>\n",
       "    </tr>\n",
       "    <tr>\n",
       "      <th>7</th>\n",
       "      <td>R</td>\n",
       "      <td>TV Show</td>\n",
       "      <td>2</td>\n",
       "    </tr>\n",
       "    <tr>\n",
       "      <th>21</th>\n",
       "      <td>TV-Y7-FV</td>\n",
       "      <td>TV Show</td>\n",
       "      <td>1</td>\n",
       "    </tr>\n",
       "  </tbody>\n",
       "</table>\n",
       "</div>"
      ],
      "text/plain": [
       "      rating     type  count\n",
       "13     TV-MA  TV Show   1143\n",
       "9      TV-14  TV Show    730\n",
       "15     TV-PG  TV Show    321\n",
       "19     TV-Y7  TV Show    194\n",
       "17      TV-Y  TV Show    175\n",
       "11      TV-G  TV Show     94\n",
       "3         NR  TV Show      4\n",
       "7          R  TV Show      2\n",
       "21  TV-Y7-FV  TV Show      1"
      ]
     },
     "execution_count": 34,
     "metadata": {},
     "output_type": "execute_result"
    }
   ],
   "source": [
    "top_10_TV_Show_ratings = ratings[ratings['type'] == 'TV Show'].sort_values(by='count', ascending=False).iloc[0:10]\n",
    "top_10_TV_Show_ratings"
   ]
  },
  {
   "cell_type": "code",
   "execution_count": 35,
   "id": "3be28918",
   "metadata": {
    "execution": {
     "iopub.execute_input": "2024-03-16T19:48:52.835570Z",
     "iopub.status.busy": "2024-03-16T19:48:52.835102Z",
     "iopub.status.idle": "2024-03-16T19:48:53.174459Z",
     "shell.execute_reply": "2024-03-16T19:48:53.172805Z"
    },
    "papermill": {
     "duration": 0.377347,
     "end_time": "2024-03-16T19:48:53.177293",
     "exception": false,
     "start_time": "2024-03-16T19:48:52.799946",
     "status": "completed"
    },
    "tags": []
   },
   "outputs": [
    {
     "data": {
      "image/png": "[encoded data removed]",
      "text/plain": [
       "<Figure size 640x480 with 1 Axes>"
      ]
     },
     "metadata": {},
     "output_type": "display_data"
    }
   ],
   "source": [
    "top_10_TV_Show_ratings.plot(x='rating', y='count', kind='bar')\n",
    "plt.title('Top 10 TV Shows Ratings')\n",
    "plt.xlabel('Rating')\n",
    "plt.ylabel('Count')\n",
    "plt.xticks(rotation=90)\n",
    "plt.show()"
   ]
  },
  {
   "cell_type": "markdown",
   "id": "dbb14f07",
   "metadata": {
    "papermill": {
     "duration": 0.032305,
     "end_time": "2024-03-16T19:48:53.242481",
     "exception": false,
     "start_time": "2024-03-16T19:48:53.210176",
     "status": "completed"
    },
    "tags": []
   },
   "source": [
    "<h2>duration<h2>"
   ]
  },
  {
   "cell_type": "code",
   "execution_count": 36,
   "id": "86d3273e",
   "metadata": {
    "execution": {
     "iopub.execute_input": "2024-03-16T19:48:53.310814Z",
     "iopub.status.busy": "2024-03-16T19:48:53.310323Z",
     "iopub.status.idle": "2024-03-16T19:48:53.333404Z",
     "shell.execute_reply": "2024-03-16T19:48:53.331861Z"
    },
    "papermill": {
     "duration": 0.061885,
     "end_time": "2024-03-16T19:48:53.336395",
     "exception": false,
     "start_time": "2024-03-16T19:48:53.274510",
     "status": "completed"
    },
    "tags": []
   },
   "outputs": [
    {
     "data": {
      "text/html": [
       "<div>\n",
       "<style scoped>\n",
       "    .dataframe tbody tr th:only-of-type {\n",
       "        vertical-align: middle;\n",
       "    }\n",
       "\n",
       "    .dataframe tbody tr th {\n",
       "        vertical-align: top;\n",
       "    }\n",
       "\n",
       "    .dataframe thead th {\n",
       "        text-align: right;\n",
       "    }\n",
       "</style>\n",
       "<table border=\"1\" class=\"dataframe\">\n",
       "  <thead>\n",
       "    <tr style=\"text-align: right;\">\n",
       "      <th></th>\n",
       "      <th>duration</th>\n",
       "      <th>type</th>\n",
       "      <th>count</th>\n",
       "    </tr>\n",
       "  </thead>\n",
       "  <tbody>\n",
       "    <tr>\n",
       "      <th>0</th>\n",
       "      <td>1 Season</td>\n",
       "      <td>TV Show</td>\n",
       "      <td>1791</td>\n",
       "    </tr>\n",
       "    <tr>\n",
       "      <th>1</th>\n",
       "      <td>10 Seasons</td>\n",
       "      <td>TV Show</td>\n",
       "      <td>6</td>\n",
       "    </tr>\n",
       "    <tr>\n",
       "      <th>2</th>\n",
       "      <td>10 min</td>\n",
       "      <td>Movie</td>\n",
       "      <td>1</td>\n",
       "    </tr>\n",
       "    <tr>\n",
       "      <th>3</th>\n",
       "      <td>100 min</td>\n",
       "      <td>Movie</td>\n",
       "      <td>108</td>\n",
       "    </tr>\n",
       "    <tr>\n",
       "      <th>4</th>\n",
       "      <td>101 min</td>\n",
       "      <td>Movie</td>\n",
       "      <td>116</td>\n",
       "    </tr>\n",
       "    <tr>\n",
       "      <th>...</th>\n",
       "      <td>...</td>\n",
       "      <td>...</td>\n",
       "      <td>...</td>\n",
       "    </tr>\n",
       "    <tr>\n",
       "      <th>215</th>\n",
       "      <td>95 min</td>\n",
       "      <td>Movie</td>\n",
       "      <td>137</td>\n",
       "    </tr>\n",
       "    <tr>\n",
       "      <th>216</th>\n",
       "      <td>96 min</td>\n",
       "      <td>Movie</td>\n",
       "      <td>130</td>\n",
       "    </tr>\n",
       "    <tr>\n",
       "      <th>217</th>\n",
       "      <td>97 min</td>\n",
       "      <td>Movie</td>\n",
       "      <td>146</td>\n",
       "    </tr>\n",
       "    <tr>\n",
       "      <th>218</th>\n",
       "      <td>98 min</td>\n",
       "      <td>Movie</td>\n",
       "      <td>120</td>\n",
       "    </tr>\n",
       "    <tr>\n",
       "      <th>219</th>\n",
       "      <td>99 min</td>\n",
       "      <td>Movie</td>\n",
       "      <td>118</td>\n",
       "    </tr>\n",
       "  </tbody>\n",
       "</table>\n",
       "<p>220 rows × 3 columns</p>\n",
       "</div>"
      ],
      "text/plain": [
       "       duration     type  count\n",
       "0      1 Season  TV Show   1791\n",
       "1    10 Seasons  TV Show      6\n",
       "2        10 min    Movie      1\n",
       "3       100 min    Movie    108\n",
       "4       101 min    Movie    116\n",
       "..          ...      ...    ...\n",
       "215      95 min    Movie    137\n",
       "216      96 min    Movie    130\n",
       "217      97 min    Movie    146\n",
       "218      98 min    Movie    120\n",
       "219      99 min    Movie    118\n",
       "\n",
       "[220 rows x 3 columns]"
      ]
     },
     "execution_count": 36,
     "metadata": {},
     "output_type": "execute_result"
    }
   ],
   "source": [
    "durations = df.groupby(['duration', 'type'])['duration'].value_counts().reset_index()\n",
    "durations"
   ]
  },
  {
   "cell_type": "code",
   "execution_count": 37,
   "id": "35175932",
   "metadata": {
    "execution": {
     "iopub.execute_input": "2024-03-16T19:48:53.403346Z",
     "iopub.status.busy": "2024-03-16T19:48:53.402885Z",
     "iopub.status.idle": "2024-03-16T19:48:53.418877Z",
     "shell.execute_reply": "2024-03-16T19:48:53.417539Z"
    },
    "papermill": {
     "duration": 0.053458,
     "end_time": "2024-03-16T19:48:53.421894",
     "exception": false,
     "start_time": "2024-03-16T19:48:53.368436",
     "status": "completed"
    },
    "tags": []
   },
   "outputs": [
    {
     "data": {
      "text/html": [
       "<div>\n",
       "<style scoped>\n",
       "    .dataframe tbody tr th:only-of-type {\n",
       "        vertical-align: middle;\n",
       "    }\n",
       "\n",
       "    .dataframe tbody tr th {\n",
       "        vertical-align: top;\n",
       "    }\n",
       "\n",
       "    .dataframe thead th {\n",
       "        text-align: right;\n",
       "    }\n",
       "</style>\n",
       "<table border=\"1\" class=\"dataframe\">\n",
       "  <thead>\n",
       "    <tr style=\"text-align: right;\">\n",
       "      <th></th>\n",
       "      <th>duration</th>\n",
       "      <th>type</th>\n",
       "      <th>count</th>\n",
       "    </tr>\n",
       "  </thead>\n",
       "  <tbody>\n",
       "    <tr>\n",
       "      <th>210</th>\n",
       "      <td>90 min</td>\n",
       "      <td>Movie</td>\n",
       "      <td>152</td>\n",
       "    </tr>\n",
       "    <tr>\n",
       "      <th>213</th>\n",
       "      <td>93 min</td>\n",
       "      <td>Movie</td>\n",
       "      <td>146</td>\n",
       "    </tr>\n",
       "    <tr>\n",
       "      <th>214</th>\n",
       "      <td>94 min</td>\n",
       "      <td>Movie</td>\n",
       "      <td>146</td>\n",
       "    </tr>\n",
       "    <tr>\n",
       "      <th>217</th>\n",
       "      <td>97 min</td>\n",
       "      <td>Movie</td>\n",
       "      <td>146</td>\n",
       "    </tr>\n",
       "    <tr>\n",
       "      <th>211</th>\n",
       "      <td>91 min</td>\n",
       "      <td>Movie</td>\n",
       "      <td>144</td>\n",
       "    </tr>\n",
       "    <tr>\n",
       "      <th>215</th>\n",
       "      <td>95 min</td>\n",
       "      <td>Movie</td>\n",
       "      <td>137</td>\n",
       "    </tr>\n",
       "    <tr>\n",
       "      <th>216</th>\n",
       "      <td>96 min</td>\n",
       "      <td>Movie</td>\n",
       "      <td>130</td>\n",
       "    </tr>\n",
       "    <tr>\n",
       "      <th>212</th>\n",
       "      <td>92 min</td>\n",
       "      <td>Movie</td>\n",
       "      <td>129</td>\n",
       "    </tr>\n",
       "    <tr>\n",
       "      <th>5</th>\n",
       "      <td>102 min</td>\n",
       "      <td>Movie</td>\n",
       "      <td>122</td>\n",
       "    </tr>\n",
       "    <tr>\n",
       "      <th>218</th>\n",
       "      <td>98 min</td>\n",
       "      <td>Movie</td>\n",
       "      <td>120</td>\n",
       "    </tr>\n",
       "  </tbody>\n",
       "</table>\n",
       "</div>"
      ],
      "text/plain": [
       "    duration   type  count\n",
       "210   90 min  Movie    152\n",
       "213   93 min  Movie    146\n",
       "214   94 min  Movie    146\n",
       "217   97 min  Movie    146\n",
       "211   91 min  Movie    144\n",
       "215   95 min  Movie    137\n",
       "216   96 min  Movie    130\n",
       "212   92 min  Movie    129\n",
       "5    102 min  Movie    122\n",
       "218   98 min  Movie    120"
      ]
     },
     "execution_count": 37,
     "metadata": {},
     "output_type": "execute_result"
    }
   ],
   "source": [
    "top_10_movie_durations = durations[durations['type'] == 'Movie'].sort_values(by='count', ascending=False).iloc[0:10]\n",
    "top_10_movie_durations"
   ]
  },
  {
   "cell_type": "code",
   "execution_count": 38,
   "id": "9a044168",
   "metadata": {
    "execution": {
     "iopub.execute_input": "2024-03-16T19:48:53.489872Z",
     "iopub.status.busy": "2024-03-16T19:48:53.489377Z",
     "iopub.status.idle": "2024-03-16T19:48:53.848644Z",
     "shell.execute_reply": "2024-03-16T19:48:53.847412Z"
    },
    "papermill": {
     "duration": 0.396954,
     "end_time": "2024-03-16T19:48:53.852059",
     "exception": false,
     "start_time": "2024-03-16T19:48:53.455105",
     "status": "completed"
    },
    "tags": []
   },
   "outputs": [
    {
     "data": {
      "image/png": "[encoded data removed]",
      "text/plain": [
       "<Figure size 640x480 with 1 Axes>"
      ]
     },
     "metadata": {},
     "output_type": "display_data"
    }
   ],
   "source": [
    "top_10_movie_durations.plot(x='duration', y='count', kind='bar')\n",
    "plt.title('Top 10 Movie Durations')\n",
    "plt.xlabel('Duration')\n",
    "plt.ylabel('Count')\n",
    "plt.xticks(rotation=45)\n",
    "plt.show()"
   ]
  },
  {
   "cell_type": "code",
   "execution_count": 39,
   "id": "f8fbd160",
   "metadata": {
    "execution": {
     "iopub.execute_input": "2024-03-16T19:48:53.923365Z",
     "iopub.status.busy": "2024-03-16T19:48:53.922945Z",
     "iopub.status.idle": "2024-03-16T19:48:53.938497Z",
     "shell.execute_reply": "2024-03-16T19:48:53.937354Z"
    },
    "papermill": {
     "duration": 0.054643,
     "end_time": "2024-03-16T19:48:53.941080",
     "exception": false,
     "start_time": "2024-03-16T19:48:53.886437",
     "status": "completed"
    },
    "tags": []
   },
   "outputs": [
    {
     "data": {
      "text/html": [
       "<div>\n",
       "<style scoped>\n",
       "    .dataframe tbody tr th:only-of-type {\n",
       "        vertical-align: middle;\n",
       "    }\n",
       "\n",
       "    .dataframe tbody tr th {\n",
       "        vertical-align: top;\n",
       "    }\n",
       "\n",
       "    .dataframe thead th {\n",
       "        text-align: right;\n",
       "    }\n",
       "</style>\n",
       "<table border=\"1\" class=\"dataframe\">\n",
       "  <thead>\n",
       "    <tr style=\"text-align: right;\">\n",
       "      <th></th>\n",
       "      <th>duration</th>\n",
       "      <th>type</th>\n",
       "      <th>count</th>\n",
       "    </tr>\n",
       "  </thead>\n",
       "  <tbody>\n",
       "    <tr>\n",
       "      <th>0</th>\n",
       "      <td>1 Season</td>\n",
       "      <td>TV Show</td>\n",
       "      <td>1791</td>\n",
       "    </tr>\n",
       "    <tr>\n",
       "      <th>110</th>\n",
       "      <td>2 Seasons</td>\n",
       "      <td>TV Show</td>\n",
       "      <td>421</td>\n",
       "    </tr>\n",
       "    <tr>\n",
       "      <th>138</th>\n",
       "      <td>3 Seasons</td>\n",
       "      <td>TV Show</td>\n",
       "      <td>198</td>\n",
       "    </tr>\n",
       "    <tr>\n",
       "      <th>151</th>\n",
       "      <td>4 Seasons</td>\n",
       "      <td>TV Show</td>\n",
       "      <td>94</td>\n",
       "    </tr>\n",
       "    <tr>\n",
       "      <th>162</th>\n",
       "      <td>5 Seasons</td>\n",
       "      <td>TV Show</td>\n",
       "      <td>64</td>\n",
       "    </tr>\n",
       "    <tr>\n",
       "      <th>174</th>\n",
       "      <td>6 Seasons</td>\n",
       "      <td>TV Show</td>\n",
       "      <td>33</td>\n",
       "    </tr>\n",
       "    <tr>\n",
       "      <th>185</th>\n",
       "      <td>7 Seasons</td>\n",
       "      <td>TV Show</td>\n",
       "      <td>23</td>\n",
       "    </tr>\n",
       "    <tr>\n",
       "      <th>196</th>\n",
       "      <td>8 Seasons</td>\n",
       "      <td>TV Show</td>\n",
       "      <td>17</td>\n",
       "    </tr>\n",
       "    <tr>\n",
       "      <th>208</th>\n",
       "      <td>9 Seasons</td>\n",
       "      <td>TV Show</td>\n",
       "      <td>9</td>\n",
       "    </tr>\n",
       "    <tr>\n",
       "      <th>1</th>\n",
       "      <td>10 Seasons</td>\n",
       "      <td>TV Show</td>\n",
       "      <td>6</td>\n",
       "    </tr>\n",
       "  </tbody>\n",
       "</table>\n",
       "</div>"
      ],
      "text/plain": [
       "       duration     type  count\n",
       "0      1 Season  TV Show   1791\n",
       "110   2 Seasons  TV Show    421\n",
       "138   3 Seasons  TV Show    198\n",
       "151   4 Seasons  TV Show     94\n",
       "162   5 Seasons  TV Show     64\n",
       "174   6 Seasons  TV Show     33\n",
       "185   7 Seasons  TV Show     23\n",
       "196   8 Seasons  TV Show     17\n",
       "208   9 Seasons  TV Show      9\n",
       "1    10 Seasons  TV Show      6"
      ]
     },
     "execution_count": 39,
     "metadata": {},
     "output_type": "execute_result"
    }
   ],
   "source": [
    "top_10_TV_Show_durations = durations[durations['type'] == 'TV Show'].sort_values(by='count', ascending=False).iloc[0:10]\n",
    "top_10_TV_Show_durations"
   ]
  },
  {
   "cell_type": "code",
   "execution_count": 40,
   "id": "71601c33",
   "metadata": {
    "execution": {
     "iopub.execute_input": "2024-03-16T19:48:54.011379Z",
     "iopub.status.busy": "2024-03-16T19:48:54.009919Z",
     "iopub.status.idle": "2024-03-16T19:48:54.488287Z",
     "shell.execute_reply": "2024-03-16T19:48:54.486687Z"
    },
    "papermill": {
     "duration": 0.515766,
     "end_time": "2024-03-16T19:48:54.491096",
     "exception": false,
     "start_time": "2024-03-16T19:48:53.975330",
     "status": "completed"
    },
    "tags": []
   },
   "outputs": [
    {
     "data": {
      "image/png": "[encoded data removed]",
      "text/plain": [
       "<Figure size 640x480 with 1 Axes>"
      ]
     },
     "metadata": {},
     "output_type": "display_data"
    }
   ],
   "source": [
    "top_10_TV_Show_durations.plot(x='duration', y='count', kind='bar')\n",
    "plt.title('Top 10 TV Shows Durations')\n",
    "plt.xlabel('Duration')\n",
    "plt.ylabel('Count')\n",
    "plt.xticks(rotation=45)\n",
    "plt.show()"
   ]
  },
  {
   "cell_type": "markdown",
   "id": "3901376f",
   "metadata": {
    "papermill": {
     "duration": 0.034341,
     "end_time": "2024-03-16T19:48:54.559684",
     "exception": false,
     "start_time": "2024-03-16T19:48:54.525343",
     "status": "completed"
    },
    "tags": []
   },
   "source": [
    "<h2>category<h2>"
   ]
  },
  {
   "cell_type": "code",
   "execution_count": 41,
   "id": "dc3b42c6",
   "metadata": {
    "execution": {
     "iopub.execute_input": "2024-03-16T19:48:54.630769Z",
     "iopub.status.busy": "2024-03-16T19:48:54.629970Z",
     "iopub.status.idle": "2024-03-16T19:48:54.650517Z",
     "shell.execute_reply": "2024-03-16T19:48:54.649577Z"
    },
    "papermill": {
     "duration": 0.05908,
     "end_time": "2024-03-16T19:48:54.652964",
     "exception": false,
     "start_time": "2024-03-16T19:48:54.593884",
     "status": "completed"
    },
    "tags": []
   },
   "outputs": [
    {
     "data": {
      "text/html": [
       "<div>\n",
       "<style scoped>\n",
       "    .dataframe tbody tr th:only-of-type {\n",
       "        vertical-align: middle;\n",
       "    }\n",
       "\n",
       "    .dataframe tbody tr th {\n",
       "        vertical-align: top;\n",
       "    }\n",
       "\n",
       "    .dataframe thead th {\n",
       "        text-align: right;\n",
       "    }\n",
       "</style>\n",
       "<table border=\"1\" class=\"dataframe\">\n",
       "  <thead>\n",
       "    <tr style=\"text-align: right;\">\n",
       "      <th></th>\n",
       "      <th>category</th>\n",
       "      <th>type</th>\n",
       "      <th>count</th>\n",
       "    </tr>\n",
       "  </thead>\n",
       "  <tbody>\n",
       "    <tr>\n",
       "      <th>0</th>\n",
       "      <td>Action &amp; Adventure</td>\n",
       "      <td>Movie</td>\n",
       "      <td>128</td>\n",
       "    </tr>\n",
       "    <tr>\n",
       "      <th>1</th>\n",
       "      <td>Action &amp; Adventure, Anime Features</td>\n",
       "      <td>Movie</td>\n",
       "      <td>1</td>\n",
       "    </tr>\n",
       "    <tr>\n",
       "      <th>2</th>\n",
       "      <td>Action &amp; Adventure, Anime Features, Children &amp;...</td>\n",
       "      <td>Movie</td>\n",
       "      <td>4</td>\n",
       "    </tr>\n",
       "    <tr>\n",
       "      <th>3</th>\n",
       "      <td>Action &amp; Adventure, Anime Features, Classic Mo...</td>\n",
       "      <td>Movie</td>\n",
       "      <td>2</td>\n",
       "    </tr>\n",
       "    <tr>\n",
       "      <th>4</th>\n",
       "      <td>Action &amp; Adventure, Anime Features, Horror Movies</td>\n",
       "      <td>Movie</td>\n",
       "      <td>1</td>\n",
       "    </tr>\n",
       "    <tr>\n",
       "      <th>...</th>\n",
       "      <td>...</td>\n",
       "      <td>...</td>\n",
       "      <td>...</td>\n",
       "    </tr>\n",
       "    <tr>\n",
       "      <th>508</th>\n",
       "      <td>TV Horror, TV Mysteries, Teen TV Shows</td>\n",
       "      <td>TV Show</td>\n",
       "      <td>1</td>\n",
       "    </tr>\n",
       "    <tr>\n",
       "      <th>509</th>\n",
       "      <td>TV Horror, Teen TV Shows</td>\n",
       "      <td>TV Show</td>\n",
       "      <td>2</td>\n",
       "    </tr>\n",
       "    <tr>\n",
       "      <th>510</th>\n",
       "      <td>TV Sci-Fi &amp; Fantasy, TV Thrillers</td>\n",
       "      <td>TV Show</td>\n",
       "      <td>1</td>\n",
       "    </tr>\n",
       "    <tr>\n",
       "      <th>511</th>\n",
       "      <td>TV Shows</td>\n",
       "      <td>TV Show</td>\n",
       "      <td>16</td>\n",
       "    </tr>\n",
       "    <tr>\n",
       "      <th>512</th>\n",
       "      <td>Thrillers</td>\n",
       "      <td>Movie</td>\n",
       "      <td>65</td>\n",
       "    </tr>\n",
       "  </tbody>\n",
       "</table>\n",
       "<p>513 rows × 3 columns</p>\n",
       "</div>"
      ],
      "text/plain": [
       "                                              category     type  count\n",
       "0                                   Action & Adventure    Movie    128\n",
       "1                   Action & Adventure, Anime Features    Movie      1\n",
       "2    Action & Adventure, Anime Features, Children &...    Movie      4\n",
       "3    Action & Adventure, Anime Features, Classic Mo...    Movie      2\n",
       "4    Action & Adventure, Anime Features, Horror Movies    Movie      1\n",
       "..                                                 ...      ...    ...\n",
       "508             TV Horror, TV Mysteries, Teen TV Shows  TV Show      1\n",
       "509                           TV Horror, Teen TV Shows  TV Show      2\n",
       "510                  TV Sci-Fi & Fantasy, TV Thrillers  TV Show      1\n",
       "511                                           TV Shows  TV Show     16\n",
       "512                                          Thrillers    Movie     65\n",
       "\n",
       "[513 rows x 3 columns]"
      ]
     },
     "execution_count": 41,
     "metadata": {},
     "output_type": "execute_result"
    }
   ],
   "source": [
    "category = df.groupby(['category', 'type'])['category'].value_counts().reset_index()\n",
    "category"
   ]
  },
  {
   "cell_type": "code",
   "execution_count": 42,
   "id": "9720e9ae",
   "metadata": {
    "execution": {
     "iopub.execute_input": "2024-03-16T19:48:54.725392Z",
     "iopub.status.busy": "2024-03-16T19:48:54.724512Z",
     "iopub.status.idle": "2024-03-16T19:48:54.741237Z",
     "shell.execute_reply": "2024-03-16T19:48:54.739904Z"
    },
    "papermill": {
     "duration": 0.057347,
     "end_time": "2024-03-16T19:48:54.744164",
     "exception": false,
     "start_time": "2024-03-16T19:48:54.686817",
     "status": "completed"
    },
    "tags": []
   },
   "outputs": [
    {
     "data": {
      "text/html": [
       "<div>\n",
       "<style scoped>\n",
       "    .dataframe tbody tr th:only-of-type {\n",
       "        vertical-align: middle;\n",
       "    }\n",
       "\n",
       "    .dataframe tbody tr th {\n",
       "        vertical-align: top;\n",
       "    }\n",
       "\n",
       "    .dataframe thead th {\n",
       "        text-align: right;\n",
       "    }\n",
       "</style>\n",
       "<table border=\"1\" class=\"dataframe\">\n",
       "  <thead>\n",
       "    <tr style=\"text-align: right;\">\n",
       "      <th></th>\n",
       "      <th>category</th>\n",
       "      <th>type</th>\n",
       "      <th>count</th>\n",
       "    </tr>\n",
       "  </thead>\n",
       "  <tbody>\n",
       "    <tr>\n",
       "      <th>325</th>\n",
       "      <td>Dramas, International Movies</td>\n",
       "      <td>Movie</td>\n",
       "      <td>362</td>\n",
       "    </tr>\n",
       "    <tr>\n",
       "      <th>273</th>\n",
       "      <td>Documentaries</td>\n",
       "      <td>Movie</td>\n",
       "      <td>359</td>\n",
       "    </tr>\n",
       "    <tr>\n",
       "      <th>469</th>\n",
       "      <td>Stand-Up Comedy</td>\n",
       "      <td>Movie</td>\n",
       "      <td>334</td>\n",
       "    </tr>\n",
       "    <tr>\n",
       "      <th>199</th>\n",
       "      <td>Comedies, Dramas, International Movies</td>\n",
       "      <td>Movie</td>\n",
       "      <td>274</td>\n",
       "    </tr>\n",
       "    <tr>\n",
       "      <th>318</th>\n",
       "      <td>Dramas, Independent Movies, International Movies</td>\n",
       "      <td>Movie</td>\n",
       "      <td>252</td>\n",
       "    </tr>\n",
       "    <tr>\n",
       "      <th>120</th>\n",
       "      <td>Children &amp; Family Movies</td>\n",
       "      <td>Movie</td>\n",
       "      <td>215</td>\n",
       "    </tr>\n",
       "    <tr>\n",
       "      <th>124</th>\n",
       "      <td>Children &amp; Family Movies, Comedies</td>\n",
       "      <td>Movie</td>\n",
       "      <td>201</td>\n",
       "    </tr>\n",
       "    <tr>\n",
       "      <th>280</th>\n",
       "      <td>Documentaries, International Movies</td>\n",
       "      <td>Movie</td>\n",
       "      <td>186</td>\n",
       "    </tr>\n",
       "    <tr>\n",
       "      <th>328</th>\n",
       "      <td>Dramas, International Movies, Romantic Movies</td>\n",
       "      <td>Movie</td>\n",
       "      <td>180</td>\n",
       "    </tr>\n",
       "    <tr>\n",
       "      <th>216</th>\n",
       "      <td>Comedies, International Movies</td>\n",
       "      <td>Movie</td>\n",
       "      <td>176</td>\n",
       "    </tr>\n",
       "  </tbody>\n",
       "</table>\n",
       "</div>"
      ],
      "text/plain": [
       "                                             category   type  count\n",
       "325                      Dramas, International Movies  Movie    362\n",
       "273                                     Documentaries  Movie    359\n",
       "469                                   Stand-Up Comedy  Movie    334\n",
       "199            Comedies, Dramas, International Movies  Movie    274\n",
       "318  Dramas, Independent Movies, International Movies  Movie    252\n",
       "120                          Children & Family Movies  Movie    215\n",
       "124                Children & Family Movies, Comedies  Movie    201\n",
       "280               Documentaries, International Movies  Movie    186\n",
       "328     Dramas, International Movies, Romantic Movies  Movie    180\n",
       "216                    Comedies, International Movies  Movie    176"
      ]
     },
     "execution_count": 42,
     "metadata": {},
     "output_type": "execute_result"
    }
   ],
   "source": [
    "top_10_listed_in_movie = category[category['type'] == 'Movie'].sort_values(by='count', ascending=False).iloc[0:10]\n",
    "top_10_listed_in_movie"
   ]
  },
  {
   "cell_type": "code",
   "execution_count": 43,
   "id": "13f61023",
   "metadata": {
    "execution": {
     "iopub.execute_input": "2024-03-16T19:48:54.820666Z",
     "iopub.status.busy": "2024-03-16T19:48:54.819217Z",
     "iopub.status.idle": "2024-03-16T19:48:55.225930Z",
     "shell.execute_reply": "2024-03-16T19:48:55.224364Z"
    },
    "papermill": {
     "duration": 0.448884,
     "end_time": "2024-03-16T19:48:55.228800",
     "exception": false,
     "start_time": "2024-03-16T19:48:54.779916",
     "status": "completed"
    },
    "tags": []
   },
   "outputs": [
    {
     "data": {
      "image/png": "[encoded data removed]",
      "text/plain": [
       "<Figure size 640x480 with 1 Axes>"
      ]
     },
     "metadata": {},
     "output_type": "display_data"
    }
   ],
   "source": [
    "top_10_listed_in_movie.plot(x='category', y='count', kind='bar')\n",
    "plt.title('Top 10 Listed Genres for Movies')\n",
    "plt.xlabel('Genre')\n",
    "plt.ylabel('Count')\n",
    "plt.xticks(rotation=90)\n",
    "plt.show()"
   ]
  },
  {
   "cell_type": "code",
   "execution_count": 44,
   "id": "605de815",
   "metadata": {
    "execution": {
     "iopub.execute_input": "2024-03-16T19:48:55.299088Z",
     "iopub.status.busy": "2024-03-16T19:48:55.298705Z",
     "iopub.status.idle": "2024-03-16T19:48:55.316120Z",
     "shell.execute_reply": "2024-03-16T19:48:55.314814Z"
    },
    "papermill": {
     "duration": 0.055648,
     "end_time": "2024-03-16T19:48:55.318683",
     "exception": false,
     "start_time": "2024-03-16T19:48:55.263035",
     "status": "completed"
    },
    "tags": []
   },
   "outputs": [
    {
     "data": {
      "text/html": [
       "<div>\n",
       "<style scoped>\n",
       "    .dataframe tbody tr th:only-of-type {\n",
       "        vertical-align: middle;\n",
       "    }\n",
       "\n",
       "    .dataframe tbody tr th {\n",
       "        vertical-align: top;\n",
       "    }\n",
       "\n",
       "    .dataframe thead th {\n",
       "        text-align: right;\n",
       "    }\n",
       "</style>\n",
       "<table border=\"1\" class=\"dataframe\">\n",
       "  <thead>\n",
       "    <tr style=\"text-align: right;\">\n",
       "      <th></th>\n",
       "      <th>category</th>\n",
       "      <th>type</th>\n",
       "      <th>count</th>\n",
       "    </tr>\n",
       "  </thead>\n",
       "  <tbody>\n",
       "    <tr>\n",
       "      <th>421</th>\n",
       "      <td>Kids' TV</td>\n",
       "      <td>TV Show</td>\n",
       "      <td>219</td>\n",
       "    </tr>\n",
       "    <tr>\n",
       "      <th>411</th>\n",
       "      <td>International TV Shows, TV Dramas</td>\n",
       "      <td>TV Show</td>\n",
       "      <td>121</td>\n",
       "    </tr>\n",
       "    <tr>\n",
       "      <th>243</th>\n",
       "      <td>Crime TV Shows, International TV Shows, TV Dramas</td>\n",
       "      <td>TV Show</td>\n",
       "      <td>110</td>\n",
       "    </tr>\n",
       "    <tr>\n",
       "      <th>432</th>\n",
       "      <td>Kids' TV, TV Comedies</td>\n",
       "      <td>TV Show</td>\n",
       "      <td>97</td>\n",
       "    </tr>\n",
       "    <tr>\n",
       "      <th>445</th>\n",
       "      <td>Reality TV</td>\n",
       "      <td>TV Show</td>\n",
       "      <td>95</td>\n",
       "    </tr>\n",
       "    <tr>\n",
       "      <th>392</th>\n",
       "      <td>International TV Shows, Romantic TV Shows, TV ...</td>\n",
       "      <td>TV Show</td>\n",
       "      <td>94</td>\n",
       "    </tr>\n",
       "    <tr>\n",
       "      <th>393</th>\n",
       "      <td>International TV Shows, Romantic TV Shows, TV ...</td>\n",
       "      <td>TV Show</td>\n",
       "      <td>90</td>\n",
       "    </tr>\n",
       "    <tr>\n",
       "      <th>80</th>\n",
       "      <td>Anime Series, International TV Shows</td>\n",
       "      <td>TV Show</td>\n",
       "      <td>87</td>\n",
       "    </tr>\n",
       "    <tr>\n",
       "      <th>290</th>\n",
       "      <td>Docuseries</td>\n",
       "      <td>TV Show</td>\n",
       "      <td>84</td>\n",
       "    </tr>\n",
       "    <tr>\n",
       "      <th>486</th>\n",
       "      <td>TV Comedies</td>\n",
       "      <td>TV Show</td>\n",
       "      <td>68</td>\n",
       "    </tr>\n",
       "  </tbody>\n",
       "</table>\n",
       "</div>"
      ],
      "text/plain": [
       "                                              category     type  count\n",
       "421                                           Kids' TV  TV Show    219\n",
       "411                  International TV Shows, TV Dramas  TV Show    121\n",
       "243  Crime TV Shows, International TV Shows, TV Dramas  TV Show    110\n",
       "432                              Kids' TV, TV Comedies  TV Show     97\n",
       "445                                         Reality TV  TV Show     95\n",
       "392  International TV Shows, Romantic TV Shows, TV ...  TV Show     94\n",
       "393  International TV Shows, Romantic TV Shows, TV ...  TV Show     90\n",
       "80                Anime Series, International TV Shows  TV Show     87\n",
       "290                                         Docuseries  TV Show     84\n",
       "486                                        TV Comedies  TV Show     68"
      ]
     },
     "execution_count": 44,
     "metadata": {},
     "output_type": "execute_result"
    }
   ],
   "source": [
    "top_10_listed_in_TV_Show = category[category['type'] == 'TV Show'].sort_values(by='count', ascending=False).iloc[0:10]\n",
    "top_10_listed_in_TV_Show"
   ]
  },
  {
   "cell_type": "code",
   "execution_count": 45,
   "id": "52c5fa44",
   "metadata": {
    "execution": {
     "iopub.execute_input": "2024-03-16T19:48:55.395075Z",
     "iopub.status.busy": "2024-03-16T19:48:55.393495Z",
     "iopub.status.idle": "2024-03-16T19:48:55.776922Z",
     "shell.execute_reply": "2024-03-16T19:48:55.775506Z"
    },
    "papermill": {
     "duration": 0.425508,
     "end_time": "2024-03-16T19:48:55.780533",
     "exception": false,
     "start_time": "2024-03-16T19:48:55.355025",
     "status": "completed"
    },
    "tags": []
   },
   "outputs": [
    {
     "data": {
      "image/png": "[encoded data removed]",
      "text/plain": [
       "<Figure size 640x480 with 1 Axes>"
      ]
     },
     "metadata": {},
     "output_type": "display_data"
    }
   ],
   "source": [
    "top_10_listed_in_TV_Show.plot(x='category', y='count', kind='bar')\n",
    "plt.title('Top 10 Listed Genres for TV Shows')\n",
    "plt.xlabel('Genre')\n",
    "plt.ylabel('Count')\n",
    "plt.xticks(rotation=90)\n",
    "plt.show()"
   ]
  }
 ],
 "metadata": {
  "kaggle": {
   "accelerator": "none",
   "dataSources": [
    {
     "datasetId": 2437124,
     "sourceId": 4123716,
     "sourceType": "datasetVersion"
    }
   ],
   "dockerImageVersionId": 30664,
   "isGpuEnabled": false,
   "isInternetEnabled": true,
   "language": "python",
   "sourceType": "notebook"
  },
  "kernelspec": {
   "display_name": "Python 3",
   "language": "python",
   "name": "python3"
  },
  "language_info": {
   "codemirror_mode": {
    "name": "ipython",
    "version": 3
   },
   "file_extension": ".py",
   "mimetype": "text/x-python",
   "name": "python",
   "nbconvert_exporter": "python",
   "pygments_lexer": "ipython3",
   "version": "3.10.13"
  },
  "papermill": {
   "default_parameters": {},
   "duration": 17.191952,
   "end_time": "2024-03-16T19:48:56.642848",
   "environment_variables": {},
   "exception": null,
   "input_path": "__notebook__.ipynb",
   "output_path": "__notebook__.ipynb",
   "parameters": {},
   "start_time": "2024-03-16T19:48:39.450896",
   "version": "2.5.0"
  }
 },
 "nbformat": 4,
 "nbformat_minor": 5
}
