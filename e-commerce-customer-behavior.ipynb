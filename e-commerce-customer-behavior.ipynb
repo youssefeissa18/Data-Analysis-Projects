{
 "cells": [
  {
   "cell_type": "markdown",
   "id": "14b66088",
   "metadata": {
    "papermill": {
     "duration": 0.016212,
     "end_time": "2024-03-18T02:53:44.913750",
     "exception": false,
     "start_time": "2024-03-18T02:53:44.897538",
     "status": "completed"
    },
    "tags": []
   },
   "source": [
    "# Importing Needed Libraries¶¶"
   ]
  },
  {
   "cell_type": "code",
   "execution_count": 1,
   "id": "d3b06f65",
   "metadata": {
    "execution": {
     "iopub.execute_input": "2024-03-18T02:53:44.948206Z",
     "iopub.status.busy": "2024-03-18T02:53:44.947360Z",
     "iopub.status.idle": "2024-03-18T02:53:47.206085Z",
     "shell.execute_reply": "2024-03-18T02:53:47.204911Z"
    },
    "papermill": {
     "duration": 2.279781,
     "end_time": "2024-03-18T02:53:47.208935",
     "exception": false,
     "start_time": "2024-03-18T02:53:44.929154",
     "status": "completed"
    },
    "tags": []
   },
   "outputs": [],
   "source": [
    "import numpy as np\n",
    "import pandas as pd\n",
    "import matplotlib.pyplot as plt\n",
    "import seaborn as sns "
   ]
  },
  {
   "cell_type": "markdown",
   "id": "cc84ec35",
   "metadata": {
    "papermill": {
     "duration": 0.014847,
     "end_time": "2024-03-18T02:53:47.239177",
     "exception": false,
     "start_time": "2024-03-18T02:53:47.224330",
     "status": "completed"
    },
    "tags": []
   },
   "source": [
    "# Reading the Dataset¶¶"
   ]
  },
  {
   "cell_type": "code",
   "execution_count": 2,
   "id": "2e652f94",
   "metadata": {
    "execution": {
     "iopub.execute_input": "2024-03-18T02:53:47.272117Z",
     "iopub.status.busy": "2024-03-18T02:53:47.270896Z",
     "iopub.status.idle": "2024-03-18T02:53:47.294026Z",
     "shell.execute_reply": "2024-03-18T02:53:47.293144Z"
    },
    "papermill": {
     "duration": 0.042267,
     "end_time": "2024-03-18T02:53:47.296571",
     "exception": false,
     "start_time": "2024-03-18T02:53:47.254304",
     "status": "completed"
    },
    "tags": []
   },
   "outputs": [],
   "source": [
    "df = pd.read_csv(\"/kaggle/input/e-commerce-customer-behavior-dataset/E-commerce Customer Behavior - Sheet1.csv\")"
   ]
  },
  {
   "cell_type": "markdown",
   "id": "d8a06303",
   "metadata": {
    "papermill": {
     "duration": 0.015658,
     "end_time": "2024-03-18T02:53:47.327662",
     "exception": false,
     "start_time": "2024-03-18T02:53:47.312004",
     "status": "completed"
    },
    "tags": []
   },
   "source": [
    "Overview:\n",
    "This dataset provides a comprehensive view of customer behavior within an e-commerce platform. Each entry in the dataset corresponds to a unique customer, offering a detailed breakdown of their interactions and transactions. The information is crafted to facilitate a nuanced analysis of customer preferences, engagement patterns, and satisfaction levels, aiding businesses in making data-driven decisions to enhance the customer experience.\n",
    "\n",
    "Columns:\n",
    "\n",
    "Customer ID:\n",
    "Type: Numeric\n",
    "Description: A unique identifier assigned to each customer, ensuring distinction across the dataset.\n",
    "\n",
    "Gender:\n",
    "Type: Categorical (Male, Female)\n",
    "Description: Specifies the gender of the customer, allowing for gender-based analytics.\n",
    "Age:\n",
    "\n",
    "Type: Numeric\n",
    "Description: Represents the age of the customer, enabling age-group-specific insights.\n",
    "City:\n",
    "\n",
    "Type: Categorical (City names)\n",
    "Description: Indicates the city of residence for each customer, providing geographic insights.\n",
    "\n",
    "Membership Type:\n",
    "Type: Categorical (Gold, Silver, Bronze)\n",
    "Description: Identifies the type of membership held by the customer, influencing perks and benefits.\n",
    "\n",
    "Total Spend:\n",
    "Type: Numeric\n",
    "Description: Records the total monetary expenditure by the customer on the e-commerce platform.\n",
    "\n",
    "Items Purchased:\n",
    "Type: Numeric\n",
    "Description: Quantifies the total number of items purchased by the customer.\n",
    "\n",
    "Average Rating:\n",
    "Type: Numeric (0 to 5, with decimals)\n",
    "Description: Represents the average rating given by the customer for purchased items, gauging satisfaction.\n",
    "\n",
    "Discount Applied:\n",
    "Type: Boolean (True, False)\n",
    "Description: Indicates whether a discount was applied to the customer's purchase, influencing buying behavior.\n",
    "\n",
    "Days Since Last Purchase:\n",
    "Type: Numeric\n",
    "Description: Reflects the number of days elapsed since the customer's most recent purchase, aiding in retention analysis.\n",
    "\n",
    "Satisfaction Level:\n",
    "Type: Categorical (Satisfied, Neutral, Unsatisfied)\n",
    "Description: Captures the overall satisfaction level of the customer, providing a subjective measure of their experience.\n",
    "\n",
    "Use Cases:\n",
    "Customer Segmentation:\n",
    "Analyze and categorize customers based on demographics, spending habits, and satisfaction levels.\n",
    "\n",
    "Satisfaction Analysis:\n",
    "Investigate factors influencing customer satisfaction and identify areas for improvement.\n",
    "\n",
    "Promotion Strategy:\n",
    "Assess the impact of discounts on customer spending and tailor promotional strategies accordingly.\n",
    "\n",
    "Retention Strategies:\n",
    "Develop targeted retention strategies by understanding the time gap since the last purchase.\n",
    "\n",
    "City-based Insights:\n",
    "Explore regional variations in customer behavior to optimize marketing efforts based on location-specific trends.\n",
    "\n",
    "\n",
    "Note: This dataset is synthetically generated for illustrative purposes, and any resemblance to real individuals or scenarios is coincidental."
   ]
  },
  {
   "cell_type": "markdown",
   "id": "9834f118",
   "metadata": {
    "papermill": {
     "duration": 0.01471,
     "end_time": "2024-03-18T02:53:47.357470",
     "exception": false,
     "start_time": "2024-03-18T02:53:47.342760",
     "status": "completed"
    },
    "tags": []
   },
   "source": [
    "# Exploring the Data¶¶"
   ]
  },
  {
   "cell_type": "code",
   "execution_count": 3,
   "id": "f97fab15",
   "metadata": {
    "execution": {
     "iopub.execute_input": "2024-03-18T02:53:47.390050Z",
     "iopub.status.busy": "2024-03-18T02:53:47.389222Z",
     "iopub.status.idle": "2024-03-18T02:53:47.397877Z",
     "shell.execute_reply": "2024-03-18T02:53:47.396599Z"
    },
    "papermill": {
     "duration": 0.027725,
     "end_time": "2024-03-18T02:53:47.400267",
     "exception": false,
     "start_time": "2024-03-18T02:53:47.372542",
     "status": "completed"
    },
    "tags": []
   },
   "outputs": [
    {
     "data": {
      "text/plain": [
       "(350, 11)"
      ]
     },
     "execution_count": 3,
     "metadata": {},
     "output_type": "execute_result"
    }
   ],
   "source": [
    "df.shape"
   ]
  },
  {
   "cell_type": "code",
   "execution_count": 4,
   "id": "ca163a70",
   "metadata": {
    "execution": {
     "iopub.execute_input": "2024-03-18T02:53:47.434308Z",
     "iopub.status.busy": "2024-03-18T02:53:47.433535Z",
     "iopub.status.idle": "2024-03-18T02:53:47.456027Z",
     "shell.execute_reply": "2024-03-18T02:53:47.454899Z"
    },
    "papermill": {
     "duration": 0.042233,
     "end_time": "2024-03-18T02:53:47.458310",
     "exception": false,
     "start_time": "2024-03-18T02:53:47.416077",
     "status": "completed"
    },
    "tags": []
   },
   "outputs": [
    {
     "data": {
      "text/html": [
       "<div>\n",
       "<style scoped>\n",
       "    .dataframe tbody tr th:only-of-type {\n",
       "        vertical-align: middle;\n",
       "    }\n",
       "\n",
       "    .dataframe tbody tr th {\n",
       "        vertical-align: top;\n",
       "    }\n",
       "\n",
       "    .dataframe thead th {\n",
       "        text-align: right;\n",
       "    }\n",
       "</style>\n",
       "<table border=\"1\" class=\"dataframe\">\n",
       "  <thead>\n",
       "    <tr style=\"text-align: right;\">\n",
       "      <th></th>\n",
       "      <th>Customer ID</th>\n",
       "      <th>Gender</th>\n",
       "      <th>Age</th>\n",
       "      <th>City</th>\n",
       "      <th>Membership Type</th>\n",
       "      <th>Total Spend</th>\n",
       "      <th>Items Purchased</th>\n",
       "      <th>Average Rating</th>\n",
       "      <th>Discount Applied</th>\n",
       "      <th>Days Since Last Purchase</th>\n",
       "      <th>Satisfaction Level</th>\n",
       "    </tr>\n",
       "  </thead>\n",
       "  <tbody>\n",
       "    <tr>\n",
       "      <th>0</th>\n",
       "      <td>101</td>\n",
       "      <td>Female</td>\n",
       "      <td>29</td>\n",
       "      <td>New York</td>\n",
       "      <td>Gold</td>\n",
       "      <td>1120.20</td>\n",
       "      <td>14</td>\n",
       "      <td>4.6</td>\n",
       "      <td>True</td>\n",
       "      <td>25</td>\n",
       "      <td>Satisfied</td>\n",
       "    </tr>\n",
       "    <tr>\n",
       "      <th>1</th>\n",
       "      <td>102</td>\n",
       "      <td>Male</td>\n",
       "      <td>34</td>\n",
       "      <td>Los Angeles</td>\n",
       "      <td>Silver</td>\n",
       "      <td>780.50</td>\n",
       "      <td>11</td>\n",
       "      <td>4.1</td>\n",
       "      <td>False</td>\n",
       "      <td>18</td>\n",
       "      <td>Neutral</td>\n",
       "    </tr>\n",
       "    <tr>\n",
       "      <th>2</th>\n",
       "      <td>103</td>\n",
       "      <td>Female</td>\n",
       "      <td>43</td>\n",
       "      <td>Chicago</td>\n",
       "      <td>Bronze</td>\n",
       "      <td>510.75</td>\n",
       "      <td>9</td>\n",
       "      <td>3.4</td>\n",
       "      <td>True</td>\n",
       "      <td>42</td>\n",
       "      <td>Unsatisfied</td>\n",
       "    </tr>\n",
       "    <tr>\n",
       "      <th>3</th>\n",
       "      <td>104</td>\n",
       "      <td>Male</td>\n",
       "      <td>30</td>\n",
       "      <td>San Francisco</td>\n",
       "      <td>Gold</td>\n",
       "      <td>1480.30</td>\n",
       "      <td>19</td>\n",
       "      <td>4.7</td>\n",
       "      <td>False</td>\n",
       "      <td>12</td>\n",
       "      <td>Satisfied</td>\n",
       "    </tr>\n",
       "    <tr>\n",
       "      <th>4</th>\n",
       "      <td>105</td>\n",
       "      <td>Male</td>\n",
       "      <td>27</td>\n",
       "      <td>Miami</td>\n",
       "      <td>Silver</td>\n",
       "      <td>720.40</td>\n",
       "      <td>13</td>\n",
       "      <td>4.0</td>\n",
       "      <td>True</td>\n",
       "      <td>55</td>\n",
       "      <td>Unsatisfied</td>\n",
       "    </tr>\n",
       "  </tbody>\n",
       "</table>\n",
       "</div>"
      ],
      "text/plain": [
       "   Customer ID  Gender  Age           City Membership Type  Total Spend  \\\n",
       "0          101  Female   29       New York            Gold      1120.20   \n",
       "1          102    Male   34    Los Angeles          Silver       780.50   \n",
       "2          103  Female   43        Chicago          Bronze       510.75   \n",
       "3          104    Male   30  San Francisco            Gold      1480.30   \n",
       "4          105    Male   27          Miami          Silver       720.40   \n",
       "\n",
       "   Items Purchased  Average Rating  Discount Applied  \\\n",
       "0               14             4.6              True   \n",
       "1               11             4.1             False   \n",
       "2                9             3.4              True   \n",
       "3               19             4.7             False   \n",
       "4               13             4.0              True   \n",
       "\n",
       "   Days Since Last Purchase Satisfaction Level  \n",
       "0                        25          Satisfied  \n",
       "1                        18            Neutral  \n",
       "2                        42        Unsatisfied  \n",
       "3                        12          Satisfied  \n",
       "4                        55        Unsatisfied  "
      ]
     },
     "execution_count": 4,
     "metadata": {},
     "output_type": "execute_result"
    }
   ],
   "source": [
    "df.head()"
   ]
  },
  {
   "cell_type": "code",
   "execution_count": 5,
   "id": "64a61da2",
   "metadata": {
    "execution": {
     "iopub.execute_input": "2024-03-18T02:53:47.492292Z",
     "iopub.status.busy": "2024-03-18T02:53:47.491475Z",
     "iopub.status.idle": "2024-03-18T02:53:47.506939Z",
     "shell.execute_reply": "2024-03-18T02:53:47.505826Z"
    },
    "papermill": {
     "duration": 0.034823,
     "end_time": "2024-03-18T02:53:47.509220",
     "exception": false,
     "start_time": "2024-03-18T02:53:47.474397",
     "status": "completed"
    },
    "tags": []
   },
   "outputs": [
    {
     "data": {
      "text/html": [
       "<div>\n",
       "<style scoped>\n",
       "    .dataframe tbody tr th:only-of-type {\n",
       "        vertical-align: middle;\n",
       "    }\n",
       "\n",
       "    .dataframe tbody tr th {\n",
       "        vertical-align: top;\n",
       "    }\n",
       "\n",
       "    .dataframe thead th {\n",
       "        text-align: right;\n",
       "    }\n",
       "</style>\n",
       "<table border=\"1\" class=\"dataframe\">\n",
       "  <thead>\n",
       "    <tr style=\"text-align: right;\">\n",
       "      <th></th>\n",
       "      <th>Customer ID</th>\n",
       "      <th>Gender</th>\n",
       "      <th>Age</th>\n",
       "      <th>City</th>\n",
       "      <th>Membership Type</th>\n",
       "      <th>Total Spend</th>\n",
       "      <th>Items Purchased</th>\n",
       "      <th>Average Rating</th>\n",
       "      <th>Discount Applied</th>\n",
       "      <th>Days Since Last Purchase</th>\n",
       "      <th>Satisfaction Level</th>\n",
       "    </tr>\n",
       "  </thead>\n",
       "  <tbody>\n",
       "    <tr>\n",
       "      <th>345</th>\n",
       "      <td>446</td>\n",
       "      <td>Male</td>\n",
       "      <td>32</td>\n",
       "      <td>Miami</td>\n",
       "      <td>Silver</td>\n",
       "      <td>660.30</td>\n",
       "      <td>10</td>\n",
       "      <td>3.8</td>\n",
       "      <td>True</td>\n",
       "      <td>42</td>\n",
       "      <td>Unsatisfied</td>\n",
       "    </tr>\n",
       "    <tr>\n",
       "      <th>346</th>\n",
       "      <td>447</td>\n",
       "      <td>Female</td>\n",
       "      <td>36</td>\n",
       "      <td>Houston</td>\n",
       "      <td>Bronze</td>\n",
       "      <td>470.50</td>\n",
       "      <td>8</td>\n",
       "      <td>3.0</td>\n",
       "      <td>False</td>\n",
       "      <td>27</td>\n",
       "      <td>Neutral</td>\n",
       "    </tr>\n",
       "    <tr>\n",
       "      <th>347</th>\n",
       "      <td>448</td>\n",
       "      <td>Female</td>\n",
       "      <td>30</td>\n",
       "      <td>New York</td>\n",
       "      <td>Gold</td>\n",
       "      <td>1190.80</td>\n",
       "      <td>16</td>\n",
       "      <td>4.5</td>\n",
       "      <td>True</td>\n",
       "      <td>28</td>\n",
       "      <td>Satisfied</td>\n",
       "    </tr>\n",
       "    <tr>\n",
       "      <th>348</th>\n",
       "      <td>449</td>\n",
       "      <td>Male</td>\n",
       "      <td>34</td>\n",
       "      <td>Los Angeles</td>\n",
       "      <td>Silver</td>\n",
       "      <td>780.20</td>\n",
       "      <td>11</td>\n",
       "      <td>4.2</td>\n",
       "      <td>False</td>\n",
       "      <td>21</td>\n",
       "      <td>Neutral</td>\n",
       "    </tr>\n",
       "    <tr>\n",
       "      <th>349</th>\n",
       "      <td>450</td>\n",
       "      <td>Female</td>\n",
       "      <td>43</td>\n",
       "      <td>Chicago</td>\n",
       "      <td>Bronze</td>\n",
       "      <td>515.75</td>\n",
       "      <td>10</td>\n",
       "      <td>3.3</td>\n",
       "      <td>True</td>\n",
       "      <td>49</td>\n",
       "      <td>Unsatisfied</td>\n",
       "    </tr>\n",
       "  </tbody>\n",
       "</table>\n",
       "</div>"
      ],
      "text/plain": [
       "     Customer ID  Gender  Age         City Membership Type  Total Spend  \\\n",
       "345          446    Male   32        Miami          Silver       660.30   \n",
       "346          447  Female   36      Houston          Bronze       470.50   \n",
       "347          448  Female   30     New York            Gold      1190.80   \n",
       "348          449    Male   34  Los Angeles          Silver       780.20   \n",
       "349          450  Female   43      Chicago          Bronze       515.75   \n",
       "\n",
       "     Items Purchased  Average Rating  Discount Applied  \\\n",
       "345               10             3.8              True   \n",
       "346                8             3.0             False   \n",
       "347               16             4.5              True   \n",
       "348               11             4.2             False   \n",
       "349               10             3.3              True   \n",
       "\n",
       "     Days Since Last Purchase Satisfaction Level  \n",
       "345                        42        Unsatisfied  \n",
       "346                        27            Neutral  \n",
       "347                        28          Satisfied  \n",
       "348                        21            Neutral  \n",
       "349                        49        Unsatisfied  "
      ]
     },
     "execution_count": 5,
     "metadata": {},
     "output_type": "execute_result"
    }
   ],
   "source": [
    "df.tail()"
   ]
  },
  {
   "cell_type": "code",
   "execution_count": 6,
   "id": "5f8bc4a4",
   "metadata": {
    "execution": {
     "iopub.execute_input": "2024-03-18T02:53:47.543830Z",
     "iopub.status.busy": "2024-03-18T02:53:47.543001Z",
     "iopub.status.idle": "2024-03-18T02:53:47.571046Z",
     "shell.execute_reply": "2024-03-18T02:53:47.569252Z"
    },
    "papermill": {
     "duration": 0.04795,
     "end_time": "2024-03-18T02:53:47.573410",
     "exception": false,
     "start_time": "2024-03-18T02:53:47.525460",
     "status": "completed"
    },
    "tags": []
   },
   "outputs": [
    {
     "name": "stdout",
     "output_type": "stream",
     "text": [
      "<class 'pandas.core.frame.DataFrame'>\n",
      "RangeIndex: 350 entries, 0 to 349\n",
      "Data columns (total 11 columns):\n",
      " #   Column                    Non-Null Count  Dtype  \n",
      "---  ------                    --------------  -----  \n",
      " 0   Customer ID               350 non-null    int64  \n",
      " 1   Gender                    350 non-null    object \n",
      " 2   Age                       350 non-null    int64  \n",
      " 3   City                      350 non-null    object \n",
      " 4   Membership Type           350 non-null    object \n",
      " 5   Total Spend               350 non-null    float64\n",
      " 6   Items Purchased           350 non-null    int64  \n",
      " 7   Average Rating            350 non-null    float64\n",
      " 8   Discount Applied          350 non-null    bool   \n",
      " 9   Days Since Last Purchase  350 non-null    int64  \n",
      " 10  Satisfaction Level        348 non-null    object \n",
      "dtypes: bool(1), float64(2), int64(4), object(4)\n",
      "memory usage: 27.8+ KB\n"
     ]
    }
   ],
   "source": [
    "df.info()"
   ]
  },
  {
   "cell_type": "markdown",
   "id": "a1895300",
   "metadata": {
    "papermill": {
     "duration": 0.015418,
     "end_time": "2024-03-18T02:53:47.604773",
     "exception": false,
     "start_time": "2024-03-18T02:53:47.589355",
     "status": "completed"
    },
    "tags": []
   },
   "source": [
    "**There are no null value except in column Satisfaction Level has 2**"
   ]
  },
  {
   "cell_type": "code",
   "execution_count": 7,
   "id": "52204d46",
   "metadata": {
    "execution": {
     "iopub.execute_input": "2024-03-18T02:53:47.638870Z",
     "iopub.status.busy": "2024-03-18T02:53:47.637838Z",
     "iopub.status.idle": "2024-03-18T02:53:47.647075Z",
     "shell.execute_reply": "2024-03-18T02:53:47.646009Z"
    },
    "papermill": {
     "duration": 0.028684,
     "end_time": "2024-03-18T02:53:47.649318",
     "exception": false,
     "start_time": "2024-03-18T02:53:47.620634",
     "status": "completed"
    },
    "tags": []
   },
   "outputs": [
    {
     "data": {
      "text/plain": [
       "Customer ID                 0\n",
       "Gender                      0\n",
       "Age                         0\n",
       "City                        0\n",
       "Membership Type             0\n",
       "Total Spend                 0\n",
       "Items Purchased             0\n",
       "Average Rating              0\n",
       "Discount Applied            0\n",
       "Days Since Last Purchase    0\n",
       "Satisfaction Level          2\n",
       "dtype: int64"
      ]
     },
     "execution_count": 7,
     "metadata": {},
     "output_type": "execute_result"
    }
   ],
   "source": [
    "df.isnull().sum()"
   ]
  },
  {
   "cell_type": "code",
   "execution_count": 8,
   "id": "84244dec",
   "metadata": {
    "execution": {
     "iopub.execute_input": "2024-03-18T02:53:47.684034Z",
     "iopub.status.busy": "2024-03-18T02:53:47.683643Z",
     "iopub.status.idle": "2024-03-18T02:53:47.692516Z",
     "shell.execute_reply": "2024-03-18T02:53:47.691569Z"
    },
    "papermill": {
     "duration": 0.02849,
     "end_time": "2024-03-18T02:53:47.694401",
     "exception": false,
     "start_time": "2024-03-18T02:53:47.665911",
     "status": "completed"
    },
    "tags": []
   },
   "outputs": [
    {
     "data": {
      "text/plain": [
       "0"
      ]
     },
     "execution_count": 8,
     "metadata": {},
     "output_type": "execute_result"
    }
   ],
   "source": [
    "df.duplicated().sum()"
   ]
  },
  {
   "cell_type": "markdown",
   "id": "1a597f72",
   "metadata": {
    "papermill": {
     "duration": 0.015751,
     "end_time": "2024-03-18T02:53:47.726774",
     "exception": false,
     "start_time": "2024-03-18T02:53:47.711023",
     "status": "completed"
    },
    "tags": []
   },
   "source": [
    "**There are no Duplicated Value**"
   ]
  },
  {
   "cell_type": "code",
   "execution_count": 9,
   "id": "102b42b8",
   "metadata": {
    "execution": {
     "iopub.execute_input": "2024-03-18T02:53:47.761472Z",
     "iopub.status.busy": "2024-03-18T02:53:47.761006Z",
     "iopub.status.idle": "2024-03-18T02:53:47.790223Z",
     "shell.execute_reply": "2024-03-18T02:53:47.789048Z"
    },
    "papermill": {
     "duration": 0.049866,
     "end_time": "2024-03-18T02:53:47.792687",
     "exception": false,
     "start_time": "2024-03-18T02:53:47.742821",
     "status": "completed"
    },
    "tags": []
   },
   "outputs": [
    {
     "data": {
      "text/html": [
       "<div>\n",
       "<style scoped>\n",
       "    .dataframe tbody tr th:only-of-type {\n",
       "        vertical-align: middle;\n",
       "    }\n",
       "\n",
       "    .dataframe tbody tr th {\n",
       "        vertical-align: top;\n",
       "    }\n",
       "\n",
       "    .dataframe thead th {\n",
       "        text-align: right;\n",
       "    }\n",
       "</style>\n",
       "<table border=\"1\" class=\"dataframe\">\n",
       "  <thead>\n",
       "    <tr style=\"text-align: right;\">\n",
       "      <th></th>\n",
       "      <th>Customer ID</th>\n",
       "      <th>Age</th>\n",
       "      <th>Total Spend</th>\n",
       "      <th>Items Purchased</th>\n",
       "      <th>Average Rating</th>\n",
       "      <th>Days Since Last Purchase</th>\n",
       "    </tr>\n",
       "  </thead>\n",
       "  <tbody>\n",
       "    <tr>\n",
       "      <th>count</th>\n",
       "      <td>350.000000</td>\n",
       "      <td>350.000000</td>\n",
       "      <td>350.000000</td>\n",
       "      <td>350.000000</td>\n",
       "      <td>350.000000</td>\n",
       "      <td>350.000000</td>\n",
       "    </tr>\n",
       "    <tr>\n",
       "      <th>mean</th>\n",
       "      <td>275.500000</td>\n",
       "      <td>33.597143</td>\n",
       "      <td>845.381714</td>\n",
       "      <td>12.600000</td>\n",
       "      <td>4.019143</td>\n",
       "      <td>26.588571</td>\n",
       "    </tr>\n",
       "    <tr>\n",
       "      <th>std</th>\n",
       "      <td>101.180532</td>\n",
       "      <td>4.870882</td>\n",
       "      <td>362.058695</td>\n",
       "      <td>4.155984</td>\n",
       "      <td>0.580539</td>\n",
       "      <td>13.440813</td>\n",
       "    </tr>\n",
       "    <tr>\n",
       "      <th>min</th>\n",
       "      <td>101.000000</td>\n",
       "      <td>26.000000</td>\n",
       "      <td>410.800000</td>\n",
       "      <td>7.000000</td>\n",
       "      <td>3.000000</td>\n",
       "      <td>9.000000</td>\n",
       "    </tr>\n",
       "    <tr>\n",
       "      <th>25%</th>\n",
       "      <td>188.250000</td>\n",
       "      <td>30.000000</td>\n",
       "      <td>502.000000</td>\n",
       "      <td>9.000000</td>\n",
       "      <td>3.500000</td>\n",
       "      <td>15.000000</td>\n",
       "    </tr>\n",
       "    <tr>\n",
       "      <th>50%</th>\n",
       "      <td>275.500000</td>\n",
       "      <td>32.500000</td>\n",
       "      <td>775.200000</td>\n",
       "      <td>12.000000</td>\n",
       "      <td>4.100000</td>\n",
       "      <td>23.000000</td>\n",
       "    </tr>\n",
       "    <tr>\n",
       "      <th>75%</th>\n",
       "      <td>362.750000</td>\n",
       "      <td>37.000000</td>\n",
       "      <td>1160.600000</td>\n",
       "      <td>15.000000</td>\n",
       "      <td>4.500000</td>\n",
       "      <td>38.000000</td>\n",
       "    </tr>\n",
       "    <tr>\n",
       "      <th>max</th>\n",
       "      <td>450.000000</td>\n",
       "      <td>43.000000</td>\n",
       "      <td>1520.100000</td>\n",
       "      <td>21.000000</td>\n",
       "      <td>4.900000</td>\n",
       "      <td>63.000000</td>\n",
       "    </tr>\n",
       "  </tbody>\n",
       "</table>\n",
       "</div>"
      ],
      "text/plain": [
       "       Customer ID         Age  Total Spend  Items Purchased  Average Rating  \\\n",
       "count   350.000000  350.000000   350.000000       350.000000      350.000000   \n",
       "mean    275.500000   33.597143   845.381714        12.600000        4.019143   \n",
       "std     101.180532    4.870882   362.058695         4.155984        0.580539   \n",
       "min     101.000000   26.000000   410.800000         7.000000        3.000000   \n",
       "25%     188.250000   30.000000   502.000000         9.000000        3.500000   \n",
       "50%     275.500000   32.500000   775.200000        12.000000        4.100000   \n",
       "75%     362.750000   37.000000  1160.600000        15.000000        4.500000   \n",
       "max     450.000000   43.000000  1520.100000        21.000000        4.900000   \n",
       "\n",
       "       Days Since Last Purchase  \n",
       "count                350.000000  \n",
       "mean                  26.588571  \n",
       "std                   13.440813  \n",
       "min                    9.000000  \n",
       "25%                   15.000000  \n",
       "50%                   23.000000  \n",
       "75%                   38.000000  \n",
       "max                   63.000000  "
      ]
     },
     "execution_count": 9,
     "metadata": {},
     "output_type": "execute_result"
    }
   ],
   "source": [
    "df.describe()"
   ]
  },
  {
   "cell_type": "markdown",
   "id": "ffb5eee7",
   "metadata": {
    "papermill": {
     "duration": 0.016108,
     "end_time": "2024-03-18T02:53:47.825863",
     "exception": false,
     "start_time": "2024-03-18T02:53:47.809755",
     "status": "completed"
    },
    "tags": []
   },
   "source": [
    "**when discribe the data we found not outlier in Age and Average Rating\tin min , max and mean**"
   ]
  },
  {
   "cell_type": "markdown",
   "id": "71280c32",
   "metadata": {
    "papermill": {
     "duration": 0.016114,
     "end_time": "2024-03-18T02:53:47.858858",
     "exception": false,
     "start_time": "2024-03-18T02:53:47.842744",
     "status": "completed"
    },
    "tags": []
   },
   "source": [
    "# Cleaning the Data"
   ]
  },
  {
   "cell_type": "code",
   "execution_count": 10,
   "id": "3921e33b",
   "metadata": {
    "execution": {
     "iopub.execute_input": "2024-03-18T02:53:47.893505Z",
     "iopub.status.busy": "2024-03-18T02:53:47.893084Z",
     "iopub.status.idle": "2024-03-18T02:53:47.900965Z",
     "shell.execute_reply": "2024-03-18T02:53:47.899796Z"
    },
    "papermill": {
     "duration": 0.027942,
     "end_time": "2024-03-18T02:53:47.903305",
     "exception": false,
     "start_time": "2024-03-18T02:53:47.875363",
     "status": "completed"
    },
    "tags": []
   },
   "outputs": [],
   "source": [
    "df.dropna(inplace=True)"
   ]
  },
  {
   "cell_type": "markdown",
   "id": "e1956982",
   "metadata": {
    "papermill": {
     "duration": 0.083494,
     "end_time": "2024-03-18T02:53:48.003377",
     "exception": false,
     "start_time": "2024-03-18T02:53:47.919883",
     "status": "completed"
    },
    "tags": []
   },
   "source": [
    "**drop the 2 null value in Satisfaction Level**"
   ]
  },
  {
   "cell_type": "code",
   "execution_count": 11,
   "id": "7c685fcd",
   "metadata": {
    "execution": {
     "iopub.execute_input": "2024-03-18T02:53:48.038791Z",
     "iopub.status.busy": "2024-03-18T02:53:48.038374Z",
     "iopub.status.idle": "2024-03-18T02:53:48.050000Z",
     "shell.execute_reply": "2024-03-18T02:53:48.048803Z"
    },
    "papermill": {
     "duration": 0.032454,
     "end_time": "2024-03-18T02:53:48.052627",
     "exception": false,
     "start_time": "2024-03-18T02:53:48.020173",
     "status": "completed"
    },
    "tags": []
   },
   "outputs": [
    {
     "name": "stdout",
     "output_type": "stream",
     "text": [
      "<class 'pandas.core.frame.DataFrame'>\n",
      "Index: 348 entries, 0 to 349\n",
      "Data columns (total 11 columns):\n",
      " #   Column                    Non-Null Count  Dtype  \n",
      "---  ------                    --------------  -----  \n",
      " 0   Customer ID               348 non-null    int64  \n",
      " 1   Gender                    348 non-null    object \n",
      " 2   Age                       348 non-null    int64  \n",
      " 3   City                      348 non-null    object \n",
      " 4   Membership Type           348 non-null    object \n",
      " 5   Total Spend               348 non-null    float64\n",
      " 6   Items Purchased           348 non-null    int64  \n",
      " 7   Average Rating            348 non-null    float64\n",
      " 8   Discount Applied          348 non-null    bool   \n",
      " 9   Days Since Last Purchase  348 non-null    int64  \n",
      " 10  Satisfaction Level        348 non-null    object \n",
      "dtypes: bool(1), float64(2), int64(4), object(4)\n",
      "memory usage: 30.2+ KB\n"
     ]
    }
   ],
   "source": [
    "df.info()"
   ]
  },
  {
   "cell_type": "markdown",
   "id": "638c646f",
   "metadata": {
    "papermill": {
     "duration": 0.016746,
     "end_time": "2024-03-18T02:53:48.086168",
     "exception": false,
     "start_time": "2024-03-18T02:53:48.069422",
     "status": "completed"
    },
    "tags": []
   },
   "source": [
    "# Analysis and Visualization"
   ]
  },
  {
   "cell_type": "code",
   "execution_count": 12,
   "id": "033d3bec",
   "metadata": {
    "execution": {
     "iopub.execute_input": "2024-03-18T02:53:48.122965Z",
     "iopub.status.busy": "2024-03-18T02:53:48.122564Z",
     "iopub.status.idle": "2024-03-18T02:53:48.137880Z",
     "shell.execute_reply": "2024-03-18T02:53:48.136808Z"
    },
    "papermill": {
     "duration": 0.036172,
     "end_time": "2024-03-18T02:53:48.140022",
     "exception": false,
     "start_time": "2024-03-18T02:53:48.103850",
     "status": "completed"
    },
    "tags": []
   },
   "outputs": [
    {
     "data": {
      "text/html": [
       "<div>\n",
       "<style scoped>\n",
       "    .dataframe tbody tr th:only-of-type {\n",
       "        vertical-align: middle;\n",
       "    }\n",
       "\n",
       "    .dataframe tbody tr th {\n",
       "        vertical-align: top;\n",
       "    }\n",
       "\n",
       "    .dataframe thead th {\n",
       "        text-align: right;\n",
       "    }\n",
       "</style>\n",
       "<table border=\"1\" class=\"dataframe\">\n",
       "  <thead>\n",
       "    <tr style=\"text-align: right;\">\n",
       "      <th></th>\n",
       "      <th>Customer ID</th>\n",
       "      <th>Gender</th>\n",
       "      <th>Age</th>\n",
       "      <th>City</th>\n",
       "      <th>Membership Type</th>\n",
       "      <th>Total Spend</th>\n",
       "      <th>Items Purchased</th>\n",
       "      <th>Average Rating</th>\n",
       "      <th>Discount Applied</th>\n",
       "      <th>Days Since Last Purchase</th>\n",
       "      <th>Satisfaction Level</th>\n",
       "    </tr>\n",
       "  </thead>\n",
       "  <tbody>\n",
       "    <tr>\n",
       "      <th>0</th>\n",
       "      <td>101</td>\n",
       "      <td>Female</td>\n",
       "      <td>29</td>\n",
       "      <td>New York</td>\n",
       "      <td>Gold</td>\n",
       "      <td>1120.20</td>\n",
       "      <td>14</td>\n",
       "      <td>4.6</td>\n",
       "      <td>True</td>\n",
       "      <td>25</td>\n",
       "      <td>Satisfied</td>\n",
       "    </tr>\n",
       "    <tr>\n",
       "      <th>1</th>\n",
       "      <td>102</td>\n",
       "      <td>Male</td>\n",
       "      <td>34</td>\n",
       "      <td>Los Angeles</td>\n",
       "      <td>Silver</td>\n",
       "      <td>780.50</td>\n",
       "      <td>11</td>\n",
       "      <td>4.1</td>\n",
       "      <td>False</td>\n",
       "      <td>18</td>\n",
       "      <td>Neutral</td>\n",
       "    </tr>\n",
       "    <tr>\n",
       "      <th>2</th>\n",
       "      <td>103</td>\n",
       "      <td>Female</td>\n",
       "      <td>43</td>\n",
       "      <td>Chicago</td>\n",
       "      <td>Bronze</td>\n",
       "      <td>510.75</td>\n",
       "      <td>9</td>\n",
       "      <td>3.4</td>\n",
       "      <td>True</td>\n",
       "      <td>42</td>\n",
       "      <td>Unsatisfied</td>\n",
       "    </tr>\n",
       "    <tr>\n",
       "      <th>3</th>\n",
       "      <td>104</td>\n",
       "      <td>Male</td>\n",
       "      <td>30</td>\n",
       "      <td>San Francisco</td>\n",
       "      <td>Gold</td>\n",
       "      <td>1480.30</td>\n",
       "      <td>19</td>\n",
       "      <td>4.7</td>\n",
       "      <td>False</td>\n",
       "      <td>12</td>\n",
       "      <td>Satisfied</td>\n",
       "    </tr>\n",
       "    <tr>\n",
       "      <th>4</th>\n",
       "      <td>105</td>\n",
       "      <td>Male</td>\n",
       "      <td>27</td>\n",
       "      <td>Miami</td>\n",
       "      <td>Silver</td>\n",
       "      <td>720.40</td>\n",
       "      <td>13</td>\n",
       "      <td>4.0</td>\n",
       "      <td>True</td>\n",
       "      <td>55</td>\n",
       "      <td>Unsatisfied</td>\n",
       "    </tr>\n",
       "  </tbody>\n",
       "</table>\n",
       "</div>"
      ],
      "text/plain": [
       "   Customer ID  Gender  Age           City Membership Type  Total Spend  \\\n",
       "0          101  Female   29       New York            Gold      1120.20   \n",
       "1          102    Male   34    Los Angeles          Silver       780.50   \n",
       "2          103  Female   43        Chicago          Bronze       510.75   \n",
       "3          104    Male   30  San Francisco            Gold      1480.30   \n",
       "4          105    Male   27          Miami          Silver       720.40   \n",
       "\n",
       "   Items Purchased  Average Rating  Discount Applied  \\\n",
       "0               14             4.6              True   \n",
       "1               11             4.1             False   \n",
       "2                9             3.4              True   \n",
       "3               19             4.7             False   \n",
       "4               13             4.0              True   \n",
       "\n",
       "   Days Since Last Purchase Satisfaction Level  \n",
       "0                        25          Satisfied  \n",
       "1                        18            Neutral  \n",
       "2                        42        Unsatisfied  \n",
       "3                        12          Satisfied  \n",
       "4                        55        Unsatisfied  "
      ]
     },
     "execution_count": 12,
     "metadata": {},
     "output_type": "execute_result"
    }
   ],
   "source": [
    "df.head()"
   ]
  },
  {
   "cell_type": "markdown",
   "id": "fef1422b",
   "metadata": {
    "papermill": {
     "duration": 0.016497,
     "end_time": "2024-03-18T02:53:48.173376",
     "exception": false,
     "start_time": "2024-03-18T02:53:48.156879",
     "status": "completed"
    },
    "tags": []
   },
   "source": [
    "<h2>Gender<h2>"
   ]
  },
  {
   "cell_type": "code",
   "execution_count": 13,
   "id": "75cffa7f",
   "metadata": {
    "execution": {
     "iopub.execute_input": "2024-03-18T02:53:48.209883Z",
     "iopub.status.busy": "2024-03-18T02:53:48.209466Z",
     "iopub.status.idle": "2024-03-18T02:53:48.220468Z",
     "shell.execute_reply": "2024-03-18T02:53:48.219318Z"
    },
    "papermill": {
     "duration": 0.031834,
     "end_time": "2024-03-18T02:53:48.222656",
     "exception": false,
     "start_time": "2024-03-18T02:53:48.190822",
     "status": "completed"
    },
    "tags": []
   },
   "outputs": [
    {
     "data": {
      "text/html": [
       "<div>\n",
       "<style scoped>\n",
       "    .dataframe tbody tr th:only-of-type {\n",
       "        vertical-align: middle;\n",
       "    }\n",
       "\n",
       "    .dataframe tbody tr th {\n",
       "        vertical-align: top;\n",
       "    }\n",
       "\n",
       "    .dataframe thead th {\n",
       "        text-align: right;\n",
       "    }\n",
       "</style>\n",
       "<table border=\"1\" class=\"dataframe\">\n",
       "  <thead>\n",
       "    <tr style=\"text-align: right;\">\n",
       "      <th></th>\n",
       "      <th>Gender</th>\n",
       "      <th>count</th>\n",
       "    </tr>\n",
       "  </thead>\n",
       "  <tbody>\n",
       "    <tr>\n",
       "      <th>0</th>\n",
       "      <td>Male</td>\n",
       "      <td>175</td>\n",
       "    </tr>\n",
       "    <tr>\n",
       "      <th>1</th>\n",
       "      <td>Female</td>\n",
       "      <td>173</td>\n",
       "    </tr>\n",
       "  </tbody>\n",
       "</table>\n",
       "</div>"
      ],
      "text/plain": [
       "   Gender  count\n",
       "0    Male    175\n",
       "1  Female    173"
      ]
     },
     "execution_count": 13,
     "metadata": {},
     "output_type": "execute_result"
    }
   ],
   "source": [
    "Gender = df['Gender'].value_counts().reset_index()\n",
    "Gender"
   ]
  },
  {
   "cell_type": "code",
   "execution_count": 14,
   "id": "a1c0003f",
   "metadata": {
    "execution": {
     "iopub.execute_input": "2024-03-18T02:53:48.258856Z",
     "iopub.status.busy": "2024-03-18T02:53:48.258388Z",
     "iopub.status.idle": "2024-03-18T02:53:48.501789Z",
     "shell.execute_reply": "2024-03-18T02:53:48.500536Z"
    },
    "papermill": {
     "duration": 0.264238,
     "end_time": "2024-03-18T02:53:48.503990",
     "exception": false,
     "start_time": "2024-03-18T02:53:48.239752",
     "status": "completed"
    },
    "tags": []
   },
   "outputs": [
    {
     "data": {
      "image/png": "[encoded data removed]",
      "text/plain": [
       "<Figure size 800x800 with 1 Axes>"
      ]
     },
     "metadata": {},
     "output_type": "display_data"
    }
   ],
   "source": [
    "plt.figure(figsize=(8,8))\n",
    "plt.pie(Gender['count'], colors=['skyblue', 'pink'],\n",
    "        shadow=True,labels=Gender['Gender'],\n",
    "        autopct='%1.2f%%'\n",
    "       )\n",
    "plt.legend()\n",
    "plt.show()"
   ]
  },
  {
   "cell_type": "markdown",
   "id": "2a3f3ae4",
   "metadata": {
    "papermill": {
     "duration": 0.018579,
     "end_time": "2024-03-18T02:53:48.542977",
     "exception": false,
     "start_time": "2024-03-18T02:53:48.524398",
     "status": "completed"
    },
    "tags": []
   },
   "source": [
    "**This pie Show the diff between male and female**"
   ]
  },
  {
   "cell_type": "markdown",
   "id": "14deecfc",
   "metadata": {
    "papermill": {
     "duration": 0.017922,
     "end_time": "2024-03-18T02:53:48.578729",
     "exception": false,
     "start_time": "2024-03-18T02:53:48.560807",
     "status": "completed"
    },
    "tags": []
   },
   "source": [
    "<h2>Gender with Age<h2>"
   ]
  },
  {
   "cell_type": "code",
   "execution_count": 15,
   "id": "10740a54",
   "metadata": {
    "execution": {
     "iopub.execute_input": "2024-03-18T02:53:48.617027Z",
     "iopub.status.busy": "2024-03-18T02:53:48.616252Z",
     "iopub.status.idle": "2024-03-18T02:53:48.634167Z",
     "shell.execute_reply": "2024-03-18T02:53:48.633087Z"
    },
    "papermill": {
     "duration": 0.040352,
     "end_time": "2024-03-18T02:53:48.636825",
     "exception": false,
     "start_time": "2024-03-18T02:53:48.596473",
     "status": "completed"
    },
    "tags": []
   },
   "outputs": [
    {
     "data": {
      "text/html": [
       "<div>\n",
       "<style scoped>\n",
       "    .dataframe tbody tr th:only-of-type {\n",
       "        vertical-align: middle;\n",
       "    }\n",
       "\n",
       "    .dataframe tbody tr th {\n",
       "        vertical-align: top;\n",
       "    }\n",
       "\n",
       "    .dataframe thead th {\n",
       "        text-align: right;\n",
       "    }\n",
       "</style>\n",
       "<table border=\"1\" class=\"dataframe\">\n",
       "  <thead>\n",
       "    <tr style=\"text-align: right;\">\n",
       "      <th></th>\n",
       "      <th>Gender</th>\n",
       "      <th>Age</th>\n",
       "      <th>count</th>\n",
       "    </tr>\n",
       "  </thead>\n",
       "  <tbody>\n",
       "    <tr>\n",
       "      <th>0</th>\n",
       "      <td>Female</td>\n",
       "      <td>43</td>\n",
       "      <td>25</td>\n",
       "    </tr>\n",
       "    <tr>\n",
       "      <th>1</th>\n",
       "      <td>Female</td>\n",
       "      <td>30</td>\n",
       "      <td>24</td>\n",
       "    </tr>\n",
       "    <tr>\n",
       "      <th>2</th>\n",
       "      <td>Female</td>\n",
       "      <td>31</td>\n",
       "      <td>24</td>\n",
       "    </tr>\n",
       "    <tr>\n",
       "      <th>3</th>\n",
       "      <td>Female</td>\n",
       "      <td>36</td>\n",
       "      <td>24</td>\n",
       "    </tr>\n",
       "    <tr>\n",
       "      <th>4</th>\n",
       "      <td>Female</td>\n",
       "      <td>41</td>\n",
       "      <td>24</td>\n",
       "    </tr>\n",
       "    <tr>\n",
       "      <th>5</th>\n",
       "      <td>Female</td>\n",
       "      <td>37</td>\n",
       "      <td>22</td>\n",
       "    </tr>\n",
       "    <tr>\n",
       "      <th>6</th>\n",
       "      <td>Female</td>\n",
       "      <td>32</td>\n",
       "      <td>9</td>\n",
       "    </tr>\n",
       "    <tr>\n",
       "      <th>7</th>\n",
       "      <td>Female</td>\n",
       "      <td>38</td>\n",
       "      <td>9</td>\n",
       "    </tr>\n",
       "    <tr>\n",
       "      <th>8</th>\n",
       "      <td>Female</td>\n",
       "      <td>42</td>\n",
       "      <td>9</td>\n",
       "    </tr>\n",
       "    <tr>\n",
       "      <th>9</th>\n",
       "      <td>Female</td>\n",
       "      <td>29</td>\n",
       "      <td>2</td>\n",
       "    </tr>\n",
       "    <tr>\n",
       "      <th>10</th>\n",
       "      <td>Female</td>\n",
       "      <td>35</td>\n",
       "      <td>1</td>\n",
       "    </tr>\n",
       "    <tr>\n",
       "      <th>11</th>\n",
       "      <td>Male</td>\n",
       "      <td>27</td>\n",
       "      <td>25</td>\n",
       "    </tr>\n",
       "    <tr>\n",
       "      <th>12</th>\n",
       "      <td>Male</td>\n",
       "      <td>28</td>\n",
       "      <td>24</td>\n",
       "    </tr>\n",
       "    <tr>\n",
       "      <th>13</th>\n",
       "      <td>Male</td>\n",
       "      <td>30</td>\n",
       "      <td>24</td>\n",
       "    </tr>\n",
       "    <tr>\n",
       "      <th>14</th>\n",
       "      <td>Male</td>\n",
       "      <td>32</td>\n",
       "      <td>24</td>\n",
       "    </tr>\n",
       "    <tr>\n",
       "      <th>15</th>\n",
       "      <td>Male</td>\n",
       "      <td>34</td>\n",
       "      <td>24</td>\n",
       "    </tr>\n",
       "    <tr>\n",
       "      <th>16</th>\n",
       "      <td>Male</td>\n",
       "      <td>35</td>\n",
       "      <td>24</td>\n",
       "    </tr>\n",
       "    <tr>\n",
       "      <th>17</th>\n",
       "      <td>Male</td>\n",
       "      <td>33</td>\n",
       "      <td>10</td>\n",
       "    </tr>\n",
       "    <tr>\n",
       "      <th>18</th>\n",
       "      <td>Male</td>\n",
       "      <td>26</td>\n",
       "      <td>9</td>\n",
       "    </tr>\n",
       "    <tr>\n",
       "      <th>19</th>\n",
       "      <td>Male</td>\n",
       "      <td>29</td>\n",
       "      <td>9</td>\n",
       "    </tr>\n",
       "    <tr>\n",
       "      <th>20</th>\n",
       "      <td>Male</td>\n",
       "      <td>31</td>\n",
       "      <td>1</td>\n",
       "    </tr>\n",
       "    <tr>\n",
       "      <th>21</th>\n",
       "      <td>Male</td>\n",
       "      <td>36</td>\n",
       "      <td>1</td>\n",
       "    </tr>\n",
       "  </tbody>\n",
       "</table>\n",
       "</div>"
      ],
      "text/plain": [
       "    Gender  Age  count\n",
       "0   Female   43     25\n",
       "1   Female   30     24\n",
       "2   Female   31     24\n",
       "3   Female   36     24\n",
       "4   Female   41     24\n",
       "5   Female   37     22\n",
       "6   Female   32      9\n",
       "7   Female   38      9\n",
       "8   Female   42      9\n",
       "9   Female   29      2\n",
       "10  Female   35      1\n",
       "11    Male   27     25\n",
       "12    Male   28     24\n",
       "13    Male   30     24\n",
       "14    Male   32     24\n",
       "15    Male   34     24\n",
       "16    Male   35     24\n",
       "17    Male   33     10\n",
       "18    Male   26      9\n",
       "19    Male   29      9\n",
       "20    Male   31      1\n",
       "21    Male   36      1"
      ]
     },
     "execution_count": 15,
     "metadata": {},
     "output_type": "execute_result"
    }
   ],
   "source": [
    "GenderwithAge = df.groupby('Gender')['Age'].value_counts().reset_index()\n",
    "GenderwithAge"
   ]
  },
  {
   "cell_type": "code",
   "execution_count": 16,
   "id": "520844bb",
   "metadata": {
    "execution": {
     "iopub.execute_input": "2024-03-18T02:53:48.676735Z",
     "iopub.status.busy": "2024-03-18T02:53:48.676281Z",
     "iopub.status.idle": "2024-03-18T02:53:49.036563Z",
     "shell.execute_reply": "2024-03-18T02:53:49.035342Z"
    },
    "papermill": {
     "duration": 0.383203,
     "end_time": "2024-03-18T02:53:49.039168",
     "exception": false,
     "start_time": "2024-03-18T02:53:48.655965",
     "status": "completed"
    },
    "tags": []
   },
   "outputs": [
    {
     "data": {
      "image/png": "[encoded data removed]",
      "text/plain": [
       "<Figure size 800x800 with 1 Axes>"
      ]
     },
     "metadata": {},
     "output_type": "display_data"
    }
   ],
   "source": [
    "plt.figure(figsize=(8,8))\n",
    "plt.bar(GenderwithAge['Gender'], GenderwithAge['Age'],\n",
    "        color=['pink', 'skyblue'],\n",
    "       )\n",
    "plt.xlabel('Gender')\n",
    "plt.ylabel('Age')\n",
    "plt.title('Age by Gender')\n",
    "plt.show()"
   ]
  },
  {
   "cell_type": "markdown",
   "id": "a9bee893",
   "metadata": {
    "papermill": {
     "duration": 0.018666,
     "end_time": "2024-03-18T02:53:49.076278",
     "exception": false,
     "start_time": "2024-03-18T02:53:49.057612",
     "status": "completed"
    },
    "tags": []
   },
   "source": [
    "<h2>Gender With Membershiptype<h2>"
   ]
  },
  {
   "cell_type": "code",
   "execution_count": 17,
   "id": "c67c6e8a",
   "metadata": {
    "execution": {
     "iopub.execute_input": "2024-03-18T02:53:49.115097Z",
     "iopub.status.busy": "2024-03-18T02:53:49.114694Z",
     "iopub.status.idle": "2024-03-18T02:53:49.130558Z",
     "shell.execute_reply": "2024-03-18T02:53:49.129262Z"
    },
    "papermill": {
     "duration": 0.037854,
     "end_time": "2024-03-18T02:53:49.132869",
     "exception": false,
     "start_time": "2024-03-18T02:53:49.095015",
     "status": "completed"
    },
    "tags": []
   },
   "outputs": [
    {
     "data": {
      "text/html": [
       "<div>\n",
       "<style scoped>\n",
       "    .dataframe tbody tr th:only-of-type {\n",
       "        vertical-align: middle;\n",
       "    }\n",
       "\n",
       "    .dataframe tbody tr th {\n",
       "        vertical-align: top;\n",
       "    }\n",
       "\n",
       "    .dataframe thead th {\n",
       "        text-align: right;\n",
       "    }\n",
       "</style>\n",
       "<table border=\"1\" class=\"dataframe\">\n",
       "  <thead>\n",
       "    <tr style=\"text-align: right;\">\n",
       "      <th></th>\n",
       "      <th>Gender</th>\n",
       "      <th>Membership Type</th>\n",
       "      <th>count</th>\n",
       "    </tr>\n",
       "  </thead>\n",
       "  <tbody>\n",
       "    <tr>\n",
       "      <th>0</th>\n",
       "      <td>Male</td>\n",
       "      <td>Silver</td>\n",
       "      <td>116</td>\n",
       "    </tr>\n",
       "    <tr>\n",
       "      <th>1</th>\n",
       "      <td>Female</td>\n",
       "      <td>Bronze</td>\n",
       "      <td>114</td>\n",
       "    </tr>\n",
       "    <tr>\n",
       "      <th>2</th>\n",
       "      <td>Male</td>\n",
       "      <td>Gold</td>\n",
       "      <td>59</td>\n",
       "    </tr>\n",
       "    <tr>\n",
       "      <th>3</th>\n",
       "      <td>Female</td>\n",
       "      <td>Gold</td>\n",
       "      <td>58</td>\n",
       "    </tr>\n",
       "    <tr>\n",
       "      <th>4</th>\n",
       "      <td>Female</td>\n",
       "      <td>Silver</td>\n",
       "      <td>1</td>\n",
       "    </tr>\n",
       "  </tbody>\n",
       "</table>\n",
       "</div>"
      ],
      "text/plain": [
       "   Gender Membership Type  count\n",
       "0    Male          Silver    116\n",
       "1  Female          Bronze    114\n",
       "2    Male            Gold     59\n",
       "3  Female            Gold     58\n",
       "4  Female          Silver      1"
      ]
     },
     "execution_count": 17,
     "metadata": {},
     "output_type": "execute_result"
    }
   ],
   "source": [
    "GenderWithMembershiptype = df[['Gender','Membership Type']].value_counts().reset_index()\n",
    "GenderWithMembershiptype"
   ]
  },
  {
   "cell_type": "code",
   "execution_count": 18,
   "id": "4f8e1cc3",
   "metadata": {
    "execution": {
     "iopub.execute_input": "2024-03-18T02:53:49.172536Z",
     "iopub.status.busy": "2024-03-18T02:53:49.171787Z",
     "iopub.status.idle": "2024-03-18T02:53:49.431604Z",
     "shell.execute_reply": "2024-03-18T02:53:49.430388Z"
    },
    "papermill": {
     "duration": 0.282077,
     "end_time": "2024-03-18T02:53:49.433923",
     "exception": false,
     "start_time": "2024-03-18T02:53:49.151846",
     "status": "completed"
    },
    "tags": []
   },
   "outputs": [
    {
     "data": {
      "image/png": "[encoded data removed]",
      "text/plain": [
       "<Figure size 640x480 with 1 Axes>"
      ]
     },
     "metadata": {},
     "output_type": "display_data"
    }
   ],
   "source": [
    "sns.barplot(data=GenderWithMembershiptype, x='Gender', y='count', hue='Membership Type')\n",
    "plt.show()"
   ]
  },
  {
   "cell_type": "markdown",
   "id": "fe179f58",
   "metadata": {
    "papermill": {
     "duration": 0.01864,
     "end_time": "2024-03-18T02:53:49.471449",
     "exception": false,
     "start_time": "2024-03-18T02:53:49.452809",
     "status": "completed"
    },
    "tags": []
   },
   "source": [
    "**The member ship between the all values**"
   ]
  },
  {
   "cell_type": "code",
   "execution_count": 19,
   "id": "d7a116e3",
   "metadata": {
    "execution": {
     "iopub.execute_input": "2024-03-18T02:53:49.511677Z",
     "iopub.status.busy": "2024-03-18T02:53:49.511214Z",
     "iopub.status.idle": "2024-03-18T02:53:49.927948Z",
     "shell.execute_reply": "2024-03-18T02:53:49.926826Z"
    },
    "papermill": {
     "duration": 0.43954,
     "end_time": "2024-03-18T02:53:49.930162",
     "exception": false,
     "start_time": "2024-03-18T02:53:49.490622",
     "status": "completed"
    },
    "tags": []
   },
   "outputs": [
    {
     "data": {
      "image/png": "[encoded data removed]",
      "text/plain": [
       "<Figure size 800x800 with 1 Axes>"
      ]
     },
     "metadata": {},
     "output_type": "display_data"
    }
   ],
   "source": [
    "gender_age_data = df[['Gender', 'Age']].value_counts().reset_index().sort_values(ascending=False, by='count')\n",
    "\n",
    "plt.figure(figsize=(8, 8))\n",
    "sns.barplot(data=gender_age_data, x='Age', y='count', hue='Gender', palette=['pink', 'skyblue'])\n",
    "plt.title(\"Age Distribution\")\n",
    "plt.legend(loc=(1.05,0.9))\n",
    "plt.show()"
   ]
  },
  {
   "cell_type": "markdown",
   "id": "9f53f32d",
   "metadata": {
    "papermill": {
     "duration": 0.019324,
     "end_time": "2024-03-18T02:53:49.969273",
     "exception": false,
     "start_time": "2024-03-18T02:53:49.949949",
     "status": "completed"
    },
    "tags": []
   },
   "source": [
    "**The number for customers for all ages**"
   ]
  },
  {
   "cell_type": "markdown",
   "id": "215b6814",
   "metadata": {
    "papermill": {
     "duration": 0.019211,
     "end_time": "2024-03-18T02:53:50.007913",
     "exception": false,
     "start_time": "2024-03-18T02:53:49.988702",
     "status": "completed"
    },
    "tags": []
   },
   "source": [
    "<h2>Number of every Age <h2>"
   ]
  },
  {
   "cell_type": "code",
   "execution_count": 20,
   "id": "3ba6dd7d",
   "metadata": {
    "execution": {
     "iopub.execute_input": "2024-03-18T02:53:50.049658Z",
     "iopub.status.busy": "2024-03-18T02:53:50.049196Z",
     "iopub.status.idle": "2024-03-18T02:53:50.459184Z",
     "shell.execute_reply": "2024-03-18T02:53:50.457694Z"
    },
    "papermill": {
     "duration": 0.43369,
     "end_time": "2024-03-18T02:53:50.462058",
     "exception": false,
     "start_time": "2024-03-18T02:53:50.028368",
     "status": "completed"
    },
    "tags": []
   },
   "outputs": [
    {
     "data": {
      "image/png": "[encoded data removed]",
      "text/plain": [
       "<Figure size 800x800 with 1 Axes>"
      ]
     },
     "metadata": {},
     "output_type": "display_data"
    }
   ],
   "source": [
    "age_data = df['Age'].value_counts().reset_index()\n",
    "plt.figure(figsize=(8, 8))\n",
    "sns.barplot(data=age_data,x='Age', y='count')\n",
    "plt.xlabel('Age')\n",
    "plt.ylabel('Count')\n",
    "plt.xticks(rotation=45, ha='right')  # Rotate the labels for better readability\n",
    "plt.title('Age by Count')\n",
    "plt.tight_layout()  # Adjust layout to prevent clipping of labels\n",
    "plt.show()"
   ]
  },
  {
   "cell_type": "markdown",
   "id": "48796489",
   "metadata": {
    "papermill": {
     "duration": 0.020549,
     "end_time": "2024-03-18T02:53:50.503511",
     "exception": false,
     "start_time": "2024-03-18T02:53:50.482962",
     "status": "completed"
    },
    "tags": []
   },
   "source": [
    "<h2>City<h2>"
   ]
  },
  {
   "cell_type": "code",
   "execution_count": 21,
   "id": "fad45ef7",
   "metadata": {
    "execution": {
     "iopub.execute_input": "2024-03-18T02:53:50.545213Z",
     "iopub.status.busy": "2024-03-18T02:53:50.544807Z",
     "iopub.status.idle": "2024-03-18T02:53:50.552533Z",
     "shell.execute_reply": "2024-03-18T02:53:50.551720Z"
    },
    "papermill": {
     "duration": 0.03151,
     "end_time": "2024-03-18T02:53:50.554483",
     "exception": false,
     "start_time": "2024-03-18T02:53:50.522973",
     "status": "completed"
    },
    "tags": []
   },
   "outputs": [
    {
     "data": {
      "text/plain": [
       "0           New York\n",
       "1        Los Angeles\n",
       "2            Chicago\n",
       "3      San Francisco\n",
       "4              Miami\n",
       "           ...      \n",
       "345            Miami\n",
       "346          Houston\n",
       "347         New York\n",
       "348      Los Angeles\n",
       "349          Chicago\n",
       "Name: City, Length: 348, dtype: object"
      ]
     },
     "execution_count": 21,
     "metadata": {},
     "output_type": "execute_result"
    }
   ],
   "source": [
    "city = df['City']\n",
    "city"
   ]
  },
  {
   "cell_type": "markdown",
   "id": "09b42427",
   "metadata": {
    "papermill": {
     "duration": 0.019541,
     "end_time": "2024-03-18T02:53:50.593910",
     "exception": false,
     "start_time": "2024-03-18T02:53:50.574369",
     "status": "completed"
    },
    "tags": []
   },
   "source": [
    "<h2>Gender with City<h2>"
   ]
  },
  {
   "cell_type": "code",
   "execution_count": 22,
   "id": "07d1b2df",
   "metadata": {
    "execution": {
     "iopub.execute_input": "2024-03-18T02:53:50.636016Z",
     "iopub.status.busy": "2024-03-18T02:53:50.635571Z",
     "iopub.status.idle": "2024-03-18T02:53:50.651697Z",
     "shell.execute_reply": "2024-03-18T02:53:50.650462Z"
    },
    "papermill": {
     "duration": 0.040134,
     "end_time": "2024-03-18T02:53:50.654048",
     "exception": false,
     "start_time": "2024-03-18T02:53:50.613914",
     "status": "completed"
    },
    "tags": []
   },
   "outputs": [
    {
     "data": {
      "text/html": [
       "<div>\n",
       "<style scoped>\n",
       "    .dataframe tbody tr th:only-of-type {\n",
       "        vertical-align: middle;\n",
       "    }\n",
       "\n",
       "    .dataframe tbody tr th {\n",
       "        vertical-align: top;\n",
       "    }\n",
       "\n",
       "    .dataframe thead th {\n",
       "        text-align: right;\n",
       "    }\n",
       "</style>\n",
       "<table border=\"1\" class=\"dataframe\">\n",
       "  <thead>\n",
       "    <tr style=\"text-align: right;\">\n",
       "      <th></th>\n",
       "      <th>Gender</th>\n",
       "      <th>City</th>\n",
       "      <th>count</th>\n",
       "    </tr>\n",
       "  </thead>\n",
       "  <tbody>\n",
       "    <tr>\n",
       "      <th>0</th>\n",
       "      <td>Male</td>\n",
       "      <td>Los Angeles</td>\n",
       "      <td>59</td>\n",
       "    </tr>\n",
       "    <tr>\n",
       "      <th>1</th>\n",
       "      <td>Female</td>\n",
       "      <td>Chicago</td>\n",
       "      <td>58</td>\n",
       "    </tr>\n",
       "    <tr>\n",
       "      <th>2</th>\n",
       "      <td>Female</td>\n",
       "      <td>New York</td>\n",
       "      <td>58</td>\n",
       "    </tr>\n",
       "    <tr>\n",
       "      <th>3</th>\n",
       "      <td>Male</td>\n",
       "      <td>San Francisco</td>\n",
       "      <td>58</td>\n",
       "    </tr>\n",
       "    <tr>\n",
       "      <th>4</th>\n",
       "      <td>Male</td>\n",
       "      <td>Miami</td>\n",
       "      <td>57</td>\n",
       "    </tr>\n",
       "    <tr>\n",
       "      <th>5</th>\n",
       "      <td>Female</td>\n",
       "      <td>Houston</td>\n",
       "      <td>56</td>\n",
       "    </tr>\n",
       "    <tr>\n",
       "      <th>6</th>\n",
       "      <td>Female</td>\n",
       "      <td>Miami</td>\n",
       "      <td>1</td>\n",
       "    </tr>\n",
       "    <tr>\n",
       "      <th>7</th>\n",
       "      <td>Male</td>\n",
       "      <td>New York</td>\n",
       "      <td>1</td>\n",
       "    </tr>\n",
       "  </tbody>\n",
       "</table>\n",
       "</div>"
      ],
      "text/plain": [
       "   Gender           City  count\n",
       "0    Male    Los Angeles     59\n",
       "1  Female        Chicago     58\n",
       "2  Female       New York     58\n",
       "3    Male  San Francisco     58\n",
       "4    Male          Miami     57\n",
       "5  Female        Houston     56\n",
       "6  Female          Miami      1\n",
       "7    Male       New York      1"
      ]
     },
     "execution_count": 22,
     "metadata": {},
     "output_type": "execute_result"
    }
   ],
   "source": [
    "GenderwithCity = df[['Gender','City']].value_counts().reset_index()\n",
    "GenderwithCity"
   ]
  },
  {
   "cell_type": "code",
   "execution_count": 23,
   "id": "be983c06",
   "metadata": {
    "execution": {
     "iopub.execute_input": "2024-03-18T02:53:50.697036Z",
     "iopub.status.busy": "2024-03-18T02:53:50.696658Z",
     "iopub.status.idle": "2024-03-18T02:53:50.968389Z",
     "shell.execute_reply": "2024-03-18T02:53:50.967134Z"
    },
    "papermill": {
     "duration": 0.295789,
     "end_time": "2024-03-18T02:53:50.970768",
     "exception": false,
     "start_time": "2024-03-18T02:53:50.674979",
     "status": "completed"
    },
    "tags": []
   },
   "outputs": [
    {
     "data": {
      "image/png": "[encoded data removed]",
      "text/plain": [
       "<Figure size 800x800 with 1 Axes>"
      ]
     },
     "metadata": {},
     "output_type": "display_data"
    }
   ],
   "source": [
    "xticks = GenderwithCity['City']\n",
    "plt.figure(figsize=(8,8))\n",
    "plt.bar(GenderwithCity['City'], GenderwithCity['count'],\n",
    "        color='darkred',\n",
    "       )\n",
    "plt.xlabel('City')\n",
    "plt.ylabel('Count')\n",
    "plt.xticks(xticks,rotation=45)\n",
    "plt.title('City by Count')\n",
    "plt.show()"
   ]
  },
  {
   "cell_type": "markdown",
   "id": "f59c036d",
   "metadata": {
    "papermill": {
     "duration": 0.021924,
     "end_time": "2024-03-18T02:53:51.013287",
     "exception": false,
     "start_time": "2024-03-18T02:53:50.991363",
     "status": "completed"
    },
    "tags": []
   },
   "source": [
    "**Number of every gender in City**"
   ]
  },
  {
   "cell_type": "code",
   "execution_count": 24,
   "id": "7f3aeba0",
   "metadata": {
    "execution": {
     "iopub.execute_input": "2024-03-18T02:53:51.056667Z",
     "iopub.status.busy": "2024-03-18T02:53:51.056272Z",
     "iopub.status.idle": "2024-03-18T02:53:51.068095Z",
     "shell.execute_reply": "2024-03-18T02:53:51.066990Z"
    },
    "papermill": {
     "duration": 0.036531,
     "end_time": "2024-03-18T02:53:51.070325",
     "exception": false,
     "start_time": "2024-03-18T02:53:51.033794",
     "status": "completed"
    },
    "tags": []
   },
   "outputs": [
    {
     "data": {
      "text/html": [
       "<div>\n",
       "<style scoped>\n",
       "    .dataframe tbody tr th:only-of-type {\n",
       "        vertical-align: middle;\n",
       "    }\n",
       "\n",
       "    .dataframe tbody tr th {\n",
       "        vertical-align: top;\n",
       "    }\n",
       "\n",
       "    .dataframe thead th {\n",
       "        text-align: right;\n",
       "    }\n",
       "</style>\n",
       "<table border=\"1\" class=\"dataframe\">\n",
       "  <thead>\n",
       "    <tr style=\"text-align: right;\">\n",
       "      <th></th>\n",
       "      <th>City</th>\n",
       "      <th>count</th>\n",
       "    </tr>\n",
       "  </thead>\n",
       "  <tbody>\n",
       "    <tr>\n",
       "      <th>0</th>\n",
       "      <td>New York</td>\n",
       "      <td>59</td>\n",
       "    </tr>\n",
       "    <tr>\n",
       "      <th>1</th>\n",
       "      <td>Los Angeles</td>\n",
       "      <td>59</td>\n",
       "    </tr>\n",
       "    <tr>\n",
       "      <th>2</th>\n",
       "      <td>Chicago</td>\n",
       "      <td>58</td>\n",
       "    </tr>\n",
       "    <tr>\n",
       "      <th>3</th>\n",
       "      <td>San Francisco</td>\n",
       "      <td>58</td>\n",
       "    </tr>\n",
       "    <tr>\n",
       "      <th>4</th>\n",
       "      <td>Miami</td>\n",
       "      <td>58</td>\n",
       "    </tr>\n",
       "    <tr>\n",
       "      <th>5</th>\n",
       "      <td>Houston</td>\n",
       "      <td>56</td>\n",
       "    </tr>\n",
       "  </tbody>\n",
       "</table>\n",
       "</div>"
      ],
      "text/plain": [
       "            City  count\n",
       "0       New York     59\n",
       "1    Los Angeles     59\n",
       "2        Chicago     58\n",
       "3  San Francisco     58\n",
       "4          Miami     58\n",
       "5        Houston     56"
      ]
     },
     "execution_count": 24,
     "metadata": {},
     "output_type": "execute_result"
    }
   ],
   "source": [
    "GenderwithCity = df['City'].value_counts().reset_index()\n",
    "GenderwithCity"
   ]
  },
  {
   "cell_type": "code",
   "execution_count": 25,
   "id": "403be7c6",
   "metadata": {
    "execution": {
     "iopub.execute_input": "2024-03-18T02:53:51.113534Z",
     "iopub.status.busy": "2024-03-18T02:53:51.113102Z",
     "iopub.status.idle": "2024-03-18T02:53:51.393109Z",
     "shell.execute_reply": "2024-03-18T02:53:51.392119Z"
    },
    "papermill": {
     "duration": 0.304927,
     "end_time": "2024-03-18T02:53:51.396103",
     "exception": false,
     "start_time": "2024-03-18T02:53:51.091176",
     "status": "completed"
    },
    "tags": []
   },
   "outputs": [
    {
     "data": {
      "image/png": "[encoded data removed]",
      "text/plain": [
       "<Figure size 800x800 with 1 Axes>"
      ]
     },
     "metadata": {},
     "output_type": "display_data"
    }
   ],
   "source": [
    "plt.figure(figsize=(8,8))\n",
    "plt.pie(GenderwithCity['count'],\n",
    "        shadow=True,labels= GenderwithCity['City'],\n",
    "        autopct='%1.2f%%'\n",
    "       )\n",
    "plt.legend(loc=(0.8,1))\n",
    "plt.show()"
   ]
  },
  {
   "cell_type": "markdown",
   "id": "249b1d4f",
   "metadata": {
    "papermill": {
     "duration": 0.021903,
     "end_time": "2024-03-18T02:53:51.440760",
     "exception": false,
     "start_time": "2024-03-18T02:53:51.418857",
     "status": "completed"
    },
    "tags": []
   },
   "source": [
    "**in percentage**"
   ]
  },
  {
   "cell_type": "markdown",
   "id": "e0ec1a50",
   "metadata": {
    "papermill": {
     "duration": 0.021118,
     "end_time": "2024-03-18T02:53:51.483437",
     "exception": false,
     "start_time": "2024-03-18T02:53:51.462319",
     "status": "completed"
    },
    "tags": []
   },
   "source": [
    "<h2>Membership Type\t<h2>"
   ]
  },
  {
   "cell_type": "code",
   "execution_count": 26,
   "id": "f5c7fa61",
   "metadata": {
    "execution": {
     "iopub.execute_input": "2024-03-18T02:53:51.528968Z",
     "iopub.status.busy": "2024-03-18T02:53:51.527882Z",
     "iopub.status.idle": "2024-03-18T02:53:51.543808Z",
     "shell.execute_reply": "2024-03-18T02:53:51.542709Z"
    },
    "papermill": {
     "duration": 0.041025,
     "end_time": "2024-03-18T02:53:51.545985",
     "exception": false,
     "start_time": "2024-03-18T02:53:51.504960",
     "status": "completed"
    },
    "tags": []
   },
   "outputs": [
    {
     "data": {
      "text/html": [
       "<div>\n",
       "<style scoped>\n",
       "    .dataframe tbody tr th:only-of-type {\n",
       "        vertical-align: middle;\n",
       "    }\n",
       "\n",
       "    .dataframe tbody tr th {\n",
       "        vertical-align: top;\n",
       "    }\n",
       "\n",
       "    .dataframe thead th {\n",
       "        text-align: right;\n",
       "    }\n",
       "</style>\n",
       "<table border=\"1\" class=\"dataframe\">\n",
       "  <thead>\n",
       "    <tr style=\"text-align: right;\">\n",
       "      <th></th>\n",
       "      <th>Customer ID</th>\n",
       "      <th>Gender</th>\n",
       "      <th>Age</th>\n",
       "      <th>City</th>\n",
       "      <th>Membership Type</th>\n",
       "      <th>Total Spend</th>\n",
       "      <th>Items Purchased</th>\n",
       "      <th>Average Rating</th>\n",
       "      <th>Discount Applied</th>\n",
       "      <th>Days Since Last Purchase</th>\n",
       "      <th>Satisfaction Level</th>\n",
       "    </tr>\n",
       "  </thead>\n",
       "  <tbody>\n",
       "    <tr>\n",
       "      <th>0</th>\n",
       "      <td>101</td>\n",
       "      <td>Female</td>\n",
       "      <td>29</td>\n",
       "      <td>New York</td>\n",
       "      <td>Gold</td>\n",
       "      <td>1120.20</td>\n",
       "      <td>14</td>\n",
       "      <td>4.6</td>\n",
       "      <td>True</td>\n",
       "      <td>25</td>\n",
       "      <td>Satisfied</td>\n",
       "    </tr>\n",
       "    <tr>\n",
       "      <th>1</th>\n",
       "      <td>102</td>\n",
       "      <td>Male</td>\n",
       "      <td>34</td>\n",
       "      <td>Los Angeles</td>\n",
       "      <td>Silver</td>\n",
       "      <td>780.50</td>\n",
       "      <td>11</td>\n",
       "      <td>4.1</td>\n",
       "      <td>False</td>\n",
       "      <td>18</td>\n",
       "      <td>Neutral</td>\n",
       "    </tr>\n",
       "    <tr>\n",
       "      <th>2</th>\n",
       "      <td>103</td>\n",
       "      <td>Female</td>\n",
       "      <td>43</td>\n",
       "      <td>Chicago</td>\n",
       "      <td>Bronze</td>\n",
       "      <td>510.75</td>\n",
       "      <td>9</td>\n",
       "      <td>3.4</td>\n",
       "      <td>True</td>\n",
       "      <td>42</td>\n",
       "      <td>Unsatisfied</td>\n",
       "    </tr>\n",
       "    <tr>\n",
       "      <th>3</th>\n",
       "      <td>104</td>\n",
       "      <td>Male</td>\n",
       "      <td>30</td>\n",
       "      <td>San Francisco</td>\n",
       "      <td>Gold</td>\n",
       "      <td>1480.30</td>\n",
       "      <td>19</td>\n",
       "      <td>4.7</td>\n",
       "      <td>False</td>\n",
       "      <td>12</td>\n",
       "      <td>Satisfied</td>\n",
       "    </tr>\n",
       "    <tr>\n",
       "      <th>4</th>\n",
       "      <td>105</td>\n",
       "      <td>Male</td>\n",
       "      <td>27</td>\n",
       "      <td>Miami</td>\n",
       "      <td>Silver</td>\n",
       "      <td>720.40</td>\n",
       "      <td>13</td>\n",
       "      <td>4.0</td>\n",
       "      <td>True</td>\n",
       "      <td>55</td>\n",
       "      <td>Unsatisfied</td>\n",
       "    </tr>\n",
       "  </tbody>\n",
       "</table>\n",
       "</div>"
      ],
      "text/plain": [
       "   Customer ID  Gender  Age           City Membership Type  Total Spend  \\\n",
       "0          101  Female   29       New York            Gold      1120.20   \n",
       "1          102    Male   34    Los Angeles          Silver       780.50   \n",
       "2          103  Female   43        Chicago          Bronze       510.75   \n",
       "3          104    Male   30  San Francisco            Gold      1480.30   \n",
       "4          105    Male   27          Miami          Silver       720.40   \n",
       "\n",
       "   Items Purchased  Average Rating  Discount Applied  \\\n",
       "0               14             4.6              True   \n",
       "1               11             4.1             False   \n",
       "2                9             3.4              True   \n",
       "3               19             4.7             False   \n",
       "4               13             4.0              True   \n",
       "\n",
       "   Days Since Last Purchase Satisfaction Level  \n",
       "0                        25          Satisfied  \n",
       "1                        18            Neutral  \n",
       "2                        42        Unsatisfied  \n",
       "3                        12          Satisfied  \n",
       "4                        55        Unsatisfied  "
      ]
     },
     "execution_count": 26,
     "metadata": {},
     "output_type": "execute_result"
    }
   ],
   "source": [
    "df.head()"
   ]
  },
  {
   "cell_type": "code",
   "execution_count": 27,
   "id": "3045d1a1",
   "metadata": {
    "execution": {
     "iopub.execute_input": "2024-03-18T02:53:51.591885Z",
     "iopub.status.busy": "2024-03-18T02:53:51.591468Z",
     "iopub.status.idle": "2024-03-18T02:53:51.603373Z",
     "shell.execute_reply": "2024-03-18T02:53:51.602299Z"
    },
    "papermill": {
     "duration": 0.037652,
     "end_time": "2024-03-18T02:53:51.605655",
     "exception": false,
     "start_time": "2024-03-18T02:53:51.568003",
     "status": "completed"
    },
    "tags": []
   },
   "outputs": [
    {
     "data": {
      "text/html": [
       "<div>\n",
       "<style scoped>\n",
       "    .dataframe tbody tr th:only-of-type {\n",
       "        vertical-align: middle;\n",
       "    }\n",
       "\n",
       "    .dataframe tbody tr th {\n",
       "        vertical-align: top;\n",
       "    }\n",
       "\n",
       "    .dataframe thead th {\n",
       "        text-align: right;\n",
       "    }\n",
       "</style>\n",
       "<table border=\"1\" class=\"dataframe\">\n",
       "  <thead>\n",
       "    <tr style=\"text-align: right;\">\n",
       "      <th></th>\n",
       "      <th>Membership Type</th>\n",
       "      <th>count</th>\n",
       "    </tr>\n",
       "  </thead>\n",
       "  <tbody>\n",
       "    <tr>\n",
       "      <th>0</th>\n",
       "      <td>Gold</td>\n",
       "      <td>117</td>\n",
       "    </tr>\n",
       "    <tr>\n",
       "      <th>1</th>\n",
       "      <td>Silver</td>\n",
       "      <td>117</td>\n",
       "    </tr>\n",
       "    <tr>\n",
       "      <th>2</th>\n",
       "      <td>Bronze</td>\n",
       "      <td>114</td>\n",
       "    </tr>\n",
       "  </tbody>\n",
       "</table>\n",
       "</div>"
      ],
      "text/plain": [
       "  Membership Type  count\n",
       "0            Gold    117\n",
       "1          Silver    117\n",
       "2          Bronze    114"
      ]
     },
     "execution_count": 27,
     "metadata": {},
     "output_type": "execute_result"
    }
   ],
   "source": [
    "MembershipType = df['Membership Type'].value_counts().reset_index()\n",
    "MembershipType"
   ]
  },
  {
   "cell_type": "code",
   "execution_count": 28,
   "id": "086b712c",
   "metadata": {
    "execution": {
     "iopub.execute_input": "2024-03-18T02:53:51.651490Z",
     "iopub.status.busy": "2024-03-18T02:53:51.651035Z",
     "iopub.status.idle": "2024-03-18T02:53:51.862756Z",
     "shell.execute_reply": "2024-03-18T02:53:51.861109Z"
    },
    "papermill": {
     "duration": 0.238769,
     "end_time": "2024-03-18T02:53:51.866373",
     "exception": false,
     "start_time": "2024-03-18T02:53:51.627604",
     "status": "completed"
    },
    "tags": []
   },
   "outputs": [
    {
     "data": {
      "image/png": "[encoded data removed]",
      "text/plain": [
       "<Figure size 640x480 with 1 Axes>"
      ]
     },
     "metadata": {},
     "output_type": "display_data"
    }
   ],
   "source": [
    "sns.barplot(data=MembershipType, x='Membership Type', y='count' ,palette=['darkred'])\n",
    "plt.legend(loc=(1.1,0.8))\n",
    "plt.show()"
   ]
  },
  {
   "cell_type": "markdown",
   "id": "af80d01a",
   "metadata": {
    "papermill": {
     "duration": 0.028843,
     "end_time": "2024-03-18T02:53:51.925150",
     "exception": false,
     "start_time": "2024-03-18T02:53:51.896307",
     "status": "completed"
    },
    "tags": []
   },
   "source": [
    "**Number of customers in any membership type**"
   ]
  },
  {
   "cell_type": "code",
   "execution_count": 29,
   "id": "a9c4b7d3",
   "metadata": {
    "execution": {
     "iopub.execute_input": "2024-03-18T02:53:51.979341Z",
     "iopub.status.busy": "2024-03-18T02:53:51.978175Z",
     "iopub.status.idle": "2024-03-18T02:53:52.158014Z",
     "shell.execute_reply": "2024-03-18T02:53:52.156797Z"
    },
    "papermill": {
     "duration": 0.206231,
     "end_time": "2024-03-18T02:53:52.160439",
     "exception": false,
     "start_time": "2024-03-18T02:53:51.954208",
     "status": "completed"
    },
    "tags": []
   },
   "outputs": [
    {
     "data": {
      "image/png": "[encoded data removed]",
      "text/plain": [
       "<Figure size 800x800 with 1 Axes>"
      ]
     },
     "metadata": {},
     "output_type": "display_data"
    }
   ],
   "source": [
    "plt.figure(figsize=(8,8))\n",
    "plt.pie(MembershipType['count'], colors=['skyblue', 'pink','darkred'],\n",
    "        shadow=True,labels= MembershipType['Membership Type'],\n",
    "        autopct='%1.2f%%'\n",
    "       )\n",
    "plt.legend(loc=(0.8,1))\n",
    "plt.show()"
   ]
  },
  {
   "cell_type": "markdown",
   "id": "899c8331",
   "metadata": {
    "papermill": {
     "duration": 0.030728,
     "end_time": "2024-03-18T02:53:52.215576",
     "exception": false,
     "start_time": "2024-03-18T02:53:52.184848",
     "status": "completed"
    },
    "tags": []
   },
   "source": [
    "**in percentage**"
   ]
  },
  {
   "cell_type": "markdown",
   "id": "ad26e94a",
   "metadata": {
    "papermill": {
     "duration": 0.024375,
     "end_time": "2024-03-18T02:53:52.265033",
     "exception": false,
     "start_time": "2024-03-18T02:53:52.240658",
     "status": "completed"
    },
    "tags": []
   },
   "source": [
    "<h2>Membership Type and Total Spend<h2>"
   ]
  },
  {
   "cell_type": "code",
   "execution_count": 30,
   "id": "09513b53",
   "metadata": {
    "execution": {
     "iopub.execute_input": "2024-03-18T02:53:52.317403Z",
     "iopub.status.busy": "2024-03-18T02:53:52.316975Z",
     "iopub.status.idle": "2024-03-18T02:53:52.333287Z",
     "shell.execute_reply": "2024-03-18T02:53:52.332422Z"
    },
    "papermill": {
     "duration": 0.045009,
     "end_time": "2024-03-18T02:53:52.335336",
     "exception": false,
     "start_time": "2024-03-18T02:53:52.290327",
     "status": "completed"
    },
    "tags": []
   },
   "outputs": [
    {
     "data": {
      "text/html": [
       "<div>\n",
       "<style scoped>\n",
       "    .dataframe tbody tr th:only-of-type {\n",
       "        vertical-align: middle;\n",
       "    }\n",
       "\n",
       "    .dataframe tbody tr th {\n",
       "        vertical-align: top;\n",
       "    }\n",
       "\n",
       "    .dataframe thead th {\n",
       "        text-align: right;\n",
       "    }\n",
       "</style>\n",
       "<table border=\"1\" class=\"dataframe\">\n",
       "  <thead>\n",
       "    <tr style=\"text-align: right;\">\n",
       "      <th></th>\n",
       "      <th>Membership Type</th>\n",
       "      <th>Total Spend</th>\n",
       "      <th>count</th>\n",
       "    </tr>\n",
       "  </thead>\n",
       "  <tbody>\n",
       "    <tr>\n",
       "      <th>55</th>\n",
       "      <td>Bronze</td>\n",
       "      <td>410.8</td>\n",
       "      <td>1</td>\n",
       "    </tr>\n",
       "    <tr>\n",
       "      <th>39</th>\n",
       "      <td>Bronze</td>\n",
       "      <td>420.8</td>\n",
       "      <td>4</td>\n",
       "    </tr>\n",
       "    <tr>\n",
       "      <th>59</th>\n",
       "      <td>Bronze</td>\n",
       "      <td>430.5</td>\n",
       "      <td>1</td>\n",
       "    </tr>\n",
       "    <tr>\n",
       "      <th>6</th>\n",
       "      <td>Bronze</td>\n",
       "      <td>430.8</td>\n",
       "      <td>11</td>\n",
       "    </tr>\n",
       "    <tr>\n",
       "      <th>41</th>\n",
       "      <td>Bronze</td>\n",
       "      <td>440.5</td>\n",
       "      <td>3</td>\n",
       "    </tr>\n",
       "    <tr>\n",
       "      <th>...</th>\n",
       "      <td>...</td>\n",
       "      <td>...</td>\n",
       "      <td>...</td>\n",
       "    </tr>\n",
       "    <tr>\n",
       "      <th>31</th>\n",
       "      <td>Gold</td>\n",
       "      <td>1480.1</td>\n",
       "      <td>5</td>\n",
       "    </tr>\n",
       "    <tr>\n",
       "      <th>73</th>\n",
       "      <td>Gold</td>\n",
       "      <td>1480.3</td>\n",
       "      <td>1</td>\n",
       "    </tr>\n",
       "    <tr>\n",
       "      <th>7</th>\n",
       "      <td>Gold</td>\n",
       "      <td>1490.1</td>\n",
       "      <td>11</td>\n",
       "    </tr>\n",
       "    <tr>\n",
       "      <th>24</th>\n",
       "      <td>Gold</td>\n",
       "      <td>1500.1</td>\n",
       "      <td>7</td>\n",
       "    </tr>\n",
       "    <tr>\n",
       "      <th>74</th>\n",
       "      <td>Gold</td>\n",
       "      <td>1520.1</td>\n",
       "      <td>1</td>\n",
       "    </tr>\n",
       "  </tbody>\n",
       "</table>\n",
       "<p>76 rows × 3 columns</p>\n",
       "</div>"
      ],
      "text/plain": [
       "   Membership Type  Total Spend  count\n",
       "55          Bronze        410.8      1\n",
       "39          Bronze        420.8      4\n",
       "59          Bronze        430.5      1\n",
       "6           Bronze        430.8     11\n",
       "41          Bronze        440.5      3\n",
       "..             ...          ...    ...\n",
       "31            Gold       1480.1      5\n",
       "73            Gold       1480.3      1\n",
       "7             Gold       1490.1     11\n",
       "24            Gold       1500.1      7\n",
       "74            Gold       1520.1      1\n",
       "\n",
       "[76 rows x 3 columns]"
      ]
     },
     "execution_count": 30,
     "metadata": {},
     "output_type": "execute_result"
    }
   ],
   "source": [
    "MembershipTypeandTotalSpend = df[['Membership Type','Total Spend']].value_counts().reset_index().sort_values(by='Total Spend',ascending=True)\n",
    "MembershipTypeandTotalSpend "
   ]
  },
  {
   "cell_type": "code",
   "execution_count": 31,
   "id": "68d1b39a",
   "metadata": {
    "execution": {
     "iopub.execute_input": "2024-03-18T02:53:52.384197Z",
     "iopub.status.busy": "2024-03-18T02:53:52.383109Z",
     "iopub.status.idle": "2024-03-18T02:53:52.698150Z",
     "shell.execute_reply": "2024-03-18T02:53:52.697145Z"
    },
    "papermill": {
     "duration": 0.343001,
     "end_time": "2024-03-18T02:53:52.701408",
     "exception": false,
     "start_time": "2024-03-18T02:53:52.358407",
     "status": "completed"
    },
    "tags": []
   },
   "outputs": [
    {
     "data": {
      "image/png": "[encoded data removed]",
      "text/plain": [
       "<Figure size 800x800 with 1 Axes>"
      ]
     },
     "metadata": {},
     "output_type": "display_data"
    }
   ],
   "source": [
    "plt.figure(figsize=(8,8))\n",
    "plt.bar(MembershipTypeandTotalSpend['Membership Type'], MembershipTypeandTotalSpend['Total Spend'], label='Total Spend',color='darkred')\n",
    "plt.legend(loc='upper left')  \n",
    "plt.xlabel('Membership Type')\n",
    "plt.ylabel('Total Spend')\n",
    "plt.title('Total Spend by Membership Type')\n",
    "plt.show()\n"
   ]
  },
  {
   "cell_type": "markdown",
   "id": "afb7bd57",
   "metadata": {
    "papermill": {
     "duration": 0.024472,
     "end_time": "2024-03-18T02:53:52.756885",
     "exception": false,
     "start_time": "2024-03-18T02:53:52.732413",
     "status": "completed"
    },
    "tags": []
   },
   "source": [
    "**the mean of Every membership spending time**"
   ]
  },
  {
   "cell_type": "code",
   "execution_count": 32,
   "id": "d18502b9",
   "metadata": {
    "execution": {
     "iopub.execute_input": "2024-03-18T02:53:52.808225Z",
     "iopub.status.busy": "2024-03-18T02:53:52.807066Z",
     "iopub.status.idle": "2024-03-18T02:53:52.822846Z",
     "shell.execute_reply": "2024-03-18T02:53:52.821763Z"
    },
    "papermill": {
     "duration": 0.0446,
     "end_time": "2024-03-18T02:53:52.825287",
     "exception": false,
     "start_time": "2024-03-18T02:53:52.780687",
     "status": "completed"
    },
    "tags": []
   },
   "outputs": [
    {
     "data": {
      "text/html": [
       "<div>\n",
       "<style scoped>\n",
       "    .dataframe tbody tr th:only-of-type {\n",
       "        vertical-align: middle;\n",
       "    }\n",
       "\n",
       "    .dataframe tbody tr th {\n",
       "        vertical-align: top;\n",
       "    }\n",
       "\n",
       "    .dataframe thead th {\n",
       "        text-align: right;\n",
       "    }\n",
       "</style>\n",
       "<table border=\"1\" class=\"dataframe\">\n",
       "  <thead>\n",
       "    <tr style=\"text-align: right;\">\n",
       "      <th></th>\n",
       "      <th>Customer ID</th>\n",
       "      <th>Gender</th>\n",
       "      <th>Age</th>\n",
       "      <th>City</th>\n",
       "      <th>Membership Type</th>\n",
       "      <th>Total Spend</th>\n",
       "      <th>Items Purchased</th>\n",
       "      <th>Average Rating</th>\n",
       "      <th>Discount Applied</th>\n",
       "      <th>Days Since Last Purchase</th>\n",
       "      <th>Satisfaction Level</th>\n",
       "    </tr>\n",
       "  </thead>\n",
       "  <tbody>\n",
       "    <tr>\n",
       "      <th>0</th>\n",
       "      <td>101</td>\n",
       "      <td>Female</td>\n",
       "      <td>29</td>\n",
       "      <td>New York</td>\n",
       "      <td>Gold</td>\n",
       "      <td>1120.20</td>\n",
       "      <td>14</td>\n",
       "      <td>4.6</td>\n",
       "      <td>True</td>\n",
       "      <td>25</td>\n",
       "      <td>Satisfied</td>\n",
       "    </tr>\n",
       "    <tr>\n",
       "      <th>1</th>\n",
       "      <td>102</td>\n",
       "      <td>Male</td>\n",
       "      <td>34</td>\n",
       "      <td>Los Angeles</td>\n",
       "      <td>Silver</td>\n",
       "      <td>780.50</td>\n",
       "      <td>11</td>\n",
       "      <td>4.1</td>\n",
       "      <td>False</td>\n",
       "      <td>18</td>\n",
       "      <td>Neutral</td>\n",
       "    </tr>\n",
       "    <tr>\n",
       "      <th>2</th>\n",
       "      <td>103</td>\n",
       "      <td>Female</td>\n",
       "      <td>43</td>\n",
       "      <td>Chicago</td>\n",
       "      <td>Bronze</td>\n",
       "      <td>510.75</td>\n",
       "      <td>9</td>\n",
       "      <td>3.4</td>\n",
       "      <td>True</td>\n",
       "      <td>42</td>\n",
       "      <td>Unsatisfied</td>\n",
       "    </tr>\n",
       "    <tr>\n",
       "      <th>3</th>\n",
       "      <td>104</td>\n",
       "      <td>Male</td>\n",
       "      <td>30</td>\n",
       "      <td>San Francisco</td>\n",
       "      <td>Gold</td>\n",
       "      <td>1480.30</td>\n",
       "      <td>19</td>\n",
       "      <td>4.7</td>\n",
       "      <td>False</td>\n",
       "      <td>12</td>\n",
       "      <td>Satisfied</td>\n",
       "    </tr>\n",
       "    <tr>\n",
       "      <th>4</th>\n",
       "      <td>105</td>\n",
       "      <td>Male</td>\n",
       "      <td>27</td>\n",
       "      <td>Miami</td>\n",
       "      <td>Silver</td>\n",
       "      <td>720.40</td>\n",
       "      <td>13</td>\n",
       "      <td>4.0</td>\n",
       "      <td>True</td>\n",
       "      <td>55</td>\n",
       "      <td>Unsatisfied</td>\n",
       "    </tr>\n",
       "  </tbody>\n",
       "</table>\n",
       "</div>"
      ],
      "text/plain": [
       "   Customer ID  Gender  Age           City Membership Type  Total Spend  \\\n",
       "0          101  Female   29       New York            Gold      1120.20   \n",
       "1          102    Male   34    Los Angeles          Silver       780.50   \n",
       "2          103  Female   43        Chicago          Bronze       510.75   \n",
       "3          104    Male   30  San Francisco            Gold      1480.30   \n",
       "4          105    Male   27          Miami          Silver       720.40   \n",
       "\n",
       "   Items Purchased  Average Rating  Discount Applied  \\\n",
       "0               14             4.6              True   \n",
       "1               11             4.1             False   \n",
       "2                9             3.4              True   \n",
       "3               19             4.7             False   \n",
       "4               13             4.0              True   \n",
       "\n",
       "   Days Since Last Purchase Satisfaction Level  \n",
       "0                        25          Satisfied  \n",
       "1                        18            Neutral  \n",
       "2                        42        Unsatisfied  \n",
       "3                        12          Satisfied  \n",
       "4                        55        Unsatisfied  "
      ]
     },
     "execution_count": 32,
     "metadata": {},
     "output_type": "execute_result"
    }
   ],
   "source": [
    "df.head()"
   ]
  },
  {
   "cell_type": "markdown",
   "id": "f40c5d59",
   "metadata": {
    "papermill": {
     "duration": 0.024389,
     "end_time": "2024-03-18T02:53:52.875053",
     "exception": false,
     "start_time": "2024-03-18T02:53:52.850664",
     "status": "completed"
    },
    "tags": []
   },
   "source": [
    "<h2>Distribution Days Since Last Purchase<h2>"
   ]
  },
  {
   "cell_type": "code",
   "execution_count": 33,
   "id": "910406f2",
   "metadata": {
    "execution": {
     "iopub.execute_input": "2024-03-18T02:53:52.926513Z",
     "iopub.status.busy": "2024-03-18T02:53:52.926069Z",
     "iopub.status.idle": "2024-03-18T02:53:53.191712Z",
     "shell.execute_reply": "2024-03-18T02:53:53.190288Z"
    },
    "papermill": {
     "duration": 0.294433,
     "end_time": "2024-03-18T02:53:53.194277",
     "exception": false,
     "start_time": "2024-03-18T02:53:52.899844",
     "status": "completed"
    },
    "tags": []
   },
   "outputs": [
    {
     "name": "stderr",
     "output_type": "stream",
     "text": [
      "/opt/conda/lib/python3.10/site-packages/seaborn/_oldcore.py:1119: FutureWarning: use_inf_as_na option is deprecated and will be removed in a future version. Convert inf values to NaN before operating instead.\n",
      "  with pd.option_context('mode.use_inf_as_na', True):\n"
     ]
    },
    {
     "data": {
      "image/png": "[encoded data removed]",
      "text/plain": [
       "<Figure size 800x600 with 1 Axes>"
      ]
     },
     "metadata": {},
     "output_type": "display_data"
    }
   ],
   "source": [
    "plt.figure(figsize=(8, 6))\n",
    "sns.histplot(df['Days Since Last Purchase'],color='darkred')\n",
    "plt.title(\"Distribution of Days Since Last Purchase\")\n",
    "plt.show()"
   ]
  },
  {
   "cell_type": "markdown",
   "id": "3ce452b0",
   "metadata": {
    "papermill": {
     "duration": 0.025135,
     "end_time": "2024-03-18T02:53:53.244600",
     "exception": false,
     "start_time": "2024-03-18T02:53:53.219465",
     "status": "completed"
    },
    "tags": []
   },
   "source": [
    "<h2>Satisfaction Level<h2>"
   ]
  },
  {
   "cell_type": "code",
   "execution_count": 34,
   "id": "5b362728",
   "metadata": {
    "execution": {
     "iopub.execute_input": "2024-03-18T02:53:53.296926Z",
     "iopub.status.busy": "2024-03-18T02:53:53.296507Z",
     "iopub.status.idle": "2024-03-18T02:53:53.307839Z",
     "shell.execute_reply": "2024-03-18T02:53:53.306946Z"
    },
    "papermill": {
     "duration": 0.04004,
     "end_time": "2024-03-18T02:53:53.309965",
     "exception": false,
     "start_time": "2024-03-18T02:53:53.269925",
     "status": "completed"
    },
    "tags": []
   },
   "outputs": [
    {
     "data": {
      "text/html": [
       "<div>\n",
       "<style scoped>\n",
       "    .dataframe tbody tr th:only-of-type {\n",
       "        vertical-align: middle;\n",
       "    }\n",
       "\n",
       "    .dataframe tbody tr th {\n",
       "        vertical-align: top;\n",
       "    }\n",
       "\n",
       "    .dataframe thead th {\n",
       "        text-align: right;\n",
       "    }\n",
       "</style>\n",
       "<table border=\"1\" class=\"dataframe\">\n",
       "  <thead>\n",
       "    <tr style=\"text-align: right;\">\n",
       "      <th></th>\n",
       "      <th>Satisfaction Level</th>\n",
       "      <th>count</th>\n",
       "    </tr>\n",
       "  </thead>\n",
       "  <tbody>\n",
       "    <tr>\n",
       "      <th>0</th>\n",
       "      <td>Satisfied</td>\n",
       "      <td>125</td>\n",
       "    </tr>\n",
       "    <tr>\n",
       "      <th>1</th>\n",
       "      <td>Unsatisfied</td>\n",
       "      <td>116</td>\n",
       "    </tr>\n",
       "    <tr>\n",
       "      <th>2</th>\n",
       "      <td>Neutral</td>\n",
       "      <td>107</td>\n",
       "    </tr>\n",
       "  </tbody>\n",
       "</table>\n",
       "</div>"
      ],
      "text/plain": [
       "  Satisfaction Level  count\n",
       "0          Satisfied    125\n",
       "1        Unsatisfied    116\n",
       "2            Neutral    107"
      ]
     },
     "execution_count": 34,
     "metadata": {},
     "output_type": "execute_result"
    }
   ],
   "source": [
    "SatisfactionLevel = df['Satisfaction Level'].value_counts().reset_index()\n",
    "SatisfactionLevel"
   ]
  },
  {
   "cell_type": "code",
   "execution_count": 35,
   "id": "3ee052b1",
   "metadata": {
    "execution": {
     "iopub.execute_input": "2024-03-18T02:53:53.363825Z",
     "iopub.status.busy": "2024-03-18T02:53:53.363389Z",
     "iopub.status.idle": "2024-03-18T02:53:53.578448Z",
     "shell.execute_reply": "2024-03-18T02:53:53.577307Z"
    },
    "papermill": {
     "duration": 0.244849,
     "end_time": "2024-03-18T02:53:53.581020",
     "exception": false,
     "start_time": "2024-03-18T02:53:53.336171",
     "status": "completed"
    },
    "tags": []
   },
   "outputs": [
    {
     "data": {
      "image/png": "[encoded data removed]",
      "text/plain": [
       "<Figure size 800x800 with 1 Axes>"
      ]
     },
     "metadata": {},
     "output_type": "display_data"
    }
   ],
   "source": [
    "xticks = SatisfactionLevel['Satisfaction Level']\n",
    "plt.figure(figsize=(8,8))\n",
    "plt.bar(SatisfactionLevel['Satisfaction Level'], SatisfactionLevel['count'], label='Satisfaction Level',color='darkred')\n",
    "plt.legend(loc='upper right')  # Adjust the location of the legend as needed\n",
    "plt.xlabel('Satisfaction Level')\n",
    "plt.ylabel('Count')\n",
    "plt.xticks(xticks,rotation=45)\n",
    "plt.title('Satisfaction Level VS count')\n",
    "plt.show()\n"
   ]
  },
  {
   "cell_type": "markdown",
   "id": "a695b4a0",
   "metadata": {
    "papermill": {
     "duration": 0.024822,
     "end_time": "2024-03-18T02:53:53.632045",
     "exception": false,
     "start_time": "2024-03-18T02:53:53.607223",
     "status": "completed"
    },
    "tags": []
   },
   "source": [
    "**The number for every type of Satisfaction Level**"
   ]
  },
  {
   "cell_type": "markdown",
   "id": "ffef5ba1",
   "metadata": {
    "papermill": {
     "duration": 0.024764,
     "end_time": "2024-03-18T02:53:53.682051",
     "exception": false,
     "start_time": "2024-03-18T02:53:53.657287",
     "status": "completed"
    },
    "tags": []
   },
   "source": [
    "<h2>Satistaction Level and average spend<h2>"
   ]
  },
  {
   "cell_type": "code",
   "execution_count": 36,
   "id": "039de026",
   "metadata": {
    "execution": {
     "iopub.execute_input": "2024-03-18T02:53:53.735068Z",
     "iopub.status.busy": "2024-03-18T02:53:53.733925Z",
     "iopub.status.idle": "2024-03-18T02:53:53.748879Z",
     "shell.execute_reply": "2024-03-18T02:53:53.747701Z"
    },
    "papermill": {
     "duration": 0.043852,
     "end_time": "2024-03-18T02:53:53.751219",
     "exception": false,
     "start_time": "2024-03-18T02:53:53.707367",
     "status": "completed"
    },
    "tags": []
   },
   "outputs": [
    {
     "data": {
      "text/html": [
       "<div>\n",
       "<style scoped>\n",
       "    .dataframe tbody tr th:only-of-type {\n",
       "        vertical-align: middle;\n",
       "    }\n",
       "\n",
       "    .dataframe tbody tr th {\n",
       "        vertical-align: top;\n",
       "    }\n",
       "\n",
       "    .dataframe thead th {\n",
       "        text-align: right;\n",
       "    }\n",
       "</style>\n",
       "<table border=\"1\" class=\"dataframe\">\n",
       "  <thead>\n",
       "    <tr style=\"text-align: right;\">\n",
       "      <th></th>\n",
       "      <th>Satisfaction Level</th>\n",
       "      <th>Total Spend</th>\n",
       "    </tr>\n",
       "  </thead>\n",
       "  <tbody>\n",
       "    <tr>\n",
       "      <th>0</th>\n",
       "      <td>Neutral</td>\n",
       "      <td>616.414019</td>\n",
       "    </tr>\n",
       "    <tr>\n",
       "      <th>1</th>\n",
       "      <td>Satisfied</td>\n",
       "      <td>1280.319200</td>\n",
       "    </tr>\n",
       "    <tr>\n",
       "      <th>2</th>\n",
       "      <td>Unsatisfied</td>\n",
       "      <td>595.136207</td>\n",
       "    </tr>\n",
       "  </tbody>\n",
       "</table>\n",
       "</div>"
      ],
      "text/plain": [
       "  Satisfaction Level  Total Spend\n",
       "0            Neutral   616.414019\n",
       "1          Satisfied  1280.319200\n",
       "2        Unsatisfied   595.136207"
      ]
     },
     "execution_count": 36,
     "metadata": {},
     "output_type": "execute_result"
    }
   ],
   "source": [
    "SatistactionLevelandaveragespend = df.groupby('Satisfaction Level')['Total Spend'].mean().reset_index()\n",
    "SatistactionLevelandaveragespend"
   ]
  },
  {
   "cell_type": "code",
   "execution_count": 37,
   "id": "bd99d4d9",
   "metadata": {
    "execution": {
     "iopub.execute_input": "2024-03-18T02:53:53.805834Z",
     "iopub.status.busy": "2024-03-18T02:53:53.804634Z",
     "iopub.status.idle": "2024-03-18T02:53:54.014711Z",
     "shell.execute_reply": "2024-03-18T02:53:54.013561Z"
    },
    "papermill": {
     "duration": 0.240459,
     "end_time": "2024-03-18T02:53:54.017481",
     "exception": false,
     "start_time": "2024-03-18T02:53:53.777022",
     "status": "completed"
    },
    "tags": []
   },
   "outputs": [
    {
     "data": {
      "image/png": "[encoded data removed]",
      "text/plain": [
       "<Figure size 800x800 with 1 Axes>"
      ]
     },
     "metadata": {},
     "output_type": "display_data"
    }
   ],
   "source": [
    "xticks = SatistactionLevelandaveragespend['Satisfaction Level']\n",
    "plt.figure(figsize=(8,8))\n",
    "plt.bar(SatistactionLevelandaveragespend['Satisfaction Level'], SatistactionLevelandaveragespend['Total Spend'], label='Satisfaction Level',color='darkred')\n",
    "plt.legend(loc='upper right')  # Adjust the location of the legend as needed\n",
    "plt.xlabel('Satisfaction Level')\n",
    "plt.ylabel('average spend')\n",
    "plt.xticks(xticks,rotation=45)\n",
    "plt.title('Satistaction Level and average spend')\n",
    "plt.show()\n"
   ]
  },
  {
   "cell_type": "markdown",
   "id": "ed2660fa",
   "metadata": {
    "papermill": {
     "duration": 0.026352,
     "end_time": "2024-03-18T02:53:54.070020",
     "exception": false,
     "start_time": "2024-03-18T02:53:54.043668",
     "status": "completed"
    },
    "tags": []
   },
   "source": [
    "**Satistaction Level and average spend**"
   ]
  },
  {
   "cell_type": "code",
   "execution_count": 38,
   "id": "0fccfd25",
   "metadata": {
    "execution": {
     "iopub.execute_input": "2024-03-18T02:53:54.128421Z",
     "iopub.status.busy": "2024-03-18T02:53:54.127624Z",
     "iopub.status.idle": "2024-03-18T02:53:54.143162Z",
     "shell.execute_reply": "2024-03-18T02:53:54.142017Z"
    },
    "papermill": {
     "duration": 0.048489,
     "end_time": "2024-03-18T02:53:54.145798",
     "exception": false,
     "start_time": "2024-03-18T02:53:54.097309",
     "status": "completed"
    },
    "tags": []
   },
   "outputs": [
    {
     "data": {
      "text/html": [
       "<div>\n",
       "<style scoped>\n",
       "    .dataframe tbody tr th:only-of-type {\n",
       "        vertical-align: middle;\n",
       "    }\n",
       "\n",
       "    .dataframe tbody tr th {\n",
       "        vertical-align: top;\n",
       "    }\n",
       "\n",
       "    .dataframe thead th {\n",
       "        text-align: right;\n",
       "    }\n",
       "</style>\n",
       "<table border=\"1\" class=\"dataframe\">\n",
       "  <thead>\n",
       "    <tr style=\"text-align: right;\">\n",
       "      <th></th>\n",
       "      <th>Customer ID</th>\n",
       "      <th>Gender</th>\n",
       "      <th>Age</th>\n",
       "      <th>City</th>\n",
       "      <th>Membership Type</th>\n",
       "      <th>Total Spend</th>\n",
       "      <th>Items Purchased</th>\n",
       "      <th>Average Rating</th>\n",
       "      <th>Discount Applied</th>\n",
       "      <th>Days Since Last Purchase</th>\n",
       "      <th>Satisfaction Level</th>\n",
       "    </tr>\n",
       "  </thead>\n",
       "  <tbody>\n",
       "    <tr>\n",
       "      <th>0</th>\n",
       "      <td>101</td>\n",
       "      <td>Female</td>\n",
       "      <td>29</td>\n",
       "      <td>New York</td>\n",
       "      <td>Gold</td>\n",
       "      <td>1120.20</td>\n",
       "      <td>14</td>\n",
       "      <td>4.6</td>\n",
       "      <td>True</td>\n",
       "      <td>25</td>\n",
       "      <td>Satisfied</td>\n",
       "    </tr>\n",
       "    <tr>\n",
       "      <th>1</th>\n",
       "      <td>102</td>\n",
       "      <td>Male</td>\n",
       "      <td>34</td>\n",
       "      <td>Los Angeles</td>\n",
       "      <td>Silver</td>\n",
       "      <td>780.50</td>\n",
       "      <td>11</td>\n",
       "      <td>4.1</td>\n",
       "      <td>False</td>\n",
       "      <td>18</td>\n",
       "      <td>Neutral</td>\n",
       "    </tr>\n",
       "    <tr>\n",
       "      <th>2</th>\n",
       "      <td>103</td>\n",
       "      <td>Female</td>\n",
       "      <td>43</td>\n",
       "      <td>Chicago</td>\n",
       "      <td>Bronze</td>\n",
       "      <td>510.75</td>\n",
       "      <td>9</td>\n",
       "      <td>3.4</td>\n",
       "      <td>True</td>\n",
       "      <td>42</td>\n",
       "      <td>Unsatisfied</td>\n",
       "    </tr>\n",
       "    <tr>\n",
       "      <th>3</th>\n",
       "      <td>104</td>\n",
       "      <td>Male</td>\n",
       "      <td>30</td>\n",
       "      <td>San Francisco</td>\n",
       "      <td>Gold</td>\n",
       "      <td>1480.30</td>\n",
       "      <td>19</td>\n",
       "      <td>4.7</td>\n",
       "      <td>False</td>\n",
       "      <td>12</td>\n",
       "      <td>Satisfied</td>\n",
       "    </tr>\n",
       "    <tr>\n",
       "      <th>4</th>\n",
       "      <td>105</td>\n",
       "      <td>Male</td>\n",
       "      <td>27</td>\n",
       "      <td>Miami</td>\n",
       "      <td>Silver</td>\n",
       "      <td>720.40</td>\n",
       "      <td>13</td>\n",
       "      <td>4.0</td>\n",
       "      <td>True</td>\n",
       "      <td>55</td>\n",
       "      <td>Unsatisfied</td>\n",
       "    </tr>\n",
       "  </tbody>\n",
       "</table>\n",
       "</div>"
      ],
      "text/plain": [
       "   Customer ID  Gender  Age           City Membership Type  Total Spend  \\\n",
       "0          101  Female   29       New York            Gold      1120.20   \n",
       "1          102    Male   34    Los Angeles          Silver       780.50   \n",
       "2          103  Female   43        Chicago          Bronze       510.75   \n",
       "3          104    Male   30  San Francisco            Gold      1480.30   \n",
       "4          105    Male   27          Miami          Silver       720.40   \n",
       "\n",
       "   Items Purchased  Average Rating  Discount Applied  \\\n",
       "0               14             4.6              True   \n",
       "1               11             4.1             False   \n",
       "2                9             3.4              True   \n",
       "3               19             4.7             False   \n",
       "4               13             4.0              True   \n",
       "\n",
       "   Days Since Last Purchase Satisfaction Level  \n",
       "0                        25          Satisfied  \n",
       "1                        18            Neutral  \n",
       "2                        42        Unsatisfied  \n",
       "3                        12          Satisfied  \n",
       "4                        55        Unsatisfied  "
      ]
     },
     "execution_count": 38,
     "metadata": {},
     "output_type": "execute_result"
    }
   ],
   "source": [
    "df.head()"
   ]
  },
  {
   "cell_type": "markdown",
   "id": "d45d71a9",
   "metadata": {
    "papermill": {
     "duration": 0.026448,
     "end_time": "2024-03-18T02:53:54.199411",
     "exception": false,
     "start_time": "2024-03-18T02:53:54.172963",
     "status": "completed"
    },
    "tags": []
   },
   "source": [
    "<h2>Items Purschased with Satisfaction Level<h2>"
   ]
  },
  {
   "cell_type": "code",
   "execution_count": 39,
   "id": "7f477132",
   "metadata": {
    "execution": {
     "iopub.execute_input": "2024-03-18T02:53:54.257155Z",
     "iopub.status.busy": "2024-03-18T02:53:54.256718Z",
     "iopub.status.idle": "2024-03-18T02:53:54.271391Z",
     "shell.execute_reply": "2024-03-18T02:53:54.268879Z"
    },
    "papermill": {
     "duration": 0.04734,
     "end_time": "2024-03-18T02:53:54.273767",
     "exception": false,
     "start_time": "2024-03-18T02:53:54.226427",
     "status": "completed"
    },
    "tags": []
   },
   "outputs": [
    {
     "data": {
      "text/html": [
       "<div>\n",
       "<style scoped>\n",
       "    .dataframe tbody tr th:only-of-type {\n",
       "        vertical-align: middle;\n",
       "    }\n",
       "\n",
       "    .dataframe tbody tr th {\n",
       "        vertical-align: top;\n",
       "    }\n",
       "\n",
       "    .dataframe thead th {\n",
       "        text-align: right;\n",
       "    }\n",
       "</style>\n",
       "<table border=\"1\" class=\"dataframe\">\n",
       "  <thead>\n",
       "    <tr style=\"text-align: right;\">\n",
       "      <th></th>\n",
       "      <th>Satisfaction Level</th>\n",
       "      <th>Items Purchased</th>\n",
       "    </tr>\n",
       "  </thead>\n",
       "  <tbody>\n",
       "    <tr>\n",
       "      <th>0</th>\n",
       "      <td>Neutral</td>\n",
       "      <td>9.439252</td>\n",
       "    </tr>\n",
       "    <tr>\n",
       "      <th>1</th>\n",
       "      <td>Satisfied</td>\n",
       "      <td>17.320000</td>\n",
       "    </tr>\n",
       "    <tr>\n",
       "      <th>2</th>\n",
       "      <td>Unsatisfied</td>\n",
       "      <td>10.525862</td>\n",
       "    </tr>\n",
       "  </tbody>\n",
       "</table>\n",
       "</div>"
      ],
      "text/plain": [
       "  Satisfaction Level  Items Purchased\n",
       "0            Neutral         9.439252\n",
       "1          Satisfied        17.320000\n",
       "2        Unsatisfied        10.525862"
      ]
     },
     "execution_count": 39,
     "metadata": {},
     "output_type": "execute_result"
    }
   ],
   "source": [
    "ItemsPurschased = df.groupby('Satisfaction Level')['Items Purchased'].mean().reset_index()\n",
    "ItemsPurschased"
   ]
  },
  {
   "cell_type": "code",
   "execution_count": 40,
   "id": "e7f3c816",
   "metadata": {
    "execution": {
     "iopub.execute_input": "2024-03-18T02:53:54.329922Z",
     "iopub.status.busy": "2024-03-18T02:53:54.329494Z",
     "iopub.status.idle": "2024-03-18T02:53:54.506644Z",
     "shell.execute_reply": "2024-03-18T02:53:54.505318Z"
    },
    "papermill": {
     "duration": 0.208788,
     "end_time": "2024-03-18T02:53:54.509335",
     "exception": false,
     "start_time": "2024-03-18T02:53:54.300547",
     "status": "completed"
    },
    "tags": []
   },
   "outputs": [
    {
     "data": {
      "image/png": "[encoded data removed]",
      "text/plain": [
       "<Figure size 800x800 with 1 Axes>"
      ]
     },
     "metadata": {},
     "output_type": "display_data"
    }
   ],
   "source": [
    "plt.figure(figsize=(8,8))\n",
    "plt.bar(ItemsPurschased['Satisfaction Level'],ItemsPurschased['Items Purchased'],\n",
    "        label='Satisfaction Level',color='darkred'\n",
    "       )\n",
    "plt.legend()\n",
    "plt.show()"
   ]
  },
  {
   "cell_type": "markdown",
   "id": "52274283",
   "metadata": {
    "papermill": {
     "duration": 0.026728,
     "end_time": "2024-03-18T02:53:54.562865",
     "exception": false,
     "start_time": "2024-03-18T02:53:54.536137",
     "status": "completed"
    },
    "tags": []
   },
   "source": [
    "**Satistaction Level and average ItemsPurschased**"
   ]
  },
  {
   "cell_type": "markdown",
   "id": "218c599f",
   "metadata": {
    "papermill": {
     "duration": 0.027575,
     "end_time": "2024-03-18T02:53:54.617490",
     "exception": false,
     "start_time": "2024-03-18T02:53:54.589915",
     "status": "completed"
    },
    "tags": []
   },
   "source": [
    "<h2>Items Purschased with Gender<h2>"
   ]
  },
  {
   "cell_type": "code",
   "execution_count": 41,
   "id": "81167eaa",
   "metadata": {
    "execution": {
     "iopub.execute_input": "2024-03-18T02:53:54.674954Z",
     "iopub.status.busy": "2024-03-18T02:53:54.674174Z",
     "iopub.status.idle": "2024-03-18T02:53:54.688709Z",
     "shell.execute_reply": "2024-03-18T02:53:54.687594Z"
    },
    "papermill": {
     "duration": 0.046065,
     "end_time": "2024-03-18T02:53:54.691014",
     "exception": false,
     "start_time": "2024-03-18T02:53:54.644949",
     "status": "completed"
    },
    "tags": []
   },
   "outputs": [
    {
     "data": {
      "text/html": [
       "<div>\n",
       "<style scoped>\n",
       "    .dataframe tbody tr th:only-of-type {\n",
       "        vertical-align: middle;\n",
       "    }\n",
       "\n",
       "    .dataframe tbody tr th {\n",
       "        vertical-align: top;\n",
       "    }\n",
       "\n",
       "    .dataframe thead th {\n",
       "        text-align: right;\n",
       "    }\n",
       "</style>\n",
       "<table border=\"1\" class=\"dataframe\">\n",
       "  <thead>\n",
       "    <tr style=\"text-align: right;\">\n",
       "      <th></th>\n",
       "      <th>Gender</th>\n",
       "      <th>Items Purchased</th>\n",
       "      <th>count</th>\n",
       "    </tr>\n",
       "  </thead>\n",
       "  <tbody>\n",
       "    <tr>\n",
       "      <th>0</th>\n",
       "      <td>Female</td>\n",
       "      <td>9</td>\n",
       "      <td>34</td>\n",
       "    </tr>\n",
       "    <tr>\n",
       "      <th>1</th>\n",
       "      <td>Female</td>\n",
       "      <td>8</td>\n",
       "      <td>33</td>\n",
       "    </tr>\n",
       "    <tr>\n",
       "      <th>2</th>\n",
       "      <td>Female</td>\n",
       "      <td>10</td>\n",
       "      <td>24</td>\n",
       "    </tr>\n",
       "    <tr>\n",
       "      <th>3</th>\n",
       "      <td>Female</td>\n",
       "      <td>15</td>\n",
       "      <td>24</td>\n",
       "    </tr>\n",
       "    <tr>\n",
       "      <th>4</th>\n",
       "      <td>Female</td>\n",
       "      <td>16</td>\n",
       "      <td>24</td>\n",
       "    </tr>\n",
       "    <tr>\n",
       "      <th>5</th>\n",
       "      <td>Female</td>\n",
       "      <td>7</td>\n",
       "      <td>23</td>\n",
       "    </tr>\n",
       "    <tr>\n",
       "      <th>6</th>\n",
       "      <td>Female</td>\n",
       "      <td>14</td>\n",
       "      <td>11</td>\n",
       "    </tr>\n",
       "    <tr>\n",
       "      <th>7</th>\n",
       "      <td>Male</td>\n",
       "      <td>12</td>\n",
       "      <td>33</td>\n",
       "    </tr>\n",
       "    <tr>\n",
       "      <th>8</th>\n",
       "      <td>Male</td>\n",
       "      <td>13</td>\n",
       "      <td>32</td>\n",
       "    </tr>\n",
       "    <tr>\n",
       "      <th>9</th>\n",
       "      <td>Male</td>\n",
       "      <td>11</td>\n",
       "      <td>28</td>\n",
       "    </tr>\n",
       "    <tr>\n",
       "      <th>10</th>\n",
       "      <td>Male</td>\n",
       "      <td>21</td>\n",
       "      <td>24</td>\n",
       "    </tr>\n",
       "    <tr>\n",
       "      <th>11</th>\n",
       "      <td>Male</td>\n",
       "      <td>10</td>\n",
       "      <td>23</td>\n",
       "    </tr>\n",
       "    <tr>\n",
       "      <th>12</th>\n",
       "      <td>Male</td>\n",
       "      <td>20</td>\n",
       "      <td>19</td>\n",
       "    </tr>\n",
       "    <tr>\n",
       "      <th>13</th>\n",
       "      <td>Male</td>\n",
       "      <td>18</td>\n",
       "      <td>9</td>\n",
       "    </tr>\n",
       "    <tr>\n",
       "      <th>14</th>\n",
       "      <td>Male</td>\n",
       "      <td>19</td>\n",
       "      <td>6</td>\n",
       "    </tr>\n",
       "    <tr>\n",
       "      <th>15</th>\n",
       "      <td>Male</td>\n",
       "      <td>17</td>\n",
       "      <td>1</td>\n",
       "    </tr>\n",
       "  </tbody>\n",
       "</table>\n",
       "</div>"
      ],
      "text/plain": [
       "    Gender  Items Purchased  count\n",
       "0   Female                9     34\n",
       "1   Female                8     33\n",
       "2   Female               10     24\n",
       "3   Female               15     24\n",
       "4   Female               16     24\n",
       "5   Female                7     23\n",
       "6   Female               14     11\n",
       "7     Male               12     33\n",
       "8     Male               13     32\n",
       "9     Male               11     28\n",
       "10    Male               21     24\n",
       "11    Male               10     23\n",
       "12    Male               20     19\n",
       "13    Male               18      9\n",
       "14    Male               19      6\n",
       "15    Male               17      1"
      ]
     },
     "execution_count": 41,
     "metadata": {},
     "output_type": "execute_result"
    }
   ],
   "source": [
    "ItemsPurschased = df.groupby('Gender')['Items Purchased'].value_counts().reset_index()\n",
    "ItemsPurschased"
   ]
  },
  {
   "cell_type": "code",
   "execution_count": 42,
   "id": "e49a4248",
   "metadata": {
    "execution": {
     "iopub.execute_input": "2024-03-18T02:53:54.748286Z",
     "iopub.status.busy": "2024-03-18T02:53:54.747841Z",
     "iopub.status.idle": "2024-03-18T02:53:55.042581Z",
     "shell.execute_reply": "2024-03-18T02:53:55.041043Z"
    },
    "papermill": {
     "duration": 0.326399,
     "end_time": "2024-03-18T02:53:55.045135",
     "exception": false,
     "start_time": "2024-03-18T02:53:54.718736",
     "status": "completed"
    },
    "tags": []
   },
   "outputs": [
    {
     "data": {
      "image/png": "[encoded data removed]",
      "text/plain": [
       "<Figure size 800x800 with 1 Axes>"
      ]
     },
     "metadata": {},
     "output_type": "display_data"
    }
   ],
   "source": [
    "plt.figure(figsize=(8, 8))\n",
    "sns.barplot(data=ItemsPurschased, x='Gender', y='Items Purchased', hue='Gender',\n",
    "            palette=['pink', 'skyblue'])\n",
    "\n",
    "plt.legend(title='Gender')\n",
    "plt.xlabel('Gender')\n",
    "plt.ylabel('Items Purchased')\n",
    "plt.title('Items Purchased by Gender')\n",
    "plt.show()"
   ]
  },
  {
   "cell_type": "markdown",
   "id": "1a86f8ab",
   "metadata": {
    "papermill": {
     "duration": 0.03491,
     "end_time": "2024-03-18T02:53:55.108689",
     "exception": false,
     "start_time": "2024-03-18T02:53:55.073779",
     "status": "completed"
    },
    "tags": []
   },
   "source": [
    "**how many ItemsPurschased gender buy**"
   ]
  },
  {
   "cell_type": "markdown",
   "id": "88c669a2",
   "metadata": {
    "papermill": {
     "duration": 0.02808,
     "end_time": "2024-03-18T02:53:55.167870",
     "exception": false,
     "start_time": "2024-03-18T02:53:55.139790",
     "status": "completed"
    },
    "tags": []
   },
   "source": [
    "<h2>Discount Applied<h2>"
   ]
  },
  {
   "cell_type": "code",
   "execution_count": 43,
   "id": "3431421c",
   "metadata": {
    "execution": {
     "iopub.execute_input": "2024-03-18T02:53:55.225761Z",
     "iopub.status.busy": "2024-03-18T02:53:55.224853Z",
     "iopub.status.idle": "2024-03-18T02:53:55.237846Z",
     "shell.execute_reply": "2024-03-18T02:53:55.237039Z"
    },
    "papermill": {
     "duration": 0.044546,
     "end_time": "2024-03-18T02:53:55.239912",
     "exception": false,
     "start_time": "2024-03-18T02:53:55.195366",
     "status": "completed"
    },
    "tags": []
   },
   "outputs": [
    {
     "data": {
      "text/html": [
       "<div>\n",
       "<style scoped>\n",
       "    .dataframe tbody tr th:only-of-type {\n",
       "        vertical-align: middle;\n",
       "    }\n",
       "\n",
       "    .dataframe tbody tr th {\n",
       "        vertical-align: top;\n",
       "    }\n",
       "\n",
       "    .dataframe thead th {\n",
       "        text-align: right;\n",
       "    }\n",
       "</style>\n",
       "<table border=\"1\" class=\"dataframe\">\n",
       "  <thead>\n",
       "    <tr style=\"text-align: right;\">\n",
       "      <th></th>\n",
       "      <th>Discount Applied</th>\n",
       "      <th>count</th>\n",
       "    </tr>\n",
       "  </thead>\n",
       "  <tbody>\n",
       "    <tr>\n",
       "      <th>0</th>\n",
       "      <td>True</td>\n",
       "      <td>175</td>\n",
       "    </tr>\n",
       "    <tr>\n",
       "      <th>1</th>\n",
       "      <td>False</td>\n",
       "      <td>173</td>\n",
       "    </tr>\n",
       "  </tbody>\n",
       "</table>\n",
       "</div>"
      ],
      "text/plain": [
       "   Discount Applied  count\n",
       "0              True    175\n",
       "1             False    173"
      ]
     },
     "execution_count": 43,
     "metadata": {},
     "output_type": "execute_result"
    }
   ],
   "source": [
    "DiscountApplied = df['Discount Applied'].value_counts().reset_index()\n",
    "DiscountApplied"
   ]
  },
  {
   "cell_type": "code",
   "execution_count": 44,
   "id": "7ed95f55",
   "metadata": {
    "execution": {
     "iopub.execute_input": "2024-03-18T02:53:55.300374Z",
     "iopub.status.busy": "2024-03-18T02:53:55.299563Z",
     "iopub.status.idle": "2024-03-18T02:53:55.493035Z",
     "shell.execute_reply": "2024-03-18T02:53:55.492103Z"
    },
    "papermill": {
     "duration": 0.229773,
     "end_time": "2024-03-18T02:53:55.498030",
     "exception": false,
     "start_time": "2024-03-18T02:53:55.268257",
     "status": "completed"
    },
    "tags": []
   },
   "outputs": [
    {
     "data": {
      "image/png": "[encoded data removed]",
      "text/plain": [
       "<Figure size 800x800 with 1 Axes>"
      ]
     },
     "metadata": {},
     "output_type": "display_data"
    }
   ],
   "source": [
    "plt.figure(figsize=(8,8))\n",
    "plt.pie(DiscountApplied['count'], colors=['skyblue', 'pink'],\n",
    "        shadow=True,labels=DiscountApplied['Discount Applied'],\n",
    "        autopct='%1.2f%%'\n",
    "       )\n",
    "plt.legend()\n",
    "plt.show()"
   ]
  },
  {
   "cell_type": "markdown",
   "id": "26144903",
   "metadata": {
    "papermill": {
     "duration": 0.028753,
     "end_time": "2024-03-18T02:53:55.565898",
     "exception": false,
     "start_time": "2024-03-18T02:53:55.537145",
     "status": "completed"
    },
    "tags": []
   },
   "source": [
    "<h2>Discount Applied with Gender<h2>"
   ]
  },
  {
   "cell_type": "code",
   "execution_count": 45,
   "id": "61c054d9",
   "metadata": {
    "execution": {
     "iopub.execute_input": "2024-03-18T02:53:55.626393Z",
     "iopub.status.busy": "2024-03-18T02:53:55.625299Z",
     "iopub.status.idle": "2024-03-18T02:53:55.638755Z",
     "shell.execute_reply": "2024-03-18T02:53:55.637942Z"
    },
    "papermill": {
     "duration": 0.045564,
     "end_time": "2024-03-18T02:53:55.640956",
     "exception": false,
     "start_time": "2024-03-18T02:53:55.595392",
     "status": "completed"
    },
    "tags": []
   },
   "outputs": [
    {
     "data": {
      "text/html": [
       "<div>\n",
       "<style scoped>\n",
       "    .dataframe tbody tr th:only-of-type {\n",
       "        vertical-align: middle;\n",
       "    }\n",
       "\n",
       "    .dataframe tbody tr th {\n",
       "        vertical-align: top;\n",
       "    }\n",
       "\n",
       "    .dataframe thead th {\n",
       "        text-align: right;\n",
       "    }\n",
       "</style>\n",
       "<table border=\"1\" class=\"dataframe\">\n",
       "  <thead>\n",
       "    <tr style=\"text-align: right;\">\n",
       "      <th></th>\n",
       "      <th>Gender</th>\n",
       "      <th>Discount Applied</th>\n",
       "      <th>count</th>\n",
       "    </tr>\n",
       "  </thead>\n",
       "  <tbody>\n",
       "    <tr>\n",
       "      <th>0</th>\n",
       "      <td>Female</td>\n",
       "      <td>True</td>\n",
       "      <td>117</td>\n",
       "    </tr>\n",
       "    <tr>\n",
       "      <th>1</th>\n",
       "      <td>Female</td>\n",
       "      <td>False</td>\n",
       "      <td>56</td>\n",
       "    </tr>\n",
       "    <tr>\n",
       "      <th>2</th>\n",
       "      <td>Male</td>\n",
       "      <td>False</td>\n",
       "      <td>117</td>\n",
       "    </tr>\n",
       "    <tr>\n",
       "      <th>3</th>\n",
       "      <td>Male</td>\n",
       "      <td>True</td>\n",
       "      <td>58</td>\n",
       "    </tr>\n",
       "  </tbody>\n",
       "</table>\n",
       "</div>"
      ],
      "text/plain": [
       "   Gender  Discount Applied  count\n",
       "0  Female              True    117\n",
       "1  Female             False     56\n",
       "2    Male             False    117\n",
       "3    Male              True     58"
      ]
     },
     "execution_count": 45,
     "metadata": {},
     "output_type": "execute_result"
    }
   ],
   "source": [
    "DiscountApplied = df.groupby('Gender')['Discount Applied'].value_counts().reset_index()\n",
    "DiscountApplied"
   ]
  },
  {
   "cell_type": "code",
   "execution_count": 46,
   "id": "0b00e61d",
   "metadata": {
    "execution": {
     "iopub.execute_input": "2024-03-18T02:53:55.701328Z",
     "iopub.status.busy": "2024-03-18T02:53:55.700217Z",
     "iopub.status.idle": "2024-03-18T02:53:55.974717Z",
     "shell.execute_reply": "2024-03-18T02:53:55.973488Z"
    },
    "papermill": {
     "duration": 0.307557,
     "end_time": "2024-03-18T02:53:55.977252",
     "exception": false,
     "start_time": "2024-03-18T02:53:55.669695",
     "status": "completed"
    },
    "tags": []
   },
   "outputs": [
    {
     "data": {
      "image/png": "[encoded data removed]",
      "text/plain": [
       "<Figure size 800x800 with 1 Axes>"
      ]
     },
     "metadata": {},
     "output_type": "display_data"
    }
   ],
   "source": [
    "plt.figure(figsize=(8, 8))\n",
    "sns.barplot(data=DiscountApplied, x='Gender', y='Discount Applied', hue='Discount Applied', palette=['pink', 'skyblue'])\n",
    "\n",
    "plt.xlabel('Gender')\n",
    "plt.ylabel('Count')\n",
    "plt.title('Count of Discounts Applied by Gender')\n",
    "plt.legend(title='Discount Applied')\n",
    "plt.show()"
   ]
  },
  {
   "cell_type": "markdown",
   "id": "a37d4ca9",
   "metadata": {
    "papermill": {
     "duration": 0.029349,
     "end_time": "2024-03-18T02:53:56.035656",
     "exception": false,
     "start_time": "2024-03-18T02:53:56.006307",
     "status": "completed"
    },
    "tags": []
   },
   "source": [
    "<h2>Average Rating with Satisfaction Level<h2>"
   ]
  },
  {
   "cell_type": "code",
   "execution_count": 47,
   "id": "b0aee2b6",
   "metadata": {
    "execution": {
     "iopub.execute_input": "2024-03-18T02:53:56.096409Z",
     "iopub.status.busy": "2024-03-18T02:53:56.095976Z",
     "iopub.status.idle": "2024-03-18T02:53:56.449858Z",
     "shell.execute_reply": "2024-03-18T02:53:56.448680Z"
    },
    "papermill": {
     "duration": 0.387163,
     "end_time": "2024-03-18T02:53:56.452177",
     "exception": false,
     "start_time": "2024-03-18T02:53:56.065014",
     "status": "completed"
    },
    "tags": []
   },
   "outputs": [
    {
     "data": {
      "image/png": "[encoded data removed]",
      "text/plain": [
       "<Figure size 640x480 with 1 Axes>"
      ]
     },
     "metadata": {},
     "output_type": "display_data"
    }
   ],
   "source": [
    "satisfaction_rating = df.groupby('Satisfaction Level')['Average Rating'].mean()\n",
    "satisfaction_rating.plot.bar(color='darkred')\n",
    "plt.ylabel('Average Rating')\n",
    "plt.show()"
   ]
  }
 ],
 "metadata": {
  "kaggle": {
   "accelerator": "none",
   "dataSources": [
    {
     "datasetId": 3981704,
     "sourceId": 6934258,
     "sourceType": "datasetVersion"
    }
   ],
   "dockerImageVersionId": 30664,
   "isGpuEnabled": false,
   "isInternetEnabled": true,
   "language": "python",
   "sourceType": "notebook"
  },
  "kernelspec": {
   "display_name": "Python 3",
   "language": "python",
   "name": "python3"
  },
  "language_info": {
   "codemirror_mode": {
    "name": "ipython",
    "version": 3
   },
   "file_extension": ".py",
   "mimetype": "text/x-python",
   "name": "python",
   "nbconvert_exporter": "python",
   "pygments_lexer": "ipython3",
   "version": "3.10.13"
  },
  "papermill": {
   "default_parameters": {},
   "duration": 15.149688,
   "end_time": "2024-03-18T02:53:57.202977",
   "environment_variables": {},
   "exception": null,
   "input_path": "__notebook__.ipynb",
   "output_path": "__notebook__.ipynb",
   "parameters": {},
   "start_time": "2024-03-18T02:53:42.053289",
   "version": "2.5.0"
  }
 },
 "nbformat": 4,
 "nbformat_minor": 5
}
