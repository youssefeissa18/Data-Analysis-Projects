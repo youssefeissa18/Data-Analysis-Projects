{
 "cells": [
  {
   "cell_type": "markdown",
   "id": "4de90df0",
   "metadata": {
    "papermill": {
     "duration": 0.016744,
     "end_time": "2024-03-27T15:42:29.006861",
     "exception": false,
     "start_time": "2024-03-27T15:42:28.990117",
     "status": "completed"
    },
    "tags": []
   },
   "source": [
    "# Import needed Libraries"
   ]
  },
  {
   "cell_type": "code",
   "execution_count": 1,
   "id": "3787eac8",
   "metadata": {
    "execution": {
     "iopub.execute_input": "2024-03-27T15:42:29.041857Z",
     "iopub.status.busy": "2024-03-27T15:42:29.040684Z",
     "iopub.status.idle": "2024-03-27T15:42:31.517285Z",
     "shell.execute_reply": "2024-03-27T15:42:31.516125Z"
    },
    "papermill": {
     "duration": 2.49765,
     "end_time": "2024-03-27T15:42:31.520099",
     "exception": false,
     "start_time": "2024-03-27T15:42:29.022449",
     "status": "completed"
    },
    "tags": []
   },
   "outputs": [],
   "source": [
    "import numpy as np\n",
    "import pandas as pd \n",
    "import matplotlib.pyplot as plt \n",
    "import seaborn as sns"
   ]
  },
  {
   "cell_type": "markdown",
   "id": "37031b3c",
   "metadata": {
    "papermill": {
     "duration": 0.015054,
     "end_time": "2024-03-27T15:42:31.550854",
     "exception": false,
     "start_time": "2024-03-27T15:42:31.535800",
     "status": "completed"
    },
    "tags": []
   },
   "source": [
    "# Reading the Data"
   ]
  },
  {
   "cell_type": "code",
   "execution_count": 2,
   "id": "118a4931",
   "metadata": {
    "execution": {
     "iopub.execute_input": "2024-03-27T15:42:31.583676Z",
     "iopub.status.busy": "2024-03-27T15:42:31.583043Z",
     "iopub.status.idle": "2024-03-27T15:42:32.001548Z",
     "shell.execute_reply": "2024-03-27T15:42:32.000308Z"
    },
    "papermill": {
     "duration": 0.437947,
     "end_time": "2024-03-27T15:42:32.004203",
     "exception": false,
     "start_time": "2024-03-27T15:42:31.566256",
     "status": "completed"
    },
    "tags": []
   },
   "outputs": [],
   "source": [
    "df = pd.read_csv(\"/kaggle/input/customer-shopping-dataset/customer_shopping_data.csv\")"
   ]
  },
  {
   "cell_type": "markdown",
   "id": "4a0f8e97",
   "metadata": {
    "papermill": {
     "duration": 0.01546,
     "end_time": "2024-03-27T15:42:32.035255",
     "exception": false,
     "start_time": "2024-03-27T15:42:32.019795",
     "status": "completed"
    },
    "tags": []
   },
   "source": [
    "**Attribute Information:**\n",
    "* invoice_no: Invoice number. Nominal. A combination of the letter 'I' and a 6-digit integer uniquely assigned to each operation.\n",
    "* customer_id: Customer number. Nominal. A combination of the letter 'C' and a 6-digit integer uniquely assigned to each operation.\n",
    "* gender: String variable of the customer's gender.\n",
    "* age: Positive Integer variable of the customers age.\n",
    "* category: String variable of the category of the purchased product.\n",
    "* quantity: The quantities of each product (item) per transaction. Numeric.\n",
    "* price: Unit price. Numeric. Product price per unit in Turkish Liras (TL).\n",
    "* payment_method: String variable of the payment method (cash, credit card or debit card) used for the transaction.\n",
    "* invoice_date: Invoice date. The day when a transaction was generated.\n",
    "* shopping_mall: String variable of the name of the shopping mall where the transaction was made"
   ]
  },
  {
   "cell_type": "markdown",
   "id": "dd0229d4",
   "metadata": {
    "papermill": {
     "duration": 0.015176,
     "end_time": "2024-03-27T15:42:32.066214",
     "exception": false,
     "start_time": "2024-03-27T15:42:32.051038",
     "status": "completed"
    },
    "tags": []
   },
   "source": [
    "# Exploring the Data"
   ]
  },
  {
   "cell_type": "code",
   "execution_count": 3,
   "id": "c7bb0fe2",
   "metadata": {
    "execution": {
     "iopub.execute_input": "2024-03-27T15:42:32.100760Z",
     "iopub.status.busy": "2024-03-27T15:42:32.100322Z",
     "iopub.status.idle": "2024-03-27T15:42:32.107311Z",
     "shell.execute_reply": "2024-03-27T15:42:32.106503Z"
    },
    "papermill": {
     "duration": 0.026781,
     "end_time": "2024-03-27T15:42:32.109355",
     "exception": false,
     "start_time": "2024-03-27T15:42:32.082574",
     "status": "completed"
    },
    "tags": []
   },
   "outputs": [
    {
     "data": {
      "text/plain": [
       "(99457, 10)"
      ]
     },
     "execution_count": 3,
     "metadata": {},
     "output_type": "execute_result"
    }
   ],
   "source": [
    "df.shape"
   ]
  },
  {
   "cell_type": "code",
   "execution_count": 4,
   "id": "353e07fa",
   "metadata": {
    "execution": {
     "iopub.execute_input": "2024-03-27T15:42:32.142548Z",
     "iopub.status.busy": "2024-03-27T15:42:32.142120Z",
     "iopub.status.idle": "2024-03-27T15:42:32.164595Z",
     "shell.execute_reply": "2024-03-27T15:42:32.163425Z"
    },
    "papermill": {
     "duration": 0.041863,
     "end_time": "2024-03-27T15:42:32.166928",
     "exception": false,
     "start_time": "2024-03-27T15:42:32.125065",
     "status": "completed"
    },
    "tags": []
   },
   "outputs": [
    {
     "data": {
      "text/html": [
       "<div>\n",
       "<style scoped>\n",
       "    .dataframe tbody tr th:only-of-type {\n",
       "        vertical-align: middle;\n",
       "    }\n",
       "\n",
       "    .dataframe tbody tr th {\n",
       "        vertical-align: top;\n",
       "    }\n",
       "\n",
       "    .dataframe thead th {\n",
       "        text-align: right;\n",
       "    }\n",
       "</style>\n",
       "<table border=\"1\" class=\"dataframe\">\n",
       "  <thead>\n",
       "    <tr style=\"text-align: right;\">\n",
       "      <th></th>\n",
       "      <th>invoice_no</th>\n",
       "      <th>customer_id</th>\n",
       "      <th>gender</th>\n",
       "      <th>age</th>\n",
       "      <th>category</th>\n",
       "      <th>quantity</th>\n",
       "      <th>price</th>\n",
       "      <th>payment_method</th>\n",
       "      <th>invoice_date</th>\n",
       "      <th>shopping_mall</th>\n",
       "    </tr>\n",
       "  </thead>\n",
       "  <tbody>\n",
       "    <tr>\n",
       "      <th>0</th>\n",
       "      <td>I138884</td>\n",
       "      <td>C241288</td>\n",
       "      <td>Female</td>\n",
       "      <td>28</td>\n",
       "      <td>Clothing</td>\n",
       "      <td>5</td>\n",
       "      <td>1500.40</td>\n",
       "      <td>Credit Card</td>\n",
       "      <td>5/8/2022</td>\n",
       "      <td>Kanyon</td>\n",
       "    </tr>\n",
       "    <tr>\n",
       "      <th>1</th>\n",
       "      <td>I317333</td>\n",
       "      <td>C111565</td>\n",
       "      <td>Male</td>\n",
       "      <td>21</td>\n",
       "      <td>Shoes</td>\n",
       "      <td>3</td>\n",
       "      <td>1800.51</td>\n",
       "      <td>Debit Card</td>\n",
       "      <td>12/12/2021</td>\n",
       "      <td>Forum Istanbul</td>\n",
       "    </tr>\n",
       "    <tr>\n",
       "      <th>2</th>\n",
       "      <td>I127801</td>\n",
       "      <td>C266599</td>\n",
       "      <td>Male</td>\n",
       "      <td>20</td>\n",
       "      <td>Clothing</td>\n",
       "      <td>1</td>\n",
       "      <td>300.08</td>\n",
       "      <td>Cash</td>\n",
       "      <td>9/11/2021</td>\n",
       "      <td>Metrocity</td>\n",
       "    </tr>\n",
       "    <tr>\n",
       "      <th>3</th>\n",
       "      <td>I173702</td>\n",
       "      <td>C988172</td>\n",
       "      <td>Female</td>\n",
       "      <td>66</td>\n",
       "      <td>Shoes</td>\n",
       "      <td>5</td>\n",
       "      <td>3000.85</td>\n",
       "      <td>Credit Card</td>\n",
       "      <td>16/05/2021</td>\n",
       "      <td>Metropol AVM</td>\n",
       "    </tr>\n",
       "    <tr>\n",
       "      <th>4</th>\n",
       "      <td>I337046</td>\n",
       "      <td>C189076</td>\n",
       "      <td>Female</td>\n",
       "      <td>53</td>\n",
       "      <td>Books</td>\n",
       "      <td>4</td>\n",
       "      <td>60.60</td>\n",
       "      <td>Cash</td>\n",
       "      <td>24/10/2021</td>\n",
       "      <td>Kanyon</td>\n",
       "    </tr>\n",
       "  </tbody>\n",
       "</table>\n",
       "</div>"
      ],
      "text/plain": [
       "  invoice_no customer_id  gender  age  category  quantity    price  \\\n",
       "0    I138884     C241288  Female   28  Clothing         5  1500.40   \n",
       "1    I317333     C111565    Male   21     Shoes         3  1800.51   \n",
       "2    I127801     C266599    Male   20  Clothing         1   300.08   \n",
       "3    I173702     C988172  Female   66     Shoes         5  3000.85   \n",
       "4    I337046     C189076  Female   53     Books         4    60.60   \n",
       "\n",
       "  payment_method invoice_date   shopping_mall  \n",
       "0    Credit Card     5/8/2022          Kanyon  \n",
       "1     Debit Card   12/12/2021  Forum Istanbul  \n",
       "2           Cash    9/11/2021       Metrocity  \n",
       "3    Credit Card   16/05/2021    Metropol AVM  \n",
       "4           Cash   24/10/2021          Kanyon  "
      ]
     },
     "execution_count": 4,
     "metadata": {},
     "output_type": "execute_result"
    }
   ],
   "source": [
    "df.head()"
   ]
  },
  {
   "cell_type": "code",
   "execution_count": 5,
   "id": "91c09a4c",
   "metadata": {
    "execution": {
     "iopub.execute_input": "2024-03-27T15:42:32.201196Z",
     "iopub.status.busy": "2024-03-27T15:42:32.200777Z",
     "iopub.status.idle": "2024-03-27T15:42:32.216042Z",
     "shell.execute_reply": "2024-03-27T15:42:32.215211Z"
    },
    "papermill": {
     "duration": 0.034729,
     "end_time": "2024-03-27T15:42:32.218225",
     "exception": false,
     "start_time": "2024-03-27T15:42:32.183496",
     "status": "completed"
    },
    "tags": []
   },
   "outputs": [
    {
     "data": {
      "text/html": [
       "<div>\n",
       "<style scoped>\n",
       "    .dataframe tbody tr th:only-of-type {\n",
       "        vertical-align: middle;\n",
       "    }\n",
       "\n",
       "    .dataframe tbody tr th {\n",
       "        vertical-align: top;\n",
       "    }\n",
       "\n",
       "    .dataframe thead th {\n",
       "        text-align: right;\n",
       "    }\n",
       "</style>\n",
       "<table border=\"1\" class=\"dataframe\">\n",
       "  <thead>\n",
       "    <tr style=\"text-align: right;\">\n",
       "      <th></th>\n",
       "      <th>invoice_no</th>\n",
       "      <th>customer_id</th>\n",
       "      <th>gender</th>\n",
       "      <th>age</th>\n",
       "      <th>category</th>\n",
       "      <th>quantity</th>\n",
       "      <th>price</th>\n",
       "      <th>payment_method</th>\n",
       "      <th>invoice_date</th>\n",
       "      <th>shopping_mall</th>\n",
       "    </tr>\n",
       "  </thead>\n",
       "  <tbody>\n",
       "    <tr>\n",
       "      <th>99452</th>\n",
       "      <td>I219422</td>\n",
       "      <td>C441542</td>\n",
       "      <td>Female</td>\n",
       "      <td>45</td>\n",
       "      <td>Souvenir</td>\n",
       "      <td>5</td>\n",
       "      <td>58.65</td>\n",
       "      <td>Credit Card</td>\n",
       "      <td>21/09/2022</td>\n",
       "      <td>Kanyon</td>\n",
       "    </tr>\n",
       "    <tr>\n",
       "      <th>99453</th>\n",
       "      <td>I325143</td>\n",
       "      <td>C569580</td>\n",
       "      <td>Male</td>\n",
       "      <td>27</td>\n",
       "      <td>Food &amp; Beverage</td>\n",
       "      <td>2</td>\n",
       "      <td>10.46</td>\n",
       "      <td>Cash</td>\n",
       "      <td>22/09/2021</td>\n",
       "      <td>Forum Istanbul</td>\n",
       "    </tr>\n",
       "    <tr>\n",
       "      <th>99454</th>\n",
       "      <td>I824010</td>\n",
       "      <td>C103292</td>\n",
       "      <td>Male</td>\n",
       "      <td>63</td>\n",
       "      <td>Food &amp; Beverage</td>\n",
       "      <td>2</td>\n",
       "      <td>10.46</td>\n",
       "      <td>Debit Card</td>\n",
       "      <td>28/03/2021</td>\n",
       "      <td>Metrocity</td>\n",
       "    </tr>\n",
       "    <tr>\n",
       "      <th>99455</th>\n",
       "      <td>I702964</td>\n",
       "      <td>C800631</td>\n",
       "      <td>Male</td>\n",
       "      <td>56</td>\n",
       "      <td>Technology</td>\n",
       "      <td>4</td>\n",
       "      <td>4200.00</td>\n",
       "      <td>Cash</td>\n",
       "      <td>16/03/2021</td>\n",
       "      <td>Istinye Park</td>\n",
       "    </tr>\n",
       "    <tr>\n",
       "      <th>99456</th>\n",
       "      <td>I232867</td>\n",
       "      <td>C273973</td>\n",
       "      <td>Female</td>\n",
       "      <td>36</td>\n",
       "      <td>Souvenir</td>\n",
       "      <td>3</td>\n",
       "      <td>35.19</td>\n",
       "      <td>Credit Card</td>\n",
       "      <td>15/10/2022</td>\n",
       "      <td>Mall of Istanbul</td>\n",
       "    </tr>\n",
       "  </tbody>\n",
       "</table>\n",
       "</div>"
      ],
      "text/plain": [
       "      invoice_no customer_id  gender  age         category  quantity    price  \\\n",
       "99452    I219422     C441542  Female   45         Souvenir         5    58.65   \n",
       "99453    I325143     C569580    Male   27  Food & Beverage         2    10.46   \n",
       "99454    I824010     C103292    Male   63  Food & Beverage         2    10.46   \n",
       "99455    I702964     C800631    Male   56       Technology         4  4200.00   \n",
       "99456    I232867     C273973  Female   36         Souvenir         3    35.19   \n",
       "\n",
       "      payment_method invoice_date     shopping_mall  \n",
       "99452    Credit Card   21/09/2022            Kanyon  \n",
       "99453           Cash   22/09/2021    Forum Istanbul  \n",
       "99454     Debit Card   28/03/2021         Metrocity  \n",
       "99455           Cash   16/03/2021      Istinye Park  \n",
       "99456    Credit Card   15/10/2022  Mall of Istanbul  "
      ]
     },
     "execution_count": 5,
     "metadata": {},
     "output_type": "execute_result"
    }
   ],
   "source": [
    "df.tail()"
   ]
  },
  {
   "cell_type": "code",
   "execution_count": 6,
   "id": "f03ee304",
   "metadata": {
    "execution": {
     "iopub.execute_input": "2024-03-27T15:42:32.253101Z",
     "iopub.status.busy": "2024-03-27T15:42:32.252723Z",
     "iopub.status.idle": "2024-03-27T15:42:32.312664Z",
     "shell.execute_reply": "2024-03-27T15:42:32.311064Z"
    },
    "papermill": {
     "duration": 0.080206,
     "end_time": "2024-03-27T15:42:32.315190",
     "exception": false,
     "start_time": "2024-03-27T15:42:32.234984",
     "status": "completed"
    },
    "tags": []
   },
   "outputs": [
    {
     "name": "stdout",
     "output_type": "stream",
     "text": [
      "<class 'pandas.core.frame.DataFrame'>\n",
      "RangeIndex: 99457 entries, 0 to 99456\n",
      "Data columns (total 10 columns):\n",
      " #   Column          Non-Null Count  Dtype  \n",
      "---  ------          --------------  -----  \n",
      " 0   invoice_no      99457 non-null  object \n",
      " 1   customer_id     99457 non-null  object \n",
      " 2   gender          99457 non-null  object \n",
      " 3   age             99457 non-null  int64  \n",
      " 4   category        99457 non-null  object \n",
      " 5   quantity        99457 non-null  int64  \n",
      " 6   price           99457 non-null  float64\n",
      " 7   payment_method  99457 non-null  object \n",
      " 8   invoice_date    99457 non-null  object \n",
      " 9   shopping_mall   99457 non-null  object \n",
      "dtypes: float64(1), int64(2), object(7)\n",
      "memory usage: 7.6+ MB\n"
     ]
    }
   ],
   "source": [
    "df.info()"
   ]
  },
  {
   "cell_type": "markdown",
   "id": "f7fdf865",
   "metadata": {
    "papermill": {
     "duration": 0.017722,
     "end_time": "2024-03-27T15:42:32.350026",
     "exception": false,
     "start_time": "2024-03-27T15:42:32.332304",
     "status": "completed"
    },
    "tags": []
   },
   "source": [
    "**when make discribe to data as null or not we found not null but found wrong in the data type in column invoice date should be datetime and anthor column but we not want to change the types for this columns**"
   ]
  },
  {
   "cell_type": "code",
   "execution_count": 7,
   "id": "f47137f4",
   "metadata": {
    "execution": {
     "iopub.execute_input": "2024-03-27T15:42:32.385228Z",
     "iopub.status.busy": "2024-03-27T15:42:32.384875Z",
     "iopub.status.idle": "2024-03-27T15:42:32.420487Z",
     "shell.execute_reply": "2024-03-27T15:42:32.419633Z"
    },
    "papermill": {
     "duration": 0.055786,
     "end_time": "2024-03-27T15:42:32.422659",
     "exception": false,
     "start_time": "2024-03-27T15:42:32.366873",
     "status": "completed"
    },
    "tags": []
   },
   "outputs": [
    {
     "data": {
      "text/html": [
       "<div>\n",
       "<style scoped>\n",
       "    .dataframe tbody tr th:only-of-type {\n",
       "        vertical-align: middle;\n",
       "    }\n",
       "\n",
       "    .dataframe tbody tr th {\n",
       "        vertical-align: top;\n",
       "    }\n",
       "\n",
       "    .dataframe thead th {\n",
       "        text-align: right;\n",
       "    }\n",
       "</style>\n",
       "<table border=\"1\" class=\"dataframe\">\n",
       "  <thead>\n",
       "    <tr style=\"text-align: right;\">\n",
       "      <th></th>\n",
       "      <th>age</th>\n",
       "      <th>quantity</th>\n",
       "      <th>price</th>\n",
       "    </tr>\n",
       "  </thead>\n",
       "  <tbody>\n",
       "    <tr>\n",
       "      <th>count</th>\n",
       "      <td>99457.000000</td>\n",
       "      <td>99457.000000</td>\n",
       "      <td>99457.000000</td>\n",
       "    </tr>\n",
       "    <tr>\n",
       "      <th>mean</th>\n",
       "      <td>43.427089</td>\n",
       "      <td>3.003429</td>\n",
       "      <td>689.256321</td>\n",
       "    </tr>\n",
       "    <tr>\n",
       "      <th>std</th>\n",
       "      <td>14.990054</td>\n",
       "      <td>1.413025</td>\n",
       "      <td>941.184567</td>\n",
       "    </tr>\n",
       "    <tr>\n",
       "      <th>min</th>\n",
       "      <td>18.000000</td>\n",
       "      <td>1.000000</td>\n",
       "      <td>5.230000</td>\n",
       "    </tr>\n",
       "    <tr>\n",
       "      <th>25%</th>\n",
       "      <td>30.000000</td>\n",
       "      <td>2.000000</td>\n",
       "      <td>45.450000</td>\n",
       "    </tr>\n",
       "    <tr>\n",
       "      <th>50%</th>\n",
       "      <td>43.000000</td>\n",
       "      <td>3.000000</td>\n",
       "      <td>203.300000</td>\n",
       "    </tr>\n",
       "    <tr>\n",
       "      <th>75%</th>\n",
       "      <td>56.000000</td>\n",
       "      <td>4.000000</td>\n",
       "      <td>1200.320000</td>\n",
       "    </tr>\n",
       "    <tr>\n",
       "      <th>max</th>\n",
       "      <td>69.000000</td>\n",
       "      <td>5.000000</td>\n",
       "      <td>5250.000000</td>\n",
       "    </tr>\n",
       "  </tbody>\n",
       "</table>\n",
       "</div>"
      ],
      "text/plain": [
       "                age      quantity         price\n",
       "count  99457.000000  99457.000000  99457.000000\n",
       "mean      43.427089      3.003429    689.256321\n",
       "std       14.990054      1.413025    941.184567\n",
       "min       18.000000      1.000000      5.230000\n",
       "25%       30.000000      2.000000     45.450000\n",
       "50%       43.000000      3.000000    203.300000\n",
       "75%       56.000000      4.000000   1200.320000\n",
       "max       69.000000      5.000000   5250.000000"
      ]
     },
     "execution_count": 7,
     "metadata": {},
     "output_type": "execute_result"
    }
   ],
   "source": [
    "df.describe()"
   ]
  },
  {
   "cell_type": "markdown",
   "id": "8907d4a2",
   "metadata": {
    "papermill": {
     "duration": 0.016135,
     "end_time": "2024-03-27T15:42:32.455421",
     "exception": false,
     "start_time": "2024-03-27T15:42:32.439286",
     "status": "completed"
    },
    "tags": []
   },
   "source": [
    "**From describe the stat info we found outlier in price column when mean is 689.256321 and the min 5.230 and the max is 5250 then there are outliers in this column**"
   ]
  },
  {
   "cell_type": "code",
   "execution_count": 8,
   "id": "57b9bed8",
   "metadata": {
    "execution": {
     "iopub.execute_input": "2024-03-27T15:42:32.490838Z",
     "iopub.status.busy": "2024-03-27T15:42:32.489698Z",
     "iopub.status.idle": "2024-03-27T15:42:32.532632Z",
     "shell.execute_reply": "2024-03-27T15:42:32.531418Z"
    },
    "papermill": {
     "duration": 0.063271,
     "end_time": "2024-03-27T15:42:32.535068",
     "exception": false,
     "start_time": "2024-03-27T15:42:32.471797",
     "status": "completed"
    },
    "tags": []
   },
   "outputs": [
    {
     "data": {
      "text/plain": [
       "invoice_no        0\n",
       "customer_id       0\n",
       "gender            0\n",
       "age               0\n",
       "category          0\n",
       "quantity          0\n",
       "price             0\n",
       "payment_method    0\n",
       "invoice_date      0\n",
       "shopping_mall     0\n",
       "dtype: int64"
      ]
     },
     "execution_count": 8,
     "metadata": {},
     "output_type": "execute_result"
    }
   ],
   "source": [
    "df.isna().sum()"
   ]
  },
  {
   "cell_type": "markdown",
   "id": "1122d910",
   "metadata": {
    "papermill": {
     "duration": 0.016225,
     "end_time": "2024-03-27T15:42:32.568039",
     "exception": false,
     "start_time": "2024-03-27T15:42:32.551814",
     "status": "completed"
    },
    "tags": []
   },
   "source": [
    "**No have nan value in the data**"
   ]
  },
  {
   "cell_type": "code",
   "execution_count": 9,
   "id": "65a1f09b",
   "metadata": {
    "execution": {
     "iopub.execute_input": "2024-03-27T15:42:32.604415Z",
     "iopub.status.busy": "2024-03-27T15:42:32.604020Z",
     "iopub.status.idle": "2024-03-27T15:42:32.700949Z",
     "shell.execute_reply": "2024-03-27T15:42:32.699800Z"
    },
    "papermill": {
     "duration": 0.11869,
     "end_time": "2024-03-27T15:42:32.703452",
     "exception": false,
     "start_time": "2024-03-27T15:42:32.584762",
     "status": "completed"
    },
    "tags": []
   },
   "outputs": [
    {
     "data": {
      "text/plain": [
       "0"
      ]
     },
     "execution_count": 9,
     "metadata": {},
     "output_type": "execute_result"
    }
   ],
   "source": [
    "df.duplicated().sum()"
   ]
  },
  {
   "cell_type": "markdown",
   "id": "3324d4dc",
   "metadata": {
    "papermill": {
     "duration": 0.016467,
     "end_time": "2024-03-27T15:42:32.736557",
     "exception": false,
     "start_time": "2024-03-27T15:42:32.720090",
     "status": "completed"
    },
    "tags": []
   },
   "source": [
    "**No have Duplicated value in the data**"
   ]
  },
  {
   "cell_type": "markdown",
   "id": "8bbbb6c3",
   "metadata": {
    "papermill": {
     "duration": 0.017137,
     "end_time": "2024-03-27T15:42:32.771112",
     "exception": false,
     "start_time": "2024-03-27T15:42:32.753975",
     "status": "completed"
    },
    "tags": []
   },
   "source": [
    "# Cleaning the Data"
   ]
  },
  {
   "cell_type": "code",
   "execution_count": 10,
   "id": "cf8af216",
   "metadata": {
    "execution": {
     "iopub.execute_input": "2024-03-27T15:42:32.867788Z",
     "iopub.status.busy": "2024-03-27T15:42:32.867376Z",
     "iopub.status.idle": "2024-03-27T15:42:32.874674Z",
     "shell.execute_reply": "2024-03-27T15:42:32.873344Z"
    },
    "papermill": {
     "duration": 0.089242,
     "end_time": "2024-03-27T15:42:32.877218",
     "exception": false,
     "start_time": "2024-03-27T15:42:32.787976",
     "status": "completed"
    },
    "tags": []
   },
   "outputs": [
    {
     "data": {
      "text/plain": [
       "Index(['invoice_no', 'customer_id', 'gender', 'age', 'category', 'quantity',\n",
       "       'price', 'payment_method', 'invoice_date', 'shopping_mall'],\n",
       "      dtype='object')"
      ]
     },
     "execution_count": 10,
     "metadata": {},
     "output_type": "execute_result"
    }
   ],
   "source": [
    "df.columns"
   ]
  },
  {
   "cell_type": "code",
   "execution_count": 11,
   "id": "07a0ab7c",
   "metadata": {
    "execution": {
     "iopub.execute_input": "2024-03-27T15:42:32.913657Z",
     "iopub.status.busy": "2024-03-27T15:42:32.913212Z",
     "iopub.status.idle": "2024-03-27T15:42:33.166161Z",
     "shell.execute_reply": "2024-03-27T15:42:33.164969Z"
    },
    "papermill": {
     "duration": 0.273919,
     "end_time": "2024-03-27T15:42:33.168716",
     "exception": false,
     "start_time": "2024-03-27T15:42:32.894797",
     "status": "completed"
    },
    "tags": []
   },
   "outputs": [],
   "source": [
    "df['invoice_date'] = pd.to_datetime(df['invoice_date'], format='%d/%m/%Y')"
   ]
  },
  {
   "cell_type": "markdown",
   "id": "47869dcc",
   "metadata": {
    "papermill": {
     "duration": 0.017035,
     "end_time": "2024-03-27T15:42:33.203994",
     "exception": false,
     "start_time": "2024-03-27T15:42:33.186959",
     "status": "completed"
    },
    "tags": []
   },
   "source": [
    "**Change type of the invoice_date column to can deal with this column**"
   ]
  },
  {
   "cell_type": "code",
   "execution_count": 12,
   "id": "1842a642",
   "metadata": {
    "execution": {
     "iopub.execute_input": "2024-03-27T15:42:33.240008Z",
     "iopub.status.busy": "2024-03-27T15:42:33.239583Z",
     "iopub.status.idle": "2024-03-27T15:42:33.256732Z",
     "shell.execute_reply": "2024-03-27T15:42:33.255554Z"
    },
    "papermill": {
     "duration": 0.03792,
     "end_time": "2024-03-27T15:42:33.259475",
     "exception": false,
     "start_time": "2024-03-27T15:42:33.221555",
     "status": "completed"
    },
    "tags": []
   },
   "outputs": [],
   "source": [
    "df['year'] = df['invoice_date'].dt.year\n",
    "df['month'] = df['invoice_date'].dt.month"
   ]
  },
  {
   "cell_type": "code",
   "execution_count": 13,
   "id": "3df0acc1",
   "metadata": {
    "execution": {
     "iopub.execute_input": "2024-03-27T15:42:33.296724Z",
     "iopub.status.busy": "2024-03-27T15:42:33.296302Z",
     "iopub.status.idle": "2024-03-27T15:42:33.312244Z",
     "shell.execute_reply": "2024-03-27T15:42:33.311436Z"
    },
    "papermill": {
     "duration": 0.036412,
     "end_time": "2024-03-27T15:42:33.314166",
     "exception": false,
     "start_time": "2024-03-27T15:42:33.277754",
     "status": "completed"
    },
    "tags": []
   },
   "outputs": [
    {
     "data": {
      "text/html": [
       "<div>\n",
       "<style scoped>\n",
       "    .dataframe tbody tr th:only-of-type {\n",
       "        vertical-align: middle;\n",
       "    }\n",
       "\n",
       "    .dataframe tbody tr th {\n",
       "        vertical-align: top;\n",
       "    }\n",
       "\n",
       "    .dataframe thead th {\n",
       "        text-align: right;\n",
       "    }\n",
       "</style>\n",
       "<table border=\"1\" class=\"dataframe\">\n",
       "  <thead>\n",
       "    <tr style=\"text-align: right;\">\n",
       "      <th></th>\n",
       "      <th>invoice_no</th>\n",
       "      <th>customer_id</th>\n",
       "      <th>gender</th>\n",
       "      <th>age</th>\n",
       "      <th>category</th>\n",
       "      <th>quantity</th>\n",
       "      <th>price</th>\n",
       "      <th>payment_method</th>\n",
       "      <th>invoice_date</th>\n",
       "      <th>shopping_mall</th>\n",
       "      <th>year</th>\n",
       "      <th>month</th>\n",
       "    </tr>\n",
       "  </thead>\n",
       "  <tbody>\n",
       "    <tr>\n",
       "      <th>0</th>\n",
       "      <td>I138884</td>\n",
       "      <td>C241288</td>\n",
       "      <td>Female</td>\n",
       "      <td>28</td>\n",
       "      <td>Clothing</td>\n",
       "      <td>5</td>\n",
       "      <td>1500.40</td>\n",
       "      <td>Credit Card</td>\n",
       "      <td>2022-08-05</td>\n",
       "      <td>Kanyon</td>\n",
       "      <td>2022</td>\n",
       "      <td>8</td>\n",
       "    </tr>\n",
       "    <tr>\n",
       "      <th>1</th>\n",
       "      <td>I317333</td>\n",
       "      <td>C111565</td>\n",
       "      <td>Male</td>\n",
       "      <td>21</td>\n",
       "      <td>Shoes</td>\n",
       "      <td>3</td>\n",
       "      <td>1800.51</td>\n",
       "      <td>Debit Card</td>\n",
       "      <td>2021-12-12</td>\n",
       "      <td>Forum Istanbul</td>\n",
       "      <td>2021</td>\n",
       "      <td>12</td>\n",
       "    </tr>\n",
       "    <tr>\n",
       "      <th>2</th>\n",
       "      <td>I127801</td>\n",
       "      <td>C266599</td>\n",
       "      <td>Male</td>\n",
       "      <td>20</td>\n",
       "      <td>Clothing</td>\n",
       "      <td>1</td>\n",
       "      <td>300.08</td>\n",
       "      <td>Cash</td>\n",
       "      <td>2021-11-09</td>\n",
       "      <td>Metrocity</td>\n",
       "      <td>2021</td>\n",
       "      <td>11</td>\n",
       "    </tr>\n",
       "    <tr>\n",
       "      <th>3</th>\n",
       "      <td>I173702</td>\n",
       "      <td>C988172</td>\n",
       "      <td>Female</td>\n",
       "      <td>66</td>\n",
       "      <td>Shoes</td>\n",
       "      <td>5</td>\n",
       "      <td>3000.85</td>\n",
       "      <td>Credit Card</td>\n",
       "      <td>2021-05-16</td>\n",
       "      <td>Metropol AVM</td>\n",
       "      <td>2021</td>\n",
       "      <td>5</td>\n",
       "    </tr>\n",
       "    <tr>\n",
       "      <th>4</th>\n",
       "      <td>I337046</td>\n",
       "      <td>C189076</td>\n",
       "      <td>Female</td>\n",
       "      <td>53</td>\n",
       "      <td>Books</td>\n",
       "      <td>4</td>\n",
       "      <td>60.60</td>\n",
       "      <td>Cash</td>\n",
       "      <td>2021-10-24</td>\n",
       "      <td>Kanyon</td>\n",
       "      <td>2021</td>\n",
       "      <td>10</td>\n",
       "    </tr>\n",
       "  </tbody>\n",
       "</table>\n",
       "</div>"
      ],
      "text/plain": [
       "  invoice_no customer_id  gender  age  category  quantity    price  \\\n",
       "0    I138884     C241288  Female   28  Clothing         5  1500.40   \n",
       "1    I317333     C111565    Male   21     Shoes         3  1800.51   \n",
       "2    I127801     C266599    Male   20  Clothing         1   300.08   \n",
       "3    I173702     C988172  Female   66     Shoes         5  3000.85   \n",
       "4    I337046     C189076  Female   53     Books         4    60.60   \n",
       "\n",
       "  payment_method invoice_date   shopping_mall  year  month  \n",
       "0    Credit Card   2022-08-05          Kanyon  2022      8  \n",
       "1     Debit Card   2021-12-12  Forum Istanbul  2021     12  \n",
       "2           Cash   2021-11-09       Metrocity  2021     11  \n",
       "3    Credit Card   2021-05-16    Metropol AVM  2021      5  \n",
       "4           Cash   2021-10-24          Kanyon  2021     10  "
      ]
     },
     "execution_count": 13,
     "metadata": {},
     "output_type": "execute_result"
    }
   ],
   "source": [
    "df.head()"
   ]
  },
  {
   "cell_type": "markdown",
   "id": "ef6021ba",
   "metadata": {
    "papermill": {
     "duration": 0.018,
     "end_time": "2024-03-27T15:42:33.349795",
     "exception": false,
     "start_time": "2024-03-27T15:42:33.331795",
     "status": "completed"
    },
    "tags": []
   },
   "source": [
    "**Add 2 colmns to make easier to deal with years and months**"
   ]
  },
  {
   "cell_type": "code",
   "execution_count": 14,
   "id": "4d45eaa1",
   "metadata": {
    "execution": {
     "iopub.execute_input": "2024-03-27T15:42:33.387384Z",
     "iopub.status.busy": "2024-03-27T15:42:33.386973Z",
     "iopub.status.idle": "2024-03-27T15:42:33.428980Z",
     "shell.execute_reply": "2024-03-27T15:42:33.427249Z"
    },
    "papermill": {
     "duration": 0.06472,
     "end_time": "2024-03-27T15:42:33.431975",
     "exception": false,
     "start_time": "2024-03-27T15:42:33.367255",
     "status": "completed"
    },
    "tags": []
   },
   "outputs": [
    {
     "name": "stdout",
     "output_type": "stream",
     "text": [
      "<class 'pandas.core.frame.DataFrame'>\n",
      "RangeIndex: 99457 entries, 0 to 99456\n",
      "Data columns (total 12 columns):\n",
      " #   Column          Non-Null Count  Dtype         \n",
      "---  ------          --------------  -----         \n",
      " 0   invoice_no      99457 non-null  object        \n",
      " 1   customer_id     99457 non-null  object        \n",
      " 2   gender          99457 non-null  object        \n",
      " 3   age             99457 non-null  int64         \n",
      " 4   category        99457 non-null  object        \n",
      " 5   quantity        99457 non-null  int64         \n",
      " 6   price           99457 non-null  float64       \n",
      " 7   payment_method  99457 non-null  object        \n",
      " 8   invoice_date    99457 non-null  datetime64[ns]\n",
      " 9   shopping_mall   99457 non-null  object        \n",
      " 10  year            99457 non-null  int32         \n",
      " 11  month           99457 non-null  int32         \n",
      "dtypes: datetime64[ns](1), float64(1), int32(2), int64(2), object(6)\n",
      "memory usage: 8.3+ MB\n"
     ]
    }
   ],
   "source": [
    "df.info()"
   ]
  },
  {
   "cell_type": "markdown",
   "id": "26cb769c",
   "metadata": {
    "papermill": {
     "duration": 0.017233,
     "end_time": "2024-03-27T15:42:33.466981",
     "exception": false,
     "start_time": "2024-03-27T15:42:33.449748",
     "status": "completed"
    },
    "tags": []
   },
   "source": [
    "**we can see the change that happen in type of the date column and add two another columns to data**"
   ]
  },
  {
   "cell_type": "markdown",
   "id": "e5c1038a",
   "metadata": {
    "papermill": {
     "duration": 0.017762,
     "end_time": "2024-03-27T15:42:33.503255",
     "exception": false,
     "start_time": "2024-03-27T15:42:33.485493",
     "status": "completed"
    },
    "tags": []
   },
   "source": [
    "# Analysis and Visualization"
   ]
  },
  {
   "cell_type": "code",
   "execution_count": 15,
   "id": "0bcd63d7",
   "metadata": {
    "execution": {
     "iopub.execute_input": "2024-03-27T15:42:33.540044Z",
     "iopub.status.busy": "2024-03-27T15:42:33.539633Z",
     "iopub.status.idle": "2024-03-27T15:42:33.556093Z",
     "shell.execute_reply": "2024-03-27T15:42:33.555078Z"
    },
    "papermill": {
     "duration": 0.037022,
     "end_time": "2024-03-27T15:42:33.558101",
     "exception": false,
     "start_time": "2024-03-27T15:42:33.521079",
     "status": "completed"
    },
    "tags": []
   },
   "outputs": [
    {
     "data": {
      "text/html": [
       "<div>\n",
       "<style scoped>\n",
       "    .dataframe tbody tr th:only-of-type {\n",
       "        vertical-align: middle;\n",
       "    }\n",
       "\n",
       "    .dataframe tbody tr th {\n",
       "        vertical-align: top;\n",
       "    }\n",
       "\n",
       "    .dataframe thead th {\n",
       "        text-align: right;\n",
       "    }\n",
       "</style>\n",
       "<table border=\"1\" class=\"dataframe\">\n",
       "  <thead>\n",
       "    <tr style=\"text-align: right;\">\n",
       "      <th></th>\n",
       "      <th>invoice_no</th>\n",
       "      <th>customer_id</th>\n",
       "      <th>gender</th>\n",
       "      <th>age</th>\n",
       "      <th>category</th>\n",
       "      <th>quantity</th>\n",
       "      <th>price</th>\n",
       "      <th>payment_method</th>\n",
       "      <th>invoice_date</th>\n",
       "      <th>shopping_mall</th>\n",
       "      <th>year</th>\n",
       "      <th>month</th>\n",
       "    </tr>\n",
       "  </thead>\n",
       "  <tbody>\n",
       "    <tr>\n",
       "      <th>0</th>\n",
       "      <td>I138884</td>\n",
       "      <td>C241288</td>\n",
       "      <td>Female</td>\n",
       "      <td>28</td>\n",
       "      <td>Clothing</td>\n",
       "      <td>5</td>\n",
       "      <td>1500.40</td>\n",
       "      <td>Credit Card</td>\n",
       "      <td>2022-08-05</td>\n",
       "      <td>Kanyon</td>\n",
       "      <td>2022</td>\n",
       "      <td>8</td>\n",
       "    </tr>\n",
       "    <tr>\n",
       "      <th>1</th>\n",
       "      <td>I317333</td>\n",
       "      <td>C111565</td>\n",
       "      <td>Male</td>\n",
       "      <td>21</td>\n",
       "      <td>Shoes</td>\n",
       "      <td>3</td>\n",
       "      <td>1800.51</td>\n",
       "      <td>Debit Card</td>\n",
       "      <td>2021-12-12</td>\n",
       "      <td>Forum Istanbul</td>\n",
       "      <td>2021</td>\n",
       "      <td>12</td>\n",
       "    </tr>\n",
       "    <tr>\n",
       "      <th>2</th>\n",
       "      <td>I127801</td>\n",
       "      <td>C266599</td>\n",
       "      <td>Male</td>\n",
       "      <td>20</td>\n",
       "      <td>Clothing</td>\n",
       "      <td>1</td>\n",
       "      <td>300.08</td>\n",
       "      <td>Cash</td>\n",
       "      <td>2021-11-09</td>\n",
       "      <td>Metrocity</td>\n",
       "      <td>2021</td>\n",
       "      <td>11</td>\n",
       "    </tr>\n",
       "    <tr>\n",
       "      <th>3</th>\n",
       "      <td>I173702</td>\n",
       "      <td>C988172</td>\n",
       "      <td>Female</td>\n",
       "      <td>66</td>\n",
       "      <td>Shoes</td>\n",
       "      <td>5</td>\n",
       "      <td>3000.85</td>\n",
       "      <td>Credit Card</td>\n",
       "      <td>2021-05-16</td>\n",
       "      <td>Metropol AVM</td>\n",
       "      <td>2021</td>\n",
       "      <td>5</td>\n",
       "    </tr>\n",
       "    <tr>\n",
       "      <th>4</th>\n",
       "      <td>I337046</td>\n",
       "      <td>C189076</td>\n",
       "      <td>Female</td>\n",
       "      <td>53</td>\n",
       "      <td>Books</td>\n",
       "      <td>4</td>\n",
       "      <td>60.60</td>\n",
       "      <td>Cash</td>\n",
       "      <td>2021-10-24</td>\n",
       "      <td>Kanyon</td>\n",
       "      <td>2021</td>\n",
       "      <td>10</td>\n",
       "    </tr>\n",
       "  </tbody>\n",
       "</table>\n",
       "</div>"
      ],
      "text/plain": [
       "  invoice_no customer_id  gender  age  category  quantity    price  \\\n",
       "0    I138884     C241288  Female   28  Clothing         5  1500.40   \n",
       "1    I317333     C111565    Male   21     Shoes         3  1800.51   \n",
       "2    I127801     C266599    Male   20  Clothing         1   300.08   \n",
       "3    I173702     C988172  Female   66     Shoes         5  3000.85   \n",
       "4    I337046     C189076  Female   53     Books         4    60.60   \n",
       "\n",
       "  payment_method invoice_date   shopping_mall  year  month  \n",
       "0    Credit Card   2022-08-05          Kanyon  2022      8  \n",
       "1     Debit Card   2021-12-12  Forum Istanbul  2021     12  \n",
       "2           Cash   2021-11-09       Metrocity  2021     11  \n",
       "3    Credit Card   2021-05-16    Metropol AVM  2021      5  \n",
       "4           Cash   2021-10-24          Kanyon  2021     10  "
      ]
     },
     "execution_count": 15,
     "metadata": {},
     "output_type": "execute_result"
    }
   ],
   "source": [
    "df.head()"
   ]
  },
  {
   "cell_type": "markdown",
   "id": "2c6b5dbc",
   "metadata": {
    "papermill": {
     "duration": 0.017245,
     "end_time": "2024-03-27T15:42:33.592770",
     "exception": false,
     "start_time": "2024-03-27T15:42:33.575525",
     "status": "completed"
    },
    "tags": []
   },
   "source": [
    "<h2>Gender<h2>"
   ]
  },
  {
   "cell_type": "code",
   "execution_count": 16,
   "id": "27421a1d",
   "metadata": {
    "execution": {
     "iopub.execute_input": "2024-03-27T15:42:33.631315Z",
     "iopub.status.busy": "2024-03-27T15:42:33.630939Z",
     "iopub.status.idle": "2024-03-27T15:42:33.648760Z",
     "shell.execute_reply": "2024-03-27T15:42:33.647682Z"
    },
    "papermill": {
     "duration": 0.038832,
     "end_time": "2024-03-27T15:42:33.650808",
     "exception": false,
     "start_time": "2024-03-27T15:42:33.611976",
     "status": "completed"
    },
    "tags": []
   },
   "outputs": [
    {
     "data": {
      "text/html": [
       "<div>\n",
       "<style scoped>\n",
       "    .dataframe tbody tr th:only-of-type {\n",
       "        vertical-align: middle;\n",
       "    }\n",
       "\n",
       "    .dataframe tbody tr th {\n",
       "        vertical-align: top;\n",
       "    }\n",
       "\n",
       "    .dataframe thead th {\n",
       "        text-align: right;\n",
       "    }\n",
       "</style>\n",
       "<table border=\"1\" class=\"dataframe\">\n",
       "  <thead>\n",
       "    <tr style=\"text-align: right;\">\n",
       "      <th></th>\n",
       "      <th>gender</th>\n",
       "      <th>count</th>\n",
       "    </tr>\n",
       "  </thead>\n",
       "  <tbody>\n",
       "    <tr>\n",
       "      <th>0</th>\n",
       "      <td>Female</td>\n",
       "      <td>59482</td>\n",
       "    </tr>\n",
       "    <tr>\n",
       "      <th>1</th>\n",
       "      <td>Male</td>\n",
       "      <td>39975</td>\n",
       "    </tr>\n",
       "  </tbody>\n",
       "</table>\n",
       "</div>"
      ],
      "text/plain": [
       "   gender  count\n",
       "0  Female  59482\n",
       "1    Male  39975"
      ]
     },
     "execution_count": 16,
     "metadata": {},
     "output_type": "execute_result"
    }
   ],
   "source": [
    "Gender = df['gender'].value_counts().reset_index()\n",
    "Gender"
   ]
  },
  {
   "cell_type": "code",
   "execution_count": 17,
   "id": "696c0c86",
   "metadata": {
    "execution": {
     "iopub.execute_input": "2024-03-27T15:42:33.689940Z",
     "iopub.status.busy": "2024-03-27T15:42:33.689544Z",
     "iopub.status.idle": "2024-03-27T15:42:33.910132Z",
     "shell.execute_reply": "2024-03-27T15:42:33.908969Z"
    },
    "papermill": {
     "duration": 0.243768,
     "end_time": "2024-03-27T15:42:33.913117",
     "exception": false,
     "start_time": "2024-03-27T15:42:33.669349",
     "status": "completed"
    },
    "tags": []
   },
   "outputs": [
    {
     "data": {
      "image/png": "[encoded data removed]",
      "text/plain": [
       "<Figure size 800x800 with 1 Axes>"
      ]
     },
     "metadata": {},
     "output_type": "display_data"
    }
   ],
   "source": [
    "plt.figure(figsize=(8,8))\n",
    "plt.pie(Gender['count'],\n",
    "        labels=Gender['gender'],autopct='%1.2f%%',\n",
    "        colors=[\"#FFB6D9\", \"#99DBF5\"]\n",
    "       )\n",
    "plt.title('Male VS Female')\n",
    "plt.legend()\n",
    "plt.show()"
   ]
  },
  {
   "cell_type": "markdown",
   "id": "756c30bf",
   "metadata": {
    "papermill": {
     "duration": 0.017666,
     "end_time": "2024-03-27T15:42:33.954512",
     "exception": false,
     "start_time": "2024-03-27T15:42:33.936846",
     "status": "completed"
    },
    "tags": []
   },
   "source": [
    "**From this pie graph we can see the female is more than male when do shopping**"
   ]
  },
  {
   "cell_type": "markdown",
   "id": "1aa54eba",
   "metadata": {
    "papermill": {
     "duration": 0.017745,
     "end_time": "2024-03-27T15:42:33.990282",
     "exception": false,
     "start_time": "2024-03-27T15:42:33.972537",
     "status": "completed"
    },
    "tags": []
   },
   "source": [
    "<h2>Gender with Category<h2>"
   ]
  },
  {
   "cell_type": "code",
   "execution_count": 18,
   "id": "9aedc68f",
   "metadata": {
    "execution": {
     "iopub.execute_input": "2024-03-27T15:42:34.030718Z",
     "iopub.status.busy": "2024-03-27T15:42:34.030304Z",
     "iopub.status.idle": "2024-03-27T15:42:34.065561Z",
     "shell.execute_reply": "2024-03-27T15:42:34.064506Z"
    },
    "papermill": {
     "duration": 0.059273,
     "end_time": "2024-03-27T15:42:34.067836",
     "exception": false,
     "start_time": "2024-03-27T15:42:34.008563",
     "status": "completed"
    },
    "tags": []
   },
   "outputs": [
    {
     "data": {
      "text/html": [
       "<div>\n",
       "<style scoped>\n",
       "    .dataframe tbody tr th:only-of-type {\n",
       "        vertical-align: middle;\n",
       "    }\n",
       "\n",
       "    .dataframe tbody tr th {\n",
       "        vertical-align: top;\n",
       "    }\n",
       "\n",
       "    .dataframe thead th {\n",
       "        text-align: right;\n",
       "    }\n",
       "</style>\n",
       "<table border=\"1\" class=\"dataframe\">\n",
       "  <thead>\n",
       "    <tr style=\"text-align: right;\">\n",
       "      <th></th>\n",
       "      <th>gender</th>\n",
       "      <th>category</th>\n",
       "      <th>count</th>\n",
       "    </tr>\n",
       "  </thead>\n",
       "  <tbody>\n",
       "    <tr>\n",
       "      <th>0</th>\n",
       "      <td>Female</td>\n",
       "      <td>Clothing</td>\n",
       "      <td>20652</td>\n",
       "    </tr>\n",
       "    <tr>\n",
       "      <th>1</th>\n",
       "      <td>Female</td>\n",
       "      <td>Cosmetics</td>\n",
       "      <td>9070</td>\n",
       "    </tr>\n",
       "    <tr>\n",
       "      <th>2</th>\n",
       "      <td>Female</td>\n",
       "      <td>Food &amp; Beverage</td>\n",
       "      <td>8804</td>\n",
       "    </tr>\n",
       "    <tr>\n",
       "      <th>3</th>\n",
       "      <td>Female</td>\n",
       "      <td>Toys</td>\n",
       "      <td>6085</td>\n",
       "    </tr>\n",
       "    <tr>\n",
       "      <th>4</th>\n",
       "      <td>Female</td>\n",
       "      <td>Shoes</td>\n",
       "      <td>5967</td>\n",
       "    </tr>\n",
       "    <tr>\n",
       "      <th>5</th>\n",
       "      <td>Female</td>\n",
       "      <td>Souvenir</td>\n",
       "      <td>3017</td>\n",
       "    </tr>\n",
       "    <tr>\n",
       "      <th>6</th>\n",
       "      <td>Female</td>\n",
       "      <td>Technology</td>\n",
       "      <td>2981</td>\n",
       "    </tr>\n",
       "    <tr>\n",
       "      <th>7</th>\n",
       "      <td>Female</td>\n",
       "      <td>Books</td>\n",
       "      <td>2906</td>\n",
       "    </tr>\n",
       "    <tr>\n",
       "      <th>8</th>\n",
       "      <td>Male</td>\n",
       "      <td>Clothing</td>\n",
       "      <td>13835</td>\n",
       "    </tr>\n",
       "    <tr>\n",
       "      <th>9</th>\n",
       "      <td>Male</td>\n",
       "      <td>Cosmetics</td>\n",
       "      <td>6027</td>\n",
       "    </tr>\n",
       "    <tr>\n",
       "      <th>10</th>\n",
       "      <td>Male</td>\n",
       "      <td>Food &amp; Beverage</td>\n",
       "      <td>5972</td>\n",
       "    </tr>\n",
       "    <tr>\n",
       "      <th>11</th>\n",
       "      <td>Male</td>\n",
       "      <td>Shoes</td>\n",
       "      <td>4067</td>\n",
       "    </tr>\n",
       "    <tr>\n",
       "      <th>12</th>\n",
       "      <td>Male</td>\n",
       "      <td>Toys</td>\n",
       "      <td>4002</td>\n",
       "    </tr>\n",
       "    <tr>\n",
       "      <th>13</th>\n",
       "      <td>Male</td>\n",
       "      <td>Books</td>\n",
       "      <td>2075</td>\n",
       "    </tr>\n",
       "    <tr>\n",
       "      <th>14</th>\n",
       "      <td>Male</td>\n",
       "      <td>Technology</td>\n",
       "      <td>2015</td>\n",
       "    </tr>\n",
       "    <tr>\n",
       "      <th>15</th>\n",
       "      <td>Male</td>\n",
       "      <td>Souvenir</td>\n",
       "      <td>1982</td>\n",
       "    </tr>\n",
       "  </tbody>\n",
       "</table>\n",
       "</div>"
      ],
      "text/plain": [
       "    gender         category  count\n",
       "0   Female         Clothing  20652\n",
       "1   Female        Cosmetics   9070\n",
       "2   Female  Food & Beverage   8804\n",
       "3   Female             Toys   6085\n",
       "4   Female            Shoes   5967\n",
       "5   Female         Souvenir   3017\n",
       "6   Female       Technology   2981\n",
       "7   Female            Books   2906\n",
       "8     Male         Clothing  13835\n",
       "9     Male        Cosmetics   6027\n",
       "10    Male  Food & Beverage   5972\n",
       "11    Male            Shoes   4067\n",
       "12    Male             Toys   4002\n",
       "13    Male            Books   2075\n",
       "14    Male       Technology   2015\n",
       "15    Male         Souvenir   1982"
      ]
     },
     "execution_count": 18,
     "metadata": {},
     "output_type": "execute_result"
    }
   ],
   "source": [
    "Genderwithcatergory = df.groupby('gender')['category'].value_counts().reset_index()\n",
    "Genderwithcatergory"
   ]
  },
  {
   "cell_type": "code",
   "execution_count": 19,
   "id": "53af257f",
   "metadata": {
    "execution": {
     "iopub.execute_input": "2024-03-27T15:42:34.108099Z",
     "iopub.status.busy": "2024-03-27T15:42:34.107123Z",
     "iopub.status.idle": "2024-03-27T15:42:34.728790Z",
     "shell.execute_reply": "2024-03-27T15:42:34.727602Z"
    },
    "papermill": {
     "duration": 0.644283,
     "end_time": "2024-03-27T15:42:34.731478",
     "exception": false,
     "start_time": "2024-03-27T15:42:34.087195",
     "status": "completed"
    },
    "tags": []
   },
   "outputs": [
    {
     "data": {
      "image/png": "[encoded data removed]",
      "text/plain": [
       "<Figure size 1500x800 with 1 Axes>"
      ]
     },
     "metadata": {},
     "output_type": "display_data"
    }
   ],
   "source": [
    "plt.figure(figsize=(15, 8))\n",
    "sns.countplot(data=df, x=df['category'], hue=df['gender'],palette=[\"#FFB6D9\", \"#99DBF5\"])\n",
    "plt.title('Count of Category by Gender')\n",
    "plt.xlabel('Category')\n",
    "plt.ylabel('Count')\n",
    "plt.show()"
   ]
  },
  {
   "cell_type": "markdown",
   "id": "1c153473",
   "metadata": {
    "papermill": {
     "duration": 0.026582,
     "end_time": "2024-03-27T15:42:34.781177",
     "exception": false,
     "start_time": "2024-03-27T15:42:34.754595",
     "status": "completed"
    },
    "tags": []
   },
   "source": [
    "**From this graph we can see the most type of male and female buy colthing and few but books and tech and souvenir**"
   ]
  },
  {
   "cell_type": "markdown",
   "id": "6b80527b",
   "metadata": {
    "papermill": {
     "duration": 0.027488,
     "end_time": "2024-03-27T15:42:34.831975",
     "exception": false,
     "start_time": "2024-03-27T15:42:34.804487",
     "status": "completed"
    },
    "tags": []
   },
   "source": [
    "<h2>Gender with average age<h2>"
   ]
  },
  {
   "cell_type": "code",
   "execution_count": 20,
   "id": "b809af1d",
   "metadata": {
    "execution": {
     "iopub.execute_input": "2024-03-27T15:42:34.882109Z",
     "iopub.status.busy": "2024-03-27T15:42:34.881116Z",
     "iopub.status.idle": "2024-03-27T15:42:34.907418Z",
     "shell.execute_reply": "2024-03-27T15:42:34.906344Z"
    },
    "papermill": {
     "duration": 0.054564,
     "end_time": "2024-03-27T15:42:34.909846",
     "exception": false,
     "start_time": "2024-03-27T15:42:34.855282",
     "status": "completed"
    },
    "tags": []
   },
   "outputs": [
    {
     "data": {
      "text/html": [
       "<div>\n",
       "<style scoped>\n",
       "    .dataframe tbody tr th:only-of-type {\n",
       "        vertical-align: middle;\n",
       "    }\n",
       "\n",
       "    .dataframe tbody tr th {\n",
       "        vertical-align: top;\n",
       "    }\n",
       "\n",
       "    .dataframe thead th {\n",
       "        text-align: right;\n",
       "    }\n",
       "</style>\n",
       "<table border=\"1\" class=\"dataframe\">\n",
       "  <thead>\n",
       "    <tr style=\"text-align: right;\">\n",
       "      <th></th>\n",
       "      <th>gender</th>\n",
       "      <th>age</th>\n",
       "    </tr>\n",
       "  </thead>\n",
       "  <tbody>\n",
       "    <tr>\n",
       "      <th>0</th>\n",
       "      <td>Female</td>\n",
       "      <td>43.453515</td>\n",
       "    </tr>\n",
       "    <tr>\n",
       "      <th>1</th>\n",
       "      <td>Male</td>\n",
       "      <td>43.387767</td>\n",
       "    </tr>\n",
       "  </tbody>\n",
       "</table>\n",
       "</div>"
      ],
      "text/plain": [
       "   gender        age\n",
       "0  Female  43.453515\n",
       "1    Male  43.387767"
      ]
     },
     "execution_count": 20,
     "metadata": {},
     "output_type": "execute_result"
    }
   ],
   "source": [
    "Genderwithavgage = df.groupby('gender')['age'].mean().reset_index()\n",
    "Genderwithavgage"
   ]
  },
  {
   "cell_type": "code",
   "execution_count": 21,
   "id": "d9a2544e",
   "metadata": {
    "execution": {
     "iopub.execute_input": "2024-03-27T15:42:34.950248Z",
     "iopub.status.busy": "2024-03-27T15:42:34.949828Z",
     "iopub.status.idle": "2024-03-27T15:42:35.211543Z",
     "shell.execute_reply": "2024-03-27T15:42:35.210206Z"
    },
    "papermill": {
     "duration": 0.284964,
     "end_time": "2024-03-27T15:42:35.214101",
     "exception": false,
     "start_time": "2024-03-27T15:42:34.929137",
     "status": "completed"
    },
    "tags": []
   },
   "outputs": [
    {
     "data": {
      "image/png": "[encoded data removed]",
      "text/plain": [
       "<Figure size 1500x800 with 1 Axes>"
      ]
     },
     "metadata": {},
     "output_type": "display_data"
    }
   ],
   "source": [
    "plt.figure(figsize=(15, 8))\n",
    "colors = [\"#FFB6D9\", \"#99DBF5\"]\n",
    "plt.bar(Genderwithavgage['gender'],Genderwithavgage['age'], color=colors)\n",
    "plt.xlabel('gender')\n",
    "plt.ylabel('Average of age')\n",
    "plt.title('Gender VS Average of Age')\n",
    "plt.legend()\n",
    "plt.show()"
   ]
  },
  {
   "cell_type": "markdown",
   "id": "b3503928",
   "metadata": {
    "papermill": {
     "duration": 0.02037,
     "end_time": "2024-03-27T15:42:35.254725",
     "exception": false,
     "start_time": "2024-03-27T15:42:35.234355",
     "status": "completed"
    },
    "tags": []
   },
   "source": [
    "**This Graph show the Average of male and female in the data**"
   ]
  },
  {
   "cell_type": "markdown",
   "id": "26a203da",
   "metadata": {
    "papermill": {
     "duration": 0.019653,
     "end_time": "2024-03-27T15:42:35.294519",
     "exception": false,
     "start_time": "2024-03-27T15:42:35.274866",
     "status": "completed"
    },
    "tags": []
   },
   "source": [
    "<h2>Gender with Price<h2>"
   ]
  },
  {
   "cell_type": "code",
   "execution_count": 22,
   "id": "ac6a673a",
   "metadata": {
    "execution": {
     "iopub.execute_input": "2024-03-27T15:42:35.335644Z",
     "iopub.status.busy": "2024-03-27T15:42:35.335177Z",
     "iopub.status.idle": "2024-03-27T15:42:35.358545Z",
     "shell.execute_reply": "2024-03-27T15:42:35.357374Z"
    },
    "papermill": {
     "duration": 0.046744,
     "end_time": "2024-03-27T15:42:35.360881",
     "exception": false,
     "start_time": "2024-03-27T15:42:35.314137",
     "status": "completed"
    },
    "tags": []
   },
   "outputs": [
    {
     "data": {
      "text/html": [
       "<div>\n",
       "<style scoped>\n",
       "    .dataframe tbody tr th:only-of-type {\n",
       "        vertical-align: middle;\n",
       "    }\n",
       "\n",
       "    .dataframe tbody tr th {\n",
       "        vertical-align: top;\n",
       "    }\n",
       "\n",
       "    .dataframe thead th {\n",
       "        text-align: right;\n",
       "    }\n",
       "</style>\n",
       "<table border=\"1\" class=\"dataframe\">\n",
       "  <thead>\n",
       "    <tr style=\"text-align: right;\">\n",
       "      <th></th>\n",
       "      <th>gender</th>\n",
       "      <th>price</th>\n",
       "    </tr>\n",
       "  </thead>\n",
       "  <tbody>\n",
       "    <tr>\n",
       "      <th>0</th>\n",
       "      <td>Female</td>\n",
       "      <td>40931801.62</td>\n",
       "    </tr>\n",
       "    <tr>\n",
       "      <th>1</th>\n",
       "      <td>Male</td>\n",
       "      <td>27619564.29</td>\n",
       "    </tr>\n",
       "  </tbody>\n",
       "</table>\n",
       "</div>"
      ],
      "text/plain": [
       "   gender        price\n",
       "0  Female  40931801.62\n",
       "1    Male  27619564.29"
      ]
     },
     "execution_count": 22,
     "metadata": {},
     "output_type": "execute_result"
    }
   ],
   "source": [
    "Genderwithprice = df.groupby('gender')['price'].sum().reset_index()\n",
    "Genderwithprice"
   ]
  },
  {
   "cell_type": "code",
   "execution_count": 23,
   "id": "4db440dd",
   "metadata": {
    "execution": {
     "iopub.execute_input": "2024-03-27T15:42:35.402685Z",
     "iopub.status.busy": "2024-03-27T15:42:35.402034Z",
     "iopub.status.idle": "2024-03-27T15:42:35.680668Z",
     "shell.execute_reply": "2024-03-27T15:42:35.679487Z"
    },
    "papermill": {
     "duration": 0.30226,
     "end_time": "2024-03-27T15:42:35.682993",
     "exception": false,
     "start_time": "2024-03-27T15:42:35.380733",
     "status": "completed"
    },
    "tags": []
   },
   "outputs": [
    {
     "data": {
      "image/png": "[encoded data removed]",
      "text/plain": [
       "<Figure size 1500x800 with 1 Axes>"
      ]
     },
     "metadata": {},
     "output_type": "display_data"
    }
   ],
   "source": [
    "plt.figure(figsize=(15, 8))\n",
    "colors = [\"#FFB6D9\", \"#99DBF5\"]\n",
    "plt.bar(Genderwithprice['gender'],Genderwithprice['price'], color=colors)\n",
    "plt.xlabel('Gender')\n",
    "plt.ylabel('Price')\n",
    "plt.title('Price by Gender')\n",
    "plt.legend()\n",
    "plt.show()"
   ]
  },
  {
   "cell_type": "markdown",
   "id": "98d05406",
   "metadata": {
    "papermill": {
     "duration": 0.019894,
     "end_time": "2024-03-27T15:42:35.722898",
     "exception": false,
     "start_time": "2024-03-27T15:42:35.703004",
     "status": "completed"
    },
    "tags": []
   },
   "source": [
    "**from this Graph we can see the female pay money more than male**"
   ]
  },
  {
   "cell_type": "code",
   "execution_count": 24,
   "id": "963b6862",
   "metadata": {
    "execution": {
     "iopub.execute_input": "2024-03-27T15:42:35.766210Z",
     "iopub.status.busy": "2024-03-27T15:42:35.765543Z",
     "iopub.status.idle": "2024-03-27T15:42:35.781265Z",
     "shell.execute_reply": "2024-03-27T15:42:35.780191Z"
    },
    "papermill": {
     "duration": 0.039966,
     "end_time": "2024-03-27T15:42:35.783447",
     "exception": false,
     "start_time": "2024-03-27T15:42:35.743481",
     "status": "completed"
    },
    "tags": []
   },
   "outputs": [
    {
     "data": {
      "text/html": [
       "<div>\n",
       "<style scoped>\n",
       "    .dataframe tbody tr th:only-of-type {\n",
       "        vertical-align: middle;\n",
       "    }\n",
       "\n",
       "    .dataframe tbody tr th {\n",
       "        vertical-align: top;\n",
       "    }\n",
       "\n",
       "    .dataframe thead th {\n",
       "        text-align: right;\n",
       "    }\n",
       "</style>\n",
       "<table border=\"1\" class=\"dataframe\">\n",
       "  <thead>\n",
       "    <tr style=\"text-align: right;\">\n",
       "      <th></th>\n",
       "      <th>invoice_no</th>\n",
       "      <th>customer_id</th>\n",
       "      <th>gender</th>\n",
       "      <th>age</th>\n",
       "      <th>category</th>\n",
       "      <th>quantity</th>\n",
       "      <th>price</th>\n",
       "      <th>payment_method</th>\n",
       "      <th>invoice_date</th>\n",
       "      <th>shopping_mall</th>\n",
       "      <th>year</th>\n",
       "      <th>month</th>\n",
       "    </tr>\n",
       "  </thead>\n",
       "  <tbody>\n",
       "    <tr>\n",
       "      <th>0</th>\n",
       "      <td>I138884</td>\n",
       "      <td>C241288</td>\n",
       "      <td>Female</td>\n",
       "      <td>28</td>\n",
       "      <td>Clothing</td>\n",
       "      <td>5</td>\n",
       "      <td>1500.40</td>\n",
       "      <td>Credit Card</td>\n",
       "      <td>2022-08-05</td>\n",
       "      <td>Kanyon</td>\n",
       "      <td>2022</td>\n",
       "      <td>8</td>\n",
       "    </tr>\n",
       "    <tr>\n",
       "      <th>1</th>\n",
       "      <td>I317333</td>\n",
       "      <td>C111565</td>\n",
       "      <td>Male</td>\n",
       "      <td>21</td>\n",
       "      <td>Shoes</td>\n",
       "      <td>3</td>\n",
       "      <td>1800.51</td>\n",
       "      <td>Debit Card</td>\n",
       "      <td>2021-12-12</td>\n",
       "      <td>Forum Istanbul</td>\n",
       "      <td>2021</td>\n",
       "      <td>12</td>\n",
       "    </tr>\n",
       "    <tr>\n",
       "      <th>2</th>\n",
       "      <td>I127801</td>\n",
       "      <td>C266599</td>\n",
       "      <td>Male</td>\n",
       "      <td>20</td>\n",
       "      <td>Clothing</td>\n",
       "      <td>1</td>\n",
       "      <td>300.08</td>\n",
       "      <td>Cash</td>\n",
       "      <td>2021-11-09</td>\n",
       "      <td>Metrocity</td>\n",
       "      <td>2021</td>\n",
       "      <td>11</td>\n",
       "    </tr>\n",
       "    <tr>\n",
       "      <th>3</th>\n",
       "      <td>I173702</td>\n",
       "      <td>C988172</td>\n",
       "      <td>Female</td>\n",
       "      <td>66</td>\n",
       "      <td>Shoes</td>\n",
       "      <td>5</td>\n",
       "      <td>3000.85</td>\n",
       "      <td>Credit Card</td>\n",
       "      <td>2021-05-16</td>\n",
       "      <td>Metropol AVM</td>\n",
       "      <td>2021</td>\n",
       "      <td>5</td>\n",
       "    </tr>\n",
       "    <tr>\n",
       "      <th>4</th>\n",
       "      <td>I337046</td>\n",
       "      <td>C189076</td>\n",
       "      <td>Female</td>\n",
       "      <td>53</td>\n",
       "      <td>Books</td>\n",
       "      <td>4</td>\n",
       "      <td>60.60</td>\n",
       "      <td>Cash</td>\n",
       "      <td>2021-10-24</td>\n",
       "      <td>Kanyon</td>\n",
       "      <td>2021</td>\n",
       "      <td>10</td>\n",
       "    </tr>\n",
       "  </tbody>\n",
       "</table>\n",
       "</div>"
      ],
      "text/plain": [
       "  invoice_no customer_id  gender  age  category  quantity    price  \\\n",
       "0    I138884     C241288  Female   28  Clothing         5  1500.40   \n",
       "1    I317333     C111565    Male   21     Shoes         3  1800.51   \n",
       "2    I127801     C266599    Male   20  Clothing         1   300.08   \n",
       "3    I173702     C988172  Female   66     Shoes         5  3000.85   \n",
       "4    I337046     C189076  Female   53     Books         4    60.60   \n",
       "\n",
       "  payment_method invoice_date   shopping_mall  year  month  \n",
       "0    Credit Card   2022-08-05          Kanyon  2022      8  \n",
       "1     Debit Card   2021-12-12  Forum Istanbul  2021     12  \n",
       "2           Cash   2021-11-09       Metrocity  2021     11  \n",
       "3    Credit Card   2021-05-16    Metropol AVM  2021      5  \n",
       "4           Cash   2021-10-24          Kanyon  2021     10  "
      ]
     },
     "execution_count": 24,
     "metadata": {},
     "output_type": "execute_result"
    }
   ],
   "source": [
    "df.head()"
   ]
  },
  {
   "cell_type": "markdown",
   "id": "11546a1f",
   "metadata": {
    "papermill": {
     "duration": 0.021259,
     "end_time": "2024-03-27T15:42:35.824917",
     "exception": false,
     "start_time": "2024-03-27T15:42:35.803658",
     "status": "completed"
    },
    "tags": []
   },
   "source": [
    "<h2>Age<h2>"
   ]
  },
  {
   "cell_type": "code",
   "execution_count": 25,
   "id": "04f5e440",
   "metadata": {
    "execution": {
     "iopub.execute_input": "2024-03-27T15:42:35.867819Z",
     "iopub.status.busy": "2024-03-27T15:42:35.867403Z",
     "iopub.status.idle": "2024-03-27T15:42:35.883745Z",
     "shell.execute_reply": "2024-03-27T15:42:35.882504Z"
    },
    "papermill": {
     "duration": 0.040595,
     "end_time": "2024-03-27T15:42:35.886052",
     "exception": false,
     "start_time": "2024-03-27T15:42:35.845457",
     "status": "completed"
    },
    "tags": []
   },
   "outputs": [
    {
     "data": {
      "text/html": [
       "<div>\n",
       "<style scoped>\n",
       "    .dataframe tbody tr th:only-of-type {\n",
       "        vertical-align: middle;\n",
       "    }\n",
       "\n",
       "    .dataframe tbody tr th {\n",
       "        vertical-align: top;\n",
       "    }\n",
       "\n",
       "    .dataframe thead th {\n",
       "        text-align: right;\n",
       "    }\n",
       "</style>\n",
       "<table border=\"1\" class=\"dataframe\">\n",
       "  <thead>\n",
       "    <tr style=\"text-align: right;\">\n",
       "      <th></th>\n",
       "      <th>age</th>\n",
       "      <th>count</th>\n",
       "    </tr>\n",
       "  </thead>\n",
       "  <tbody>\n",
       "    <tr>\n",
       "      <th>0</th>\n",
       "      <td>37</td>\n",
       "      <td>2057</td>\n",
       "    </tr>\n",
       "    <tr>\n",
       "      <th>1</th>\n",
       "      <td>22</td>\n",
       "      <td>2051</td>\n",
       "    </tr>\n",
       "    <tr>\n",
       "      <th>2</th>\n",
       "      <td>64</td>\n",
       "      <td>2002</td>\n",
       "    </tr>\n",
       "    <tr>\n",
       "      <th>3</th>\n",
       "      <td>43</td>\n",
       "      <td>2000</td>\n",
       "    </tr>\n",
       "    <tr>\n",
       "      <th>4</th>\n",
       "      <td>51</td>\n",
       "      <td>1993</td>\n",
       "    </tr>\n",
       "    <tr>\n",
       "      <th>5</th>\n",
       "      <td>30</td>\n",
       "      <td>1981</td>\n",
       "    </tr>\n",
       "    <tr>\n",
       "      <th>6</th>\n",
       "      <td>24</td>\n",
       "      <td>1977</td>\n",
       "    </tr>\n",
       "    <tr>\n",
       "      <th>7</th>\n",
       "      <td>40</td>\n",
       "      <td>1960</td>\n",
       "    </tr>\n",
       "    <tr>\n",
       "      <th>8</th>\n",
       "      <td>48</td>\n",
       "      <td>1955</td>\n",
       "    </tr>\n",
       "    <tr>\n",
       "      <th>9</th>\n",
       "      <td>36</td>\n",
       "      <td>1954</td>\n",
       "    </tr>\n",
       "    <tr>\n",
       "      <th>10</th>\n",
       "      <td>38</td>\n",
       "      <td>1954</td>\n",
       "    </tr>\n",
       "    <tr>\n",
       "      <th>11</th>\n",
       "      <td>28</td>\n",
       "      <td>1953</td>\n",
       "    </tr>\n",
       "    <tr>\n",
       "      <th>12</th>\n",
       "      <td>27</td>\n",
       "      <td>1950</td>\n",
       "    </tr>\n",
       "    <tr>\n",
       "      <th>13</th>\n",
       "      <td>39</td>\n",
       "      <td>1947</td>\n",
       "    </tr>\n",
       "    <tr>\n",
       "      <th>14</th>\n",
       "      <td>21</td>\n",
       "      <td>1947</td>\n",
       "    </tr>\n",
       "    <tr>\n",
       "      <th>15</th>\n",
       "      <td>61</td>\n",
       "      <td>1945</td>\n",
       "    </tr>\n",
       "    <tr>\n",
       "      <th>16</th>\n",
       "      <td>52</td>\n",
       "      <td>1945</td>\n",
       "    </tr>\n",
       "    <tr>\n",
       "      <th>17</th>\n",
       "      <td>19</td>\n",
       "      <td>1936</td>\n",
       "    </tr>\n",
       "    <tr>\n",
       "      <th>18</th>\n",
       "      <td>56</td>\n",
       "      <td>1916</td>\n",
       "    </tr>\n",
       "    <tr>\n",
       "      <th>19</th>\n",
       "      <td>33</td>\n",
       "      <td>1913</td>\n",
       "    </tr>\n",
       "    <tr>\n",
       "      <th>20</th>\n",
       "      <td>46</td>\n",
       "      <td>1911</td>\n",
       "    </tr>\n",
       "    <tr>\n",
       "      <th>21</th>\n",
       "      <td>62</td>\n",
       "      <td>1909</td>\n",
       "    </tr>\n",
       "    <tr>\n",
       "      <th>22</th>\n",
       "      <td>44</td>\n",
       "      <td>1904</td>\n",
       "    </tr>\n",
       "    <tr>\n",
       "      <th>23</th>\n",
       "      <td>53</td>\n",
       "      <td>1903</td>\n",
       "    </tr>\n",
       "    <tr>\n",
       "      <th>24</th>\n",
       "      <td>67</td>\n",
       "      <td>1901</td>\n",
       "    </tr>\n",
       "    <tr>\n",
       "      <th>25</th>\n",
       "      <td>69</td>\n",
       "      <td>1901</td>\n",
       "    </tr>\n",
       "    <tr>\n",
       "      <th>26</th>\n",
       "      <td>23</td>\n",
       "      <td>1897</td>\n",
       "    </tr>\n",
       "    <tr>\n",
       "      <th>27</th>\n",
       "      <td>26</td>\n",
       "      <td>1896</td>\n",
       "    </tr>\n",
       "    <tr>\n",
       "      <th>28</th>\n",
       "      <td>68</td>\n",
       "      <td>1893</td>\n",
       "    </tr>\n",
       "    <tr>\n",
       "      <th>29</th>\n",
       "      <td>42</td>\n",
       "      <td>1892</td>\n",
       "    </tr>\n",
       "    <tr>\n",
       "      <th>30</th>\n",
       "      <td>41</td>\n",
       "      <td>1892</td>\n",
       "    </tr>\n",
       "    <tr>\n",
       "      <th>31</th>\n",
       "      <td>32</td>\n",
       "      <td>1891</td>\n",
       "    </tr>\n",
       "    <tr>\n",
       "      <th>32</th>\n",
       "      <td>63</td>\n",
       "      <td>1886</td>\n",
       "    </tr>\n",
       "    <tr>\n",
       "      <th>33</th>\n",
       "      <td>29</td>\n",
       "      <td>1885</td>\n",
       "    </tr>\n",
       "    <tr>\n",
       "      <th>34</th>\n",
       "      <td>49</td>\n",
       "      <td>1883</td>\n",
       "    </tr>\n",
       "    <tr>\n",
       "      <th>35</th>\n",
       "      <td>34</td>\n",
       "      <td>1883</td>\n",
       "    </tr>\n",
       "    <tr>\n",
       "      <th>36</th>\n",
       "      <td>47</td>\n",
       "      <td>1880</td>\n",
       "    </tr>\n",
       "    <tr>\n",
       "      <th>37</th>\n",
       "      <td>57</td>\n",
       "      <td>1879</td>\n",
       "    </tr>\n",
       "    <tr>\n",
       "      <th>38</th>\n",
       "      <td>66</td>\n",
       "      <td>1876</td>\n",
       "    </tr>\n",
       "    <tr>\n",
       "      <th>39</th>\n",
       "      <td>45</td>\n",
       "      <td>1876</td>\n",
       "    </tr>\n",
       "    <tr>\n",
       "      <th>40</th>\n",
       "      <td>58</td>\n",
       "      <td>1875</td>\n",
       "    </tr>\n",
       "    <tr>\n",
       "      <th>41</th>\n",
       "      <td>59</td>\n",
       "      <td>1874</td>\n",
       "    </tr>\n",
       "    <tr>\n",
       "      <th>42</th>\n",
       "      <td>60</td>\n",
       "      <td>1874</td>\n",
       "    </tr>\n",
       "    <tr>\n",
       "      <th>43</th>\n",
       "      <td>50</td>\n",
       "      <td>1873</td>\n",
       "    </tr>\n",
       "    <tr>\n",
       "      <th>44</th>\n",
       "      <td>31</td>\n",
       "      <td>1866</td>\n",
       "    </tr>\n",
       "    <tr>\n",
       "      <th>45</th>\n",
       "      <td>25</td>\n",
       "      <td>1863</td>\n",
       "    </tr>\n",
       "    <tr>\n",
       "      <th>46</th>\n",
       "      <td>65</td>\n",
       "      <td>1856</td>\n",
       "    </tr>\n",
       "    <tr>\n",
       "      <th>47</th>\n",
       "      <td>18</td>\n",
       "      <td>1844</td>\n",
       "    </tr>\n",
       "    <tr>\n",
       "      <th>48</th>\n",
       "      <td>20</td>\n",
       "      <td>1844</td>\n",
       "    </tr>\n",
       "    <tr>\n",
       "      <th>49</th>\n",
       "      <td>55</td>\n",
       "      <td>1843</td>\n",
       "    </tr>\n",
       "    <tr>\n",
       "      <th>50</th>\n",
       "      <td>35</td>\n",
       "      <td>1841</td>\n",
       "    </tr>\n",
       "    <tr>\n",
       "      <th>51</th>\n",
       "      <td>54</td>\n",
       "      <td>1830</td>\n",
       "    </tr>\n",
       "  </tbody>\n",
       "</table>\n",
       "</div>"
      ],
      "text/plain": [
       "    age  count\n",
       "0    37   2057\n",
       "1    22   2051\n",
       "2    64   2002\n",
       "3    43   2000\n",
       "4    51   1993\n",
       "5    30   1981\n",
       "6    24   1977\n",
       "7    40   1960\n",
       "8    48   1955\n",
       "9    36   1954\n",
       "10   38   1954\n",
       "11   28   1953\n",
       "12   27   1950\n",
       "13   39   1947\n",
       "14   21   1947\n",
       "15   61   1945\n",
       "16   52   1945\n",
       "17   19   1936\n",
       "18   56   1916\n",
       "19   33   1913\n",
       "20   46   1911\n",
       "21   62   1909\n",
       "22   44   1904\n",
       "23   53   1903\n",
       "24   67   1901\n",
       "25   69   1901\n",
       "26   23   1897\n",
       "27   26   1896\n",
       "28   68   1893\n",
       "29   42   1892\n",
       "30   41   1892\n",
       "31   32   1891\n",
       "32   63   1886\n",
       "33   29   1885\n",
       "34   49   1883\n",
       "35   34   1883\n",
       "36   47   1880\n",
       "37   57   1879\n",
       "38   66   1876\n",
       "39   45   1876\n",
       "40   58   1875\n",
       "41   59   1874\n",
       "42   60   1874\n",
       "43   50   1873\n",
       "44   31   1866\n",
       "45   25   1863\n",
       "46   65   1856\n",
       "47   18   1844\n",
       "48   20   1844\n",
       "49   55   1843\n",
       "50   35   1841\n",
       "51   54   1830"
      ]
     },
     "execution_count": 25,
     "metadata": {},
     "output_type": "execute_result"
    }
   ],
   "source": [
    "age = df['age'].value_counts().reset_index()\n",
    "age"
   ]
  },
  {
   "cell_type": "code",
   "execution_count": 26,
   "id": "8530e8c2",
   "metadata": {
    "execution": {
     "iopub.execute_input": "2024-03-27T15:42:35.930845Z",
     "iopub.status.busy": "2024-03-27T15:42:35.930449Z",
     "iopub.status.idle": "2024-03-27T15:42:36.526973Z",
     "shell.execute_reply": "2024-03-27T15:42:36.526038Z"
    },
    "papermill": {
     "duration": 0.621531,
     "end_time": "2024-03-27T15:42:36.529136",
     "exception": false,
     "start_time": "2024-03-27T15:42:35.907605",
     "status": "completed"
    },
    "tags": []
   },
   "outputs": [
    {
     "data": {
      "image/png": "[encoded data removed]",
      "text/plain": [
       "<Figure size 1600x800 with 1 Axes>"
      ]
     },
     "metadata": {},
     "output_type": "display_data"
    }
   ],
   "source": [
    "xticks = age['age']\n",
    "plt.figure(figsize=(16, 8))\n",
    "plt.bar(age['age'], age['count'],color ='darkred')\n",
    "plt.xticks(xticks,rotation=90)\n",
    "plt.xlabel('Age')\n",
    "plt.ylabel('Count')\n",
    "plt.title('Count of Age')\n",
    "plt.show()"
   ]
  },
  {
   "cell_type": "markdown",
   "id": "9317a2a7",
   "metadata": {
    "papermill": {
     "duration": 0.020706,
     "end_time": "2024-03-27T15:42:36.570983",
     "exception": false,
     "start_time": "2024-03-27T15:42:36.550277",
     "status": "completed"
    },
    "tags": []
   },
   "source": [
    "**From this graph we can determine the number for every age in data**"
   ]
  },
  {
   "cell_type": "markdown",
   "id": "619c94f2",
   "metadata": {
    "papermill": {
     "duration": 0.020735,
     "end_time": "2024-03-27T15:42:36.612830",
     "exception": false,
     "start_time": "2024-03-27T15:42:36.592095",
     "status": "completed"
    },
    "tags": []
   },
   "source": [
    "<h2>Age with Quantity<h2>"
   ]
  },
  {
   "cell_type": "code",
   "execution_count": 27,
   "id": "8909da21",
   "metadata": {
    "execution": {
     "iopub.execute_input": "2024-03-27T15:42:36.657246Z",
     "iopub.status.busy": "2024-03-27T15:42:36.656481Z",
     "iopub.status.idle": "2024-03-27T15:42:36.672408Z",
     "shell.execute_reply": "2024-03-27T15:42:36.671230Z"
    },
    "papermill": {
     "duration": 0.040742,
     "end_time": "2024-03-27T15:42:36.674789",
     "exception": false,
     "start_time": "2024-03-27T15:42:36.634047",
     "status": "completed"
    },
    "tags": []
   },
   "outputs": [
    {
     "data": {
      "text/html": [
       "<div>\n",
       "<style scoped>\n",
       "    .dataframe tbody tr th:only-of-type {\n",
       "        vertical-align: middle;\n",
       "    }\n",
       "\n",
       "    .dataframe tbody tr th {\n",
       "        vertical-align: top;\n",
       "    }\n",
       "\n",
       "    .dataframe thead th {\n",
       "        text-align: right;\n",
       "    }\n",
       "</style>\n",
       "<table border=\"1\" class=\"dataframe\">\n",
       "  <thead>\n",
       "    <tr style=\"text-align: right;\">\n",
       "      <th></th>\n",
       "      <th>age</th>\n",
       "      <th>quantity</th>\n",
       "    </tr>\n",
       "  </thead>\n",
       "  <tbody>\n",
       "    <tr>\n",
       "      <th>0</th>\n",
       "      <td>18</td>\n",
       "      <td>5518</td>\n",
       "    </tr>\n",
       "    <tr>\n",
       "      <th>1</th>\n",
       "      <td>19</td>\n",
       "      <td>5778</td>\n",
       "    </tr>\n",
       "    <tr>\n",
       "      <th>2</th>\n",
       "      <td>20</td>\n",
       "      <td>5505</td>\n",
       "    </tr>\n",
       "    <tr>\n",
       "      <th>3</th>\n",
       "      <td>21</td>\n",
       "      <td>5894</td>\n",
       "    </tr>\n",
       "    <tr>\n",
       "      <th>4</th>\n",
       "      <td>22</td>\n",
       "      <td>6148</td>\n",
       "    </tr>\n",
       "    <tr>\n",
       "      <th>5</th>\n",
       "      <td>23</td>\n",
       "      <td>5715</td>\n",
       "    </tr>\n",
       "    <tr>\n",
       "      <th>6</th>\n",
       "      <td>24</td>\n",
       "      <td>5957</td>\n",
       "    </tr>\n",
       "    <tr>\n",
       "      <th>7</th>\n",
       "      <td>25</td>\n",
       "      <td>5513</td>\n",
       "    </tr>\n",
       "    <tr>\n",
       "      <th>8</th>\n",
       "      <td>26</td>\n",
       "      <td>5672</td>\n",
       "    </tr>\n",
       "    <tr>\n",
       "      <th>9</th>\n",
       "      <td>27</td>\n",
       "      <td>5969</td>\n",
       "    </tr>\n",
       "    <tr>\n",
       "      <th>10</th>\n",
       "      <td>28</td>\n",
       "      <td>5832</td>\n",
       "    </tr>\n",
       "    <tr>\n",
       "      <th>11</th>\n",
       "      <td>29</td>\n",
       "      <td>5744</td>\n",
       "    </tr>\n",
       "    <tr>\n",
       "      <th>12</th>\n",
       "      <td>30</td>\n",
       "      <td>5927</td>\n",
       "    </tr>\n",
       "    <tr>\n",
       "      <th>13</th>\n",
       "      <td>31</td>\n",
       "      <td>5531</td>\n",
       "    </tr>\n",
       "    <tr>\n",
       "      <th>14</th>\n",
       "      <td>32</td>\n",
       "      <td>5655</td>\n",
       "    </tr>\n",
       "    <tr>\n",
       "      <th>15</th>\n",
       "      <td>33</td>\n",
       "      <td>5756</td>\n",
       "    </tr>\n",
       "    <tr>\n",
       "      <th>16</th>\n",
       "      <td>34</td>\n",
       "      <td>5589</td>\n",
       "    </tr>\n",
       "    <tr>\n",
       "      <th>17</th>\n",
       "      <td>35</td>\n",
       "      <td>5590</td>\n",
       "    </tr>\n",
       "    <tr>\n",
       "      <th>18</th>\n",
       "      <td>36</td>\n",
       "      <td>5826</td>\n",
       "    </tr>\n",
       "    <tr>\n",
       "      <th>19</th>\n",
       "      <td>37</td>\n",
       "      <td>6217</td>\n",
       "    </tr>\n",
       "    <tr>\n",
       "      <th>20</th>\n",
       "      <td>38</td>\n",
       "      <td>5910</td>\n",
       "    </tr>\n",
       "    <tr>\n",
       "      <th>21</th>\n",
       "      <td>39</td>\n",
       "      <td>5874</td>\n",
       "    </tr>\n",
       "    <tr>\n",
       "      <th>22</th>\n",
       "      <td>40</td>\n",
       "      <td>5902</td>\n",
       "    </tr>\n",
       "    <tr>\n",
       "      <th>23</th>\n",
       "      <td>41</td>\n",
       "      <td>5715</td>\n",
       "    </tr>\n",
       "    <tr>\n",
       "      <th>24</th>\n",
       "      <td>42</td>\n",
       "      <td>5734</td>\n",
       "    </tr>\n",
       "    <tr>\n",
       "      <th>25</th>\n",
       "      <td>43</td>\n",
       "      <td>5928</td>\n",
       "    </tr>\n",
       "    <tr>\n",
       "      <th>26</th>\n",
       "      <td>44</td>\n",
       "      <td>5777</td>\n",
       "    </tr>\n",
       "    <tr>\n",
       "      <th>27</th>\n",
       "      <td>45</td>\n",
       "      <td>5600</td>\n",
       "    </tr>\n",
       "    <tr>\n",
       "      <th>28</th>\n",
       "      <td>46</td>\n",
       "      <td>5751</td>\n",
       "    </tr>\n",
       "    <tr>\n",
       "      <th>29</th>\n",
       "      <td>47</td>\n",
       "      <td>5617</td>\n",
       "    </tr>\n",
       "    <tr>\n",
       "      <th>30</th>\n",
       "      <td>48</td>\n",
       "      <td>5918</td>\n",
       "    </tr>\n",
       "    <tr>\n",
       "      <th>31</th>\n",
       "      <td>49</td>\n",
       "      <td>5575</td>\n",
       "    </tr>\n",
       "    <tr>\n",
       "      <th>32</th>\n",
       "      <td>50</td>\n",
       "      <td>5541</td>\n",
       "    </tr>\n",
       "    <tr>\n",
       "      <th>33</th>\n",
       "      <td>51</td>\n",
       "      <td>6014</td>\n",
       "    </tr>\n",
       "    <tr>\n",
       "      <th>34</th>\n",
       "      <td>52</td>\n",
       "      <td>5892</td>\n",
       "    </tr>\n",
       "    <tr>\n",
       "      <th>35</th>\n",
       "      <td>53</td>\n",
       "      <td>5712</td>\n",
       "    </tr>\n",
       "    <tr>\n",
       "      <th>36</th>\n",
       "      <td>54</td>\n",
       "      <td>5471</td>\n",
       "    </tr>\n",
       "    <tr>\n",
       "      <th>37</th>\n",
       "      <td>55</td>\n",
       "      <td>5595</td>\n",
       "    </tr>\n",
       "    <tr>\n",
       "      <th>38</th>\n",
       "      <td>56</td>\n",
       "      <td>5727</td>\n",
       "    </tr>\n",
       "    <tr>\n",
       "      <th>39</th>\n",
       "      <td>57</td>\n",
       "      <td>5675</td>\n",
       "    </tr>\n",
       "    <tr>\n",
       "      <th>40</th>\n",
       "      <td>58</td>\n",
       "      <td>5692</td>\n",
       "    </tr>\n",
       "    <tr>\n",
       "      <th>41</th>\n",
       "      <td>59</td>\n",
       "      <td>5603</td>\n",
       "    </tr>\n",
       "    <tr>\n",
       "      <th>42</th>\n",
       "      <td>60</td>\n",
       "      <td>5616</td>\n",
       "    </tr>\n",
       "    <tr>\n",
       "      <th>43</th>\n",
       "      <td>61</td>\n",
       "      <td>5829</td>\n",
       "    </tr>\n",
       "    <tr>\n",
       "      <th>44</th>\n",
       "      <td>62</td>\n",
       "      <td>5734</td>\n",
       "    </tr>\n",
       "    <tr>\n",
       "      <th>45</th>\n",
       "      <td>63</td>\n",
       "      <td>5591</td>\n",
       "    </tr>\n",
       "    <tr>\n",
       "      <th>46</th>\n",
       "      <td>64</td>\n",
       "      <td>5991</td>\n",
       "    </tr>\n",
       "    <tr>\n",
       "      <th>47</th>\n",
       "      <td>65</td>\n",
       "      <td>5607</td>\n",
       "    </tr>\n",
       "    <tr>\n",
       "      <th>48</th>\n",
       "      <td>66</td>\n",
       "      <td>5571</td>\n",
       "    </tr>\n",
       "    <tr>\n",
       "      <th>49</th>\n",
       "      <td>67</td>\n",
       "      <td>5788</td>\n",
       "    </tr>\n",
       "    <tr>\n",
       "      <th>50</th>\n",
       "      <td>68</td>\n",
       "      <td>5737</td>\n",
       "    </tr>\n",
       "    <tr>\n",
       "      <th>51</th>\n",
       "      <td>69</td>\n",
       "      <td>5689</td>\n",
       "    </tr>\n",
       "  </tbody>\n",
       "</table>\n",
       "</div>"
      ],
      "text/plain": [
       "    age  quantity\n",
       "0    18      5518\n",
       "1    19      5778\n",
       "2    20      5505\n",
       "3    21      5894\n",
       "4    22      6148\n",
       "5    23      5715\n",
       "6    24      5957\n",
       "7    25      5513\n",
       "8    26      5672\n",
       "9    27      5969\n",
       "10   28      5832\n",
       "11   29      5744\n",
       "12   30      5927\n",
       "13   31      5531\n",
       "14   32      5655\n",
       "15   33      5756\n",
       "16   34      5589\n",
       "17   35      5590\n",
       "18   36      5826\n",
       "19   37      6217\n",
       "20   38      5910\n",
       "21   39      5874\n",
       "22   40      5902\n",
       "23   41      5715\n",
       "24   42      5734\n",
       "25   43      5928\n",
       "26   44      5777\n",
       "27   45      5600\n",
       "28   46      5751\n",
       "29   47      5617\n",
       "30   48      5918\n",
       "31   49      5575\n",
       "32   50      5541\n",
       "33   51      6014\n",
       "34   52      5892\n",
       "35   53      5712\n",
       "36   54      5471\n",
       "37   55      5595\n",
       "38   56      5727\n",
       "39   57      5675\n",
       "40   58      5692\n",
       "41   59      5603\n",
       "42   60      5616\n",
       "43   61      5829\n",
       "44   62      5734\n",
       "45   63      5591\n",
       "46   64      5991\n",
       "47   65      5607\n",
       "48   66      5571\n",
       "49   67      5788\n",
       "50   68      5737\n",
       "51   69      5689"
      ]
     },
     "execution_count": 27,
     "metadata": {},
     "output_type": "execute_result"
    }
   ],
   "source": [
    "AgewithQuantity = df.groupby('age')['quantity'].sum().reset_index()\n",
    "AgewithQuantity"
   ]
  },
  {
   "cell_type": "code",
   "execution_count": 28,
   "id": "21e17e23",
   "metadata": {
    "execution": {
     "iopub.execute_input": "2024-03-27T15:42:36.719987Z",
     "iopub.status.busy": "2024-03-27T15:42:36.718880Z",
     "iopub.status.idle": "2024-03-27T15:42:37.293392Z",
     "shell.execute_reply": "2024-03-27T15:42:37.292279Z"
    },
    "papermill": {
     "duration": 0.599471,
     "end_time": "2024-03-27T15:42:37.295713",
     "exception": false,
     "start_time": "2024-03-27T15:42:36.696242",
     "status": "completed"
    },
    "tags": []
   },
   "outputs": [
    {
     "data": {
      "image/png": "[encoded data removed]",
      "text/plain": [
       "<Figure size 1600x800 with 1 Axes>"
      ]
     },
     "metadata": {},
     "output_type": "display_data"
    }
   ],
   "source": [
    "xticks = AgewithQuantity['age']\n",
    "plt.figure(figsize=(16, 8))\n",
    "plt.bar(AgewithQuantity['age'], AgewithQuantity['quantity'],color =\"darkred\")\n",
    "plt.xticks(xticks,rotation=90)\n",
    "plt.xlabel('Age')\n",
    "plt.ylabel('Number of Quantity')\n",
    "plt.title('Number of Quantity VS Age')\n",
    "plt.show()"
   ]
  },
  {
   "cell_type": "markdown",
   "id": "7631fcba",
   "metadata": {
    "papermill": {
     "duration": 0.023253,
     "end_time": "2024-03-27T15:42:37.341688",
     "exception": false,
     "start_time": "2024-03-27T15:42:37.318435",
     "status": "completed"
    },
    "tags": []
   },
   "source": [
    "**this Graph show the number of quantity for every age**"
   ]
  },
  {
   "cell_type": "markdown",
   "id": "093d0145",
   "metadata": {
    "papermill": {
     "duration": 0.022513,
     "end_time": "2024-03-27T15:42:37.386442",
     "exception": false,
     "start_time": "2024-03-27T15:42:37.363929",
     "status": "completed"
    },
    "tags": []
   },
   "source": [
    "<h2>Category with Quantity<h2>"
   ]
  },
  {
   "cell_type": "code",
   "execution_count": 29,
   "id": "44b0ce59",
   "metadata": {
    "execution": {
     "iopub.execute_input": "2024-03-27T15:42:37.434519Z",
     "iopub.status.busy": "2024-03-27T15:42:37.433860Z",
     "iopub.status.idle": "2024-03-27T15:42:37.454029Z",
     "shell.execute_reply": "2024-03-27T15:42:37.452925Z"
    },
    "papermill": {
     "duration": 0.047456,
     "end_time": "2024-03-27T15:42:37.456229",
     "exception": false,
     "start_time": "2024-03-27T15:42:37.408773",
     "status": "completed"
    },
    "tags": []
   },
   "outputs": [
    {
     "data": {
      "text/html": [
       "<div>\n",
       "<style scoped>\n",
       "    .dataframe tbody tr th:only-of-type {\n",
       "        vertical-align: middle;\n",
       "    }\n",
       "\n",
       "    .dataframe tbody tr th {\n",
       "        vertical-align: top;\n",
       "    }\n",
       "\n",
       "    .dataframe thead th {\n",
       "        text-align: right;\n",
       "    }\n",
       "</style>\n",
       "<table border=\"1\" class=\"dataframe\">\n",
       "  <thead>\n",
       "    <tr style=\"text-align: right;\">\n",
       "      <th></th>\n",
       "      <th>category</th>\n",
       "      <th>quantity</th>\n",
       "    </tr>\n",
       "  </thead>\n",
       "  <tbody>\n",
       "    <tr>\n",
       "      <th>0</th>\n",
       "      <td>Books</td>\n",
       "      <td>14982</td>\n",
       "    </tr>\n",
       "    <tr>\n",
       "      <th>1</th>\n",
       "      <td>Clothing</td>\n",
       "      <td>103558</td>\n",
       "    </tr>\n",
       "    <tr>\n",
       "      <th>2</th>\n",
       "      <td>Cosmetics</td>\n",
       "      <td>45465</td>\n",
       "    </tr>\n",
       "    <tr>\n",
       "      <th>3</th>\n",
       "      <td>Food &amp; Beverage</td>\n",
       "      <td>44277</td>\n",
       "    </tr>\n",
       "    <tr>\n",
       "      <th>4</th>\n",
       "      <td>Shoes</td>\n",
       "      <td>30217</td>\n",
       "    </tr>\n",
       "    <tr>\n",
       "      <th>5</th>\n",
       "      <td>Souvenir</td>\n",
       "      <td>14871</td>\n",
       "    </tr>\n",
       "    <tr>\n",
       "      <th>6</th>\n",
       "      <td>Technology</td>\n",
       "      <td>15021</td>\n",
       "    </tr>\n",
       "    <tr>\n",
       "      <th>7</th>\n",
       "      <td>Toys</td>\n",
       "      <td>30321</td>\n",
       "    </tr>\n",
       "  </tbody>\n",
       "</table>\n",
       "</div>"
      ],
      "text/plain": [
       "          category  quantity\n",
       "0            Books     14982\n",
       "1         Clothing    103558\n",
       "2        Cosmetics     45465\n",
       "3  Food & Beverage     44277\n",
       "4            Shoes     30217\n",
       "5         Souvenir     14871\n",
       "6       Technology     15021\n",
       "7             Toys     30321"
      ]
     },
     "execution_count": 29,
     "metadata": {},
     "output_type": "execute_result"
    }
   ],
   "source": [
    "Categorywithquantity = df.groupby('category')['quantity'].sum().reset_index()\n",
    "Categorywithquantity"
   ]
  },
  {
   "cell_type": "code",
   "execution_count": 30,
   "id": "e8e500c2",
   "metadata": {
    "execution": {
     "iopub.execute_input": "2024-03-27T15:42:37.504662Z",
     "iopub.status.busy": "2024-03-27T15:42:37.503561Z",
     "iopub.status.idle": "2024-03-27T15:42:37.801224Z",
     "shell.execute_reply": "2024-03-27T15:42:37.800031Z"
    },
    "papermill": {
     "duration": 0.324634,
     "end_time": "2024-03-27T15:42:37.803954",
     "exception": false,
     "start_time": "2024-03-27T15:42:37.479320",
     "status": "completed"
    },
    "tags": []
   },
   "outputs": [
    {
     "data": {
      "image/png": "[encoded data removed]",
      "text/plain": [
       "<Figure size 1500x800 with 1 Axes>"
      ]
     },
     "metadata": {},
     "output_type": "display_data"
    }
   ],
   "source": [
    "plt.figure(figsize=(15, 8))\n",
    "plt.bar(Categorywithquantity['category'],Categorywithquantity['quantity'],color =\"darkred\")\n",
    "plt.xlabel('category')\n",
    "plt.ylabel('quantity')\n",
    "plt.title('category VS quantity')\n",
    "plt.legend()\n",
    "plt.show()"
   ]
  },
  {
   "cell_type": "markdown",
   "id": "b9218464",
   "metadata": {
    "papermill": {
     "duration": 0.023589,
     "end_time": "2024-03-27T15:42:37.851820",
     "exception": false,
     "start_time": "2024-03-27T15:42:37.828231",
     "status": "completed"
    },
    "tags": []
   },
   "source": [
    "**From this bar graph we can see the quantity for all Category that customer buy**"
   ]
  },
  {
   "cell_type": "code",
   "execution_count": 31,
   "id": "ae3d1ec6",
   "metadata": {
    "execution": {
     "iopub.execute_input": "2024-03-27T15:42:37.900848Z",
     "iopub.status.busy": "2024-03-27T15:42:37.900420Z",
     "iopub.status.idle": "2024-03-27T15:42:38.170454Z",
     "shell.execute_reply": "2024-03-27T15:42:38.169269Z"
    },
    "papermill": {
     "duration": 0.298994,
     "end_time": "2024-03-27T15:42:38.174232",
     "exception": false,
     "start_time": "2024-03-27T15:42:37.875238",
     "status": "completed"
    },
    "tags": []
   },
   "outputs": [
    {
     "data": {
      "image/png": "[encoded data removed]",
      "text/plain": [
       "<Figure size 800x800 with 1 Axes>"
      ]
     },
     "metadata": {},
     "output_type": "display_data"
    }
   ],
   "source": [
    "plt.figure(figsize=(8, 8))\n",
    "plt.pie(Categorywithquantity['quantity'], labels=Categorywithquantity['category'], autopct='%1.1f%%')\n",
    "plt.xlabel('Category')\n",
    "plt.ylabel('Quantity')\n",
    "plt.title('Category VS Quantity')\n",
    "plt.legend(loc=(1.1,.5))\n",
    "plt.show()"
   ]
  },
  {
   "cell_type": "markdown",
   "id": "327d2e3d",
   "metadata": {
    "papermill": {
     "duration": 0.02371,
     "end_time": "2024-03-27T15:42:38.222725",
     "exception": false,
     "start_time": "2024-03-27T15:42:38.199015",
     "status": "completed"
    },
    "tags": []
   },
   "source": [
    "**From this pie graph we can see the percentage of quantity for all Category that customer buy**"
   ]
  },
  {
   "cell_type": "markdown",
   "id": "0a34e30b",
   "metadata": {
    "papermill": {
     "duration": 0.0248,
     "end_time": "2024-03-27T15:42:38.272104",
     "exception": false,
     "start_time": "2024-03-27T15:42:38.247304",
     "status": "completed"
    },
    "tags": []
   },
   "source": [
    "<h2>Category with Price<h2>"
   ]
  },
  {
   "cell_type": "code",
   "execution_count": 32,
   "id": "0ee9bdcb",
   "metadata": {
    "execution": {
     "iopub.execute_input": "2024-03-27T15:42:38.322805Z",
     "iopub.status.busy": "2024-03-27T15:42:38.321605Z",
     "iopub.status.idle": "2024-03-27T15:42:38.343989Z",
     "shell.execute_reply": "2024-03-27T15:42:38.342703Z"
    },
    "papermill": {
     "duration": 0.050378,
     "end_time": "2024-03-27T15:42:38.346560",
     "exception": false,
     "start_time": "2024-03-27T15:42:38.296182",
     "status": "completed"
    },
    "tags": []
   },
   "outputs": [
    {
     "data": {
      "text/html": [
       "<div>\n",
       "<style scoped>\n",
       "    .dataframe tbody tr th:only-of-type {\n",
       "        vertical-align: middle;\n",
       "    }\n",
       "\n",
       "    .dataframe tbody tr th {\n",
       "        vertical-align: top;\n",
       "    }\n",
       "\n",
       "    .dataframe thead th {\n",
       "        text-align: right;\n",
       "    }\n",
       "</style>\n",
       "<table border=\"1\" class=\"dataframe\">\n",
       "  <thead>\n",
       "    <tr style=\"text-align: right;\">\n",
       "      <th></th>\n",
       "      <th>category</th>\n",
       "      <th>price</th>\n",
       "    </tr>\n",
       "  </thead>\n",
       "  <tbody>\n",
       "    <tr>\n",
       "      <th>0</th>\n",
       "      <td>Books</td>\n",
       "      <td>226977.30</td>\n",
       "    </tr>\n",
       "    <tr>\n",
       "      <th>1</th>\n",
       "      <td>Clothing</td>\n",
       "      <td>31075684.64</td>\n",
       "    </tr>\n",
       "    <tr>\n",
       "      <th>2</th>\n",
       "      <td>Cosmetics</td>\n",
       "      <td>1848606.90</td>\n",
       "    </tr>\n",
       "    <tr>\n",
       "      <th>3</th>\n",
       "      <td>Food &amp; Beverage</td>\n",
       "      <td>231568.71</td>\n",
       "    </tr>\n",
       "    <tr>\n",
       "      <th>4</th>\n",
       "      <td>Shoes</td>\n",
       "      <td>18135336.89</td>\n",
       "    </tr>\n",
       "    <tr>\n",
       "      <th>5</th>\n",
       "      <td>Souvenir</td>\n",
       "      <td>174436.83</td>\n",
       "    </tr>\n",
       "    <tr>\n",
       "      <th>6</th>\n",
       "      <td>Technology</td>\n",
       "      <td>15772050.00</td>\n",
       "    </tr>\n",
       "    <tr>\n",
       "      <th>7</th>\n",
       "      <td>Toys</td>\n",
       "      <td>1086704.64</td>\n",
       "    </tr>\n",
       "  </tbody>\n",
       "</table>\n",
       "</div>"
      ],
      "text/plain": [
       "          category        price\n",
       "0            Books    226977.30\n",
       "1         Clothing  31075684.64\n",
       "2        Cosmetics   1848606.90\n",
       "3  Food & Beverage    231568.71\n",
       "4            Shoes  18135336.89\n",
       "5         Souvenir    174436.83\n",
       "6       Technology  15772050.00\n",
       "7             Toys   1086704.64"
      ]
     },
     "execution_count": 32,
     "metadata": {},
     "output_type": "execute_result"
    }
   ],
   "source": [
    "CategorywithPrice = df.groupby('category')['price'].sum().reset_index()\n",
    "CategorywithPrice"
   ]
  },
  {
   "cell_type": "code",
   "execution_count": 33,
   "id": "d14ae599",
   "metadata": {
    "execution": {
     "iopub.execute_input": "2024-03-27T15:42:38.400065Z",
     "iopub.status.busy": "2024-03-27T15:42:38.399162Z",
     "iopub.status.idle": "2024-03-27T15:42:38.695678Z",
     "shell.execute_reply": "2024-03-27T15:42:38.694799Z"
    },
    "papermill": {
     "duration": 0.325994,
     "end_time": "2024-03-27T15:42:38.698171",
     "exception": false,
     "start_time": "2024-03-27T15:42:38.372177",
     "status": "completed"
    },
    "tags": []
   },
   "outputs": [
    {
     "data": {
      "image/png": "[encoded data removed]",
      "text/plain": [
       "<Figure size 800x800 with 1 Axes>"
      ]
     },
     "metadata": {},
     "output_type": "display_data"
    }
   ],
   "source": [
    "plt.figure(figsize=(8,8))\n",
    "plt.pie(CategorywithPrice['price'],\n",
    "        labels=CategorywithPrice['category'],autopct='%1.4f%%',\n",
    "        explode=[0.0,0.03,0.3,0,0,0.2,0,0.2]\n",
    "       )\n",
    "plt.title('Category VS Price')\n",
    "plt.legend(loc=(1.1,.5))\n",
    "plt.show()"
   ]
  },
  {
   "cell_type": "markdown",
   "id": "a2d1a7aa",
   "metadata": {
    "papermill": {
     "duration": 0.025409,
     "end_time": "2024-03-27T15:42:38.750295",
     "exception": false,
     "start_time": "2024-03-27T15:42:38.724886",
     "status": "completed"
    },
    "tags": []
   },
   "source": [
    "**From this pie graph we can see the percentage of price for all Category**"
   ]
  },
  {
   "cell_type": "code",
   "execution_count": 34,
   "id": "9c322cbc",
   "metadata": {
    "execution": {
     "iopub.execute_input": "2024-03-27T15:42:38.805574Z",
     "iopub.status.busy": "2024-03-27T15:42:38.804932Z",
     "iopub.status.idle": "2024-03-27T15:42:38.820978Z",
     "shell.execute_reply": "2024-03-27T15:42:38.819840Z"
    },
    "papermill": {
     "duration": 0.046607,
     "end_time": "2024-03-27T15:42:38.823065",
     "exception": false,
     "start_time": "2024-03-27T15:42:38.776458",
     "status": "completed"
    },
    "tags": []
   },
   "outputs": [
    {
     "data": {
      "text/html": [
       "<div>\n",
       "<style scoped>\n",
       "    .dataframe tbody tr th:only-of-type {\n",
       "        vertical-align: middle;\n",
       "    }\n",
       "\n",
       "    .dataframe tbody tr th {\n",
       "        vertical-align: top;\n",
       "    }\n",
       "\n",
       "    .dataframe thead th {\n",
       "        text-align: right;\n",
       "    }\n",
       "</style>\n",
       "<table border=\"1\" class=\"dataframe\">\n",
       "  <thead>\n",
       "    <tr style=\"text-align: right;\">\n",
       "      <th></th>\n",
       "      <th>invoice_no</th>\n",
       "      <th>customer_id</th>\n",
       "      <th>gender</th>\n",
       "      <th>age</th>\n",
       "      <th>category</th>\n",
       "      <th>quantity</th>\n",
       "      <th>price</th>\n",
       "      <th>payment_method</th>\n",
       "      <th>invoice_date</th>\n",
       "      <th>shopping_mall</th>\n",
       "      <th>year</th>\n",
       "      <th>month</th>\n",
       "    </tr>\n",
       "  </thead>\n",
       "  <tbody>\n",
       "    <tr>\n",
       "      <th>0</th>\n",
       "      <td>I138884</td>\n",
       "      <td>C241288</td>\n",
       "      <td>Female</td>\n",
       "      <td>28</td>\n",
       "      <td>Clothing</td>\n",
       "      <td>5</td>\n",
       "      <td>1500.40</td>\n",
       "      <td>Credit Card</td>\n",
       "      <td>2022-08-05</td>\n",
       "      <td>Kanyon</td>\n",
       "      <td>2022</td>\n",
       "      <td>8</td>\n",
       "    </tr>\n",
       "    <tr>\n",
       "      <th>1</th>\n",
       "      <td>I317333</td>\n",
       "      <td>C111565</td>\n",
       "      <td>Male</td>\n",
       "      <td>21</td>\n",
       "      <td>Shoes</td>\n",
       "      <td>3</td>\n",
       "      <td>1800.51</td>\n",
       "      <td>Debit Card</td>\n",
       "      <td>2021-12-12</td>\n",
       "      <td>Forum Istanbul</td>\n",
       "      <td>2021</td>\n",
       "      <td>12</td>\n",
       "    </tr>\n",
       "    <tr>\n",
       "      <th>2</th>\n",
       "      <td>I127801</td>\n",
       "      <td>C266599</td>\n",
       "      <td>Male</td>\n",
       "      <td>20</td>\n",
       "      <td>Clothing</td>\n",
       "      <td>1</td>\n",
       "      <td>300.08</td>\n",
       "      <td>Cash</td>\n",
       "      <td>2021-11-09</td>\n",
       "      <td>Metrocity</td>\n",
       "      <td>2021</td>\n",
       "      <td>11</td>\n",
       "    </tr>\n",
       "    <tr>\n",
       "      <th>3</th>\n",
       "      <td>I173702</td>\n",
       "      <td>C988172</td>\n",
       "      <td>Female</td>\n",
       "      <td>66</td>\n",
       "      <td>Shoes</td>\n",
       "      <td>5</td>\n",
       "      <td>3000.85</td>\n",
       "      <td>Credit Card</td>\n",
       "      <td>2021-05-16</td>\n",
       "      <td>Metropol AVM</td>\n",
       "      <td>2021</td>\n",
       "      <td>5</td>\n",
       "    </tr>\n",
       "    <tr>\n",
       "      <th>4</th>\n",
       "      <td>I337046</td>\n",
       "      <td>C189076</td>\n",
       "      <td>Female</td>\n",
       "      <td>53</td>\n",
       "      <td>Books</td>\n",
       "      <td>4</td>\n",
       "      <td>60.60</td>\n",
       "      <td>Cash</td>\n",
       "      <td>2021-10-24</td>\n",
       "      <td>Kanyon</td>\n",
       "      <td>2021</td>\n",
       "      <td>10</td>\n",
       "    </tr>\n",
       "  </tbody>\n",
       "</table>\n",
       "</div>"
      ],
      "text/plain": [
       "  invoice_no customer_id  gender  age  category  quantity    price  \\\n",
       "0    I138884     C241288  Female   28  Clothing         5  1500.40   \n",
       "1    I317333     C111565    Male   21     Shoes         3  1800.51   \n",
       "2    I127801     C266599    Male   20  Clothing         1   300.08   \n",
       "3    I173702     C988172  Female   66     Shoes         5  3000.85   \n",
       "4    I337046     C189076  Female   53     Books         4    60.60   \n",
       "\n",
       "  payment_method invoice_date   shopping_mall  year  month  \n",
       "0    Credit Card   2022-08-05          Kanyon  2022      8  \n",
       "1     Debit Card   2021-12-12  Forum Istanbul  2021     12  \n",
       "2           Cash   2021-11-09       Metrocity  2021     11  \n",
       "3    Credit Card   2021-05-16    Metropol AVM  2021      5  \n",
       "4           Cash   2021-10-24          Kanyon  2021     10  "
      ]
     },
     "execution_count": 34,
     "metadata": {},
     "output_type": "execute_result"
    }
   ],
   "source": [
    "df.head()"
   ]
  },
  {
   "cell_type": "markdown",
   "id": "d406b9e4",
   "metadata": {
    "papermill": {
     "duration": 0.025431,
     "end_time": "2024-03-27T15:42:38.874165",
     "exception": false,
     "start_time": "2024-03-27T15:42:38.848734",
     "status": "completed"
    },
    "tags": []
   },
   "source": [
    "<h2>Price with years<h2>"
   ]
  },
  {
   "cell_type": "code",
   "execution_count": 35,
   "id": "bd78d9f0",
   "metadata": {
    "execution": {
     "iopub.execute_input": "2024-03-27T15:42:38.928199Z",
     "iopub.status.busy": "2024-03-27T15:42:38.927764Z",
     "iopub.status.idle": "2024-03-27T15:42:38.940726Z",
     "shell.execute_reply": "2024-03-27T15:42:38.939708Z"
    },
    "papermill": {
     "duration": 0.042763,
     "end_time": "2024-03-27T15:42:38.943002",
     "exception": false,
     "start_time": "2024-03-27T15:42:38.900239",
     "status": "completed"
    },
    "tags": []
   },
   "outputs": [
    {
     "data": {
      "text/html": [
       "<div>\n",
       "<style scoped>\n",
       "    .dataframe tbody tr th:only-of-type {\n",
       "        vertical-align: middle;\n",
       "    }\n",
       "\n",
       "    .dataframe tbody tr th {\n",
       "        vertical-align: top;\n",
       "    }\n",
       "\n",
       "    .dataframe thead th {\n",
       "        text-align: right;\n",
       "    }\n",
       "</style>\n",
       "<table border=\"1\" class=\"dataframe\">\n",
       "  <thead>\n",
       "    <tr style=\"text-align: right;\">\n",
       "      <th></th>\n",
       "      <th>year</th>\n",
       "      <th>price</th>\n",
       "    </tr>\n",
       "  </thead>\n",
       "  <tbody>\n",
       "    <tr>\n",
       "      <th>0</th>\n",
       "      <td>2021</td>\n",
       "      <td>31316304.63</td>\n",
       "    </tr>\n",
       "    <tr>\n",
       "      <th>1</th>\n",
       "      <td>2022</td>\n",
       "      <td>31372826.18</td>\n",
       "    </tr>\n",
       "    <tr>\n",
       "      <th>2</th>\n",
       "      <td>2023</td>\n",
       "      <td>5862235.10</td>\n",
       "    </tr>\n",
       "  </tbody>\n",
       "</table>\n",
       "</div>"
      ],
      "text/plain": [
       "   year        price\n",
       "0  2021  31316304.63\n",
       "1  2022  31372826.18\n",
       "2  2023   5862235.10"
      ]
     },
     "execution_count": 35,
     "metadata": {},
     "output_type": "execute_result"
    }
   ],
   "source": [
    "Pricewithyears = df.groupby('year')['price'].sum().reset_index()\n",
    "Pricewithyears"
   ]
  },
  {
   "cell_type": "code",
   "execution_count": 36,
   "id": "dc8d35a9",
   "metadata": {
    "execution": {
     "iopub.execute_input": "2024-03-27T15:42:38.996575Z",
     "iopub.status.busy": "2024-03-27T15:42:38.995770Z",
     "iopub.status.idle": "2024-03-27T15:42:39.158447Z",
     "shell.execute_reply": "2024-03-27T15:42:39.157035Z"
    },
    "papermill": {
     "duration": 0.193718,
     "end_time": "2024-03-27T15:42:39.162157",
     "exception": false,
     "start_time": "2024-03-27T15:42:38.968439",
     "status": "completed"
    },
    "tags": []
   },
   "outputs": [
    {
     "data": {
      "image/png": "[encoded data removed]",
      "text/plain": [
       "<Figure size 800x800 with 1 Axes>"
      ]
     },
     "metadata": {},
     "output_type": "display_data"
    }
   ],
   "source": [
    "plt.figure(figsize=(8,8))\n",
    "plt.pie(Pricewithyears['price'],\n",
    "        labels=Pricewithyears['year'],autopct='%1.4f%%',\n",
    "        explode=[0,0.05,0]\n",
    "       )\n",
    "plt.title('Price VS Years')\n",
    "plt.legend(loc=(1.1,.5))\n",
    "plt.show()"
   ]
  },
  {
   "cell_type": "markdown",
   "id": "5e88f145",
   "metadata": {
    "papermill": {
     "duration": 0.028456,
     "end_time": "2024-03-27T15:42:39.235643",
     "exception": false,
     "start_time": "2024-03-27T15:42:39.207187",
     "status": "completed"
    },
    "tags": []
   },
   "source": [
    "**From this pie we can see the biggest money get from sell is in 2021 and 2022**"
   ]
  },
  {
   "cell_type": "markdown",
   "id": "46459cbc",
   "metadata": {
    "papermill": {
     "duration": 0.026453,
     "end_time": "2024-03-27T15:42:39.290801",
     "exception": false,
     "start_time": "2024-03-27T15:42:39.264348",
     "status": "completed"
    },
    "tags": []
   },
   "source": [
    "****"
   ]
  },
  {
   "cell_type": "markdown",
   "id": "8e730dc7",
   "metadata": {
    "papermill": {
     "duration": 0.025781,
     "end_time": "2024-03-27T15:42:39.342896",
     "exception": false,
     "start_time": "2024-03-27T15:42:39.317115",
     "status": "completed"
    },
    "tags": []
   },
   "source": [
    "<h2>payment_method<h2>"
   ]
  },
  {
   "cell_type": "code",
   "execution_count": 37,
   "id": "51ee9238",
   "metadata": {
    "execution": {
     "iopub.execute_input": "2024-03-27T15:42:39.397891Z",
     "iopub.status.busy": "2024-03-27T15:42:39.396823Z",
     "iopub.status.idle": "2024-03-27T15:42:39.415032Z",
     "shell.execute_reply": "2024-03-27T15:42:39.413930Z"
    },
    "papermill": {
     "duration": 0.048008,
     "end_time": "2024-03-27T15:42:39.417227",
     "exception": false,
     "start_time": "2024-03-27T15:42:39.369219",
     "status": "completed"
    },
    "tags": []
   },
   "outputs": [
    {
     "data": {
      "text/html": [
       "<div>\n",
       "<style scoped>\n",
       "    .dataframe tbody tr th:only-of-type {\n",
       "        vertical-align: middle;\n",
       "    }\n",
       "\n",
       "    .dataframe tbody tr th {\n",
       "        vertical-align: top;\n",
       "    }\n",
       "\n",
       "    .dataframe thead th {\n",
       "        text-align: right;\n",
       "    }\n",
       "</style>\n",
       "<table border=\"1\" class=\"dataframe\">\n",
       "  <thead>\n",
       "    <tr style=\"text-align: right;\">\n",
       "      <th></th>\n",
       "      <th>payment_method</th>\n",
       "      <th>count</th>\n",
       "    </tr>\n",
       "  </thead>\n",
       "  <tbody>\n",
       "    <tr>\n",
       "      <th>0</th>\n",
       "      <td>Cash</td>\n",
       "      <td>44447</td>\n",
       "    </tr>\n",
       "    <tr>\n",
       "      <th>1</th>\n",
       "      <td>Credit Card</td>\n",
       "      <td>34931</td>\n",
       "    </tr>\n",
       "    <tr>\n",
       "      <th>2</th>\n",
       "      <td>Debit Card</td>\n",
       "      <td>20079</td>\n",
       "    </tr>\n",
       "  </tbody>\n",
       "</table>\n",
       "</div>"
      ],
      "text/plain": [
       "  payment_method  count\n",
       "0           Cash  44447\n",
       "1    Credit Card  34931\n",
       "2     Debit Card  20079"
      ]
     },
     "execution_count": 37,
     "metadata": {},
     "output_type": "execute_result"
    }
   ],
   "source": [
    "payment_method = df['payment_method'].value_counts().reset_index()\n",
    "payment_method"
   ]
  },
  {
   "cell_type": "code",
   "execution_count": 38,
   "id": "bd740940",
   "metadata": {
    "execution": {
     "iopub.execute_input": "2024-03-27T15:42:39.471923Z",
     "iopub.status.busy": "2024-03-27T15:42:39.471507Z",
     "iopub.status.idle": "2024-03-27T15:42:39.731786Z",
     "shell.execute_reply": "2024-03-27T15:42:39.730697Z"
    },
    "papermill": {
     "duration": 0.29085,
     "end_time": "2024-03-27T15:42:39.734450",
     "exception": false,
     "start_time": "2024-03-27T15:42:39.443600",
     "status": "completed"
    },
    "tags": []
   },
   "outputs": [
    {
     "data": {
      "image/png": "[encoded data removed]",
      "text/plain": [
       "<Figure size 1500x800 with 1 Axes>"
      ]
     },
     "metadata": {},
     "output_type": "display_data"
    }
   ],
   "source": [
    "plt.figure(figsize=(15, 8))\n",
    "plt.bar(payment_method['payment_method'],payment_method['count'],color=[\"#FFB6D9\", \"#99DBF5\",'darkred'])\n",
    "plt.title('payment_method VS Count')\n",
    "plt.xlabel('payment_method')\n",
    "plt.ylabel('Count')\n",
    "plt.show()"
   ]
  },
  {
   "cell_type": "markdown",
   "id": "4b791a8f",
   "metadata": {
    "papermill": {
     "duration": 0.026342,
     "end_time": "2024-03-27T15:42:39.787589",
     "exception": false,
     "start_time": "2024-03-27T15:42:39.761247",
     "status": "completed"
    },
    "tags": []
   },
   "source": [
    "**This bar show the number of operation that happen when way and how the cutomer pay**"
   ]
  },
  {
   "cell_type": "code",
   "execution_count": 39,
   "id": "8b6cecbc",
   "metadata": {
    "execution": {
     "iopub.execute_input": "2024-03-27T15:42:39.843029Z",
     "iopub.status.busy": "2024-03-27T15:42:39.842652Z",
     "iopub.status.idle": "2024-03-27T15:42:39.857290Z",
     "shell.execute_reply": "2024-03-27T15:42:39.856235Z"
    },
    "papermill": {
     "duration": 0.045143,
     "end_time": "2024-03-27T15:42:39.859415",
     "exception": false,
     "start_time": "2024-03-27T15:42:39.814272",
     "status": "completed"
    },
    "tags": []
   },
   "outputs": [
    {
     "data": {
      "text/html": [
       "<div>\n",
       "<style scoped>\n",
       "    .dataframe tbody tr th:only-of-type {\n",
       "        vertical-align: middle;\n",
       "    }\n",
       "\n",
       "    .dataframe tbody tr th {\n",
       "        vertical-align: top;\n",
       "    }\n",
       "\n",
       "    .dataframe thead th {\n",
       "        text-align: right;\n",
       "    }\n",
       "</style>\n",
       "<table border=\"1\" class=\"dataframe\">\n",
       "  <thead>\n",
       "    <tr style=\"text-align: right;\">\n",
       "      <th></th>\n",
       "      <th>invoice_no</th>\n",
       "      <th>customer_id</th>\n",
       "      <th>gender</th>\n",
       "      <th>age</th>\n",
       "      <th>category</th>\n",
       "      <th>quantity</th>\n",
       "      <th>price</th>\n",
       "      <th>payment_method</th>\n",
       "      <th>invoice_date</th>\n",
       "      <th>shopping_mall</th>\n",
       "      <th>year</th>\n",
       "      <th>month</th>\n",
       "    </tr>\n",
       "  </thead>\n",
       "  <tbody>\n",
       "    <tr>\n",
       "      <th>0</th>\n",
       "      <td>I138884</td>\n",
       "      <td>C241288</td>\n",
       "      <td>Female</td>\n",
       "      <td>28</td>\n",
       "      <td>Clothing</td>\n",
       "      <td>5</td>\n",
       "      <td>1500.40</td>\n",
       "      <td>Credit Card</td>\n",
       "      <td>2022-08-05</td>\n",
       "      <td>Kanyon</td>\n",
       "      <td>2022</td>\n",
       "      <td>8</td>\n",
       "    </tr>\n",
       "    <tr>\n",
       "      <th>1</th>\n",
       "      <td>I317333</td>\n",
       "      <td>C111565</td>\n",
       "      <td>Male</td>\n",
       "      <td>21</td>\n",
       "      <td>Shoes</td>\n",
       "      <td>3</td>\n",
       "      <td>1800.51</td>\n",
       "      <td>Debit Card</td>\n",
       "      <td>2021-12-12</td>\n",
       "      <td>Forum Istanbul</td>\n",
       "      <td>2021</td>\n",
       "      <td>12</td>\n",
       "    </tr>\n",
       "    <tr>\n",
       "      <th>2</th>\n",
       "      <td>I127801</td>\n",
       "      <td>C266599</td>\n",
       "      <td>Male</td>\n",
       "      <td>20</td>\n",
       "      <td>Clothing</td>\n",
       "      <td>1</td>\n",
       "      <td>300.08</td>\n",
       "      <td>Cash</td>\n",
       "      <td>2021-11-09</td>\n",
       "      <td>Metrocity</td>\n",
       "      <td>2021</td>\n",
       "      <td>11</td>\n",
       "    </tr>\n",
       "    <tr>\n",
       "      <th>3</th>\n",
       "      <td>I173702</td>\n",
       "      <td>C988172</td>\n",
       "      <td>Female</td>\n",
       "      <td>66</td>\n",
       "      <td>Shoes</td>\n",
       "      <td>5</td>\n",
       "      <td>3000.85</td>\n",
       "      <td>Credit Card</td>\n",
       "      <td>2021-05-16</td>\n",
       "      <td>Metropol AVM</td>\n",
       "      <td>2021</td>\n",
       "      <td>5</td>\n",
       "    </tr>\n",
       "    <tr>\n",
       "      <th>4</th>\n",
       "      <td>I337046</td>\n",
       "      <td>C189076</td>\n",
       "      <td>Female</td>\n",
       "      <td>53</td>\n",
       "      <td>Books</td>\n",
       "      <td>4</td>\n",
       "      <td>60.60</td>\n",
       "      <td>Cash</td>\n",
       "      <td>2021-10-24</td>\n",
       "      <td>Kanyon</td>\n",
       "      <td>2021</td>\n",
       "      <td>10</td>\n",
       "    </tr>\n",
       "  </tbody>\n",
       "</table>\n",
       "</div>"
      ],
      "text/plain": [
       "  invoice_no customer_id  gender  age  category  quantity    price  \\\n",
       "0    I138884     C241288  Female   28  Clothing         5  1500.40   \n",
       "1    I317333     C111565    Male   21     Shoes         3  1800.51   \n",
       "2    I127801     C266599    Male   20  Clothing         1   300.08   \n",
       "3    I173702     C988172  Female   66     Shoes         5  3000.85   \n",
       "4    I337046     C189076  Female   53     Books         4    60.60   \n",
       "\n",
       "  payment_method invoice_date   shopping_mall  year  month  \n",
       "0    Credit Card   2022-08-05          Kanyon  2022      8  \n",
       "1     Debit Card   2021-12-12  Forum Istanbul  2021     12  \n",
       "2           Cash   2021-11-09       Metrocity  2021     11  \n",
       "3    Credit Card   2021-05-16    Metropol AVM  2021      5  \n",
       "4           Cash   2021-10-24          Kanyon  2021     10  "
      ]
     },
     "execution_count": 39,
     "metadata": {},
     "output_type": "execute_result"
    }
   ],
   "source": [
    "df.head()"
   ]
  },
  {
   "cell_type": "markdown",
   "id": "eef62bbe",
   "metadata": {
    "papermill": {
     "duration": 0.028981,
     "end_time": "2024-03-27T15:42:39.915557",
     "exception": false,
     "start_time": "2024-03-27T15:42:39.886576",
     "status": "completed"
    },
    "tags": []
   },
   "source": [
    "<h2>shopping_mall<h2>"
   ]
  },
  {
   "cell_type": "code",
   "execution_count": 40,
   "id": "68e14387",
   "metadata": {
    "execution": {
     "iopub.execute_input": "2024-03-27T15:42:39.972238Z",
     "iopub.status.busy": "2024-03-27T15:42:39.971483Z",
     "iopub.status.idle": "2024-03-27T15:42:39.989268Z",
     "shell.execute_reply": "2024-03-27T15:42:39.988151Z"
    },
    "papermill": {
     "duration": 0.049147,
     "end_time": "2024-03-27T15:42:39.991636",
     "exception": false,
     "start_time": "2024-03-27T15:42:39.942489",
     "status": "completed"
    },
    "tags": []
   },
   "outputs": [
    {
     "data": {
      "text/html": [
       "<div>\n",
       "<style scoped>\n",
       "    .dataframe tbody tr th:only-of-type {\n",
       "        vertical-align: middle;\n",
       "    }\n",
       "\n",
       "    .dataframe tbody tr th {\n",
       "        vertical-align: top;\n",
       "    }\n",
       "\n",
       "    .dataframe thead th {\n",
       "        text-align: right;\n",
       "    }\n",
       "</style>\n",
       "<table border=\"1\" class=\"dataframe\">\n",
       "  <thead>\n",
       "    <tr style=\"text-align: right;\">\n",
       "      <th></th>\n",
       "      <th>shopping_mall</th>\n",
       "      <th>count</th>\n",
       "    </tr>\n",
       "  </thead>\n",
       "  <tbody>\n",
       "    <tr>\n",
       "      <th>0</th>\n",
       "      <td>Mall of Istanbul</td>\n",
       "      <td>19943</td>\n",
       "    </tr>\n",
       "    <tr>\n",
       "      <th>1</th>\n",
       "      <td>Kanyon</td>\n",
       "      <td>19823</td>\n",
       "    </tr>\n",
       "    <tr>\n",
       "      <th>2</th>\n",
       "      <td>Metrocity</td>\n",
       "      <td>15011</td>\n",
       "    </tr>\n",
       "    <tr>\n",
       "      <th>3</th>\n",
       "      <td>Metropol AVM</td>\n",
       "      <td>10161</td>\n",
       "    </tr>\n",
       "    <tr>\n",
       "      <th>4</th>\n",
       "      <td>Istinye Park</td>\n",
       "      <td>9781</td>\n",
       "    </tr>\n",
       "    <tr>\n",
       "      <th>5</th>\n",
       "      <td>Zorlu Center</td>\n",
       "      <td>5075</td>\n",
       "    </tr>\n",
       "    <tr>\n",
       "      <th>6</th>\n",
       "      <td>Cevahir AVM</td>\n",
       "      <td>4991</td>\n",
       "    </tr>\n",
       "    <tr>\n",
       "      <th>7</th>\n",
       "      <td>Forum Istanbul</td>\n",
       "      <td>4947</td>\n",
       "    </tr>\n",
       "    <tr>\n",
       "      <th>8</th>\n",
       "      <td>Viaport Outlet</td>\n",
       "      <td>4914</td>\n",
       "    </tr>\n",
       "    <tr>\n",
       "      <th>9</th>\n",
       "      <td>Emaar Square Mall</td>\n",
       "      <td>4811</td>\n",
       "    </tr>\n",
       "  </tbody>\n",
       "</table>\n",
       "</div>"
      ],
      "text/plain": [
       "       shopping_mall  count\n",
       "0   Mall of Istanbul  19943\n",
       "1             Kanyon  19823\n",
       "2          Metrocity  15011\n",
       "3       Metropol AVM  10161\n",
       "4       Istinye Park   9781\n",
       "5       Zorlu Center   5075\n",
       "6        Cevahir AVM   4991\n",
       "7     Forum Istanbul   4947\n",
       "8     Viaport Outlet   4914\n",
       "9  Emaar Square Mall   4811"
      ]
     },
     "execution_count": 40,
     "metadata": {},
     "output_type": "execute_result"
    }
   ],
   "source": [
    "shopping_mall = df['shopping_mall'].value_counts().reset_index()\n",
    "shopping_mall"
   ]
  },
  {
   "cell_type": "code",
   "execution_count": 41,
   "id": "202668c3",
   "metadata": {
    "execution": {
     "iopub.execute_input": "2024-03-27T15:42:40.050193Z",
     "iopub.status.busy": "2024-03-27T15:42:40.049459Z",
     "iopub.status.idle": "2024-03-27T15:42:40.385850Z",
     "shell.execute_reply": "2024-03-27T15:42:40.384681Z"
    },
    "papermill": {
     "duration": 0.368413,
     "end_time": "2024-03-27T15:42:40.388312",
     "exception": false,
     "start_time": "2024-03-27T15:42:40.019899",
     "status": "completed"
    },
    "tags": []
   },
   "outputs": [
    {
     "data": {
      "image/png": "[encoded data removed]",
      "text/plain": [
       "<Figure size 1600x800 with 1 Axes>"
      ]
     },
     "metadata": {},
     "output_type": "display_data"
    }
   ],
   "source": [
    "plt.figure(figsize=(16, 8))\n",
    "plt.bar(shopping_mall['shopping_mall'],shopping_mall['count'],color='darkred')\n",
    "plt.title('shopping_mall VS Quantity sell')\n",
    "plt.xlabel('shopping_mall')\n",
    "plt.ylabel('Quantity sell')\n",
    "plt.show()"
   ]
  },
  {
   "cell_type": "markdown",
   "id": "3954fd89",
   "metadata": {
    "papermill": {
     "duration": 0.027528,
     "end_time": "2024-03-27T15:42:40.443652",
     "exception": false,
     "start_time": "2024-03-27T15:42:40.416124",
     "status": "completed"
    },
    "tags": []
   },
   "source": [
    "**This graph show the number of Category that sell from all malls**"
   ]
  },
  {
   "cell_type": "markdown",
   "id": "2bf19b78",
   "metadata": {
    "papermill": {
     "duration": 0.027663,
     "end_time": "2024-03-27T15:42:40.499333",
     "exception": false,
     "start_time": "2024-03-27T15:42:40.471670",
     "status": "completed"
    },
    "tags": []
   },
   "source": [
    "<h2>Orders with Years<h2>"
   ]
  },
  {
   "cell_type": "code",
   "execution_count": 42,
   "id": "0d81dcac",
   "metadata": {
    "execution": {
     "iopub.execute_input": "2024-03-27T15:42:40.557813Z",
     "iopub.status.busy": "2024-03-27T15:42:40.556477Z",
     "iopub.status.idle": "2024-03-27T15:42:40.580985Z",
     "shell.execute_reply": "2024-03-27T15:42:40.579976Z"
    },
    "papermill": {
     "duration": 0.056059,
     "end_time": "2024-03-27T15:42:40.583344",
     "exception": false,
     "start_time": "2024-03-27T15:42:40.527285",
     "status": "completed"
    },
    "tags": []
   },
   "outputs": [
    {
     "data": {
      "text/html": [
       "<div>\n",
       "<style scoped>\n",
       "    .dataframe tbody tr th:only-of-type {\n",
       "        vertical-align: middle;\n",
       "    }\n",
       "\n",
       "    .dataframe tbody tr th {\n",
       "        vertical-align: top;\n",
       "    }\n",
       "\n",
       "    .dataframe thead th {\n",
       "        text-align: right;\n",
       "    }\n",
       "</style>\n",
       "<table border=\"1\" class=\"dataframe\">\n",
       "  <thead>\n",
       "    <tr style=\"text-align: right;\">\n",
       "      <th></th>\n",
       "      <th>year</th>\n",
       "      <th>gender</th>\n",
       "      <th>count</th>\n",
       "    </tr>\n",
       "  </thead>\n",
       "  <tbody>\n",
       "    <tr>\n",
       "      <th>0</th>\n",
       "      <td>2021</td>\n",
       "      <td>Female</td>\n",
       "      <td>27156</td>\n",
       "    </tr>\n",
       "    <tr>\n",
       "      <th>1</th>\n",
       "      <td>2021</td>\n",
       "      <td>Male</td>\n",
       "      <td>18226</td>\n",
       "    </tr>\n",
       "    <tr>\n",
       "      <th>2</th>\n",
       "      <td>2022</td>\n",
       "      <td>Female</td>\n",
       "      <td>27192</td>\n",
       "    </tr>\n",
       "    <tr>\n",
       "      <th>3</th>\n",
       "      <td>2022</td>\n",
       "      <td>Male</td>\n",
       "      <td>18359</td>\n",
       "    </tr>\n",
       "    <tr>\n",
       "      <th>4</th>\n",
       "      <td>2023</td>\n",
       "      <td>Female</td>\n",
       "      <td>5134</td>\n",
       "    </tr>\n",
       "    <tr>\n",
       "      <th>5</th>\n",
       "      <td>2023</td>\n",
       "      <td>Male</td>\n",
       "      <td>3390</td>\n",
       "    </tr>\n",
       "  </tbody>\n",
       "</table>\n",
       "</div>"
      ],
      "text/plain": [
       "   year  gender  count\n",
       "0  2021  Female  27156\n",
       "1  2021    Male  18226\n",
       "2  2022  Female  27192\n",
       "3  2022    Male  18359\n",
       "4  2023  Female   5134\n",
       "5  2023    Male   3390"
      ]
     },
     "execution_count": 42,
     "metadata": {},
     "output_type": "execute_result"
    }
   ],
   "source": [
    "years_gender = df.groupby(['year', 'gender'])['year'].value_counts().reset_index()\n",
    "years_gender"
   ]
  },
  {
   "cell_type": "code",
   "execution_count": 43,
   "id": "4f98cefb",
   "metadata": {
    "execution": {
     "iopub.execute_input": "2024-03-27T15:42:40.642598Z",
     "iopub.status.busy": "2024-03-27T15:42:40.641868Z",
     "iopub.status.idle": "2024-03-27T15:42:40.904441Z",
     "shell.execute_reply": "2024-03-27T15:42:40.903286Z"
    },
    "papermill": {
     "duration": 0.295095,
     "end_time": "2024-03-27T15:42:40.906982",
     "exception": false,
     "start_time": "2024-03-27T15:42:40.611887",
     "status": "completed"
    },
    "tags": []
   },
   "outputs": [
    {
     "data": {
      "image/png": "[encoded data removed]",
      "text/plain": [
       "<Figure size 640x480 with 1 Axes>"
      ]
     },
     "metadata": {},
     "output_type": "display_data"
    }
   ],
   "source": [
    "sns.barplot(data=years_gender, x='year', y='count', hue='gender',palette=[\"#FFB6D9\", \"#99DBF5\"])\n",
    "plt.xlabel('Year')\n",
    "plt.ylabel('Order Frequency')\n",
    "plt.title('Orders in Years')\n",
    "plt.show()"
   ]
  },
  {
   "cell_type": "markdown",
   "id": "07f37070",
   "metadata": {
    "papermill": {
     "duration": 0.031533,
     "end_time": "2024-03-27T15:42:40.968691",
     "exception": false,
     "start_time": "2024-03-27T15:42:40.937158",
     "status": "completed"
    },
    "tags": []
   },
   "source": [
    "**this Graph show the number of Orders in Years**"
   ]
  },
  {
   "cell_type": "markdown",
   "id": "580bacae",
   "metadata": {
    "papermill": {
     "duration": 0.030076,
     "end_time": "2024-03-27T15:42:41.028449",
     "exception": false,
     "start_time": "2024-03-27T15:42:40.998373",
     "status": "completed"
    },
    "tags": []
   },
   "source": [
    "<h2>Order in months<h2>"
   ]
  },
  {
   "cell_type": "code",
   "execution_count": 44,
   "id": "4abcd71f",
   "metadata": {
    "execution": {
     "iopub.execute_input": "2024-03-27T15:42:41.089159Z",
     "iopub.status.busy": "2024-03-27T15:42:41.088778Z",
     "iopub.status.idle": "2024-03-27T15:42:41.112994Z",
     "shell.execute_reply": "2024-03-27T15:42:41.111861Z"
    },
    "papermill": {
     "duration": 0.058325,
     "end_time": "2024-03-27T15:42:41.115332",
     "exception": false,
     "start_time": "2024-03-27T15:42:41.057007",
     "status": "completed"
    },
    "tags": []
   },
   "outputs": [
    {
     "data": {
      "text/html": [
       "<div>\n",
       "<style scoped>\n",
       "    .dataframe tbody tr th:only-of-type {\n",
       "        vertical-align: middle;\n",
       "    }\n",
       "\n",
       "    .dataframe tbody tr th {\n",
       "        vertical-align: top;\n",
       "    }\n",
       "\n",
       "    .dataframe thead th {\n",
       "        text-align: right;\n",
       "    }\n",
       "</style>\n",
       "<table border=\"1\" class=\"dataframe\">\n",
       "  <thead>\n",
       "    <tr style=\"text-align: right;\">\n",
       "      <th></th>\n",
       "      <th>month</th>\n",
       "      <th>gender</th>\n",
       "      <th>count</th>\n",
       "    </tr>\n",
       "  </thead>\n",
       "  <tbody>\n",
       "    <tr>\n",
       "      <th>0</th>\n",
       "      <td>1</td>\n",
       "      <td>Female</td>\n",
       "      <td>6923</td>\n",
       "    </tr>\n",
       "    <tr>\n",
       "      <th>1</th>\n",
       "      <td>1</td>\n",
       "      <td>Male</td>\n",
       "      <td>4685</td>\n",
       "    </tr>\n",
       "    <tr>\n",
       "      <th>2</th>\n",
       "      <td>2</td>\n",
       "      <td>Female</td>\n",
       "      <td>6252</td>\n",
       "    </tr>\n",
       "    <tr>\n",
       "      <th>3</th>\n",
       "      <td>2</td>\n",
       "      <td>Male</td>\n",
       "      <td>4230</td>\n",
       "    </tr>\n",
       "    <tr>\n",
       "      <th>4</th>\n",
       "      <td>3</td>\n",
       "      <td>Female</td>\n",
       "      <td>5248</td>\n",
       "    </tr>\n",
       "    <tr>\n",
       "      <th>5</th>\n",
       "      <td>3</td>\n",
       "      <td>Male</td>\n",
       "      <td>3482</td>\n",
       "    </tr>\n",
       "    <tr>\n",
       "      <th>6</th>\n",
       "      <td>4</td>\n",
       "      <td>Female</td>\n",
       "      <td>4481</td>\n",
       "    </tr>\n",
       "    <tr>\n",
       "      <th>7</th>\n",
       "      <td>4</td>\n",
       "      <td>Male</td>\n",
       "      <td>3006</td>\n",
       "    </tr>\n",
       "    <tr>\n",
       "      <th>8</th>\n",
       "      <td>5</td>\n",
       "      <td>Female</td>\n",
       "      <td>4649</td>\n",
       "    </tr>\n",
       "    <tr>\n",
       "      <th>9</th>\n",
       "      <td>5</td>\n",
       "      <td>Male</td>\n",
       "      <td>3048</td>\n",
       "    </tr>\n",
       "    <tr>\n",
       "      <th>10</th>\n",
       "      <td>6</td>\n",
       "      <td>Female</td>\n",
       "      <td>4518</td>\n",
       "    </tr>\n",
       "    <tr>\n",
       "      <th>11</th>\n",
       "      <td>6</td>\n",
       "      <td>Male</td>\n",
       "      <td>3063</td>\n",
       "    </tr>\n",
       "    <tr>\n",
       "      <th>12</th>\n",
       "      <td>7</td>\n",
       "      <td>Female</td>\n",
       "      <td>4723</td>\n",
       "    </tr>\n",
       "    <tr>\n",
       "      <th>13</th>\n",
       "      <td>7</td>\n",
       "      <td>Male</td>\n",
       "      <td>3154</td>\n",
       "    </tr>\n",
       "    <tr>\n",
       "      <th>14</th>\n",
       "      <td>8</td>\n",
       "      <td>Female</td>\n",
       "      <td>4567</td>\n",
       "    </tr>\n",
       "    <tr>\n",
       "      <th>15</th>\n",
       "      <td>8</td>\n",
       "      <td>Male</td>\n",
       "      <td>3068</td>\n",
       "    </tr>\n",
       "    <tr>\n",
       "      <th>16</th>\n",
       "      <td>9</td>\n",
       "      <td>Female</td>\n",
       "      <td>4404</td>\n",
       "    </tr>\n",
       "    <tr>\n",
       "      <th>17</th>\n",
       "      <td>9</td>\n",
       "      <td>Male</td>\n",
       "      <td>2949</td>\n",
       "    </tr>\n",
       "    <tr>\n",
       "      <th>18</th>\n",
       "      <td>10</td>\n",
       "      <td>Female</td>\n",
       "      <td>4632</td>\n",
       "    </tr>\n",
       "    <tr>\n",
       "      <th>19</th>\n",
       "      <td>10</td>\n",
       "      <td>Male</td>\n",
       "      <td>3132</td>\n",
       "    </tr>\n",
       "    <tr>\n",
       "      <th>20</th>\n",
       "      <td>11</td>\n",
       "      <td>Female</td>\n",
       "      <td>4489</td>\n",
       "    </tr>\n",
       "    <tr>\n",
       "      <th>21</th>\n",
       "      <td>11</td>\n",
       "      <td>Male</td>\n",
       "      <td>3074</td>\n",
       "    </tr>\n",
       "    <tr>\n",
       "      <th>22</th>\n",
       "      <td>12</td>\n",
       "      <td>Female</td>\n",
       "      <td>4596</td>\n",
       "    </tr>\n",
       "    <tr>\n",
       "      <th>23</th>\n",
       "      <td>12</td>\n",
       "      <td>Male</td>\n",
       "      <td>3084</td>\n",
       "    </tr>\n",
       "  </tbody>\n",
       "</table>\n",
       "</div>"
      ],
      "text/plain": [
       "    month  gender  count\n",
       "0       1  Female   6923\n",
       "1       1    Male   4685\n",
       "2       2  Female   6252\n",
       "3       2    Male   4230\n",
       "4       3  Female   5248\n",
       "5       3    Male   3482\n",
       "6       4  Female   4481\n",
       "7       4    Male   3006\n",
       "8       5  Female   4649\n",
       "9       5    Male   3048\n",
       "10      6  Female   4518\n",
       "11      6    Male   3063\n",
       "12      7  Female   4723\n",
       "13      7    Male   3154\n",
       "14      8  Female   4567\n",
       "15      8    Male   3068\n",
       "16      9  Female   4404\n",
       "17      9    Male   2949\n",
       "18     10  Female   4632\n",
       "19     10    Male   3132\n",
       "20     11  Female   4489\n",
       "21     11    Male   3074\n",
       "22     12  Female   4596\n",
       "23     12    Male   3084"
      ]
     },
     "execution_count": 44,
     "metadata": {},
     "output_type": "execute_result"
    }
   ],
   "source": [
    "months_gender = df.groupby(['month', 'gender'])['month'].value_counts().reset_index()\n",
    "months_gender"
   ]
  },
  {
   "cell_type": "code",
   "execution_count": 45,
   "id": "b9170115",
   "metadata": {
    "execution": {
     "iopub.execute_input": "2024-03-27T15:42:41.176416Z",
     "iopub.status.busy": "2024-03-27T15:42:41.176053Z",
     "iopub.status.idle": "2024-03-27T15:42:41.572436Z",
     "shell.execute_reply": "2024-03-27T15:42:41.571308Z"
    },
    "papermill": {
     "duration": 0.430077,
     "end_time": "2024-03-27T15:42:41.574893",
     "exception": false,
     "start_time": "2024-03-27T15:42:41.144816",
     "status": "completed"
    },
    "tags": []
   },
   "outputs": [
    {
     "data": {
      "image/png": "[encoded data removed]",
      "text/plain": [
       "<Figure size 640x480 with 1 Axes>"
      ]
     },
     "metadata": {},
     "output_type": "display_data"
    }
   ],
   "source": [
    "sns.barplot(data=months_gender, x='month', y='count', hue='gender',palette=[\"#FFB6D9\", \"#99DBF5\"])\n",
    "plt.xlabel('Month')\n",
    "plt.ylabel('Order Frequency')\n",
    "plt.title('Orders in Month')\n",
    "plt.show()"
   ]
  },
  {
   "cell_type": "markdown",
   "id": "9eb127e2",
   "metadata": {
    "papermill": {
     "duration": 0.029788,
     "end_time": "2024-03-27T15:42:41.635427",
     "exception": false,
     "start_time": "2024-03-27T15:42:41.605639",
     "status": "completed"
    },
    "tags": []
   },
   "source": [
    "**this Graph show the number of Orders in Months**"
   ]
  },
  {
   "cell_type": "code",
   "execution_count": 46,
   "id": "ad273665",
   "metadata": {
    "execution": {
     "iopub.execute_input": "2024-03-27T15:42:41.698670Z",
     "iopub.status.busy": "2024-03-27T15:42:41.698250Z",
     "iopub.status.idle": "2024-03-27T15:42:42.181902Z",
     "shell.execute_reply": "2024-03-27T15:42:42.181002Z"
    },
    "papermill": {
     "duration": 0.517265,
     "end_time": "2024-03-27T15:42:42.184021",
     "exception": false,
     "start_time": "2024-03-27T15:42:41.666756",
     "status": "completed"
    },
    "tags": []
   },
   "outputs": [
    {
     "data": {
      "image/png": "[encoded data removed]",
      "text/plain": [
       "<Figure size 640x480 with 2 Axes>"
      ]
     },
     "metadata": {},
     "output_type": "display_data"
    }
   ],
   "source": [
    "sns.heatmap(data=df.select_dtypes(include='number').corr(),annot=True)\n",
    "plt.title('Correlation')\n",
    "plt.show()"
   ]
  },
  {
   "cell_type": "markdown",
   "id": "b372da16",
   "metadata": {
    "papermill": {
     "duration": 0.030448,
     "end_time": "2024-03-27T15:42:42.245689",
     "exception": false,
     "start_time": "2024-03-27T15:42:42.215241",
     "status": "completed"
    },
    "tags": []
   },
   "source": [
    "**Get the Correlation between the numrical columns**"
   ]
  }
 ],
 "metadata": {
  "kaggle": {
   "accelerator": "none",
   "dataSources": [
    {
     "datasetId": 2980151,
     "sourceId": 5132961,
     "sourceType": "datasetVersion"
    }
   ],
   "dockerImageVersionId": 30673,
   "isGpuEnabled": false,
   "isInternetEnabled": true,
   "language": "python",
   "sourceType": "notebook"
  },
  "kernelspec": {
   "display_name": "Python 3",
   "language": "python",
   "name": "python3"
  },
  "language_info": {
   "codemirror_mode": {
    "name": "ipython",
    "version": 3
   },
   "file_extension": ".py",
   "mimetype": "text/x-python",
   "name": "python",
   "nbconvert_exporter": "python",
   "pygments_lexer": "ipython3",
   "version": "3.10.13"
  },
  "papermill": {
   "default_parameters": {},
   "duration": 16.850156,
   "end_time": "2024-03-27T15:42:42.898256",
   "environment_variables": {},
   "exception": null,
   "input_path": "__notebook__.ipynb",
   "output_path": "__notebook__.ipynb",
   "parameters": {},
   "start_time": "2024-03-27T15:42:26.048100",
   "version": "2.5.0"
  }
 },
 "nbformat": 4,
 "nbformat_minor": 5
}
