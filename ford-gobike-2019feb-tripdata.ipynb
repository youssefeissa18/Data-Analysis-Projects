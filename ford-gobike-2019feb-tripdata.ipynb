{
 "cells": [
  {
   "cell_type": "markdown",
   "id": "b3746388",
   "metadata": {
    "papermill": {
     "duration": 0.0086,
     "end_time": "2024-03-06T21:57:11.860002",
     "exception": false,
     "start_time": "2024-03-06T21:57:11.851402",
     "status": "completed"
    },
    "tags": []
   },
   "source": [
    "# Ford gobike 2019feb tripdata"
   ]
  },
  {
   "cell_type": "markdown",
   "id": "613e5e77",
   "metadata": {
    "papermill": {
     "duration": 0.008071,
     "end_time": "2024-03-06T21:57:11.876451",
     "exception": false,
     "start_time": "2024-03-06T21:57:11.868380",
     "status": "completed"
    },
    "tags": []
   },
   "source": [
    "import necessery library"
   ]
  },
  {
   "cell_type": "code",
   "execution_count": 1,
   "id": "af230e8a",
   "metadata": {
    "execution": {
     "iopub.execute_input": "2024-03-06T21:57:11.896174Z",
     "iopub.status.busy": "2024-03-06T21:57:11.895777Z",
     "iopub.status.idle": "2024-03-06T21:57:14.220159Z",
     "shell.execute_reply": "2024-03-06T21:57:14.219141Z"
    },
    "papermill": {
     "duration": 2.337076,
     "end_time": "2024-03-06T21:57:14.222846",
     "exception": false,
     "start_time": "2024-03-06T21:57:11.885770",
     "status": "completed"
    },
    "tags": []
   },
   "outputs": [],
   "source": [
    "import numpy as np \n",
    "import pandas as pd\n",
    "import matplotlib.pyplot as plt \n",
    "import seaborn as sns"
   ]
  },
  {
   "cell_type": "markdown",
   "id": "a4cef303",
   "metadata": {
    "papermill": {
     "duration": 0.009445,
     "end_time": "2024-03-06T21:57:14.241059",
     "exception": false,
     "start_time": "2024-03-06T21:57:14.231614",
     "status": "completed"
    },
    "tags": []
   },
   "source": [
    "Loading the data"
   ]
  },
  {
   "cell_type": "code",
   "execution_count": 2,
   "id": "1c2c14ba",
   "metadata": {
    "execution": {
     "iopub.execute_input": "2024-03-06T21:57:14.260107Z",
     "iopub.status.busy": "2024-03-06T21:57:14.259588Z",
     "iopub.status.idle": "2024-03-06T21:57:15.342820Z",
     "shell.execute_reply": "2024-03-06T21:57:15.341742Z"
    },
    "papermill": {
     "duration": 1.095593,
     "end_time": "2024-03-06T21:57:15.345207",
     "exception": false,
     "start_time": "2024-03-06T21:57:14.249614",
     "status": "completed"
    },
    "tags": []
   },
   "outputs": [],
   "source": [
    "df = pd.read_csv('/kaggle/input/ford-gobike-2019feb-tripdata/201902-fordgobike-tripdata.csv')"
   ]
  },
  {
   "cell_type": "code",
   "execution_count": 3,
   "id": "6983d7bf",
   "metadata": {
    "execution": {
     "iopub.execute_input": "2024-03-06T21:57:15.365789Z",
     "iopub.status.busy": "2024-03-06T21:57:15.364704Z",
     "iopub.status.idle": "2024-03-06T21:57:15.372339Z",
     "shell.execute_reply": "2024-03-06T21:57:15.371318Z"
    },
    "papermill": {
     "duration": 0.020492,
     "end_time": "2024-03-06T21:57:15.374305",
     "exception": false,
     "start_time": "2024-03-06T21:57:15.353813",
     "status": "completed"
    },
    "tags": []
   },
   "outputs": [
    {
     "data": {
      "text/plain": [
       "(183412, 16)"
      ]
     },
     "execution_count": 3,
     "metadata": {},
     "output_type": "execute_result"
    }
   ],
   "source": [
    "df.shape"
   ]
  },
  {
   "cell_type": "code",
   "execution_count": 4,
   "id": "9040bebe",
   "metadata": {
    "execution": {
     "iopub.execute_input": "2024-03-06T21:57:15.394218Z",
     "iopub.status.busy": "2024-03-06T21:57:15.393893Z",
     "iopub.status.idle": "2024-03-06T21:57:15.417847Z",
     "shell.execute_reply": "2024-03-06T21:57:15.416989Z"
    },
    "papermill": {
     "duration": 0.036789,
     "end_time": "2024-03-06T21:57:15.419772",
     "exception": false,
     "start_time": "2024-03-06T21:57:15.382983",
     "status": "completed"
    },
    "tags": []
   },
   "outputs": [
    {
     "data": {
      "text/html": [
       "<div>\n",
       "<style scoped>\n",
       "    .dataframe tbody tr th:only-of-type {\n",
       "        vertical-align: middle;\n",
       "    }\n",
       "\n",
       "    .dataframe tbody tr th {\n",
       "        vertical-align: top;\n",
       "    }\n",
       "\n",
       "    .dataframe thead th {\n",
       "        text-align: right;\n",
       "    }\n",
       "</style>\n",
       "<table border=\"1\" class=\"dataframe\">\n",
       "  <thead>\n",
       "    <tr style=\"text-align: right;\">\n",
       "      <th></th>\n",
       "      <th>duration_sec</th>\n",
       "      <th>start_time</th>\n",
       "      <th>end_time</th>\n",
       "      <th>start_station_id</th>\n",
       "      <th>start_station_name</th>\n",
       "      <th>start_station_latitude</th>\n",
       "      <th>start_station_longitude</th>\n",
       "      <th>end_station_id</th>\n",
       "      <th>end_station_name</th>\n",
       "      <th>end_station_latitude</th>\n",
       "      <th>end_station_longitude</th>\n",
       "      <th>bike_id</th>\n",
       "      <th>user_type</th>\n",
       "      <th>member_birth_year</th>\n",
       "      <th>member_gender</th>\n",
       "      <th>bike_share_for_all_trip</th>\n",
       "    </tr>\n",
       "  </thead>\n",
       "  <tbody>\n",
       "    <tr>\n",
       "      <th>0</th>\n",
       "      <td>52185</td>\n",
       "      <td>2019-02-28 17:32:10.1450</td>\n",
       "      <td>2019-03-01 08:01:55.9750</td>\n",
       "      <td>21.0</td>\n",
       "      <td>Montgomery St BART Station (Market St at 2nd St)</td>\n",
       "      <td>37.789625</td>\n",
       "      <td>-122.400811</td>\n",
       "      <td>13.0</td>\n",
       "      <td>Commercial St at Montgomery St</td>\n",
       "      <td>37.794231</td>\n",
       "      <td>-122.402923</td>\n",
       "      <td>4902</td>\n",
       "      <td>Customer</td>\n",
       "      <td>1984.0</td>\n",
       "      <td>Male</td>\n",
       "      <td>No</td>\n",
       "    </tr>\n",
       "    <tr>\n",
       "      <th>1</th>\n",
       "      <td>42521</td>\n",
       "      <td>2019-02-28 18:53:21.7890</td>\n",
       "      <td>2019-03-01 06:42:03.0560</td>\n",
       "      <td>23.0</td>\n",
       "      <td>The Embarcadero at Steuart St</td>\n",
       "      <td>37.791464</td>\n",
       "      <td>-122.391034</td>\n",
       "      <td>81.0</td>\n",
       "      <td>Berry St at 4th St</td>\n",
       "      <td>37.775880</td>\n",
       "      <td>-122.393170</td>\n",
       "      <td>2535</td>\n",
       "      <td>Customer</td>\n",
       "      <td>NaN</td>\n",
       "      <td>NaN</td>\n",
       "      <td>No</td>\n",
       "    </tr>\n",
       "    <tr>\n",
       "      <th>2</th>\n",
       "      <td>61854</td>\n",
       "      <td>2019-02-28 12:13:13.2180</td>\n",
       "      <td>2019-03-01 05:24:08.1460</td>\n",
       "      <td>86.0</td>\n",
       "      <td>Market St at Dolores St</td>\n",
       "      <td>37.769305</td>\n",
       "      <td>-122.426826</td>\n",
       "      <td>3.0</td>\n",
       "      <td>Powell St BART Station (Market St at 4th St)</td>\n",
       "      <td>37.786375</td>\n",
       "      <td>-122.404904</td>\n",
       "      <td>5905</td>\n",
       "      <td>Customer</td>\n",
       "      <td>1972.0</td>\n",
       "      <td>Male</td>\n",
       "      <td>No</td>\n",
       "    </tr>\n",
       "    <tr>\n",
       "      <th>3</th>\n",
       "      <td>36490</td>\n",
       "      <td>2019-02-28 17:54:26.0100</td>\n",
       "      <td>2019-03-01 04:02:36.8420</td>\n",
       "      <td>375.0</td>\n",
       "      <td>Grove St at Masonic Ave</td>\n",
       "      <td>37.774836</td>\n",
       "      <td>-122.446546</td>\n",
       "      <td>70.0</td>\n",
       "      <td>Central Ave at Fell St</td>\n",
       "      <td>37.773311</td>\n",
       "      <td>-122.444293</td>\n",
       "      <td>6638</td>\n",
       "      <td>Subscriber</td>\n",
       "      <td>1989.0</td>\n",
       "      <td>Other</td>\n",
       "      <td>No</td>\n",
       "    </tr>\n",
       "    <tr>\n",
       "      <th>4</th>\n",
       "      <td>1585</td>\n",
       "      <td>2019-02-28 23:54:18.5490</td>\n",
       "      <td>2019-03-01 00:20:44.0740</td>\n",
       "      <td>7.0</td>\n",
       "      <td>Frank H Ogawa Plaza</td>\n",
       "      <td>37.804562</td>\n",
       "      <td>-122.271738</td>\n",
       "      <td>222.0</td>\n",
       "      <td>10th Ave at E 15th St</td>\n",
       "      <td>37.792714</td>\n",
       "      <td>-122.248780</td>\n",
       "      <td>4898</td>\n",
       "      <td>Subscriber</td>\n",
       "      <td>1974.0</td>\n",
       "      <td>Male</td>\n",
       "      <td>Yes</td>\n",
       "    </tr>\n",
       "  </tbody>\n",
       "</table>\n",
       "</div>"
      ],
      "text/plain": [
       "   duration_sec                start_time                  end_time  \\\n",
       "0         52185  2019-02-28 17:32:10.1450  2019-03-01 08:01:55.9750   \n",
       "1         42521  2019-02-28 18:53:21.7890  2019-03-01 06:42:03.0560   \n",
       "2         61854  2019-02-28 12:13:13.2180  2019-03-01 05:24:08.1460   \n",
       "3         36490  2019-02-28 17:54:26.0100  2019-03-01 04:02:36.8420   \n",
       "4          1585  2019-02-28 23:54:18.5490  2019-03-01 00:20:44.0740   \n",
       "\n",
       "   start_station_id                                start_station_name  \\\n",
       "0              21.0  Montgomery St BART Station (Market St at 2nd St)   \n",
       "1              23.0                     The Embarcadero at Steuart St   \n",
       "2              86.0                           Market St at Dolores St   \n",
       "3             375.0                           Grove St at Masonic Ave   \n",
       "4               7.0                               Frank H Ogawa Plaza   \n",
       "\n",
       "   start_station_latitude  start_station_longitude  end_station_id  \\\n",
       "0               37.789625              -122.400811            13.0   \n",
       "1               37.791464              -122.391034            81.0   \n",
       "2               37.769305              -122.426826             3.0   \n",
       "3               37.774836              -122.446546            70.0   \n",
       "4               37.804562              -122.271738           222.0   \n",
       "\n",
       "                               end_station_name  end_station_latitude  \\\n",
       "0                Commercial St at Montgomery St             37.794231   \n",
       "1                            Berry St at 4th St             37.775880   \n",
       "2  Powell St BART Station (Market St at 4th St)             37.786375   \n",
       "3                        Central Ave at Fell St             37.773311   \n",
       "4                         10th Ave at E 15th St             37.792714   \n",
       "\n",
       "   end_station_longitude  bike_id   user_type  member_birth_year  \\\n",
       "0            -122.402923     4902    Customer             1984.0   \n",
       "1            -122.393170     2535    Customer                NaN   \n",
       "2            -122.404904     5905    Customer             1972.0   \n",
       "3            -122.444293     6638  Subscriber             1989.0   \n",
       "4            -122.248780     4898  Subscriber             1974.0   \n",
       "\n",
       "  member_gender bike_share_for_all_trip  \n",
       "0          Male                      No  \n",
       "1           NaN                      No  \n",
       "2          Male                      No  \n",
       "3         Other                      No  \n",
       "4          Male                     Yes  "
      ]
     },
     "execution_count": 4,
     "metadata": {},
     "output_type": "execute_result"
    }
   ],
   "source": [
    "df.head()"
   ]
  },
  {
   "cell_type": "code",
   "execution_count": 5,
   "id": "5ecd4c20",
   "metadata": {
    "execution": {
     "iopub.execute_input": "2024-03-06T21:57:15.438892Z",
     "iopub.status.busy": "2024-03-06T21:57:15.438571Z",
     "iopub.status.idle": "2024-03-06T21:57:15.455126Z",
     "shell.execute_reply": "2024-03-06T21:57:15.454206Z"
    },
    "papermill": {
     "duration": 0.028351,
     "end_time": "2024-03-06T21:57:15.456985",
     "exception": false,
     "start_time": "2024-03-06T21:57:15.428634",
     "status": "completed"
    },
    "tags": []
   },
   "outputs": [
    {
     "data": {
      "text/html": [
       "<div>\n",
       "<style scoped>\n",
       "    .dataframe tbody tr th:only-of-type {\n",
       "        vertical-align: middle;\n",
       "    }\n",
       "\n",
       "    .dataframe tbody tr th {\n",
       "        vertical-align: top;\n",
       "    }\n",
       "\n",
       "    .dataframe thead th {\n",
       "        text-align: right;\n",
       "    }\n",
       "</style>\n",
       "<table border=\"1\" class=\"dataframe\">\n",
       "  <thead>\n",
       "    <tr style=\"text-align: right;\">\n",
       "      <th></th>\n",
       "      <th>duration_sec</th>\n",
       "      <th>start_time</th>\n",
       "      <th>end_time</th>\n",
       "      <th>start_station_id</th>\n",
       "      <th>start_station_name</th>\n",
       "      <th>start_station_latitude</th>\n",
       "      <th>start_station_longitude</th>\n",
       "      <th>end_station_id</th>\n",
       "      <th>end_station_name</th>\n",
       "      <th>end_station_latitude</th>\n",
       "      <th>end_station_longitude</th>\n",
       "      <th>bike_id</th>\n",
       "      <th>user_type</th>\n",
       "      <th>member_birth_year</th>\n",
       "      <th>member_gender</th>\n",
       "      <th>bike_share_for_all_trip</th>\n",
       "    </tr>\n",
       "  </thead>\n",
       "  <tbody>\n",
       "    <tr>\n",
       "      <th>183407</th>\n",
       "      <td>480</td>\n",
       "      <td>2019-02-01 00:04:49.7240</td>\n",
       "      <td>2019-02-01 00:12:50.0340</td>\n",
       "      <td>27.0</td>\n",
       "      <td>Beale St at Harrison St</td>\n",
       "      <td>37.788059</td>\n",
       "      <td>-122.391865</td>\n",
       "      <td>324.0</td>\n",
       "      <td>Union Square (Powell St at Post St)</td>\n",
       "      <td>37.788300</td>\n",
       "      <td>-122.408531</td>\n",
       "      <td>4832</td>\n",
       "      <td>Subscriber</td>\n",
       "      <td>1996.0</td>\n",
       "      <td>Male</td>\n",
       "      <td>No</td>\n",
       "    </tr>\n",
       "    <tr>\n",
       "      <th>183408</th>\n",
       "      <td>313</td>\n",
       "      <td>2019-02-01 00:05:34.7440</td>\n",
       "      <td>2019-02-01 00:10:48.5020</td>\n",
       "      <td>21.0</td>\n",
       "      <td>Montgomery St BART Station (Market St at 2nd St)</td>\n",
       "      <td>37.789625</td>\n",
       "      <td>-122.400811</td>\n",
       "      <td>66.0</td>\n",
       "      <td>3rd St at Townsend St</td>\n",
       "      <td>37.778742</td>\n",
       "      <td>-122.392741</td>\n",
       "      <td>4960</td>\n",
       "      <td>Subscriber</td>\n",
       "      <td>1984.0</td>\n",
       "      <td>Male</td>\n",
       "      <td>No</td>\n",
       "    </tr>\n",
       "    <tr>\n",
       "      <th>183409</th>\n",
       "      <td>141</td>\n",
       "      <td>2019-02-01 00:06:05.5490</td>\n",
       "      <td>2019-02-01 00:08:27.2200</td>\n",
       "      <td>278.0</td>\n",
       "      <td>The Alameda at Bush St</td>\n",
       "      <td>37.331932</td>\n",
       "      <td>-121.904888</td>\n",
       "      <td>277.0</td>\n",
       "      <td>Morrison Ave at Julian St</td>\n",
       "      <td>37.333658</td>\n",
       "      <td>-121.908586</td>\n",
       "      <td>3824</td>\n",
       "      <td>Subscriber</td>\n",
       "      <td>1990.0</td>\n",
       "      <td>Male</td>\n",
       "      <td>Yes</td>\n",
       "    </tr>\n",
       "    <tr>\n",
       "      <th>183410</th>\n",
       "      <td>139</td>\n",
       "      <td>2019-02-01 00:05:34.3600</td>\n",
       "      <td>2019-02-01 00:07:54.2870</td>\n",
       "      <td>220.0</td>\n",
       "      <td>San Pablo Ave at MLK Jr Way</td>\n",
       "      <td>37.811351</td>\n",
       "      <td>-122.273422</td>\n",
       "      <td>216.0</td>\n",
       "      <td>San Pablo Ave at 27th St</td>\n",
       "      <td>37.817827</td>\n",
       "      <td>-122.275698</td>\n",
       "      <td>5095</td>\n",
       "      <td>Subscriber</td>\n",
       "      <td>1988.0</td>\n",
       "      <td>Male</td>\n",
       "      <td>No</td>\n",
       "    </tr>\n",
       "    <tr>\n",
       "      <th>183411</th>\n",
       "      <td>271</td>\n",
       "      <td>2019-02-01 00:00:20.6360</td>\n",
       "      <td>2019-02-01 00:04:52.0580</td>\n",
       "      <td>24.0</td>\n",
       "      <td>Spear St at Folsom St</td>\n",
       "      <td>37.789677</td>\n",
       "      <td>-122.390428</td>\n",
       "      <td>37.0</td>\n",
       "      <td>2nd St at Folsom St</td>\n",
       "      <td>37.785000</td>\n",
       "      <td>-122.395936</td>\n",
       "      <td>1057</td>\n",
       "      <td>Subscriber</td>\n",
       "      <td>1989.0</td>\n",
       "      <td>Male</td>\n",
       "      <td>No</td>\n",
       "    </tr>\n",
       "  </tbody>\n",
       "</table>\n",
       "</div>"
      ],
      "text/plain": [
       "        duration_sec                start_time                  end_time  \\\n",
       "183407           480  2019-02-01 00:04:49.7240  2019-02-01 00:12:50.0340   \n",
       "183408           313  2019-02-01 00:05:34.7440  2019-02-01 00:10:48.5020   \n",
       "183409           141  2019-02-01 00:06:05.5490  2019-02-01 00:08:27.2200   \n",
       "183410           139  2019-02-01 00:05:34.3600  2019-02-01 00:07:54.2870   \n",
       "183411           271  2019-02-01 00:00:20.6360  2019-02-01 00:04:52.0580   \n",
       "\n",
       "        start_station_id                                start_station_name  \\\n",
       "183407              27.0                           Beale St at Harrison St   \n",
       "183408              21.0  Montgomery St BART Station (Market St at 2nd St)   \n",
       "183409             278.0                            The Alameda at Bush St   \n",
       "183410             220.0                       San Pablo Ave at MLK Jr Way   \n",
       "183411              24.0                             Spear St at Folsom St   \n",
       "\n",
       "        start_station_latitude  start_station_longitude  end_station_id  \\\n",
       "183407               37.788059              -122.391865           324.0   \n",
       "183408               37.789625              -122.400811            66.0   \n",
       "183409               37.331932              -121.904888           277.0   \n",
       "183410               37.811351              -122.273422           216.0   \n",
       "183411               37.789677              -122.390428            37.0   \n",
       "\n",
       "                           end_station_name  end_station_latitude  \\\n",
       "183407  Union Square (Powell St at Post St)             37.788300   \n",
       "183408                3rd St at Townsend St             37.778742   \n",
       "183409            Morrison Ave at Julian St             37.333658   \n",
       "183410             San Pablo Ave at 27th St             37.817827   \n",
       "183411                  2nd St at Folsom St             37.785000   \n",
       "\n",
       "        end_station_longitude  bike_id   user_type  member_birth_year  \\\n",
       "183407            -122.408531     4832  Subscriber             1996.0   \n",
       "183408            -122.392741     4960  Subscriber             1984.0   \n",
       "183409            -121.908586     3824  Subscriber             1990.0   \n",
       "183410            -122.275698     5095  Subscriber             1988.0   \n",
       "183411            -122.395936     1057  Subscriber             1989.0   \n",
       "\n",
       "       member_gender bike_share_for_all_trip  \n",
       "183407          Male                      No  \n",
       "183408          Male                      No  \n",
       "183409          Male                     Yes  \n",
       "183410          Male                      No  \n",
       "183411          Male                      No  "
      ]
     },
     "execution_count": 5,
     "metadata": {},
     "output_type": "execute_result"
    }
   ],
   "source": [
    "df.tail()"
   ]
  },
  {
   "cell_type": "markdown",
   "id": "35d12851",
   "metadata": {
    "papermill": {
     "duration": 0.00877,
     "end_time": "2024-03-06T21:57:15.475002",
     "exception": false,
     "start_time": "2024-03-06T21:57:15.466232",
     "status": "completed"
    },
    "tags": []
   },
   "source": [
    "Show data by print first 5 rows and last 5 rows and print the number of shape to know the number of rows and columns"
   ]
  },
  {
   "cell_type": "markdown",
   "id": "eab9b3e2",
   "metadata": {
    "papermill": {
     "duration": 0.008764,
     "end_time": "2024-03-06T21:57:15.492801",
     "exception": false,
     "start_time": "2024-03-06T21:57:15.484037",
     "status": "completed"
    },
    "tags": []
   },
   "source": [
    "# Preprocessing the Data"
   ]
  },
  {
   "cell_type": "code",
   "execution_count": 6,
   "id": "1e1c717b",
   "metadata": {
    "execution": {
     "iopub.execute_input": "2024-03-06T21:57:15.512449Z",
     "iopub.status.busy": "2024-03-06T21:57:15.512151Z",
     "iopub.status.idle": "2024-03-06T21:57:15.585265Z",
     "shell.execute_reply": "2024-03-06T21:57:15.582667Z"
    },
    "papermill": {
     "duration": 0.086711,
     "end_time": "2024-03-06T21:57:15.588596",
     "exception": false,
     "start_time": "2024-03-06T21:57:15.501885",
     "status": "completed"
    },
    "tags": []
   },
   "outputs": [
    {
     "name": "stdout",
     "output_type": "stream",
     "text": [
      "<class 'pandas.core.frame.DataFrame'>\n",
      "RangeIndex: 183412 entries, 0 to 183411\n",
      "Data columns (total 16 columns):\n",
      " #   Column                   Non-Null Count   Dtype  \n",
      "---  ------                   --------------   -----  \n",
      " 0   duration_sec             183412 non-null  int64  \n",
      " 1   start_time               183412 non-null  object \n",
      " 2   end_time                 183412 non-null  object \n",
      " 3   start_station_id         183215 non-null  float64\n",
      " 4   start_station_name       183215 non-null  object \n",
      " 5   start_station_latitude   183412 non-null  float64\n",
      " 6   start_station_longitude  183412 non-null  float64\n",
      " 7   end_station_id           183215 non-null  float64\n",
      " 8   end_station_name         183215 non-null  object \n",
      " 9   end_station_latitude     183412 non-null  float64\n",
      " 10  end_station_longitude    183412 non-null  float64\n",
      " 11  bike_id                  183412 non-null  int64  \n",
      " 12  user_type                183412 non-null  object \n",
      " 13  member_birth_year        175147 non-null  float64\n",
      " 14  member_gender            175147 non-null  object \n",
      " 15  bike_share_for_all_trip  183412 non-null  object \n",
      "dtypes: float64(7), int64(2), object(7)\n",
      "memory usage: 22.4+ MB\n"
     ]
    }
   ],
   "source": [
    "df.info()"
   ]
  },
  {
   "cell_type": "markdown",
   "id": "d4dd4572",
   "metadata": {
    "papermill": {
     "duration": 0.009002,
     "end_time": "2024-03-06T21:57:15.606830",
     "exception": false,
     "start_time": "2024-03-06T21:57:15.597828",
     "status": "completed"
    },
    "tags": []
   },
   "source": [
    "to know is missing value or not and there is missing value in Column member_birth_year and member gender and in another coulmn but there is more"
   ]
  },
  {
   "cell_type": "code",
   "execution_count": 7,
   "id": "30766574",
   "metadata": {
    "execution": {
     "iopub.execute_input": "2024-03-06T21:57:15.628531Z",
     "iopub.status.busy": "2024-03-06T21:57:15.627714Z",
     "iopub.status.idle": "2024-03-06T21:57:15.676415Z",
     "shell.execute_reply": "2024-03-06T21:57:15.675181Z"
    },
    "papermill": {
     "duration": 0.063262,
     "end_time": "2024-03-06T21:57:15.679129",
     "exception": false,
     "start_time": "2024-03-06T21:57:15.615867",
     "status": "completed"
    },
    "tags": []
   },
   "outputs": [
    {
     "data": {
      "text/plain": [
       "duration_sec                  0\n",
       "start_time                    0\n",
       "end_time                      0\n",
       "start_station_id            197\n",
       "start_station_name          197\n",
       "start_station_latitude        0\n",
       "start_station_longitude       0\n",
       "end_station_id              197\n",
       "end_station_name            197\n",
       "end_station_latitude          0\n",
       "end_station_longitude         0\n",
       "bike_id                       0\n",
       "user_type                     0\n",
       "member_birth_year          8265\n",
       "member_gender              8265\n",
       "bike_share_for_all_trip       0\n",
       "dtype: int64"
      ]
     },
     "execution_count": 7,
     "metadata": {},
     "output_type": "execute_result"
    }
   ],
   "source": [
    "df.isna().sum()"
   ]
  },
  {
   "cell_type": "markdown",
   "id": "8a5d9502",
   "metadata": {
    "papermill": {
     "duration": 0.008986,
     "end_time": "2024-03-06T21:57:15.697743",
     "exception": false,
     "start_time": "2024-03-06T21:57:15.688757",
     "status": "completed"
    },
    "tags": []
   },
   "source": [
    "There is a nan value in data"
   ]
  },
  {
   "cell_type": "code",
   "execution_count": 8,
   "id": "4184b320",
   "metadata": {
    "execution": {
     "iopub.execute_input": "2024-03-06T21:57:15.717993Z",
     "iopub.status.busy": "2024-03-06T21:57:15.717673Z",
     "iopub.status.idle": "2024-03-06T21:57:15.903681Z",
     "shell.execute_reply": "2024-03-06T21:57:15.902637Z"
    },
    "papermill": {
     "duration": 0.199661,
     "end_time": "2024-03-06T21:57:15.906704",
     "exception": false,
     "start_time": "2024-03-06T21:57:15.707043",
     "status": "completed"
    },
    "tags": []
   },
   "outputs": [
    {
     "data": {
      "text/plain": [
       "0"
      ]
     },
     "execution_count": 8,
     "metadata": {},
     "output_type": "execute_result"
    }
   ],
   "source": [
    "df.duplicated().sum()"
   ]
  },
  {
   "cell_type": "markdown",
   "id": "28b6f017",
   "metadata": {
    "papermill": {
     "duration": 0.009135,
     "end_time": "2024-03-06T21:57:15.925464",
     "exception": false,
     "start_time": "2024-03-06T21:57:15.916329",
     "status": "completed"
    },
    "tags": []
   },
   "source": [
    "there is no duplicated data"
   ]
  },
  {
   "cell_type": "code",
   "execution_count": 9,
   "id": "66afdfe9",
   "metadata": {
    "execution": {
     "iopub.execute_input": "2024-03-06T21:57:15.946056Z",
     "iopub.status.busy": "2024-03-06T21:57:15.945679Z",
     "iopub.status.idle": "2024-03-06T21:57:16.034468Z",
     "shell.execute_reply": "2024-03-06T21:57:16.033131Z"
    },
    "papermill": {
     "duration": 0.102163,
     "end_time": "2024-03-06T21:57:16.037131",
     "exception": false,
     "start_time": "2024-03-06T21:57:15.934968",
     "status": "completed"
    },
    "tags": []
   },
   "outputs": [
    {
     "data": {
      "text/html": [
       "<div>\n",
       "<style scoped>\n",
       "    .dataframe tbody tr th:only-of-type {\n",
       "        vertical-align: middle;\n",
       "    }\n",
       "\n",
       "    .dataframe tbody tr th {\n",
       "        vertical-align: top;\n",
       "    }\n",
       "\n",
       "    .dataframe thead th {\n",
       "        text-align: right;\n",
       "    }\n",
       "</style>\n",
       "<table border=\"1\" class=\"dataframe\">\n",
       "  <thead>\n",
       "    <tr style=\"text-align: right;\">\n",
       "      <th></th>\n",
       "      <th>duration_sec</th>\n",
       "      <th>start_station_id</th>\n",
       "      <th>start_station_latitude</th>\n",
       "      <th>start_station_longitude</th>\n",
       "      <th>end_station_id</th>\n",
       "      <th>end_station_latitude</th>\n",
       "      <th>end_station_longitude</th>\n",
       "      <th>bike_id</th>\n",
       "      <th>member_birth_year</th>\n",
       "    </tr>\n",
       "  </thead>\n",
       "  <tbody>\n",
       "    <tr>\n",
       "      <th>count</th>\n",
       "      <td>183412.000000</td>\n",
       "      <td>183215.000000</td>\n",
       "      <td>183412.000000</td>\n",
       "      <td>183412.000000</td>\n",
       "      <td>183215.000000</td>\n",
       "      <td>183412.000000</td>\n",
       "      <td>183412.000000</td>\n",
       "      <td>183412.000000</td>\n",
       "      <td>175147.000000</td>\n",
       "    </tr>\n",
       "    <tr>\n",
       "      <th>mean</th>\n",
       "      <td>726.078435</td>\n",
       "      <td>138.590427</td>\n",
       "      <td>37.771223</td>\n",
       "      <td>-122.352664</td>\n",
       "      <td>136.249123</td>\n",
       "      <td>37.771427</td>\n",
       "      <td>-122.352250</td>\n",
       "      <td>4472.906375</td>\n",
       "      <td>1984.806437</td>\n",
       "    </tr>\n",
       "    <tr>\n",
       "      <th>std</th>\n",
       "      <td>1794.389780</td>\n",
       "      <td>111.778864</td>\n",
       "      <td>0.099581</td>\n",
       "      <td>0.117097</td>\n",
       "      <td>111.515131</td>\n",
       "      <td>0.099490</td>\n",
       "      <td>0.116673</td>\n",
       "      <td>1664.383394</td>\n",
       "      <td>10.116689</td>\n",
       "    </tr>\n",
       "    <tr>\n",
       "      <th>min</th>\n",
       "      <td>61.000000</td>\n",
       "      <td>3.000000</td>\n",
       "      <td>37.317298</td>\n",
       "      <td>-122.453704</td>\n",
       "      <td>3.000000</td>\n",
       "      <td>37.317298</td>\n",
       "      <td>-122.453704</td>\n",
       "      <td>11.000000</td>\n",
       "      <td>1878.000000</td>\n",
       "    </tr>\n",
       "    <tr>\n",
       "      <th>25%</th>\n",
       "      <td>325.000000</td>\n",
       "      <td>47.000000</td>\n",
       "      <td>37.770083</td>\n",
       "      <td>-122.412408</td>\n",
       "      <td>44.000000</td>\n",
       "      <td>37.770407</td>\n",
       "      <td>-122.411726</td>\n",
       "      <td>3777.000000</td>\n",
       "      <td>1980.000000</td>\n",
       "    </tr>\n",
       "    <tr>\n",
       "      <th>50%</th>\n",
       "      <td>514.000000</td>\n",
       "      <td>104.000000</td>\n",
       "      <td>37.780760</td>\n",
       "      <td>-122.398285</td>\n",
       "      <td>100.000000</td>\n",
       "      <td>37.781010</td>\n",
       "      <td>-122.398279</td>\n",
       "      <td>4958.000000</td>\n",
       "      <td>1987.000000</td>\n",
       "    </tr>\n",
       "    <tr>\n",
       "      <th>75%</th>\n",
       "      <td>796.000000</td>\n",
       "      <td>239.000000</td>\n",
       "      <td>37.797280</td>\n",
       "      <td>-122.286533</td>\n",
       "      <td>235.000000</td>\n",
       "      <td>37.797320</td>\n",
       "      <td>-122.288045</td>\n",
       "      <td>5502.000000</td>\n",
       "      <td>1992.000000</td>\n",
       "    </tr>\n",
       "    <tr>\n",
       "      <th>max</th>\n",
       "      <td>85444.000000</td>\n",
       "      <td>398.000000</td>\n",
       "      <td>37.880222</td>\n",
       "      <td>-121.874119</td>\n",
       "      <td>398.000000</td>\n",
       "      <td>37.880222</td>\n",
       "      <td>-121.874119</td>\n",
       "      <td>6645.000000</td>\n",
       "      <td>2001.000000</td>\n",
       "    </tr>\n",
       "  </tbody>\n",
       "</table>\n",
       "</div>"
      ],
      "text/plain": [
       "        duration_sec  start_station_id  start_station_latitude  \\\n",
       "count  183412.000000     183215.000000           183412.000000   \n",
       "mean      726.078435        138.590427               37.771223   \n",
       "std      1794.389780        111.778864                0.099581   \n",
       "min        61.000000          3.000000               37.317298   \n",
       "25%       325.000000         47.000000               37.770083   \n",
       "50%       514.000000        104.000000               37.780760   \n",
       "75%       796.000000        239.000000               37.797280   \n",
       "max     85444.000000        398.000000               37.880222   \n",
       "\n",
       "       start_station_longitude  end_station_id  end_station_latitude  \\\n",
       "count            183412.000000   183215.000000         183412.000000   \n",
       "mean               -122.352664      136.249123             37.771427   \n",
       "std                   0.117097      111.515131              0.099490   \n",
       "min                -122.453704        3.000000             37.317298   \n",
       "25%                -122.412408       44.000000             37.770407   \n",
       "50%                -122.398285      100.000000             37.781010   \n",
       "75%                -122.286533      235.000000             37.797320   \n",
       "max                -121.874119      398.000000             37.880222   \n",
       "\n",
       "       end_station_longitude        bike_id  member_birth_year  \n",
       "count          183412.000000  183412.000000      175147.000000  \n",
       "mean             -122.352250    4472.906375        1984.806437  \n",
       "std                 0.116673    1664.383394          10.116689  \n",
       "min              -122.453704      11.000000        1878.000000  \n",
       "25%              -122.411726    3777.000000        1980.000000  \n",
       "50%              -122.398279    4958.000000        1987.000000  \n",
       "75%              -122.288045    5502.000000        1992.000000  \n",
       "max              -121.874119    6645.000000        2001.000000  "
      ]
     },
     "execution_count": 9,
     "metadata": {},
     "output_type": "execute_result"
    }
   ],
   "source": [
    "df.describe()"
   ]
  },
  {
   "cell_type": "markdown",
   "id": "7f4b79ed",
   "metadata": {
    "papermill": {
     "duration": 0.009901,
     "end_time": "2024-03-06T21:57:16.056782",
     "exception": false,
     "start_time": "2024-03-06T21:57:16.046881",
     "status": "completed"
    },
    "tags": []
   },
   "source": [
    "after describe the data i found the big differnce between mean and min and max in duration_sec and start_station_id"
   ]
  },
  {
   "cell_type": "markdown",
   "id": "3d5ba4e4",
   "metadata": {
    "papermill": {
     "duration": 0.009235,
     "end_time": "2024-03-06T21:57:16.075440",
     "exception": false,
     "start_time": "2024-03-06T21:57:16.066205",
     "status": "completed"
    },
    "tags": []
   },
   "source": [
    "# Data Cleaning"
   ]
  },
  {
   "cell_type": "code",
   "execution_count": 10,
   "id": "b303fb35",
   "metadata": {
    "execution": {
     "iopub.execute_input": "2024-03-06T21:57:16.096392Z",
     "iopub.status.busy": "2024-03-06T21:57:16.096009Z",
     "iopub.status.idle": "2024-03-06T21:57:16.103694Z",
     "shell.execute_reply": "2024-03-06T21:57:16.102420Z"
    },
    "papermill": {
     "duration": 0.020471,
     "end_time": "2024-03-06T21:57:16.105618",
     "exception": false,
     "start_time": "2024-03-06T21:57:16.085147",
     "status": "completed"
    },
    "tags": []
   },
   "outputs": [
    {
     "data": {
      "text/plain": [
       "Index(['duration_sec', 'start_time', 'end_time', 'start_station_id',\n",
       "       'start_station_name', 'start_station_latitude',\n",
       "       'start_station_longitude', 'end_station_id', 'end_station_name',\n",
       "       'end_station_latitude', 'end_station_longitude', 'bike_id', 'user_type',\n",
       "       'member_birth_year', 'member_gender', 'bike_share_for_all_trip'],\n",
       "      dtype='object')"
      ]
     },
     "execution_count": 10,
     "metadata": {},
     "output_type": "execute_result"
    }
   ],
   "source": [
    "df.columns"
   ]
  },
  {
   "cell_type": "code",
   "execution_count": 11,
   "id": "a878130f",
   "metadata": {
    "execution": {
     "iopub.execute_input": "2024-03-06T21:57:16.127995Z",
     "iopub.status.busy": "2024-03-06T21:57:16.127580Z",
     "iopub.status.idle": "2024-03-06T21:57:16.134969Z",
     "shell.execute_reply": "2024-03-06T21:57:16.133778Z"
    },
    "papermill": {
     "duration": 0.021731,
     "end_time": "2024-03-06T21:57:16.137375",
     "exception": false,
     "start_time": "2024-03-06T21:57:16.115644",
     "status": "completed"
    },
    "tags": []
   },
   "outputs": [],
   "source": [
    "df.rename(columns={\n",
    "    'duration_sec':'Duration_Sec', 'start_time':'Start_Time', 'end_time':'End_Time','start_station_id':'Start_Station_Id',\n",
    "       'start_station_name':'Start_Station_Name', 'start_station_latitude':'Start_Station_Latitude',\n",
    "       'start_station_longitude':'Start_Station_Longitude', 'end_station_id':'End_Station_Id',\n",
    "       'end_station_name':'End_Station_Name',\n",
    "       'end_station_latitude':'End_Station_Latitude', 'end_station_longitude':'End_Station_Longitude', \n",
    "       'bike_id':'Bike_Id', 'user_type':'User_Type','member_birth_year':'Member_Birth_Year', \n",
    "       'member_gender':'Member_Gender','bike_share_for_all_trip':'Bike_Share_For_All_Trip'\n",
    "},inplace=True)"
   ]
  },
  {
   "cell_type": "markdown",
   "id": "404ac487",
   "metadata": {
    "papermill": {
     "duration": 0.009596,
     "end_time": "2024-03-06T21:57:16.156912",
     "exception": false,
     "start_time": "2024-03-06T21:57:16.147316",
     "status": "completed"
    },
    "tags": []
   },
   "source": [
    "first rename Columns to correct form"
   ]
  },
  {
   "cell_type": "code",
   "execution_count": 12,
   "id": "df2843ff",
   "metadata": {
    "execution": {
     "iopub.execute_input": "2024-03-06T21:57:16.178659Z",
     "iopub.status.busy": "2024-03-06T21:57:16.178298Z",
     "iopub.status.idle": "2024-03-06T21:57:16.198611Z",
     "shell.execute_reply": "2024-03-06T21:57:16.197262Z"
    },
    "papermill": {
     "duration": 0.034139,
     "end_time": "2024-03-06T21:57:16.200794",
     "exception": false,
     "start_time": "2024-03-06T21:57:16.166655",
     "status": "completed"
    },
    "tags": []
   },
   "outputs": [
    {
     "data": {
      "text/html": [
       "<div>\n",
       "<style scoped>\n",
       "    .dataframe tbody tr th:only-of-type {\n",
       "        vertical-align: middle;\n",
       "    }\n",
       "\n",
       "    .dataframe tbody tr th {\n",
       "        vertical-align: top;\n",
       "    }\n",
       "\n",
       "    .dataframe thead th {\n",
       "        text-align: right;\n",
       "    }\n",
       "</style>\n",
       "<table border=\"1\" class=\"dataframe\">\n",
       "  <thead>\n",
       "    <tr style=\"text-align: right;\">\n",
       "      <th></th>\n",
       "      <th>Duration_Sec</th>\n",
       "      <th>Start_Time</th>\n",
       "      <th>End_Time</th>\n",
       "      <th>Start_Station_Id</th>\n",
       "      <th>Start_Station_Name</th>\n",
       "      <th>Start_Station_Latitude</th>\n",
       "      <th>Start_Station_Longitude</th>\n",
       "      <th>End_Station_Id</th>\n",
       "      <th>End_Station_Name</th>\n",
       "      <th>End_Station_Latitude</th>\n",
       "      <th>End_Station_Longitude</th>\n",
       "      <th>Bike_Id</th>\n",
       "      <th>User_Type</th>\n",
       "      <th>Member_Birth_Year</th>\n",
       "      <th>Member_Gender</th>\n",
       "      <th>Bike_Share_For_All_Trip</th>\n",
       "    </tr>\n",
       "  </thead>\n",
       "  <tbody>\n",
       "    <tr>\n",
       "      <th>0</th>\n",
       "      <td>52185</td>\n",
       "      <td>2019-02-28 17:32:10.1450</td>\n",
       "      <td>2019-03-01 08:01:55.9750</td>\n",
       "      <td>21.0</td>\n",
       "      <td>Montgomery St BART Station (Market St at 2nd St)</td>\n",
       "      <td>37.789625</td>\n",
       "      <td>-122.400811</td>\n",
       "      <td>13.0</td>\n",
       "      <td>Commercial St at Montgomery St</td>\n",
       "      <td>37.794231</td>\n",
       "      <td>-122.402923</td>\n",
       "      <td>4902</td>\n",
       "      <td>Customer</td>\n",
       "      <td>1984.0</td>\n",
       "      <td>Male</td>\n",
       "      <td>No</td>\n",
       "    </tr>\n",
       "    <tr>\n",
       "      <th>1</th>\n",
       "      <td>42521</td>\n",
       "      <td>2019-02-28 18:53:21.7890</td>\n",
       "      <td>2019-03-01 06:42:03.0560</td>\n",
       "      <td>23.0</td>\n",
       "      <td>The Embarcadero at Steuart St</td>\n",
       "      <td>37.791464</td>\n",
       "      <td>-122.391034</td>\n",
       "      <td>81.0</td>\n",
       "      <td>Berry St at 4th St</td>\n",
       "      <td>37.775880</td>\n",
       "      <td>-122.393170</td>\n",
       "      <td>2535</td>\n",
       "      <td>Customer</td>\n",
       "      <td>NaN</td>\n",
       "      <td>NaN</td>\n",
       "      <td>No</td>\n",
       "    </tr>\n",
       "    <tr>\n",
       "      <th>2</th>\n",
       "      <td>61854</td>\n",
       "      <td>2019-02-28 12:13:13.2180</td>\n",
       "      <td>2019-03-01 05:24:08.1460</td>\n",
       "      <td>86.0</td>\n",
       "      <td>Market St at Dolores St</td>\n",
       "      <td>37.769305</td>\n",
       "      <td>-122.426826</td>\n",
       "      <td>3.0</td>\n",
       "      <td>Powell St BART Station (Market St at 4th St)</td>\n",
       "      <td>37.786375</td>\n",
       "      <td>-122.404904</td>\n",
       "      <td>5905</td>\n",
       "      <td>Customer</td>\n",
       "      <td>1972.0</td>\n",
       "      <td>Male</td>\n",
       "      <td>No</td>\n",
       "    </tr>\n",
       "    <tr>\n",
       "      <th>3</th>\n",
       "      <td>36490</td>\n",
       "      <td>2019-02-28 17:54:26.0100</td>\n",
       "      <td>2019-03-01 04:02:36.8420</td>\n",
       "      <td>375.0</td>\n",
       "      <td>Grove St at Masonic Ave</td>\n",
       "      <td>37.774836</td>\n",
       "      <td>-122.446546</td>\n",
       "      <td>70.0</td>\n",
       "      <td>Central Ave at Fell St</td>\n",
       "      <td>37.773311</td>\n",
       "      <td>-122.444293</td>\n",
       "      <td>6638</td>\n",
       "      <td>Subscriber</td>\n",
       "      <td>1989.0</td>\n",
       "      <td>Other</td>\n",
       "      <td>No</td>\n",
       "    </tr>\n",
       "    <tr>\n",
       "      <th>4</th>\n",
       "      <td>1585</td>\n",
       "      <td>2019-02-28 23:54:18.5490</td>\n",
       "      <td>2019-03-01 00:20:44.0740</td>\n",
       "      <td>7.0</td>\n",
       "      <td>Frank H Ogawa Plaza</td>\n",
       "      <td>37.804562</td>\n",
       "      <td>-122.271738</td>\n",
       "      <td>222.0</td>\n",
       "      <td>10th Ave at E 15th St</td>\n",
       "      <td>37.792714</td>\n",
       "      <td>-122.248780</td>\n",
       "      <td>4898</td>\n",
       "      <td>Subscriber</td>\n",
       "      <td>1974.0</td>\n",
       "      <td>Male</td>\n",
       "      <td>Yes</td>\n",
       "    </tr>\n",
       "  </tbody>\n",
       "</table>\n",
       "</div>"
      ],
      "text/plain": [
       "   Duration_Sec                Start_Time                  End_Time  \\\n",
       "0         52185  2019-02-28 17:32:10.1450  2019-03-01 08:01:55.9750   \n",
       "1         42521  2019-02-28 18:53:21.7890  2019-03-01 06:42:03.0560   \n",
       "2         61854  2019-02-28 12:13:13.2180  2019-03-01 05:24:08.1460   \n",
       "3         36490  2019-02-28 17:54:26.0100  2019-03-01 04:02:36.8420   \n",
       "4          1585  2019-02-28 23:54:18.5490  2019-03-01 00:20:44.0740   \n",
       "\n",
       "   Start_Station_Id                                Start_Station_Name  \\\n",
       "0              21.0  Montgomery St BART Station (Market St at 2nd St)   \n",
       "1              23.0                     The Embarcadero at Steuart St   \n",
       "2              86.0                           Market St at Dolores St   \n",
       "3             375.0                           Grove St at Masonic Ave   \n",
       "4               7.0                               Frank H Ogawa Plaza   \n",
       "\n",
       "   Start_Station_Latitude  Start_Station_Longitude  End_Station_Id  \\\n",
       "0               37.789625              -122.400811            13.0   \n",
       "1               37.791464              -122.391034            81.0   \n",
       "2               37.769305              -122.426826             3.0   \n",
       "3               37.774836              -122.446546            70.0   \n",
       "4               37.804562              -122.271738           222.0   \n",
       "\n",
       "                               End_Station_Name  End_Station_Latitude  \\\n",
       "0                Commercial St at Montgomery St             37.794231   \n",
       "1                            Berry St at 4th St             37.775880   \n",
       "2  Powell St BART Station (Market St at 4th St)             37.786375   \n",
       "3                        Central Ave at Fell St             37.773311   \n",
       "4                         10th Ave at E 15th St             37.792714   \n",
       "\n",
       "   End_Station_Longitude  Bike_Id   User_Type  Member_Birth_Year  \\\n",
       "0            -122.402923     4902    Customer             1984.0   \n",
       "1            -122.393170     2535    Customer                NaN   \n",
       "2            -122.404904     5905    Customer             1972.0   \n",
       "3            -122.444293     6638  Subscriber             1989.0   \n",
       "4            -122.248780     4898  Subscriber             1974.0   \n",
       "\n",
       "  Member_Gender Bike_Share_For_All_Trip  \n",
       "0          Male                      No  \n",
       "1           NaN                      No  \n",
       "2          Male                      No  \n",
       "3         Other                      No  \n",
       "4          Male                     Yes  "
      ]
     },
     "execution_count": 12,
     "metadata": {},
     "output_type": "execute_result"
    }
   ],
   "source": [
    "df.head()"
   ]
  },
  {
   "cell_type": "code",
   "execution_count": 13,
   "id": "28ae1a4d",
   "metadata": {
    "execution": {
     "iopub.execute_input": "2024-03-06T21:57:16.223391Z",
     "iopub.status.busy": "2024-03-06T21:57:16.222000Z",
     "iopub.status.idle": "2024-03-06T21:57:16.287270Z",
     "shell.execute_reply": "2024-03-06T21:57:16.286235Z"
    },
    "papermill": {
     "duration": 0.079136,
     "end_time": "2024-03-06T21:57:16.289854",
     "exception": false,
     "start_time": "2024-03-06T21:57:16.210718",
     "status": "completed"
    },
    "tags": []
   },
   "outputs": [],
   "source": [
    "df.dropna(inplace=True)"
   ]
  },
  {
   "cell_type": "markdown",
   "id": "f4779aae",
   "metadata": {
    "papermill": {
     "duration": 0.010133,
     "end_time": "2024-03-06T21:57:16.311000",
     "exception": false,
     "start_time": "2024-03-06T21:57:16.300867",
     "status": "completed"
    },
    "tags": []
   },
   "source": [
    "after change the name of columns now drop the nan data"
   ]
  },
  {
   "cell_type": "code",
   "execution_count": 14,
   "id": "659b65f2",
   "metadata": {
    "execution": {
     "iopub.execute_input": "2024-03-06T21:57:16.389638Z",
     "iopub.status.busy": "2024-03-06T21:57:16.389314Z",
     "iopub.status.idle": "2024-03-06T21:57:16.439362Z",
     "shell.execute_reply": "2024-03-06T21:57:16.437970Z"
    },
    "papermill": {
     "duration": 0.120056,
     "end_time": "2024-03-06T21:57:16.441733",
     "exception": false,
     "start_time": "2024-03-06T21:57:16.321677",
     "status": "completed"
    },
    "tags": []
   },
   "outputs": [
    {
     "name": "stdout",
     "output_type": "stream",
     "text": [
      "<class 'pandas.core.frame.DataFrame'>\n",
      "Index: 174952 entries, 0 to 183411\n",
      "Data columns (total 16 columns):\n",
      " #   Column                   Non-Null Count   Dtype  \n",
      "---  ------                   --------------   -----  \n",
      " 0   Duration_Sec             174952 non-null  int64  \n",
      " 1   Start_Time               174952 non-null  object \n",
      " 2   End_Time                 174952 non-null  object \n",
      " 3   Start_Station_Id         174952 non-null  float64\n",
      " 4   Start_Station_Name       174952 non-null  object \n",
      " 5   Start_Station_Latitude   174952 non-null  float64\n",
      " 6   Start_Station_Longitude  174952 non-null  float64\n",
      " 7   End_Station_Id           174952 non-null  float64\n",
      " 8   End_Station_Name         174952 non-null  object \n",
      " 9   End_Station_Latitude     174952 non-null  float64\n",
      " 10  End_Station_Longitude    174952 non-null  float64\n",
      " 11  Bike_Id                  174952 non-null  int64  \n",
      " 12  User_Type                174952 non-null  object \n",
      " 13  Member_Birth_Year        174952 non-null  float64\n",
      " 14  Member_Gender            174952 non-null  object \n",
      " 15  Bike_Share_For_All_Trip  174952 non-null  object \n",
      "dtypes: float64(7), int64(2), object(7)\n",
      "memory usage: 22.7+ MB\n"
     ]
    }
   ],
   "source": [
    "df.info()"
   ]
  },
  {
   "cell_type": "markdown",
   "id": "b3cd4c39",
   "metadata": {
    "papermill": {
     "duration": 0.009964,
     "end_time": "2024-03-06T21:57:16.462105",
     "exception": false,
     "start_time": "2024-03-06T21:57:16.452141",
     "status": "completed"
    },
    "tags": []
   },
   "source": [
    "there is no nan value now but will change type of start and end date from object to datetime"
   ]
  },
  {
   "cell_type": "code",
   "execution_count": 15,
   "id": "74f71239",
   "metadata": {
    "execution": {
     "iopub.execute_input": "2024-03-06T21:57:16.484454Z",
     "iopub.status.busy": "2024-03-06T21:57:16.483888Z",
     "iopub.status.idle": "2024-03-06T21:57:16.489604Z",
     "shell.execute_reply": "2024-03-06T21:57:16.488425Z"
    },
    "papermill": {
     "duration": 0.019364,
     "end_time": "2024-03-06T21:57:16.491704",
     "exception": false,
     "start_time": "2024-03-06T21:57:16.472340",
     "status": "completed"
    },
    "tags": []
   },
   "outputs": [],
   "source": [
    "df['Duration_Hour']=df['Duration_Sec'] / 3600"
   ]
  },
  {
   "cell_type": "markdown",
   "id": "138f1a7c",
   "metadata": {
    "papermill": {
     "duration": 0.010197,
     "end_time": "2024-03-06T21:57:16.512477",
     "exception": false,
     "start_time": "2024-03-06T21:57:16.502280",
     "status": "completed"
    },
    "tags": []
   },
   "source": [
    "To make column deal with hours"
   ]
  },
  {
   "cell_type": "code",
   "execution_count": 16,
   "id": "040f20e1",
   "metadata": {
    "execution": {
     "iopub.execute_input": "2024-03-06T21:57:16.535576Z",
     "iopub.status.busy": "2024-03-06T21:57:16.534744Z",
     "iopub.status.idle": "2024-03-06T21:57:16.556466Z",
     "shell.execute_reply": "2024-03-06T21:57:16.555012Z"
    },
    "papermill": {
     "duration": 0.035708,
     "end_time": "2024-03-06T21:57:16.558766",
     "exception": false,
     "start_time": "2024-03-06T21:57:16.523058",
     "status": "completed"
    },
    "tags": []
   },
   "outputs": [
    {
     "data": {
      "text/html": [
       "<div>\n",
       "<style scoped>\n",
       "    .dataframe tbody tr th:only-of-type {\n",
       "        vertical-align: middle;\n",
       "    }\n",
       "\n",
       "    .dataframe tbody tr th {\n",
       "        vertical-align: top;\n",
       "    }\n",
       "\n",
       "    .dataframe thead th {\n",
       "        text-align: right;\n",
       "    }\n",
       "</style>\n",
       "<table border=\"1\" class=\"dataframe\">\n",
       "  <thead>\n",
       "    <tr style=\"text-align: right;\">\n",
       "      <th></th>\n",
       "      <th>Duration_Sec</th>\n",
       "      <th>Start_Time</th>\n",
       "      <th>End_Time</th>\n",
       "      <th>Start_Station_Id</th>\n",
       "      <th>Start_Station_Name</th>\n",
       "      <th>Start_Station_Latitude</th>\n",
       "      <th>Start_Station_Longitude</th>\n",
       "      <th>End_Station_Id</th>\n",
       "      <th>End_Station_Name</th>\n",
       "      <th>End_Station_Latitude</th>\n",
       "      <th>End_Station_Longitude</th>\n",
       "      <th>Bike_Id</th>\n",
       "      <th>User_Type</th>\n",
       "      <th>Member_Birth_Year</th>\n",
       "      <th>Member_Gender</th>\n",
       "      <th>Bike_Share_For_All_Trip</th>\n",
       "      <th>Duration_Hour</th>\n",
       "    </tr>\n",
       "  </thead>\n",
       "  <tbody>\n",
       "    <tr>\n",
       "      <th>0</th>\n",
       "      <td>52185</td>\n",
       "      <td>2019-02-28 17:32:10.1450</td>\n",
       "      <td>2019-03-01 08:01:55.9750</td>\n",
       "      <td>21.0</td>\n",
       "      <td>Montgomery St BART Station (Market St at 2nd St)</td>\n",
       "      <td>37.789625</td>\n",
       "      <td>-122.400811</td>\n",
       "      <td>13.0</td>\n",
       "      <td>Commercial St at Montgomery St</td>\n",
       "      <td>37.794231</td>\n",
       "      <td>-122.402923</td>\n",
       "      <td>4902</td>\n",
       "      <td>Customer</td>\n",
       "      <td>1984.0</td>\n",
       "      <td>Male</td>\n",
       "      <td>No</td>\n",
       "      <td>14.495833</td>\n",
       "    </tr>\n",
       "    <tr>\n",
       "      <th>2</th>\n",
       "      <td>61854</td>\n",
       "      <td>2019-02-28 12:13:13.2180</td>\n",
       "      <td>2019-03-01 05:24:08.1460</td>\n",
       "      <td>86.0</td>\n",
       "      <td>Market St at Dolores St</td>\n",
       "      <td>37.769305</td>\n",
       "      <td>-122.426826</td>\n",
       "      <td>3.0</td>\n",
       "      <td>Powell St BART Station (Market St at 4th St)</td>\n",
       "      <td>37.786375</td>\n",
       "      <td>-122.404904</td>\n",
       "      <td>5905</td>\n",
       "      <td>Customer</td>\n",
       "      <td>1972.0</td>\n",
       "      <td>Male</td>\n",
       "      <td>No</td>\n",
       "      <td>17.181667</td>\n",
       "    </tr>\n",
       "    <tr>\n",
       "      <th>3</th>\n",
       "      <td>36490</td>\n",
       "      <td>2019-02-28 17:54:26.0100</td>\n",
       "      <td>2019-03-01 04:02:36.8420</td>\n",
       "      <td>375.0</td>\n",
       "      <td>Grove St at Masonic Ave</td>\n",
       "      <td>37.774836</td>\n",
       "      <td>-122.446546</td>\n",
       "      <td>70.0</td>\n",
       "      <td>Central Ave at Fell St</td>\n",
       "      <td>37.773311</td>\n",
       "      <td>-122.444293</td>\n",
       "      <td>6638</td>\n",
       "      <td>Subscriber</td>\n",
       "      <td>1989.0</td>\n",
       "      <td>Other</td>\n",
       "      <td>No</td>\n",
       "      <td>10.136111</td>\n",
       "    </tr>\n",
       "    <tr>\n",
       "      <th>4</th>\n",
       "      <td>1585</td>\n",
       "      <td>2019-02-28 23:54:18.5490</td>\n",
       "      <td>2019-03-01 00:20:44.0740</td>\n",
       "      <td>7.0</td>\n",
       "      <td>Frank H Ogawa Plaza</td>\n",
       "      <td>37.804562</td>\n",
       "      <td>-122.271738</td>\n",
       "      <td>222.0</td>\n",
       "      <td>10th Ave at E 15th St</td>\n",
       "      <td>37.792714</td>\n",
       "      <td>-122.248780</td>\n",
       "      <td>4898</td>\n",
       "      <td>Subscriber</td>\n",
       "      <td>1974.0</td>\n",
       "      <td>Male</td>\n",
       "      <td>Yes</td>\n",
       "      <td>0.440278</td>\n",
       "    </tr>\n",
       "    <tr>\n",
       "      <th>5</th>\n",
       "      <td>1793</td>\n",
       "      <td>2019-02-28 23:49:58.6320</td>\n",
       "      <td>2019-03-01 00:19:51.7600</td>\n",
       "      <td>93.0</td>\n",
       "      <td>4th St at Mission Bay Blvd S</td>\n",
       "      <td>37.770407</td>\n",
       "      <td>-122.391198</td>\n",
       "      <td>323.0</td>\n",
       "      <td>Broadway at Kearny</td>\n",
       "      <td>37.798014</td>\n",
       "      <td>-122.405950</td>\n",
       "      <td>5200</td>\n",
       "      <td>Subscriber</td>\n",
       "      <td>1959.0</td>\n",
       "      <td>Male</td>\n",
       "      <td>No</td>\n",
       "      <td>0.498056</td>\n",
       "    </tr>\n",
       "  </tbody>\n",
       "</table>\n",
       "</div>"
      ],
      "text/plain": [
       "   Duration_Sec                Start_Time                  End_Time  \\\n",
       "0         52185  2019-02-28 17:32:10.1450  2019-03-01 08:01:55.9750   \n",
       "2         61854  2019-02-28 12:13:13.2180  2019-03-01 05:24:08.1460   \n",
       "3         36490  2019-02-28 17:54:26.0100  2019-03-01 04:02:36.8420   \n",
       "4          1585  2019-02-28 23:54:18.5490  2019-03-01 00:20:44.0740   \n",
       "5          1793  2019-02-28 23:49:58.6320  2019-03-01 00:19:51.7600   \n",
       "\n",
       "   Start_Station_Id                                Start_Station_Name  \\\n",
       "0              21.0  Montgomery St BART Station (Market St at 2nd St)   \n",
       "2              86.0                           Market St at Dolores St   \n",
       "3             375.0                           Grove St at Masonic Ave   \n",
       "4               7.0                               Frank H Ogawa Plaza   \n",
       "5              93.0                      4th St at Mission Bay Blvd S   \n",
       "\n",
       "   Start_Station_Latitude  Start_Station_Longitude  End_Station_Id  \\\n",
       "0               37.789625              -122.400811            13.0   \n",
       "2               37.769305              -122.426826             3.0   \n",
       "3               37.774836              -122.446546            70.0   \n",
       "4               37.804562              -122.271738           222.0   \n",
       "5               37.770407              -122.391198           323.0   \n",
       "\n",
       "                               End_Station_Name  End_Station_Latitude  \\\n",
       "0                Commercial St at Montgomery St             37.794231   \n",
       "2  Powell St BART Station (Market St at 4th St)             37.786375   \n",
       "3                        Central Ave at Fell St             37.773311   \n",
       "4                         10th Ave at E 15th St             37.792714   \n",
       "5                            Broadway at Kearny             37.798014   \n",
       "\n",
       "   End_Station_Longitude  Bike_Id   User_Type  Member_Birth_Year  \\\n",
       "0            -122.402923     4902    Customer             1984.0   \n",
       "2            -122.404904     5905    Customer             1972.0   \n",
       "3            -122.444293     6638  Subscriber             1989.0   \n",
       "4            -122.248780     4898  Subscriber             1974.0   \n",
       "5            -122.405950     5200  Subscriber             1959.0   \n",
       "\n",
       "  Member_Gender Bike_Share_For_All_Trip  Duration_Hour  \n",
       "0          Male                      No      14.495833  \n",
       "2          Male                      No      17.181667  \n",
       "3         Other                      No      10.136111  \n",
       "4          Male                     Yes       0.440278  \n",
       "5          Male                      No       0.498056  "
      ]
     },
     "execution_count": 16,
     "metadata": {},
     "output_type": "execute_result"
    }
   ],
   "source": [
    "df.head()"
   ]
  },
  {
   "cell_type": "code",
   "execution_count": 17,
   "id": "3e83b347",
   "metadata": {
    "execution": {
     "iopub.execute_input": "2024-03-06T21:57:16.581383Z",
     "iopub.status.busy": "2024-03-06T21:57:16.581033Z",
     "iopub.status.idle": "2024-03-06T21:57:16.673674Z",
     "shell.execute_reply": "2024-03-06T21:57:16.672556Z"
    },
    "papermill": {
     "duration": 0.10684,
     "end_time": "2024-03-06T21:57:16.676283",
     "exception": false,
     "start_time": "2024-03-06T21:57:16.569443",
     "status": "completed"
    },
    "tags": []
   },
   "outputs": [],
   "source": [
    "df['Start_Time'] = pd.to_datetime(df['Start_Time'])\n",
    "df['End_Time'] = pd.to_datetime(df['End_Time'])"
   ]
  },
  {
   "cell_type": "code",
   "execution_count": 18,
   "id": "22c65ff1",
   "metadata": {
    "execution": {
     "iopub.execute_input": "2024-03-06T21:57:16.701267Z",
     "iopub.status.busy": "2024-03-06T21:57:16.700917Z",
     "iopub.status.idle": "2024-03-06T21:57:16.742467Z",
     "shell.execute_reply": "2024-03-06T21:57:16.741212Z"
    },
    "papermill": {
     "duration": 0.057736,
     "end_time": "2024-03-06T21:57:16.745302",
     "exception": false,
     "start_time": "2024-03-06T21:57:16.687566",
     "status": "completed"
    },
    "tags": []
   },
   "outputs": [
    {
     "name": "stdout",
     "output_type": "stream",
     "text": [
      "<class 'pandas.core.frame.DataFrame'>\n",
      "Index: 174952 entries, 0 to 183411\n",
      "Data columns (total 17 columns):\n",
      " #   Column                   Non-Null Count   Dtype         \n",
      "---  ------                   --------------   -----         \n",
      " 0   Duration_Sec             174952 non-null  int64         \n",
      " 1   Start_Time               174952 non-null  datetime64[ns]\n",
      " 2   End_Time                 174952 non-null  datetime64[ns]\n",
      " 3   Start_Station_Id         174952 non-null  float64       \n",
      " 4   Start_Station_Name       174952 non-null  object        \n",
      " 5   Start_Station_Latitude   174952 non-null  float64       \n",
      " 6   Start_Station_Longitude  174952 non-null  float64       \n",
      " 7   End_Station_Id           174952 non-null  float64       \n",
      " 8   End_Station_Name         174952 non-null  object        \n",
      " 9   End_Station_Latitude     174952 non-null  float64       \n",
      " 10  End_Station_Longitude    174952 non-null  float64       \n",
      " 11  Bike_Id                  174952 non-null  int64         \n",
      " 12  User_Type                174952 non-null  object        \n",
      " 13  Member_Birth_Year        174952 non-null  float64       \n",
      " 14  Member_Gender            174952 non-null  object        \n",
      " 15  Bike_Share_For_All_Trip  174952 non-null  object        \n",
      " 16  Duration_Hour            174952 non-null  float64       \n",
      "dtypes: datetime64[ns](2), float64(8), int64(2), object(5)\n",
      "memory usage: 24.0+ MB\n"
     ]
    }
   ],
   "source": [
    "df.info()"
   ]
  },
  {
   "cell_type": "markdown",
   "id": "6826028f",
   "metadata": {
    "papermill": {
     "duration": 0.010313,
     "end_time": "2024-03-06T21:57:16.766480",
     "exception": false,
     "start_time": "2024-03-06T21:57:16.756167",
     "status": "completed"
    },
    "tags": []
   },
   "source": [
    "now the data type for start date and end date is datetime"
   ]
  },
  {
   "cell_type": "code",
   "execution_count": 19,
   "id": "6e4dd7c4",
   "metadata": {
    "execution": {
     "iopub.execute_input": "2024-03-06T21:57:16.790757Z",
     "iopub.status.busy": "2024-03-06T21:57:16.790430Z",
     "iopub.status.idle": "2024-03-06T21:57:16.810278Z",
     "shell.execute_reply": "2024-03-06T21:57:16.808998Z"
    },
    "papermill": {
     "duration": 0.035693,
     "end_time": "2024-03-06T21:57:16.812816",
     "exception": false,
     "start_time": "2024-03-06T21:57:16.777123",
     "status": "completed"
    },
    "tags": []
   },
   "outputs": [
    {
     "data": {
      "text/html": [
       "<div>\n",
       "<style scoped>\n",
       "    .dataframe tbody tr th:only-of-type {\n",
       "        vertical-align: middle;\n",
       "    }\n",
       "\n",
       "    .dataframe tbody tr th {\n",
       "        vertical-align: top;\n",
       "    }\n",
       "\n",
       "    .dataframe thead th {\n",
       "        text-align: right;\n",
       "    }\n",
       "</style>\n",
       "<table border=\"1\" class=\"dataframe\">\n",
       "  <thead>\n",
       "    <tr style=\"text-align: right;\">\n",
       "      <th></th>\n",
       "      <th>Duration_Sec</th>\n",
       "      <th>Start_Time</th>\n",
       "      <th>End_Time</th>\n",
       "      <th>Start_Station_Id</th>\n",
       "      <th>Start_Station_Name</th>\n",
       "      <th>Start_Station_Latitude</th>\n",
       "      <th>Start_Station_Longitude</th>\n",
       "      <th>End_Station_Id</th>\n",
       "      <th>End_Station_Name</th>\n",
       "      <th>End_Station_Latitude</th>\n",
       "      <th>End_Station_Longitude</th>\n",
       "      <th>Bike_Id</th>\n",
       "      <th>User_Type</th>\n",
       "      <th>Member_Birth_Year</th>\n",
       "      <th>Member_Gender</th>\n",
       "      <th>Bike_Share_For_All_Trip</th>\n",
       "      <th>Duration_Hour</th>\n",
       "    </tr>\n",
       "  </thead>\n",
       "  <tbody>\n",
       "    <tr>\n",
       "      <th>0</th>\n",
       "      <td>52185</td>\n",
       "      <td>2019-02-28 17:32:10.145</td>\n",
       "      <td>2019-03-01 08:01:55.975</td>\n",
       "      <td>21.0</td>\n",
       "      <td>Montgomery St BART Station (Market St at 2nd St)</td>\n",
       "      <td>37.789625</td>\n",
       "      <td>-122.400811</td>\n",
       "      <td>13.0</td>\n",
       "      <td>Commercial St at Montgomery St</td>\n",
       "      <td>37.794231</td>\n",
       "      <td>-122.402923</td>\n",
       "      <td>4902</td>\n",
       "      <td>Customer</td>\n",
       "      <td>1984.0</td>\n",
       "      <td>Male</td>\n",
       "      <td>No</td>\n",
       "      <td>14.495833</td>\n",
       "    </tr>\n",
       "    <tr>\n",
       "      <th>2</th>\n",
       "      <td>61854</td>\n",
       "      <td>2019-02-28 12:13:13.218</td>\n",
       "      <td>2019-03-01 05:24:08.146</td>\n",
       "      <td>86.0</td>\n",
       "      <td>Market St at Dolores St</td>\n",
       "      <td>37.769305</td>\n",
       "      <td>-122.426826</td>\n",
       "      <td>3.0</td>\n",
       "      <td>Powell St BART Station (Market St at 4th St)</td>\n",
       "      <td>37.786375</td>\n",
       "      <td>-122.404904</td>\n",
       "      <td>5905</td>\n",
       "      <td>Customer</td>\n",
       "      <td>1972.0</td>\n",
       "      <td>Male</td>\n",
       "      <td>No</td>\n",
       "      <td>17.181667</td>\n",
       "    </tr>\n",
       "    <tr>\n",
       "      <th>3</th>\n",
       "      <td>36490</td>\n",
       "      <td>2019-02-28 17:54:26.010</td>\n",
       "      <td>2019-03-01 04:02:36.842</td>\n",
       "      <td>375.0</td>\n",
       "      <td>Grove St at Masonic Ave</td>\n",
       "      <td>37.774836</td>\n",
       "      <td>-122.446546</td>\n",
       "      <td>70.0</td>\n",
       "      <td>Central Ave at Fell St</td>\n",
       "      <td>37.773311</td>\n",
       "      <td>-122.444293</td>\n",
       "      <td>6638</td>\n",
       "      <td>Subscriber</td>\n",
       "      <td>1989.0</td>\n",
       "      <td>Other</td>\n",
       "      <td>No</td>\n",
       "      <td>10.136111</td>\n",
       "    </tr>\n",
       "    <tr>\n",
       "      <th>4</th>\n",
       "      <td>1585</td>\n",
       "      <td>2019-02-28 23:54:18.549</td>\n",
       "      <td>2019-03-01 00:20:44.074</td>\n",
       "      <td>7.0</td>\n",
       "      <td>Frank H Ogawa Plaza</td>\n",
       "      <td>37.804562</td>\n",
       "      <td>-122.271738</td>\n",
       "      <td>222.0</td>\n",
       "      <td>10th Ave at E 15th St</td>\n",
       "      <td>37.792714</td>\n",
       "      <td>-122.248780</td>\n",
       "      <td>4898</td>\n",
       "      <td>Subscriber</td>\n",
       "      <td>1974.0</td>\n",
       "      <td>Male</td>\n",
       "      <td>Yes</td>\n",
       "      <td>0.440278</td>\n",
       "    </tr>\n",
       "    <tr>\n",
       "      <th>5</th>\n",
       "      <td>1793</td>\n",
       "      <td>2019-02-28 23:49:58.632</td>\n",
       "      <td>2019-03-01 00:19:51.760</td>\n",
       "      <td>93.0</td>\n",
       "      <td>4th St at Mission Bay Blvd S</td>\n",
       "      <td>37.770407</td>\n",
       "      <td>-122.391198</td>\n",
       "      <td>323.0</td>\n",
       "      <td>Broadway at Kearny</td>\n",
       "      <td>37.798014</td>\n",
       "      <td>-122.405950</td>\n",
       "      <td>5200</td>\n",
       "      <td>Subscriber</td>\n",
       "      <td>1959.0</td>\n",
       "      <td>Male</td>\n",
       "      <td>No</td>\n",
       "      <td>0.498056</td>\n",
       "    </tr>\n",
       "  </tbody>\n",
       "</table>\n",
       "</div>"
      ],
      "text/plain": [
       "   Duration_Sec              Start_Time                End_Time  \\\n",
       "0         52185 2019-02-28 17:32:10.145 2019-03-01 08:01:55.975   \n",
       "2         61854 2019-02-28 12:13:13.218 2019-03-01 05:24:08.146   \n",
       "3         36490 2019-02-28 17:54:26.010 2019-03-01 04:02:36.842   \n",
       "4          1585 2019-02-28 23:54:18.549 2019-03-01 00:20:44.074   \n",
       "5          1793 2019-02-28 23:49:58.632 2019-03-01 00:19:51.760   \n",
       "\n",
       "   Start_Station_Id                                Start_Station_Name  \\\n",
       "0              21.0  Montgomery St BART Station (Market St at 2nd St)   \n",
       "2              86.0                           Market St at Dolores St   \n",
       "3             375.0                           Grove St at Masonic Ave   \n",
       "4               7.0                               Frank H Ogawa Plaza   \n",
       "5              93.0                      4th St at Mission Bay Blvd S   \n",
       "\n",
       "   Start_Station_Latitude  Start_Station_Longitude  End_Station_Id  \\\n",
       "0               37.789625              -122.400811            13.0   \n",
       "2               37.769305              -122.426826             3.0   \n",
       "3               37.774836              -122.446546            70.0   \n",
       "4               37.804562              -122.271738           222.0   \n",
       "5               37.770407              -122.391198           323.0   \n",
       "\n",
       "                               End_Station_Name  End_Station_Latitude  \\\n",
       "0                Commercial St at Montgomery St             37.794231   \n",
       "2  Powell St BART Station (Market St at 4th St)             37.786375   \n",
       "3                        Central Ave at Fell St             37.773311   \n",
       "4                         10th Ave at E 15th St             37.792714   \n",
       "5                            Broadway at Kearny             37.798014   \n",
       "\n",
       "   End_Station_Longitude  Bike_Id   User_Type  Member_Birth_Year  \\\n",
       "0            -122.402923     4902    Customer             1984.0   \n",
       "2            -122.404904     5905    Customer             1972.0   \n",
       "3            -122.444293     6638  Subscriber             1989.0   \n",
       "4            -122.248780     4898  Subscriber             1974.0   \n",
       "5            -122.405950     5200  Subscriber             1959.0   \n",
       "\n",
       "  Member_Gender Bike_Share_For_All_Trip  Duration_Hour  \n",
       "0          Male                      No      14.495833  \n",
       "2          Male                      No      17.181667  \n",
       "3         Other                      No      10.136111  \n",
       "4          Male                     Yes       0.440278  \n",
       "5          Male                      No       0.498056  "
      ]
     },
     "execution_count": 19,
     "metadata": {},
     "output_type": "execute_result"
    }
   ],
   "source": [
    "df.head()"
   ]
  },
  {
   "cell_type": "markdown",
   "id": "4bdd6273",
   "metadata": {
    "papermill": {
     "duration": 0.011316,
     "end_time": "2024-03-06T21:57:16.835892",
     "exception": false,
     "start_time": "2024-03-06T21:57:16.824576",
     "status": "completed"
    },
    "tags": []
   },
   "source": [
    "# Visualization"
   ]
  },
  {
   "cell_type": "markdown",
   "id": "750bde60",
   "metadata": {
    "papermill": {
     "duration": 0.010665,
     "end_time": "2024-03-06T21:57:16.857499",
     "exception": false,
     "start_time": "2024-03-06T21:57:16.846834",
     "status": "completed"
    },
    "tags": []
   },
   "source": [
    "<h3>Q1 what times are popular for ride?<h3>"
   ]
  },
  {
   "cell_type": "code",
   "execution_count": 20,
   "id": "1ea1e0f3",
   "metadata": {
    "execution": {
     "iopub.execute_input": "2024-03-06T21:57:16.882468Z",
     "iopub.status.busy": "2024-03-06T21:57:16.882052Z",
     "iopub.status.idle": "2024-03-06T21:57:17.169125Z",
     "shell.execute_reply": "2024-03-06T21:57:17.167799Z"
    },
    "papermill": {
     "duration": 0.302942,
     "end_time": "2024-03-06T21:57:17.171483",
     "exception": false,
     "start_time": "2024-03-06T21:57:16.868541",
     "status": "completed"
    },
    "tags": []
   },
   "outputs": [
    {
     "data": {
      "image/png": "[encoded data removed]",
      "text/plain": [
       "<Figure size 640x480 with 1 Axes>"
      ]
     },
     "metadata": {},
     "output_type": "display_data"
    }
   ],
   "source": [
    "plt.hist(df['Start_Time'].dt.hour,color='c',label='Start_Time')\n",
    "\n",
    "plt.xlabel('Hour')\n",
    "plt.ylabel('Count')\n",
    "plt.legend()\n",
    "plt.show()"
   ]
  },
  {
   "cell_type": "markdown",
   "id": "0c8f0571",
   "metadata": {
    "papermill": {
     "duration": 0.011221,
     "end_time": "2024-03-06T21:57:17.194506",
     "exception": false,
     "start_time": "2024-03-06T21:57:17.183285",
     "status": "completed"
    },
    "tags": []
   },
   "source": [
    "this data show the number is few from 12 am to 5 am and start to be more after that to 12 am and this per day"
   ]
  },
  {
   "cell_type": "code",
   "execution_count": 21,
   "id": "e31dcf0c",
   "metadata": {
    "execution": {
     "iopub.execute_input": "2024-03-06T21:57:17.218804Z",
     "iopub.status.busy": "2024-03-06T21:57:17.218453Z",
     "iopub.status.idle": "2024-03-06T21:57:17.489849Z",
     "shell.execute_reply": "2024-03-06T21:57:17.488933Z"
    },
    "papermill": {
     "duration": 0.285938,
     "end_time": "2024-03-06T21:57:17.491851",
     "exception": false,
     "start_time": "2024-03-06T21:57:17.205913",
     "status": "completed"
    },
    "tags": []
   },
   "outputs": [
    {
     "data": {
      "image/png": "[encoded data removed]",
      "text/plain": [
       "<Figure size 640x480 with 1 Axes>"
      ]
     },
     "metadata": {},
     "output_type": "display_data"
    }
   ],
   "source": [
    "plt.hist(df['Start_Time'].dt.day_name(),color='c',label='Start_Time')\n",
    "\n",
    "plt.xlabel('Hour')\n",
    "plt.xticks(rotation=90)\n",
    "plt.ylabel('Count')\n",
    "plt.legend()\n",
    "plt.show()"
   ]
  },
  {
   "cell_type": "markdown",
   "id": "4e166cf0",
   "metadata": {
    "papermill": {
     "duration": 0.011304,
     "end_time": "2024-03-06T21:57:17.514685",
     "exception": false,
     "start_time": "2024-03-06T21:57:17.503381",
     "status": "completed"
    },
    "tags": []
   },
   "source": [
    "this data show the number is few on sunday and saturday and be more on thursday and tuesday and more another day also"
   ]
  },
  {
   "cell_type": "code",
   "execution_count": 22,
   "id": "6d433ada",
   "metadata": {
    "execution": {
     "iopub.execute_input": "2024-03-06T21:57:17.540011Z",
     "iopub.status.busy": "2024-03-06T21:57:17.539125Z",
     "iopub.status.idle": "2024-03-06T21:57:17.982028Z",
     "shell.execute_reply": "2024-03-06T21:57:17.980571Z"
    },
    "papermill": {
     "duration": 0.458967,
     "end_time": "2024-03-06T21:57:17.985124",
     "exception": false,
     "start_time": "2024-03-06T21:57:17.526157",
     "status": "completed"
    },
    "tags": []
   },
   "outputs": [
    {
     "data": {
      "image/png": "[encoded data removed]",
      "text/plain": [
       "<Figure size 640x480 with 1 Axes>"
      ]
     },
     "metadata": {},
     "output_type": "display_data"
    }
   ],
   "source": [
    "plt.hist(df['Start_Time'].dt.date,color='c',label='Start_Time')\n",
    "\n",
    "plt.xlabel('Hour')\n",
    "plt.xticks(rotation=90)\n",
    "plt.ylabel('Count')\n",
    "plt.legend()\n",
    "plt.show()"
   ]
  },
  {
   "cell_type": "markdown",
   "id": "d52a61f6",
   "metadata": {
    "papermill": {
     "duration": 0.011056,
     "end_time": "2024-03-06T21:57:18.007883",
     "exception": false,
     "start_time": "2024-03-06T21:57:17.996827",
     "status": "completed"
    },
    "tags": []
   },
   "source": [
    "show every period"
   ]
  },
  {
   "cell_type": "markdown",
   "id": "853d2349",
   "metadata": {
    "papermill": {
     "duration": 0.011361,
     "end_time": "2024-03-06T21:57:18.030765",
     "exception": false,
     "start_time": "2024-03-06T21:57:18.019404",
     "status": "completed"
    },
    "tags": []
   },
   "source": [
    "<h3>Q2 what is gender and age beakdown of rides?<h3>"
   ]
  },
  {
   "cell_type": "code",
   "execution_count": 23,
   "id": "ba7e226f",
   "metadata": {
    "execution": {
     "iopub.execute_input": "2024-03-06T21:57:18.056106Z",
     "iopub.status.busy": "2024-03-06T21:57:18.055420Z",
     "iopub.status.idle": "2024-03-06T21:57:18.222322Z",
     "shell.execute_reply": "2024-03-06T21:57:18.221632Z"
    },
    "papermill": {
     "duration": 0.18149,
     "end_time": "2024-03-06T21:57:18.223943",
     "exception": false,
     "start_time": "2024-03-06T21:57:18.042453",
     "status": "completed"
    },
    "tags": []
   },
   "outputs": [
    {
     "data": {
      "image/png": "[encoded data removed]",
      "text/plain": [
       "<Figure size 640x480 with 1 Axes>"
      ]
     },
     "metadata": {},
     "output_type": "display_data"
    }
   ],
   "source": [
    "gender_counts = df['Member_Gender'].value_counts()\n",
    "plt.bar(gender_counts.index, gender_counts.values)\n",
    "plt.xlabel('Gender')\n",
    "plt.ylabel('Count')\n",
    "plt.title('Gender Distribution')\n",
    "plt.show()"
   ]
  },
  {
   "cell_type": "markdown",
   "id": "e12c1b68",
   "metadata": {
    "papermill": {
     "duration": 0.011453,
     "end_time": "2024-03-06T21:57:18.247847",
     "exception": false,
     "start_time": "2024-03-06T21:57:18.236394",
     "status": "completed"
    },
    "tags": []
   },
   "source": [
    "<h3>Q3 how long do ride goers rent a bike and respect the age<h3>"
   ]
  },
  {
   "cell_type": "code",
   "execution_count": 24,
   "id": "7a185a63",
   "metadata": {
    "execution": {
     "iopub.execute_input": "2024-03-06T21:57:18.273374Z",
     "iopub.status.busy": "2024-03-06T21:57:18.272543Z",
     "iopub.status.idle": "2024-03-06T21:57:18.291294Z",
     "shell.execute_reply": "2024-03-06T21:57:18.290163Z"
    },
    "papermill": {
     "duration": 0.034379,
     "end_time": "2024-03-06T21:57:18.293764",
     "exception": false,
     "start_time": "2024-03-06T21:57:18.259385",
     "status": "completed"
    },
    "tags": []
   },
   "outputs": [],
   "source": [
    "grouped_birth_yead = df.groupby('Member_Birth_Year')['Duration_Hour']\n",
    "birth_yead_agg = grouped_birth_yead.agg(['mean','count','max'])"
   ]
  },
  {
   "cell_type": "code",
   "execution_count": 25,
   "id": "8e969377",
   "metadata": {
    "execution": {
     "iopub.execute_input": "2024-03-06T21:57:18.319839Z",
     "iopub.status.busy": "2024-03-06T21:57:18.319504Z",
     "iopub.status.idle": "2024-03-06T21:57:18.331712Z",
     "shell.execute_reply": "2024-03-06T21:57:18.330711Z"
    },
    "papermill": {
     "duration": 0.028101,
     "end_time": "2024-03-06T21:57:18.333715",
     "exception": false,
     "start_time": "2024-03-06T21:57:18.305614",
     "status": "completed"
    },
    "tags": []
   },
   "outputs": [
    {
     "data": {
      "text/html": [
       "<div>\n",
       "<style scoped>\n",
       "    .dataframe tbody tr th:only-of-type {\n",
       "        vertical-align: middle;\n",
       "    }\n",
       "\n",
       "    .dataframe tbody tr th {\n",
       "        vertical-align: top;\n",
       "    }\n",
       "\n",
       "    .dataframe thead th {\n",
       "        text-align: right;\n",
       "    }\n",
       "</style>\n",
       "<table border=\"1\" class=\"dataframe\">\n",
       "  <thead>\n",
       "    <tr style=\"text-align: right;\">\n",
       "      <th></th>\n",
       "      <th>mean</th>\n",
       "      <th>count</th>\n",
       "      <th>max</th>\n",
       "    </tr>\n",
       "    <tr>\n",
       "      <th>Member_Birth_Year</th>\n",
       "      <th></th>\n",
       "      <th></th>\n",
       "      <th></th>\n",
       "    </tr>\n",
       "  </thead>\n",
       "  <tbody>\n",
       "    <tr>\n",
       "      <th>1878.0</th>\n",
       "      <td>0.409444</td>\n",
       "      <td>1</td>\n",
       "      <td>0.409444</td>\n",
       "    </tr>\n",
       "    <tr>\n",
       "      <th>1900.0</th>\n",
       "      <td>0.192683</td>\n",
       "      <td>53</td>\n",
       "      <td>0.525833</td>\n",
       "    </tr>\n",
       "    <tr>\n",
       "      <th>1901.0</th>\n",
       "      <td>0.125370</td>\n",
       "      <td>6</td>\n",
       "      <td>0.149722</td>\n",
       "    </tr>\n",
       "    <tr>\n",
       "      <th>1902.0</th>\n",
       "      <td>0.141035</td>\n",
       "      <td>11</td>\n",
       "      <td>0.189167</td>\n",
       "    </tr>\n",
       "    <tr>\n",
       "      <th>1910.0</th>\n",
       "      <td>0.201944</td>\n",
       "      <td>1</td>\n",
       "      <td>0.201944</td>\n",
       "    </tr>\n",
       "    <tr>\n",
       "      <th>...</th>\n",
       "      <td>...</td>\n",
       "      <td>...</td>\n",
       "      <td>...</td>\n",
       "    </tr>\n",
       "    <tr>\n",
       "      <th>1997.0</th>\n",
       "      <td>0.179899</td>\n",
       "      <td>3476</td>\n",
       "      <td>14.302222</td>\n",
       "    </tr>\n",
       "    <tr>\n",
       "      <th>1998.0</th>\n",
       "      <td>0.201489</td>\n",
       "      <td>3208</td>\n",
       "      <td>22.920000</td>\n",
       "    </tr>\n",
       "    <tr>\n",
       "      <th>1999.0</th>\n",
       "      <td>0.179260</td>\n",
       "      <td>2504</td>\n",
       "      <td>4.873889</td>\n",
       "    </tr>\n",
       "    <tr>\n",
       "      <th>2000.0</th>\n",
       "      <td>0.223965</td>\n",
       "      <td>1675</td>\n",
       "      <td>15.599444</td>\n",
       "    </tr>\n",
       "    <tr>\n",
       "      <th>2001.0</th>\n",
       "      <td>0.679142</td>\n",
       "      <td>34</td>\n",
       "      <td>3.725556</td>\n",
       "    </tr>\n",
       "  </tbody>\n",
       "</table>\n",
       "<p>75 rows × 3 columns</p>\n",
       "</div>"
      ],
      "text/plain": [
       "                       mean  count        max\n",
       "Member_Birth_Year                            \n",
       "1878.0             0.409444      1   0.409444\n",
       "1900.0             0.192683     53   0.525833\n",
       "1901.0             0.125370      6   0.149722\n",
       "1902.0             0.141035     11   0.189167\n",
       "1910.0             0.201944      1   0.201944\n",
       "...                     ...    ...        ...\n",
       "1997.0             0.179899   3476  14.302222\n",
       "1998.0             0.201489   3208  22.920000\n",
       "1999.0             0.179260   2504   4.873889\n",
       "2000.0             0.223965   1675  15.599444\n",
       "2001.0             0.679142     34   3.725556\n",
       "\n",
       "[75 rows x 3 columns]"
      ]
     },
     "execution_count": 25,
     "metadata": {},
     "output_type": "execute_result"
    }
   ],
   "source": [
    "birth_yead_agg"
   ]
  },
  {
   "cell_type": "code",
   "execution_count": 26,
   "id": "d0a0456c",
   "metadata": {
    "execution": {
     "iopub.execute_input": "2024-03-06T21:57:18.361497Z",
     "iopub.status.busy": "2024-03-06T21:57:18.361133Z",
     "iopub.status.idle": "2024-03-06T21:57:18.560146Z",
     "shell.execute_reply": "2024-03-06T21:57:18.558597Z"
    },
    "papermill": {
     "duration": 0.215985,
     "end_time": "2024-03-06T21:57:18.562433",
     "exception": false,
     "start_time": "2024-03-06T21:57:18.346448",
     "status": "completed"
    },
    "tags": []
   },
   "outputs": [
    {
     "data": {
      "image/png": "[encoded data removed]",
      "text/plain": [
       "<Figure size 640x480 with 1 Axes>"
      ]
     },
     "metadata": {},
     "output_type": "display_data"
    }
   ],
   "source": [
    "birth_yead_agg.plot(y='mean')\n",
    "plt.show()"
   ]
  },
  {
   "cell_type": "code",
   "execution_count": 27,
   "id": "d595f191",
   "metadata": {
    "execution": {
     "iopub.execute_input": "2024-03-06T21:57:18.589411Z",
     "iopub.status.busy": "2024-03-06T21:57:18.588803Z",
     "iopub.status.idle": "2024-03-06T21:57:18.769600Z",
     "shell.execute_reply": "2024-03-06T21:57:18.768713Z"
    },
    "papermill": {
     "duration": 0.196687,
     "end_time": "2024-03-06T21:57:18.771644",
     "exception": false,
     "start_time": "2024-03-06T21:57:18.574957",
     "status": "completed"
    },
    "tags": []
   },
   "outputs": [
    {
     "data": {
      "image/png": "[encoded data removed]",
      "text/plain": [
       "<Figure size 640x480 with 1 Axes>"
      ]
     },
     "metadata": {},
     "output_type": "display_data"
    }
   ],
   "source": [
    "birth_yead_agg.plot(y='count')\n",
    "plt.show()"
   ]
  }
 ],
 "metadata": {
  "kaggle": {
   "accelerator": "none",
   "dataSources": [
    {
     "datasetId": 188577,
     "sourceId": 421217,
     "sourceType": "datasetVersion"
    }
   ],
   "dockerImageVersionId": 30664,
   "isGpuEnabled": false,
   "isInternetEnabled": true,
   "language": "python",
   "sourceType": "notebook"
  },
  "kernelspec": {
   "display_name": "Python 3",
   "language": "python",
   "name": "python3"
  },
  "language_info": {
   "codemirror_mode": {
    "name": "ipython",
    "version": 3
   },
   "file_extension": ".py",
   "mimetype": "text/x-python",
   "name": "python",
   "nbconvert_exporter": "python",
   "pygments_lexer": "ipython3",
   "version": "3.10.13"
  },
  "papermill": {
   "default_parameters": {},
   "duration": 10.066771,
   "end_time": "2024-03-06T21:57:19.404705",
   "environment_variables": {},
   "exception": null,
   "input_path": "__notebook__.ipynb",
   "output_path": "__notebook__.ipynb",
   "parameters": {},
   "start_time": "2024-03-06T21:57:09.337934",
   "version": "2.5.0"
  }
 },
 "nbformat": 4,
 "nbformat_minor": 5
}
