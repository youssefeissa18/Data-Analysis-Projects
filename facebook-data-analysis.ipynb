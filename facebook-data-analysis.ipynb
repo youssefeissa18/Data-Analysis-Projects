{
 "cells": [
  {
   "cell_type": "markdown",
   "id": "82365f1f",
   "metadata": {
    "papermill": {
     "duration": 0.010977,
     "end_time": "2024-03-09T01:09:12.407005",
     "exception": false,
     "start_time": "2024-03-09T01:09:12.396028",
     "status": "completed"
    },
    "tags": []
   },
   "source": [
    "# Facebook Data Analysis"
   ]
  },
  {
   "cell_type": "markdown",
   "id": "11d4c48b",
   "metadata": {
    "papermill": {
     "duration": 0.01009,
     "end_time": "2024-03-09T01:09:12.429085",
     "exception": false,
     "start_time": "2024-03-09T01:09:12.418995",
     "status": "completed"
    },
    "tags": []
   },
   "source": [
    "import necessry library"
   ]
  },
  {
   "cell_type": "code",
   "execution_count": 1,
   "id": "3efeb6f0",
   "metadata": {
    "execution": {
     "iopub.execute_input": "2024-03-09T01:09:12.451061Z",
     "iopub.status.busy": "2024-03-09T01:09:12.450711Z",
     "iopub.status.idle": "2024-03-09T01:09:14.661151Z",
     "shell.execute_reply": "2024-03-09T01:09:14.659653Z"
    },
    "papermill": {
     "duration": 2.224709,
     "end_time": "2024-03-09T01:09:14.663950",
     "exception": false,
     "start_time": "2024-03-09T01:09:12.439241",
     "status": "completed"
    },
    "tags": []
   },
   "outputs": [],
   "source": [
    "import numpy as np \n",
    "import pandas as pd \n",
    "import matplotlib.pyplot as plt\n",
    "import seaborn as sns"
   ]
  },
  {
   "cell_type": "markdown",
   "id": "0ef41cf8",
   "metadata": {
    "papermill": {
     "duration": 0.010234,
     "end_time": "2024-03-09T01:09:14.685859",
     "exception": false,
     "start_time": "2024-03-09T01:09:14.675625",
     "status": "completed"
    },
    "tags": []
   },
   "source": [
    "First load Data"
   ]
  },
  {
   "cell_type": "code",
   "execution_count": 2,
   "id": "a5fc29a7",
   "metadata": {
    "execution": {
     "iopub.execute_input": "2024-03-09T01:09:14.709000Z",
     "iopub.status.busy": "2024-03-09T01:09:14.708542Z",
     "iopub.status.idle": "2024-03-09T01:09:14.884228Z",
     "shell.execute_reply": "2024-03-09T01:09:14.883166Z"
    },
    "papermill": {
     "duration": 0.189945,
     "end_time": "2024-03-09T01:09:14.886519",
     "exception": false,
     "start_time": "2024-03-09T01:09:14.696574",
     "status": "completed"
    },
    "tags": []
   },
   "outputs": [],
   "source": [
    "df = pd.read_csv('/kaggle/input/facebook-data/pseudo_facebook.csv')"
   ]
  },
  {
   "cell_type": "code",
   "execution_count": 3,
   "id": "e2f1be09",
   "metadata": {
    "execution": {
     "iopub.execute_input": "2024-03-09T01:09:14.910295Z",
     "iopub.status.busy": "2024-03-09T01:09:14.909949Z",
     "iopub.status.idle": "2024-03-09T01:09:14.916346Z",
     "shell.execute_reply": "2024-03-09T01:09:14.915644Z"
    },
    "papermill": {
     "duration": 0.020704,
     "end_time": "2024-03-09T01:09:14.918683",
     "exception": false,
     "start_time": "2024-03-09T01:09:14.897979",
     "status": "completed"
    },
    "tags": []
   },
   "outputs": [
    {
     "data": {
      "text/plain": [
       "(99003, 15)"
      ]
     },
     "execution_count": 3,
     "metadata": {},
     "output_type": "execute_result"
    }
   ],
   "source": [
    "df.shape"
   ]
  },
  {
   "cell_type": "code",
   "execution_count": 4,
   "id": "1014b45f",
   "metadata": {
    "execution": {
     "iopub.execute_input": "2024-03-09T01:09:14.942269Z",
     "iopub.status.busy": "2024-03-09T01:09:14.941738Z",
     "iopub.status.idle": "2024-03-09T01:09:14.963881Z",
     "shell.execute_reply": "2024-03-09T01:09:14.962680Z"
    },
    "papermill": {
     "duration": 0.036301,
     "end_time": "2024-03-09T01:09:14.966132",
     "exception": false,
     "start_time": "2024-03-09T01:09:14.929831",
     "status": "completed"
    },
    "tags": []
   },
   "outputs": [
    {
     "data": {
      "text/html": [
       "<div>\n",
       "<style scoped>\n",
       "    .dataframe tbody tr th:only-of-type {\n",
       "        vertical-align: middle;\n",
       "    }\n",
       "\n",
       "    .dataframe tbody tr th {\n",
       "        vertical-align: top;\n",
       "    }\n",
       "\n",
       "    .dataframe thead th {\n",
       "        text-align: right;\n",
       "    }\n",
       "</style>\n",
       "<table border=\"1\" class=\"dataframe\">\n",
       "  <thead>\n",
       "    <tr style=\"text-align: right;\">\n",
       "      <th></th>\n",
       "      <th>userid</th>\n",
       "      <th>age</th>\n",
       "      <th>dob_day</th>\n",
       "      <th>dob_year</th>\n",
       "      <th>dob_month</th>\n",
       "      <th>gender</th>\n",
       "      <th>tenure</th>\n",
       "      <th>friend_count</th>\n",
       "      <th>friendships_initiated</th>\n",
       "      <th>likes</th>\n",
       "      <th>likes_received</th>\n",
       "      <th>mobile_likes</th>\n",
       "      <th>mobile_likes_received</th>\n",
       "      <th>www_likes</th>\n",
       "      <th>www_likes_received</th>\n",
       "    </tr>\n",
       "  </thead>\n",
       "  <tbody>\n",
       "    <tr>\n",
       "      <th>0</th>\n",
       "      <td>2094382</td>\n",
       "      <td>14</td>\n",
       "      <td>19</td>\n",
       "      <td>1999</td>\n",
       "      <td>11</td>\n",
       "      <td>male</td>\n",
       "      <td>266.0</td>\n",
       "      <td>0</td>\n",
       "      <td>0</td>\n",
       "      <td>0</td>\n",
       "      <td>0</td>\n",
       "      <td>0</td>\n",
       "      <td>0</td>\n",
       "      <td>0</td>\n",
       "      <td>0</td>\n",
       "    </tr>\n",
       "    <tr>\n",
       "      <th>1</th>\n",
       "      <td>1192601</td>\n",
       "      <td>14</td>\n",
       "      <td>2</td>\n",
       "      <td>1999</td>\n",
       "      <td>11</td>\n",
       "      <td>female</td>\n",
       "      <td>6.0</td>\n",
       "      <td>0</td>\n",
       "      <td>0</td>\n",
       "      <td>0</td>\n",
       "      <td>0</td>\n",
       "      <td>0</td>\n",
       "      <td>0</td>\n",
       "      <td>0</td>\n",
       "      <td>0</td>\n",
       "    </tr>\n",
       "    <tr>\n",
       "      <th>2</th>\n",
       "      <td>2083884</td>\n",
       "      <td>14</td>\n",
       "      <td>16</td>\n",
       "      <td>1999</td>\n",
       "      <td>11</td>\n",
       "      <td>male</td>\n",
       "      <td>13.0</td>\n",
       "      <td>0</td>\n",
       "      <td>0</td>\n",
       "      <td>0</td>\n",
       "      <td>0</td>\n",
       "      <td>0</td>\n",
       "      <td>0</td>\n",
       "      <td>0</td>\n",
       "      <td>0</td>\n",
       "    </tr>\n",
       "    <tr>\n",
       "      <th>3</th>\n",
       "      <td>1203168</td>\n",
       "      <td>14</td>\n",
       "      <td>25</td>\n",
       "      <td>1999</td>\n",
       "      <td>12</td>\n",
       "      <td>female</td>\n",
       "      <td>93.0</td>\n",
       "      <td>0</td>\n",
       "      <td>0</td>\n",
       "      <td>0</td>\n",
       "      <td>0</td>\n",
       "      <td>0</td>\n",
       "      <td>0</td>\n",
       "      <td>0</td>\n",
       "      <td>0</td>\n",
       "    </tr>\n",
       "    <tr>\n",
       "      <th>4</th>\n",
       "      <td>1733186</td>\n",
       "      <td>14</td>\n",
       "      <td>4</td>\n",
       "      <td>1999</td>\n",
       "      <td>12</td>\n",
       "      <td>male</td>\n",
       "      <td>82.0</td>\n",
       "      <td>0</td>\n",
       "      <td>0</td>\n",
       "      <td>0</td>\n",
       "      <td>0</td>\n",
       "      <td>0</td>\n",
       "      <td>0</td>\n",
       "      <td>0</td>\n",
       "      <td>0</td>\n",
       "    </tr>\n",
       "  </tbody>\n",
       "</table>\n",
       "</div>"
      ],
      "text/plain": [
       "    userid  age  dob_day  dob_year  dob_month  gender  tenure  friend_count  \\\n",
       "0  2094382   14       19      1999         11    male   266.0             0   \n",
       "1  1192601   14        2      1999         11  female     6.0             0   \n",
       "2  2083884   14       16      1999         11    male    13.0             0   \n",
       "3  1203168   14       25      1999         12  female    93.0             0   \n",
       "4  1733186   14        4      1999         12    male    82.0             0   \n",
       "\n",
       "   friendships_initiated  likes  likes_received  mobile_likes  \\\n",
       "0                      0      0               0             0   \n",
       "1                      0      0               0             0   \n",
       "2                      0      0               0             0   \n",
       "3                      0      0               0             0   \n",
       "4                      0      0               0             0   \n",
       "\n",
       "   mobile_likes_received  www_likes  www_likes_received  \n",
       "0                      0          0                   0  \n",
       "1                      0          0                   0  \n",
       "2                      0          0                   0  \n",
       "3                      0          0                   0  \n",
       "4                      0          0                   0  "
      ]
     },
     "execution_count": 4,
     "metadata": {},
     "output_type": "execute_result"
    }
   ],
   "source": [
    "df.head()"
   ]
  },
  {
   "cell_type": "code",
   "execution_count": 5,
   "id": "4c3681fd",
   "metadata": {
    "execution": {
     "iopub.execute_input": "2024-03-09T01:09:14.990296Z",
     "iopub.status.busy": "2024-03-09T01:09:14.989962Z",
     "iopub.status.idle": "2024-03-09T01:09:15.004402Z",
     "shell.execute_reply": "2024-03-09T01:09:15.003176Z"
    },
    "papermill": {
     "duration": 0.029415,
     "end_time": "2024-03-09T01:09:15.006789",
     "exception": false,
     "start_time": "2024-03-09T01:09:14.977374",
     "status": "completed"
    },
    "tags": []
   },
   "outputs": [
    {
     "data": {
      "text/html": [
       "<div>\n",
       "<style scoped>\n",
       "    .dataframe tbody tr th:only-of-type {\n",
       "        vertical-align: middle;\n",
       "    }\n",
       "\n",
       "    .dataframe tbody tr th {\n",
       "        vertical-align: top;\n",
       "    }\n",
       "\n",
       "    .dataframe thead th {\n",
       "        text-align: right;\n",
       "    }\n",
       "</style>\n",
       "<table border=\"1\" class=\"dataframe\">\n",
       "  <thead>\n",
       "    <tr style=\"text-align: right;\">\n",
       "      <th></th>\n",
       "      <th>userid</th>\n",
       "      <th>age</th>\n",
       "      <th>dob_day</th>\n",
       "      <th>dob_year</th>\n",
       "      <th>dob_month</th>\n",
       "      <th>gender</th>\n",
       "      <th>tenure</th>\n",
       "      <th>friend_count</th>\n",
       "      <th>friendships_initiated</th>\n",
       "      <th>likes</th>\n",
       "      <th>likes_received</th>\n",
       "      <th>mobile_likes</th>\n",
       "      <th>mobile_likes_received</th>\n",
       "      <th>www_likes</th>\n",
       "      <th>www_likes_received</th>\n",
       "    </tr>\n",
       "  </thead>\n",
       "  <tbody>\n",
       "    <tr>\n",
       "      <th>98998</th>\n",
       "      <td>1268299</td>\n",
       "      <td>68</td>\n",
       "      <td>4</td>\n",
       "      <td>1945</td>\n",
       "      <td>4</td>\n",
       "      <td>female</td>\n",
       "      <td>541.0</td>\n",
       "      <td>2118</td>\n",
       "      <td>341</td>\n",
       "      <td>3996</td>\n",
       "      <td>18089</td>\n",
       "      <td>3505</td>\n",
       "      <td>11887</td>\n",
       "      <td>491</td>\n",
       "      <td>6202</td>\n",
       "    </tr>\n",
       "    <tr>\n",
       "      <th>98999</th>\n",
       "      <td>1256153</td>\n",
       "      <td>18</td>\n",
       "      <td>12</td>\n",
       "      <td>1995</td>\n",
       "      <td>3</td>\n",
       "      <td>female</td>\n",
       "      <td>21.0</td>\n",
       "      <td>1968</td>\n",
       "      <td>1720</td>\n",
       "      <td>4401</td>\n",
       "      <td>13412</td>\n",
       "      <td>4399</td>\n",
       "      <td>10592</td>\n",
       "      <td>2</td>\n",
       "      <td>2820</td>\n",
       "    </tr>\n",
       "    <tr>\n",
       "      <th>99000</th>\n",
       "      <td>1195943</td>\n",
       "      <td>15</td>\n",
       "      <td>10</td>\n",
       "      <td>1998</td>\n",
       "      <td>5</td>\n",
       "      <td>female</td>\n",
       "      <td>111.0</td>\n",
       "      <td>2002</td>\n",
       "      <td>1524</td>\n",
       "      <td>11959</td>\n",
       "      <td>12554</td>\n",
       "      <td>11959</td>\n",
       "      <td>11462</td>\n",
       "      <td>0</td>\n",
       "      <td>1092</td>\n",
       "    </tr>\n",
       "    <tr>\n",
       "      <th>99001</th>\n",
       "      <td>1468023</td>\n",
       "      <td>23</td>\n",
       "      <td>11</td>\n",
       "      <td>1990</td>\n",
       "      <td>4</td>\n",
       "      <td>female</td>\n",
       "      <td>416.0</td>\n",
       "      <td>2560</td>\n",
       "      <td>185</td>\n",
       "      <td>4506</td>\n",
       "      <td>6516</td>\n",
       "      <td>4506</td>\n",
       "      <td>5760</td>\n",
       "      <td>0</td>\n",
       "      <td>756</td>\n",
       "    </tr>\n",
       "    <tr>\n",
       "      <th>99002</th>\n",
       "      <td>1397896</td>\n",
       "      <td>39</td>\n",
       "      <td>15</td>\n",
       "      <td>1974</td>\n",
       "      <td>5</td>\n",
       "      <td>female</td>\n",
       "      <td>397.0</td>\n",
       "      <td>2049</td>\n",
       "      <td>768</td>\n",
       "      <td>9410</td>\n",
       "      <td>12443</td>\n",
       "      <td>9410</td>\n",
       "      <td>9530</td>\n",
       "      <td>0</td>\n",
       "      <td>2913</td>\n",
       "    </tr>\n",
       "  </tbody>\n",
       "</table>\n",
       "</div>"
      ],
      "text/plain": [
       "        userid  age  dob_day  dob_year  dob_month  gender  tenure  \\\n",
       "98998  1268299   68        4      1945          4  female   541.0   \n",
       "98999  1256153   18       12      1995          3  female    21.0   \n",
       "99000  1195943   15       10      1998          5  female   111.0   \n",
       "99001  1468023   23       11      1990          4  female   416.0   \n",
       "99002  1397896   39       15      1974          5  female   397.0   \n",
       "\n",
       "       friend_count  friendships_initiated  likes  likes_received  \\\n",
       "98998          2118                    341   3996           18089   \n",
       "98999          1968                   1720   4401           13412   \n",
       "99000          2002                   1524  11959           12554   \n",
       "99001          2560                    185   4506            6516   \n",
       "99002          2049                    768   9410           12443   \n",
       "\n",
       "       mobile_likes  mobile_likes_received  www_likes  www_likes_received  \n",
       "98998          3505                  11887        491                6202  \n",
       "98999          4399                  10592          2                2820  \n",
       "99000         11959                  11462          0                1092  \n",
       "99001          4506                   5760          0                 756  \n",
       "99002          9410                   9530          0                2913  "
      ]
     },
     "execution_count": 5,
     "metadata": {},
     "output_type": "execute_result"
    }
   ],
   "source": [
    "df.tail()"
   ]
  },
  {
   "cell_type": "markdown",
   "id": "12630a2c",
   "metadata": {
    "papermill": {
     "duration": 0.011001,
     "end_time": "2024-03-09T01:09:15.029108",
     "exception": false,
     "start_time": "2024-03-09T01:09:15.018107",
     "status": "completed"
    },
    "tags": []
   },
   "source": [
    "# Preprocessing the Data"
   ]
  },
  {
   "cell_type": "code",
   "execution_count": 6,
   "id": "74640d71",
   "metadata": {
    "execution": {
     "iopub.execute_input": "2024-03-09T01:09:15.053622Z",
     "iopub.status.busy": "2024-03-09T01:09:15.053212Z",
     "iopub.status.idle": "2024-03-09T01:09:15.084891Z",
     "shell.execute_reply": "2024-03-09T01:09:15.083769Z"
    },
    "papermill": {
     "duration": 0.04662,
     "end_time": "2024-03-09T01:09:15.087013",
     "exception": false,
     "start_time": "2024-03-09T01:09:15.040393",
     "status": "completed"
    },
    "tags": []
   },
   "outputs": [
    {
     "name": "stdout",
     "output_type": "stream",
     "text": [
      "<class 'pandas.core.frame.DataFrame'>\n",
      "RangeIndex: 99003 entries, 0 to 99002\n",
      "Data columns (total 15 columns):\n",
      " #   Column                 Non-Null Count  Dtype  \n",
      "---  ------                 --------------  -----  \n",
      " 0   userid                 99003 non-null  int64  \n",
      " 1   age                    99003 non-null  int64  \n",
      " 2   dob_day                99003 non-null  int64  \n",
      " 3   dob_year               99003 non-null  int64  \n",
      " 4   dob_month              99003 non-null  int64  \n",
      " 5   gender                 98828 non-null  object \n",
      " 6   tenure                 99001 non-null  float64\n",
      " 7   friend_count           99003 non-null  int64  \n",
      " 8   friendships_initiated  99003 non-null  int64  \n",
      " 9   likes                  99003 non-null  int64  \n",
      " 10  likes_received         99003 non-null  int64  \n",
      " 11  mobile_likes           99003 non-null  int64  \n",
      " 12  mobile_likes_received  99003 non-null  int64  \n",
      " 13  www_likes              99003 non-null  int64  \n",
      " 14  www_likes_received     99003 non-null  int64  \n",
      "dtypes: float64(1), int64(13), object(1)\n",
      "memory usage: 11.3+ MB\n"
     ]
    }
   ],
   "source": [
    "df.info()"
   ]
  },
  {
   "cell_type": "markdown",
   "id": "fc57e0fb",
   "metadata": {
    "papermill": {
     "duration": 0.012939,
     "end_time": "2024-03-09T01:09:15.111679",
     "exception": false,
     "start_time": "2024-03-09T01:09:15.098740",
     "status": "completed"
    },
    "tags": []
   },
   "source": [
    "show the column and data type for all column and null values"
   ]
  },
  {
   "cell_type": "code",
   "execution_count": 7,
   "id": "d4748d46",
   "metadata": {
    "execution": {
     "iopub.execute_input": "2024-03-09T01:09:15.137298Z",
     "iopub.status.busy": "2024-03-09T01:09:15.136368Z",
     "iopub.status.idle": "2024-03-09T01:09:15.208791Z",
     "shell.execute_reply": "2024-03-09T01:09:15.207757Z"
    },
    "papermill": {
     "duration": 0.087234,
     "end_time": "2024-03-09T01:09:15.210789",
     "exception": false,
     "start_time": "2024-03-09T01:09:15.123555",
     "status": "completed"
    },
    "tags": []
   },
   "outputs": [
    {
     "data": {
      "text/html": [
       "<div>\n",
       "<style scoped>\n",
       "    .dataframe tbody tr th:only-of-type {\n",
       "        vertical-align: middle;\n",
       "    }\n",
       "\n",
       "    .dataframe tbody tr th {\n",
       "        vertical-align: top;\n",
       "    }\n",
       "\n",
       "    .dataframe thead th {\n",
       "        text-align: right;\n",
       "    }\n",
       "</style>\n",
       "<table border=\"1\" class=\"dataframe\">\n",
       "  <thead>\n",
       "    <tr style=\"text-align: right;\">\n",
       "      <th></th>\n",
       "      <th>userid</th>\n",
       "      <th>age</th>\n",
       "      <th>dob_day</th>\n",
       "      <th>dob_year</th>\n",
       "      <th>dob_month</th>\n",
       "      <th>tenure</th>\n",
       "      <th>friend_count</th>\n",
       "      <th>friendships_initiated</th>\n",
       "      <th>likes</th>\n",
       "      <th>likes_received</th>\n",
       "      <th>mobile_likes</th>\n",
       "      <th>mobile_likes_received</th>\n",
       "      <th>www_likes</th>\n",
       "      <th>www_likes_received</th>\n",
       "    </tr>\n",
       "  </thead>\n",
       "  <tbody>\n",
       "    <tr>\n",
       "      <th>count</th>\n",
       "      <td>9.900300e+04</td>\n",
       "      <td>99003.000000</td>\n",
       "      <td>99003.000000</td>\n",
       "      <td>99003.000000</td>\n",
       "      <td>99003.000000</td>\n",
       "      <td>99001.000000</td>\n",
       "      <td>99003.000000</td>\n",
       "      <td>99003.000000</td>\n",
       "      <td>99003.000000</td>\n",
       "      <td>99003.000000</td>\n",
       "      <td>99003.000000</td>\n",
       "      <td>99003.000000</td>\n",
       "      <td>99003.000000</td>\n",
       "      <td>99003.000000</td>\n",
       "    </tr>\n",
       "    <tr>\n",
       "      <th>mean</th>\n",
       "      <td>1.597045e+06</td>\n",
       "      <td>37.280224</td>\n",
       "      <td>14.530408</td>\n",
       "      <td>1975.719776</td>\n",
       "      <td>6.283365</td>\n",
       "      <td>537.887375</td>\n",
       "      <td>196.350787</td>\n",
       "      <td>107.452471</td>\n",
       "      <td>156.078785</td>\n",
       "      <td>142.689363</td>\n",
       "      <td>106.116300</td>\n",
       "      <td>84.120491</td>\n",
       "      <td>49.962425</td>\n",
       "      <td>58.568831</td>\n",
       "    </tr>\n",
       "    <tr>\n",
       "      <th>std</th>\n",
       "      <td>3.440592e+05</td>\n",
       "      <td>22.589748</td>\n",
       "      <td>9.015606</td>\n",
       "      <td>22.589748</td>\n",
       "      <td>3.529672</td>\n",
       "      <td>457.649874</td>\n",
       "      <td>387.304229</td>\n",
       "      <td>188.786951</td>\n",
       "      <td>572.280681</td>\n",
       "      <td>1387.919613</td>\n",
       "      <td>445.252985</td>\n",
       "      <td>839.889444</td>\n",
       "      <td>285.560152</td>\n",
       "      <td>601.416348</td>\n",
       "    </tr>\n",
       "    <tr>\n",
       "      <th>min</th>\n",
       "      <td>1.000008e+06</td>\n",
       "      <td>13.000000</td>\n",
       "      <td>1.000000</td>\n",
       "      <td>1900.000000</td>\n",
       "      <td>1.000000</td>\n",
       "      <td>0.000000</td>\n",
       "      <td>0.000000</td>\n",
       "      <td>0.000000</td>\n",
       "      <td>0.000000</td>\n",
       "      <td>0.000000</td>\n",
       "      <td>0.000000</td>\n",
       "      <td>0.000000</td>\n",
       "      <td>0.000000</td>\n",
       "      <td>0.000000</td>\n",
       "    </tr>\n",
       "    <tr>\n",
       "      <th>25%</th>\n",
       "      <td>1.298806e+06</td>\n",
       "      <td>20.000000</td>\n",
       "      <td>7.000000</td>\n",
       "      <td>1963.000000</td>\n",
       "      <td>3.000000</td>\n",
       "      <td>226.000000</td>\n",
       "      <td>31.000000</td>\n",
       "      <td>17.000000</td>\n",
       "      <td>1.000000</td>\n",
       "      <td>1.000000</td>\n",
       "      <td>0.000000</td>\n",
       "      <td>0.000000</td>\n",
       "      <td>0.000000</td>\n",
       "      <td>0.000000</td>\n",
       "    </tr>\n",
       "    <tr>\n",
       "      <th>50%</th>\n",
       "      <td>1.596148e+06</td>\n",
       "      <td>28.000000</td>\n",
       "      <td>14.000000</td>\n",
       "      <td>1985.000000</td>\n",
       "      <td>6.000000</td>\n",
       "      <td>412.000000</td>\n",
       "      <td>82.000000</td>\n",
       "      <td>46.000000</td>\n",
       "      <td>11.000000</td>\n",
       "      <td>8.000000</td>\n",
       "      <td>4.000000</td>\n",
       "      <td>4.000000</td>\n",
       "      <td>0.000000</td>\n",
       "      <td>2.000000</td>\n",
       "    </tr>\n",
       "    <tr>\n",
       "      <th>75%</th>\n",
       "      <td>1.895744e+06</td>\n",
       "      <td>50.000000</td>\n",
       "      <td>22.000000</td>\n",
       "      <td>1993.000000</td>\n",
       "      <td>9.000000</td>\n",
       "      <td>675.000000</td>\n",
       "      <td>206.000000</td>\n",
       "      <td>117.000000</td>\n",
       "      <td>81.000000</td>\n",
       "      <td>59.000000</td>\n",
       "      <td>46.000000</td>\n",
       "      <td>33.000000</td>\n",
       "      <td>7.000000</td>\n",
       "      <td>20.000000</td>\n",
       "    </tr>\n",
       "    <tr>\n",
       "      <th>max</th>\n",
       "      <td>2.193542e+06</td>\n",
       "      <td>113.000000</td>\n",
       "      <td>31.000000</td>\n",
       "      <td>2000.000000</td>\n",
       "      <td>12.000000</td>\n",
       "      <td>3139.000000</td>\n",
       "      <td>4923.000000</td>\n",
       "      <td>4144.000000</td>\n",
       "      <td>25111.000000</td>\n",
       "      <td>261197.000000</td>\n",
       "      <td>25111.000000</td>\n",
       "      <td>138561.000000</td>\n",
       "      <td>14865.000000</td>\n",
       "      <td>129953.000000</td>\n",
       "    </tr>\n",
       "  </tbody>\n",
       "</table>\n",
       "</div>"
      ],
      "text/plain": [
       "             userid           age       dob_day      dob_year     dob_month  \\\n",
       "count  9.900300e+04  99003.000000  99003.000000  99003.000000  99003.000000   \n",
       "mean   1.597045e+06     37.280224     14.530408   1975.719776      6.283365   \n",
       "std    3.440592e+05     22.589748      9.015606     22.589748      3.529672   \n",
       "min    1.000008e+06     13.000000      1.000000   1900.000000      1.000000   \n",
       "25%    1.298806e+06     20.000000      7.000000   1963.000000      3.000000   \n",
       "50%    1.596148e+06     28.000000     14.000000   1985.000000      6.000000   \n",
       "75%    1.895744e+06     50.000000     22.000000   1993.000000      9.000000   \n",
       "max    2.193542e+06    113.000000     31.000000   2000.000000     12.000000   \n",
       "\n",
       "             tenure  friend_count  friendships_initiated         likes  \\\n",
       "count  99001.000000  99003.000000           99003.000000  99003.000000   \n",
       "mean     537.887375    196.350787             107.452471    156.078785   \n",
       "std      457.649874    387.304229             188.786951    572.280681   \n",
       "min        0.000000      0.000000               0.000000      0.000000   \n",
       "25%      226.000000     31.000000              17.000000      1.000000   \n",
       "50%      412.000000     82.000000              46.000000     11.000000   \n",
       "75%      675.000000    206.000000             117.000000     81.000000   \n",
       "max     3139.000000   4923.000000            4144.000000  25111.000000   \n",
       "\n",
       "       likes_received  mobile_likes  mobile_likes_received     www_likes  \\\n",
       "count    99003.000000  99003.000000           99003.000000  99003.000000   \n",
       "mean       142.689363    106.116300              84.120491     49.962425   \n",
       "std       1387.919613    445.252985             839.889444    285.560152   \n",
       "min          0.000000      0.000000               0.000000      0.000000   \n",
       "25%          1.000000      0.000000               0.000000      0.000000   \n",
       "50%          8.000000      4.000000               4.000000      0.000000   \n",
       "75%         59.000000     46.000000              33.000000      7.000000   \n",
       "max     261197.000000  25111.000000          138561.000000  14865.000000   \n",
       "\n",
       "       www_likes_received  \n",
       "count        99003.000000  \n",
       "mean            58.568831  \n",
       "std            601.416348  \n",
       "min              0.000000  \n",
       "25%              0.000000  \n",
       "50%              2.000000  \n",
       "75%             20.000000  \n",
       "max         129953.000000  "
      ]
     },
     "execution_count": 7,
     "metadata": {},
     "output_type": "execute_result"
    }
   ],
   "source": [
    "df.describe()"
   ]
  },
  {
   "cell_type": "code",
   "execution_count": 8,
   "id": "79a67683",
   "metadata": {
    "execution": {
     "iopub.execute_input": "2024-03-09T01:09:15.235728Z",
     "iopub.status.busy": "2024-03-09T01:09:15.235373Z",
     "iopub.status.idle": "2024-03-09T01:09:15.247377Z",
     "shell.execute_reply": "2024-03-09T01:09:15.246119Z"
    },
    "papermill": {
     "duration": 0.026952,
     "end_time": "2024-03-09T01:09:15.249493",
     "exception": false,
     "start_time": "2024-03-09T01:09:15.222541",
     "status": "completed"
    },
    "tags": []
   },
   "outputs": [
    {
     "data": {
      "text/plain": [
       "userid                     0\n",
       "age                        0\n",
       "dob_day                    0\n",
       "dob_year                   0\n",
       "dob_month                  0\n",
       "gender                   175\n",
       "tenure                     2\n",
       "friend_count               0\n",
       "friendships_initiated      0\n",
       "likes                      0\n",
       "likes_received             0\n",
       "mobile_likes               0\n",
       "mobile_likes_received      0\n",
       "www_likes                  0\n",
       "www_likes_received         0\n",
       "dtype: int64"
      ]
     },
     "execution_count": 8,
     "metadata": {},
     "output_type": "execute_result"
    }
   ],
   "source": [
    "df.isnull().sum()"
   ]
  },
  {
   "cell_type": "markdown",
   "id": "2031ee1c",
   "metadata": {
    "papermill": {
     "duration": 0.011019,
     "end_time": "2024-03-09T01:09:15.272318",
     "exception": false,
     "start_time": "2024-03-09T01:09:15.261299",
     "status": "completed"
    },
    "tags": []
   },
   "source": [
    "there are Null value in Gender column"
   ]
  },
  {
   "cell_type": "code",
   "execution_count": 9,
   "id": "423e4f98",
   "metadata": {
    "execution": {
     "iopub.execute_input": "2024-03-09T01:09:15.299226Z",
     "iopub.status.busy": "2024-03-09T01:09:15.298905Z",
     "iopub.status.idle": "2024-03-09T01:09:15.331690Z",
     "shell.execute_reply": "2024-03-09T01:09:15.330876Z"
    },
    "papermill": {
     "duration": 0.049061,
     "end_time": "2024-03-09T01:09:15.334059",
     "exception": false,
     "start_time": "2024-03-09T01:09:15.284998",
     "status": "completed"
    },
    "tags": []
   },
   "outputs": [
    {
     "data": {
      "text/plain": [
       "0"
      ]
     },
     "execution_count": 9,
     "metadata": {},
     "output_type": "execute_result"
    }
   ],
   "source": [
    "df.duplicated().sum()"
   ]
  },
  {
   "cell_type": "markdown",
   "id": "714ffd06",
   "metadata": {
    "papermill": {
     "duration": 0.011452,
     "end_time": "2024-03-09T01:09:15.357528",
     "exception": false,
     "start_time": "2024-03-09T01:09:15.346076",
     "status": "completed"
    },
    "tags": []
   },
   "source": [
    "there are no duplicated value in data"
   ]
  },
  {
   "cell_type": "markdown",
   "id": "888dee4f",
   "metadata": {
    "papermill": {
     "duration": 0.011165,
     "end_time": "2024-03-09T01:09:15.380206",
     "exception": false,
     "start_time": "2024-03-09T01:09:15.369041",
     "status": "completed"
    },
    "tags": []
   },
   "source": [
    "# Cleaning the Data"
   ]
  },
  {
   "cell_type": "code",
   "execution_count": 10,
   "id": "c6544a12",
   "metadata": {
    "execution": {
     "iopub.execute_input": "2024-03-09T01:09:15.404768Z",
     "iopub.status.busy": "2024-03-09T01:09:15.404390Z",
     "iopub.status.idle": "2024-03-09T01:09:15.421033Z",
     "shell.execute_reply": "2024-03-09T01:09:15.419383Z"
    },
    "papermill": {
     "duration": 0.032703,
     "end_time": "2024-03-09T01:09:15.424537",
     "exception": false,
     "start_time": "2024-03-09T01:09:15.391834",
     "status": "completed"
    },
    "tags": []
   },
   "outputs": [],
   "source": [
    "df.dropna(inplace=True)"
   ]
  },
  {
   "cell_type": "markdown",
   "id": "14c0bb80",
   "metadata": {
    "papermill": {
     "duration": 0.011695,
     "end_time": "2024-03-09T01:09:15.448137",
     "exception": false,
     "start_time": "2024-03-09T01:09:15.436442",
     "status": "completed"
    },
    "tags": []
   },
   "source": [
    "Drop all nan value"
   ]
  },
  {
   "cell_type": "code",
   "execution_count": 11,
   "id": "8594e8fb",
   "metadata": {
    "execution": {
     "iopub.execute_input": "2024-03-09T01:09:15.473742Z",
     "iopub.status.busy": "2024-03-09T01:09:15.473381Z",
     "iopub.status.idle": "2024-03-09T01:09:15.484549Z",
     "shell.execute_reply": "2024-03-09T01:09:15.483679Z"
    },
    "papermill": {
     "duration": 0.026805,
     "end_time": "2024-03-09T01:09:15.486802",
     "exception": false,
     "start_time": "2024-03-09T01:09:15.459997",
     "status": "completed"
    },
    "tags": []
   },
   "outputs": [
    {
     "data": {
      "text/plain": [
       "userid                   0\n",
       "age                      0\n",
       "dob_day                  0\n",
       "dob_year                 0\n",
       "dob_month                0\n",
       "gender                   0\n",
       "tenure                   0\n",
       "friend_count             0\n",
       "friendships_initiated    0\n",
       "likes                    0\n",
       "likes_received           0\n",
       "mobile_likes             0\n",
       "mobile_likes_received    0\n",
       "www_likes                0\n",
       "www_likes_received       0\n",
       "dtype: int64"
      ]
     },
     "execution_count": 11,
     "metadata": {},
     "output_type": "execute_result"
    }
   ],
   "source": [
    "df.isnull().sum()"
   ]
  },
  {
   "cell_type": "code",
   "execution_count": 12,
   "id": "90746dc2",
   "metadata": {
    "execution": {
     "iopub.execute_input": "2024-03-09T01:09:15.513715Z",
     "iopub.status.busy": "2024-03-09T01:09:15.513119Z",
     "iopub.status.idle": "2024-03-09T01:09:15.524038Z",
     "shell.execute_reply": "2024-03-09T01:09:15.522831Z"
    },
    "papermill": {
     "duration": 0.02757,
     "end_time": "2024-03-09T01:09:15.526496",
     "exception": false,
     "start_time": "2024-03-09T01:09:15.498926",
     "status": "completed"
    },
    "tags": []
   },
   "outputs": [],
   "source": [
    "df.drop(columns='userid', inplace=True,axis=1)"
   ]
  },
  {
   "cell_type": "code",
   "execution_count": 13,
   "id": "5a75e084",
   "metadata": {
    "execution": {
     "iopub.execute_input": "2024-03-09T01:09:15.611826Z",
     "iopub.status.busy": "2024-03-09T01:09:15.611172Z",
     "iopub.status.idle": "2024-03-09T01:09:15.616814Z",
     "shell.execute_reply": "2024-03-09T01:09:15.616019Z"
    },
    "papermill": {
     "duration": 0.079655,
     "end_time": "2024-03-09T01:09:15.618652",
     "exception": false,
     "start_time": "2024-03-09T01:09:15.538997",
     "status": "completed"
    },
    "tags": []
   },
   "outputs": [
    {
     "data": {
      "text/plain": [
       "(98826, 14)"
      ]
     },
     "execution_count": 13,
     "metadata": {},
     "output_type": "execute_result"
    }
   ],
   "source": [
    "df.shape"
   ]
  },
  {
   "cell_type": "code",
   "execution_count": 14,
   "id": "d3b72ccc",
   "metadata": {
    "execution": {
     "iopub.execute_input": "2024-03-09T01:09:15.649125Z",
     "iopub.status.busy": "2024-03-09T01:09:15.648475Z",
     "iopub.status.idle": "2024-03-09T01:09:15.662815Z",
     "shell.execute_reply": "2024-03-09T01:09:15.661925Z"
    },
    "papermill": {
     "duration": 0.032476,
     "end_time": "2024-03-09T01:09:15.664831",
     "exception": false,
     "start_time": "2024-03-09T01:09:15.632355",
     "status": "completed"
    },
    "tags": []
   },
   "outputs": [
    {
     "name": "stdout",
     "output_type": "stream",
     "text": [
      "<class 'pandas.core.frame.DataFrame'>\n",
      "Index: 98826 entries, 0 to 99002\n",
      "Data columns (total 14 columns):\n",
      " #   Column                 Non-Null Count  Dtype  \n",
      "---  ------                 --------------  -----  \n",
      " 0   age                    98826 non-null  int64  \n",
      " 1   dob_day                98826 non-null  int64  \n",
      " 2   dob_year               98826 non-null  int64  \n",
      " 3   dob_month              98826 non-null  int64  \n",
      " 4   gender                 98826 non-null  object \n",
      " 5   tenure                 98826 non-null  float64\n",
      " 6   friend_count           98826 non-null  int64  \n",
      " 7   friendships_initiated  98826 non-null  int64  \n",
      " 8   likes                  98826 non-null  int64  \n",
      " 9   likes_received         98826 non-null  int64  \n",
      " 10  mobile_likes           98826 non-null  int64  \n",
      " 11  mobile_likes_received  98826 non-null  int64  \n",
      " 12  www_likes              98826 non-null  int64  \n",
      " 13  www_likes_received     98826 non-null  int64  \n",
      "dtypes: float64(1), int64(12), object(1)\n",
      "memory usage: 11.3+ MB\n"
     ]
    }
   ],
   "source": [
    "df.info()"
   ]
  },
  {
   "cell_type": "code",
   "execution_count": 15,
   "id": "570b161c",
   "metadata": {
    "execution": {
     "iopub.execute_input": "2024-03-09T01:09:15.691854Z",
     "iopub.status.busy": "2024-03-09T01:09:15.691202Z",
     "iopub.status.idle": "2024-03-09T01:09:15.697061Z",
     "shell.execute_reply": "2024-03-09T01:09:15.696311Z"
    },
    "papermill": {
     "duration": 0.021673,
     "end_time": "2024-03-09T01:09:15.699038",
     "exception": false,
     "start_time": "2024-03-09T01:09:15.677365",
     "status": "completed"
    },
    "tags": []
   },
   "outputs": [
    {
     "data": {
      "text/plain": [
       "Index(['age', 'dob_day', 'dob_year', 'dob_month', 'gender', 'tenure',\n",
       "       'friend_count', 'friendships_initiated', 'likes', 'likes_received',\n",
       "       'mobile_likes', 'mobile_likes_received', 'www_likes',\n",
       "       'www_likes_received'],\n",
       "      dtype='object')"
      ]
     },
     "execution_count": 15,
     "metadata": {},
     "output_type": "execute_result"
    }
   ],
   "source": [
    "df.columns"
   ]
  },
  {
   "cell_type": "code",
   "execution_count": 16,
   "id": "79797511",
   "metadata": {
    "execution": {
     "iopub.execute_input": "2024-03-09T01:09:15.726939Z",
     "iopub.status.busy": "2024-03-09T01:09:15.726371Z",
     "iopub.status.idle": "2024-03-09T01:09:15.750974Z",
     "shell.execute_reply": "2024-03-09T01:09:15.749618Z"
    },
    "papermill": {
     "duration": 0.04092,
     "end_time": "2024-03-09T01:09:15.753230",
     "exception": false,
     "start_time": "2024-03-09T01:09:15.712310",
     "status": "completed"
    },
    "tags": []
   },
   "outputs": [
    {
     "data": {
      "text/html": [
       "<div>\n",
       "<style scoped>\n",
       "    .dataframe tbody tr th:only-of-type {\n",
       "        vertical-align: middle;\n",
       "    }\n",
       "\n",
       "    .dataframe tbody tr th {\n",
       "        vertical-align: top;\n",
       "    }\n",
       "\n",
       "    .dataframe thead th {\n",
       "        text-align: right;\n",
       "    }\n",
       "</style>\n",
       "<table border=\"1\" class=\"dataframe\">\n",
       "  <thead>\n",
       "    <tr style=\"text-align: right;\">\n",
       "      <th></th>\n",
       "      <th>age</th>\n",
       "      <th>dob_day</th>\n",
       "      <th>dob_year</th>\n",
       "      <th>dob_month</th>\n",
       "      <th>gender</th>\n",
       "      <th>tenure</th>\n",
       "      <th>friend_count</th>\n",
       "      <th>friendships_initiated</th>\n",
       "      <th>likes</th>\n",
       "      <th>likes_received</th>\n",
       "      <th>mobile_likes</th>\n",
       "      <th>mobile_likes_received</th>\n",
       "      <th>www_likes</th>\n",
       "      <th>www_likes_received</th>\n",
       "      <th>age_group</th>\n",
       "    </tr>\n",
       "  </thead>\n",
       "  <tbody>\n",
       "    <tr>\n",
       "      <th>0</th>\n",
       "      <td>14</td>\n",
       "      <td>19</td>\n",
       "      <td>1999</td>\n",
       "      <td>11</td>\n",
       "      <td>male</td>\n",
       "      <td>266.0</td>\n",
       "      <td>0</td>\n",
       "      <td>0</td>\n",
       "      <td>0</td>\n",
       "      <td>0</td>\n",
       "      <td>0</td>\n",
       "      <td>0</td>\n",
       "      <td>0</td>\n",
       "      <td>0</td>\n",
       "      <td>10-20</td>\n",
       "    </tr>\n",
       "    <tr>\n",
       "      <th>1</th>\n",
       "      <td>14</td>\n",
       "      <td>2</td>\n",
       "      <td>1999</td>\n",
       "      <td>11</td>\n",
       "      <td>female</td>\n",
       "      <td>6.0</td>\n",
       "      <td>0</td>\n",
       "      <td>0</td>\n",
       "      <td>0</td>\n",
       "      <td>0</td>\n",
       "      <td>0</td>\n",
       "      <td>0</td>\n",
       "      <td>0</td>\n",
       "      <td>0</td>\n",
       "      <td>10-20</td>\n",
       "    </tr>\n",
       "    <tr>\n",
       "      <th>2</th>\n",
       "      <td>14</td>\n",
       "      <td>16</td>\n",
       "      <td>1999</td>\n",
       "      <td>11</td>\n",
       "      <td>male</td>\n",
       "      <td>13.0</td>\n",
       "      <td>0</td>\n",
       "      <td>0</td>\n",
       "      <td>0</td>\n",
       "      <td>0</td>\n",
       "      <td>0</td>\n",
       "      <td>0</td>\n",
       "      <td>0</td>\n",
       "      <td>0</td>\n",
       "      <td>10-20</td>\n",
       "    </tr>\n",
       "    <tr>\n",
       "      <th>3</th>\n",
       "      <td>14</td>\n",
       "      <td>25</td>\n",
       "      <td>1999</td>\n",
       "      <td>12</td>\n",
       "      <td>female</td>\n",
       "      <td>93.0</td>\n",
       "      <td>0</td>\n",
       "      <td>0</td>\n",
       "      <td>0</td>\n",
       "      <td>0</td>\n",
       "      <td>0</td>\n",
       "      <td>0</td>\n",
       "      <td>0</td>\n",
       "      <td>0</td>\n",
       "      <td>10-20</td>\n",
       "    </tr>\n",
       "    <tr>\n",
       "      <th>4</th>\n",
       "      <td>14</td>\n",
       "      <td>4</td>\n",
       "      <td>1999</td>\n",
       "      <td>12</td>\n",
       "      <td>male</td>\n",
       "      <td>82.0</td>\n",
       "      <td>0</td>\n",
       "      <td>0</td>\n",
       "      <td>0</td>\n",
       "      <td>0</td>\n",
       "      <td>0</td>\n",
       "      <td>0</td>\n",
       "      <td>0</td>\n",
       "      <td>0</td>\n",
       "      <td>10-20</td>\n",
       "    </tr>\n",
       "    <tr>\n",
       "      <th>...</th>\n",
       "      <td>...</td>\n",
       "      <td>...</td>\n",
       "      <td>...</td>\n",
       "      <td>...</td>\n",
       "      <td>...</td>\n",
       "      <td>...</td>\n",
       "      <td>...</td>\n",
       "      <td>...</td>\n",
       "      <td>...</td>\n",
       "      <td>...</td>\n",
       "      <td>...</td>\n",
       "      <td>...</td>\n",
       "      <td>...</td>\n",
       "      <td>...</td>\n",
       "      <td>...</td>\n",
       "    </tr>\n",
       "    <tr>\n",
       "      <th>98998</th>\n",
       "      <td>68</td>\n",
       "      <td>4</td>\n",
       "      <td>1945</td>\n",
       "      <td>4</td>\n",
       "      <td>female</td>\n",
       "      <td>541.0</td>\n",
       "      <td>2118</td>\n",
       "      <td>341</td>\n",
       "      <td>3996</td>\n",
       "      <td>18089</td>\n",
       "      <td>3505</td>\n",
       "      <td>11887</td>\n",
       "      <td>491</td>\n",
       "      <td>6202</td>\n",
       "      <td>61-70</td>\n",
       "    </tr>\n",
       "    <tr>\n",
       "      <th>98999</th>\n",
       "      <td>18</td>\n",
       "      <td>12</td>\n",
       "      <td>1995</td>\n",
       "      <td>3</td>\n",
       "      <td>female</td>\n",
       "      <td>21.0</td>\n",
       "      <td>1968</td>\n",
       "      <td>1720</td>\n",
       "      <td>4401</td>\n",
       "      <td>13412</td>\n",
       "      <td>4399</td>\n",
       "      <td>10592</td>\n",
       "      <td>2</td>\n",
       "      <td>2820</td>\n",
       "      <td>10-20</td>\n",
       "    </tr>\n",
       "    <tr>\n",
       "      <th>99000</th>\n",
       "      <td>15</td>\n",
       "      <td>10</td>\n",
       "      <td>1998</td>\n",
       "      <td>5</td>\n",
       "      <td>female</td>\n",
       "      <td>111.0</td>\n",
       "      <td>2002</td>\n",
       "      <td>1524</td>\n",
       "      <td>11959</td>\n",
       "      <td>12554</td>\n",
       "      <td>11959</td>\n",
       "      <td>11462</td>\n",
       "      <td>0</td>\n",
       "      <td>1092</td>\n",
       "      <td>10-20</td>\n",
       "    </tr>\n",
       "    <tr>\n",
       "      <th>99001</th>\n",
       "      <td>23</td>\n",
       "      <td>11</td>\n",
       "      <td>1990</td>\n",
       "      <td>4</td>\n",
       "      <td>female</td>\n",
       "      <td>416.0</td>\n",
       "      <td>2560</td>\n",
       "      <td>185</td>\n",
       "      <td>4506</td>\n",
       "      <td>6516</td>\n",
       "      <td>4506</td>\n",
       "      <td>5760</td>\n",
       "      <td>0</td>\n",
       "      <td>756</td>\n",
       "      <td>21-30</td>\n",
       "    </tr>\n",
       "    <tr>\n",
       "      <th>99002</th>\n",
       "      <td>39</td>\n",
       "      <td>15</td>\n",
       "      <td>1974</td>\n",
       "      <td>5</td>\n",
       "      <td>female</td>\n",
       "      <td>397.0</td>\n",
       "      <td>2049</td>\n",
       "      <td>768</td>\n",
       "      <td>9410</td>\n",
       "      <td>12443</td>\n",
       "      <td>9410</td>\n",
       "      <td>9530</td>\n",
       "      <td>0</td>\n",
       "      <td>2913</td>\n",
       "      <td>31-40</td>\n",
       "    </tr>\n",
       "  </tbody>\n",
       "</table>\n",
       "<p>98826 rows × 15 columns</p>\n",
       "</div>"
      ],
      "text/plain": [
       "       age  dob_day  dob_year  dob_month  gender  tenure  friend_count  \\\n",
       "0       14       19      1999         11    male   266.0             0   \n",
       "1       14        2      1999         11  female     6.0             0   \n",
       "2       14       16      1999         11    male    13.0             0   \n",
       "3       14       25      1999         12  female    93.0             0   \n",
       "4       14        4      1999         12    male    82.0             0   \n",
       "...    ...      ...       ...        ...     ...     ...           ...   \n",
       "98998   68        4      1945          4  female   541.0          2118   \n",
       "98999   18       12      1995          3  female    21.0          1968   \n",
       "99000   15       10      1998          5  female   111.0          2002   \n",
       "99001   23       11      1990          4  female   416.0          2560   \n",
       "99002   39       15      1974          5  female   397.0          2049   \n",
       "\n",
       "       friendships_initiated  likes  likes_received  mobile_likes  \\\n",
       "0                          0      0               0             0   \n",
       "1                          0      0               0             0   \n",
       "2                          0      0               0             0   \n",
       "3                          0      0               0             0   \n",
       "4                          0      0               0             0   \n",
       "...                      ...    ...             ...           ...   \n",
       "98998                    341   3996           18089          3505   \n",
       "98999                   1720   4401           13412          4399   \n",
       "99000                   1524  11959           12554         11959   \n",
       "99001                    185   4506            6516          4506   \n",
       "99002                    768   9410           12443          9410   \n",
       "\n",
       "       mobile_likes_received  www_likes  www_likes_received age_group  \n",
       "0                          0          0                   0     10-20  \n",
       "1                          0          0                   0     10-20  \n",
       "2                          0          0                   0     10-20  \n",
       "3                          0          0                   0     10-20  \n",
       "4                          0          0                   0     10-20  \n",
       "...                      ...        ...                 ...       ...  \n",
       "98998                  11887        491                6202     61-70  \n",
       "98999                  10592          2                2820     10-20  \n",
       "99000                  11462          0                1092     10-20  \n",
       "99001                   5760          0                 756     21-30  \n",
       "99002                   9530          0                2913     31-40  \n",
       "\n",
       "[98826 rows x 15 columns]"
      ]
     },
     "execution_count": 16,
     "metadata": {},
     "output_type": "execute_result"
    }
   ],
   "source": [
    "age_grp=['10-20','21-30','31-40','41-50','51-60','61-70','71-80','81-90','91-100','101-110','111-120']\n",
    "df['age_group'] = pd.cut(df['age'],bins=np.arange(10,121,10),labels=age_grp,right=True)\n",
    "df"
   ]
  },
  {
   "cell_type": "markdown",
   "id": "9d039244",
   "metadata": {
    "papermill": {
     "duration": 0.01245,
     "end_time": "2024-03-09T01:09:15.778714",
     "exception": false,
     "start_time": "2024-03-09T01:09:15.766264",
     "status": "completed"
    },
    "tags": []
   },
   "source": [
    "We Create new column to make range for age to deal with age eaiser"
   ]
  },
  {
   "cell_type": "code",
   "execution_count": 17,
   "id": "37913d3e",
   "metadata": {
    "execution": {
     "iopub.execute_input": "2024-03-09T01:09:15.806783Z",
     "iopub.status.busy": "2024-03-09T01:09:15.806181Z",
     "iopub.status.idle": "2024-03-09T01:09:15.865446Z",
     "shell.execute_reply": "2024-03-09T01:09:15.864319Z"
    },
    "papermill": {
     "duration": 0.075118,
     "end_time": "2024-03-09T01:09:15.867814",
     "exception": false,
     "start_time": "2024-03-09T01:09:15.792696",
     "status": "completed"
    },
    "tags": []
   },
   "outputs": [
    {
     "data": {
      "text/html": [
       "<div>\n",
       "<style scoped>\n",
       "    .dataframe tbody tr th:only-of-type {\n",
       "        vertical-align: middle;\n",
       "    }\n",
       "\n",
       "    .dataframe tbody tr th {\n",
       "        vertical-align: top;\n",
       "    }\n",
       "\n",
       "    .dataframe thead th {\n",
       "        text-align: right;\n",
       "    }\n",
       "</style>\n",
       "<table border=\"1\" class=\"dataframe\">\n",
       "  <thead>\n",
       "    <tr style=\"text-align: right;\">\n",
       "      <th></th>\n",
       "      <th>age</th>\n",
       "      <th>dob_day</th>\n",
       "      <th>dob_year</th>\n",
       "      <th>dob_month</th>\n",
       "      <th>tenure</th>\n",
       "      <th>friend_count</th>\n",
       "      <th>friendships_initiated</th>\n",
       "      <th>likes</th>\n",
       "      <th>likes_received</th>\n",
       "      <th>mobile_likes</th>\n",
       "      <th>mobile_likes_received</th>\n",
       "      <th>www_likes</th>\n",
       "      <th>www_likes_received</th>\n",
       "    </tr>\n",
       "  </thead>\n",
       "  <tbody>\n",
       "    <tr>\n",
       "      <th>count</th>\n",
       "      <td>98826.000000</td>\n",
       "      <td>98826.000000</td>\n",
       "      <td>98826.000000</td>\n",
       "      <td>98826.000000</td>\n",
       "      <td>98826.000000</td>\n",
       "      <td>98826.000000</td>\n",
       "      <td>98826.000000</td>\n",
       "      <td>98826.000000</td>\n",
       "      <td>98826.000000</td>\n",
       "      <td>98826.000000</td>\n",
       "      <td>98826.000000</td>\n",
       "      <td>98826.000000</td>\n",
       "      <td>98826.000000</td>\n",
       "    </tr>\n",
       "    <tr>\n",
       "      <th>mean</th>\n",
       "      <td>37.212646</td>\n",
       "      <td>14.533109</td>\n",
       "      <td>1975.787354</td>\n",
       "      <td>6.284753</td>\n",
       "      <td>535.649758</td>\n",
       "      <td>196.374031</td>\n",
       "      <td>107.480056</td>\n",
       "      <td>156.111762</td>\n",
       "      <td>142.665432</td>\n",
       "      <td>106.147846</td>\n",
       "      <td>84.118835</td>\n",
       "      <td>49.963866</td>\n",
       "      <td>58.546557</td>\n",
       "    </tr>\n",
       "    <tr>\n",
       "      <th>std</th>\n",
       "      <td>22.524220</td>\n",
       "      <td>9.013865</td>\n",
       "      <td>22.524220</td>\n",
       "      <td>3.529431</td>\n",
       "      <td>454.258423</td>\n",
       "      <td>387.463475</td>\n",
       "      <td>188.861581</td>\n",
       "      <td>572.553504</td>\n",
       "      <td>1388.990063</td>\n",
       "      <td>445.494703</td>\n",
       "      <td>840.543366</td>\n",
       "      <td>285.751489</td>\n",
       "      <td>601.880496</td>\n",
       "    </tr>\n",
       "    <tr>\n",
       "      <th>min</th>\n",
       "      <td>13.000000</td>\n",
       "      <td>1.000000</td>\n",
       "      <td>1900.000000</td>\n",
       "      <td>1.000000</td>\n",
       "      <td>0.000000</td>\n",
       "      <td>0.000000</td>\n",
       "      <td>0.000000</td>\n",
       "      <td>0.000000</td>\n",
       "      <td>0.000000</td>\n",
       "      <td>0.000000</td>\n",
       "      <td>0.000000</td>\n",
       "      <td>0.000000</td>\n",
       "      <td>0.000000</td>\n",
       "    </tr>\n",
       "    <tr>\n",
       "      <th>25%</th>\n",
       "      <td>20.000000</td>\n",
       "      <td>7.000000</td>\n",
       "      <td>1963.000000</td>\n",
       "      <td>3.000000</td>\n",
       "      <td>226.000000</td>\n",
       "      <td>31.000000</td>\n",
       "      <td>17.000000</td>\n",
       "      <td>1.000000</td>\n",
       "      <td>1.000000</td>\n",
       "      <td>0.000000</td>\n",
       "      <td>0.000000</td>\n",
       "      <td>0.000000</td>\n",
       "      <td>0.000000</td>\n",
       "    </tr>\n",
       "    <tr>\n",
       "      <th>50%</th>\n",
       "      <td>28.000000</td>\n",
       "      <td>14.000000</td>\n",
       "      <td>1985.000000</td>\n",
       "      <td>6.000000</td>\n",
       "      <td>412.000000</td>\n",
       "      <td>82.000000</td>\n",
       "      <td>46.000000</td>\n",
       "      <td>11.000000</td>\n",
       "      <td>8.000000</td>\n",
       "      <td>4.000000</td>\n",
       "      <td>4.000000</td>\n",
       "      <td>0.000000</td>\n",
       "      <td>2.000000</td>\n",
       "    </tr>\n",
       "    <tr>\n",
       "      <th>75%</th>\n",
       "      <td>50.000000</td>\n",
       "      <td>22.000000</td>\n",
       "      <td>1993.000000</td>\n",
       "      <td>9.000000</td>\n",
       "      <td>673.000000</td>\n",
       "      <td>206.000000</td>\n",
       "      <td>117.000000</td>\n",
       "      <td>81.000000</td>\n",
       "      <td>59.000000</td>\n",
       "      <td>46.000000</td>\n",
       "      <td>33.000000</td>\n",
       "      <td>7.000000</td>\n",
       "      <td>20.000000</td>\n",
       "    </tr>\n",
       "    <tr>\n",
       "      <th>max</th>\n",
       "      <td>113.000000</td>\n",
       "      <td>31.000000</td>\n",
       "      <td>2000.000000</td>\n",
       "      <td>12.000000</td>\n",
       "      <td>3139.000000</td>\n",
       "      <td>4923.000000</td>\n",
       "      <td>4144.000000</td>\n",
       "      <td>25111.000000</td>\n",
       "      <td>261197.000000</td>\n",
       "      <td>25111.000000</td>\n",
       "      <td>138561.000000</td>\n",
       "      <td>14865.000000</td>\n",
       "      <td>129953.000000</td>\n",
       "    </tr>\n",
       "  </tbody>\n",
       "</table>\n",
       "</div>"
      ],
      "text/plain": [
       "                age       dob_day      dob_year     dob_month        tenure  \\\n",
       "count  98826.000000  98826.000000  98826.000000  98826.000000  98826.000000   \n",
       "mean      37.212646     14.533109   1975.787354      6.284753    535.649758   \n",
       "std       22.524220      9.013865     22.524220      3.529431    454.258423   \n",
       "min       13.000000      1.000000   1900.000000      1.000000      0.000000   \n",
       "25%       20.000000      7.000000   1963.000000      3.000000    226.000000   \n",
       "50%       28.000000     14.000000   1985.000000      6.000000    412.000000   \n",
       "75%       50.000000     22.000000   1993.000000      9.000000    673.000000   \n",
       "max      113.000000     31.000000   2000.000000     12.000000   3139.000000   \n",
       "\n",
       "       friend_count  friendships_initiated         likes  likes_received  \\\n",
       "count  98826.000000           98826.000000  98826.000000    98826.000000   \n",
       "mean     196.374031             107.480056    156.111762      142.665432   \n",
       "std      387.463475             188.861581    572.553504     1388.990063   \n",
       "min        0.000000               0.000000      0.000000        0.000000   \n",
       "25%       31.000000              17.000000      1.000000        1.000000   \n",
       "50%       82.000000              46.000000     11.000000        8.000000   \n",
       "75%      206.000000             117.000000     81.000000       59.000000   \n",
       "max     4923.000000            4144.000000  25111.000000   261197.000000   \n",
       "\n",
       "       mobile_likes  mobile_likes_received     www_likes  www_likes_received  \n",
       "count  98826.000000           98826.000000  98826.000000        98826.000000  \n",
       "mean     106.147846              84.118835     49.963866           58.546557  \n",
       "std      445.494703             840.543366    285.751489          601.880496  \n",
       "min        0.000000               0.000000      0.000000            0.000000  \n",
       "25%        0.000000               0.000000      0.000000            0.000000  \n",
       "50%        4.000000               4.000000      0.000000            2.000000  \n",
       "75%       46.000000              33.000000      7.000000           20.000000  \n",
       "max    25111.000000          138561.000000  14865.000000       129953.000000  "
      ]
     },
     "execution_count": 17,
     "metadata": {},
     "output_type": "execute_result"
    }
   ],
   "source": [
    "df.describe()"
   ]
  },
  {
   "cell_type": "markdown",
   "id": "6b17a238",
   "metadata": {
    "papermill": {
     "duration": 0.012469,
     "end_time": "2024-03-09T01:09:15.893517",
     "exception": false,
     "start_time": "2024-03-09T01:09:15.881048",
     "status": "completed"
    },
    "tags": []
   },
   "source": [
    "from describe the data we found big differnce between min and mean and max in age and this casus outlier"
   ]
  },
  {
   "cell_type": "code",
   "execution_count": 18,
   "id": "43411e86",
   "metadata": {
    "execution": {
     "iopub.execute_input": "2024-03-09T01:09:15.920853Z",
     "iopub.status.busy": "2024-03-09T01:09:15.920277Z",
     "iopub.status.idle": "2024-03-09T01:09:15.944198Z",
     "shell.execute_reply": "2024-03-09T01:09:15.943113Z"
    },
    "papermill": {
     "duration": 0.039555,
     "end_time": "2024-03-09T01:09:15.945908",
     "exception": false,
     "start_time": "2024-03-09T01:09:15.906353",
     "status": "completed"
    },
    "tags": []
   },
   "outputs": [
    {
     "name": "stderr",
     "output_type": "stream",
     "text": [
      "/tmp/ipykernel_17/3979573547.py:1: FutureWarning: The default of observed=False is deprecated and will be changed to True in a future version of pandas. Pass observed=False to retain current behavior or observed=True to adopt the future default and silence this warning.\n",
      "  df.groupby(df['age_group'])['gender'].value_counts()\n"
     ]
    },
    {
     "data": {
      "text/plain": [
       "age_group  gender\n",
       "10-20      male      15044\n",
       "           female     9703\n",
       "21-30      male      18828\n",
       "           female     9806\n",
       "31-40      male       7799\n",
       "           female     4688\n",
       "41-50      male       5031\n",
       "           female     3931\n",
       "51-60      female     4921\n",
       "           male       4367\n",
       "61-70      female     3659\n",
       "           male       3171\n",
       "71-80      female     1229\n",
       "           male       1005\n",
       "81-90      male        419\n",
       "           female      384\n",
       "91-100     male        704\n",
       "           female      497\n",
       "101-110    male       2092\n",
       "           female     1317\n",
       "111-120    female      117\n",
       "           male        114\n",
       "Name: count, dtype: int64"
      ]
     },
     "execution_count": 18,
     "metadata": {},
     "output_type": "execute_result"
    }
   ],
   "source": [
    "df.groupby(df['age_group'])['gender'].value_counts()"
   ]
  },
  {
   "cell_type": "markdown",
   "id": "b5751292",
   "metadata": {
    "papermill": {
     "duration": 0.013088,
     "end_time": "2024-03-09T01:09:15.972105",
     "exception": false,
     "start_time": "2024-03-09T01:09:15.959017",
     "status": "completed"
    },
    "tags": []
   },
   "source": [
    "to know the number of every gender and age what is"
   ]
  },
  {
   "cell_type": "code",
   "execution_count": 19,
   "id": "ccbcc966",
   "metadata": {
    "execution": {
     "iopub.execute_input": "2024-03-09T01:09:16.000644Z",
     "iopub.status.busy": "2024-03-09T01:09:16.000287Z",
     "iopub.status.idle": "2024-03-09T01:09:16.013174Z",
     "shell.execute_reply": "2024-03-09T01:09:16.012082Z"
    },
    "papermill": {
     "duration": 0.029508,
     "end_time": "2024-03-09T01:09:16.015076",
     "exception": false,
     "start_time": "2024-03-09T01:09:15.985568",
     "status": "completed"
    },
    "tags": []
   },
   "outputs": [
    {
     "data": {
      "text/html": [
       "<div>\n",
       "<style scoped>\n",
       "    .dataframe tbody tr th:only-of-type {\n",
       "        vertical-align: middle;\n",
       "    }\n",
       "\n",
       "    .dataframe tbody tr th {\n",
       "        vertical-align: top;\n",
       "    }\n",
       "\n",
       "    .dataframe thead th {\n",
       "        text-align: right;\n",
       "    }\n",
       "</style>\n",
       "<table border=\"1\" class=\"dataframe\">\n",
       "  <thead>\n",
       "    <tr style=\"text-align: right;\">\n",
       "      <th></th>\n",
       "      <th>age_group</th>\n",
       "      <th>count</th>\n",
       "    </tr>\n",
       "  </thead>\n",
       "  <tbody>\n",
       "    <tr>\n",
       "      <th>0</th>\n",
       "      <td>21-30</td>\n",
       "      <td>28634</td>\n",
       "    </tr>\n",
       "    <tr>\n",
       "      <th>1</th>\n",
       "      <td>10-20</td>\n",
       "      <td>24747</td>\n",
       "    </tr>\n",
       "    <tr>\n",
       "      <th>2</th>\n",
       "      <td>31-40</td>\n",
       "      <td>12487</td>\n",
       "    </tr>\n",
       "    <tr>\n",
       "      <th>3</th>\n",
       "      <td>51-60</td>\n",
       "      <td>9288</td>\n",
       "    </tr>\n",
       "    <tr>\n",
       "      <th>4</th>\n",
       "      <td>41-50</td>\n",
       "      <td>8962</td>\n",
       "    </tr>\n",
       "    <tr>\n",
       "      <th>5</th>\n",
       "      <td>61-70</td>\n",
       "      <td>6830</td>\n",
       "    </tr>\n",
       "    <tr>\n",
       "      <th>6</th>\n",
       "      <td>101-110</td>\n",
       "      <td>3409</td>\n",
       "    </tr>\n",
       "    <tr>\n",
       "      <th>7</th>\n",
       "      <td>71-80</td>\n",
       "      <td>2234</td>\n",
       "    </tr>\n",
       "    <tr>\n",
       "      <th>8</th>\n",
       "      <td>91-100</td>\n",
       "      <td>1201</td>\n",
       "    </tr>\n",
       "    <tr>\n",
       "      <th>9</th>\n",
       "      <td>81-90</td>\n",
       "      <td>803</td>\n",
       "    </tr>\n",
       "    <tr>\n",
       "      <th>10</th>\n",
       "      <td>111-120</td>\n",
       "      <td>231</td>\n",
       "    </tr>\n",
       "  </tbody>\n",
       "</table>\n",
       "</div>"
      ],
      "text/plain": [
       "   age_group  count\n",
       "0      21-30  28634\n",
       "1      10-20  24747\n",
       "2      31-40  12487\n",
       "3      51-60   9288\n",
       "4      41-50   8962\n",
       "5      61-70   6830\n",
       "6    101-110   3409\n",
       "7      71-80   2234\n",
       "8     91-100   1201\n",
       "9      81-90    803\n",
       "10   111-120    231"
      ]
     },
     "execution_count": 19,
     "metadata": {},
     "output_type": "execute_result"
    }
   ],
   "source": [
    "df['age_group'].value_counts().to_frame().reset_index()"
   ]
  },
  {
   "cell_type": "markdown",
   "id": "45861e4b",
   "metadata": {
    "papermill": {
     "duration": 0.013116,
     "end_time": "2024-03-09T01:09:16.041718",
     "exception": false,
     "start_time": "2024-03-09T01:09:16.028602",
     "status": "completed"
    },
    "tags": []
   },
   "source": [
    "make this to concat between the gender"
   ]
  },
  {
   "cell_type": "markdown",
   "id": "d7deee84",
   "metadata": {
    "papermill": {
     "duration": 0.012978,
     "end_time": "2024-03-09T01:09:16.068207",
     "exception": false,
     "start_time": "2024-03-09T01:09:16.055229",
     "status": "completed"
    },
    "tags": []
   },
   "source": [
    "# Visualization"
   ]
  },
  {
   "cell_type": "markdown",
   "id": "df02276c",
   "metadata": {
    "papermill": {
     "duration": 0.01316,
     "end_time": "2024-03-09T01:09:16.094988",
     "exception": false,
     "start_time": "2024-03-09T01:09:16.081828",
     "status": "completed"
    },
    "tags": []
   },
   "source": [
    "<h2>Show Columns names and make relation to show the best things in graph<h2>"
   ]
  },
  {
   "cell_type": "code",
   "execution_count": 20,
   "id": "2928a123",
   "metadata": {
    "execution": {
     "iopub.execute_input": "2024-03-09T01:09:16.123499Z",
     "iopub.status.busy": "2024-03-09T01:09:16.122610Z",
     "iopub.status.idle": "2024-03-09T01:09:16.137169Z",
     "shell.execute_reply": "2024-03-09T01:09:16.136199Z"
    },
    "papermill": {
     "duration": 0.030571,
     "end_time": "2024-03-09T01:09:16.138886",
     "exception": false,
     "start_time": "2024-03-09T01:09:16.108315",
     "status": "completed"
    },
    "tags": []
   },
   "outputs": [
    {
     "data": {
      "text/html": [
       "<div>\n",
       "<style scoped>\n",
       "    .dataframe tbody tr th:only-of-type {\n",
       "        vertical-align: middle;\n",
       "    }\n",
       "\n",
       "    .dataframe tbody tr th {\n",
       "        vertical-align: top;\n",
       "    }\n",
       "\n",
       "    .dataframe thead th {\n",
       "        text-align: right;\n",
       "    }\n",
       "</style>\n",
       "<table border=\"1\" class=\"dataframe\">\n",
       "  <thead>\n",
       "    <tr style=\"text-align: right;\">\n",
       "      <th></th>\n",
       "      <th>age</th>\n",
       "      <th>dob_day</th>\n",
       "      <th>dob_year</th>\n",
       "      <th>dob_month</th>\n",
       "      <th>gender</th>\n",
       "      <th>tenure</th>\n",
       "      <th>friend_count</th>\n",
       "      <th>friendships_initiated</th>\n",
       "      <th>likes</th>\n",
       "      <th>likes_received</th>\n",
       "      <th>mobile_likes</th>\n",
       "      <th>mobile_likes_received</th>\n",
       "      <th>www_likes</th>\n",
       "      <th>www_likes_received</th>\n",
       "      <th>age_group</th>\n",
       "    </tr>\n",
       "  </thead>\n",
       "  <tbody>\n",
       "    <tr>\n",
       "      <th>0</th>\n",
       "      <td>14</td>\n",
       "      <td>19</td>\n",
       "      <td>1999</td>\n",
       "      <td>11</td>\n",
       "      <td>male</td>\n",
       "      <td>266.0</td>\n",
       "      <td>0</td>\n",
       "      <td>0</td>\n",
       "      <td>0</td>\n",
       "      <td>0</td>\n",
       "      <td>0</td>\n",
       "      <td>0</td>\n",
       "      <td>0</td>\n",
       "      <td>0</td>\n",
       "      <td>10-20</td>\n",
       "    </tr>\n",
       "    <tr>\n",
       "      <th>1</th>\n",
       "      <td>14</td>\n",
       "      <td>2</td>\n",
       "      <td>1999</td>\n",
       "      <td>11</td>\n",
       "      <td>female</td>\n",
       "      <td>6.0</td>\n",
       "      <td>0</td>\n",
       "      <td>0</td>\n",
       "      <td>0</td>\n",
       "      <td>0</td>\n",
       "      <td>0</td>\n",
       "      <td>0</td>\n",
       "      <td>0</td>\n",
       "      <td>0</td>\n",
       "      <td>10-20</td>\n",
       "    </tr>\n",
       "    <tr>\n",
       "      <th>2</th>\n",
       "      <td>14</td>\n",
       "      <td>16</td>\n",
       "      <td>1999</td>\n",
       "      <td>11</td>\n",
       "      <td>male</td>\n",
       "      <td>13.0</td>\n",
       "      <td>0</td>\n",
       "      <td>0</td>\n",
       "      <td>0</td>\n",
       "      <td>0</td>\n",
       "      <td>0</td>\n",
       "      <td>0</td>\n",
       "      <td>0</td>\n",
       "      <td>0</td>\n",
       "      <td>10-20</td>\n",
       "    </tr>\n",
       "    <tr>\n",
       "      <th>3</th>\n",
       "      <td>14</td>\n",
       "      <td>25</td>\n",
       "      <td>1999</td>\n",
       "      <td>12</td>\n",
       "      <td>female</td>\n",
       "      <td>93.0</td>\n",
       "      <td>0</td>\n",
       "      <td>0</td>\n",
       "      <td>0</td>\n",
       "      <td>0</td>\n",
       "      <td>0</td>\n",
       "      <td>0</td>\n",
       "      <td>0</td>\n",
       "      <td>0</td>\n",
       "      <td>10-20</td>\n",
       "    </tr>\n",
       "    <tr>\n",
       "      <th>4</th>\n",
       "      <td>14</td>\n",
       "      <td>4</td>\n",
       "      <td>1999</td>\n",
       "      <td>12</td>\n",
       "      <td>male</td>\n",
       "      <td>82.0</td>\n",
       "      <td>0</td>\n",
       "      <td>0</td>\n",
       "      <td>0</td>\n",
       "      <td>0</td>\n",
       "      <td>0</td>\n",
       "      <td>0</td>\n",
       "      <td>0</td>\n",
       "      <td>0</td>\n",
       "      <td>10-20</td>\n",
       "    </tr>\n",
       "  </tbody>\n",
       "</table>\n",
       "</div>"
      ],
      "text/plain": [
       "   age  dob_day  dob_year  dob_month  gender  tenure  friend_count  \\\n",
       "0   14       19      1999         11    male   266.0             0   \n",
       "1   14        2      1999         11  female     6.0             0   \n",
       "2   14       16      1999         11    male    13.0             0   \n",
       "3   14       25      1999         12  female    93.0             0   \n",
       "4   14        4      1999         12    male    82.0             0   \n",
       "\n",
       "   friendships_initiated  likes  likes_received  mobile_likes  \\\n",
       "0                      0      0               0             0   \n",
       "1                      0      0               0             0   \n",
       "2                      0      0               0             0   \n",
       "3                      0      0               0             0   \n",
       "4                      0      0               0             0   \n",
       "\n",
       "   mobile_likes_received  www_likes  www_likes_received age_group  \n",
       "0                      0          0                   0     10-20  \n",
       "1                      0          0                   0     10-20  \n",
       "2                      0          0                   0     10-20  \n",
       "3                      0          0                   0     10-20  \n",
       "4                      0          0                   0     10-20  "
      ]
     },
     "execution_count": 20,
     "metadata": {},
     "output_type": "execute_result"
    }
   ],
   "source": [
    "df.head()"
   ]
  },
  {
   "cell_type": "code",
   "execution_count": 21,
   "id": "7f18c9ba",
   "metadata": {
    "execution": {
     "iopub.execute_input": "2024-03-09T01:09:16.167700Z",
     "iopub.status.busy": "2024-03-09T01:09:16.167138Z",
     "iopub.status.idle": "2024-03-09T01:09:16.177168Z",
     "shell.execute_reply": "2024-03-09T01:09:16.175724Z"
    },
    "papermill": {
     "duration": 0.026752,
     "end_time": "2024-03-09T01:09:16.179229",
     "exception": false,
     "start_time": "2024-03-09T01:09:16.152477",
     "status": "completed"
    },
    "tags": []
   },
   "outputs": [
    {
     "data": {
      "text/plain": [
       "age\n",
       "18     5196\n",
       "23     4402\n",
       "19     4390\n",
       "20     3768\n",
       "21     3670\n",
       "25     3636\n",
       "17     3281\n",
       "16     3086\n",
       "22     3032\n",
       "24     2827\n",
       "26     2814\n",
       "15     2617\n",
       "28     2363\n",
       "27     2239\n",
       "33     1998\n",
       "29     1935\n",
       "14     1925\n",
       "30     1716\n",
       "31     1693\n",
       "108    1640\n",
       "Name: count, dtype: int64"
      ]
     },
     "execution_count": 21,
     "metadata": {},
     "output_type": "execute_result"
    }
   ],
   "source": [
    "df['age'].value_counts().head(20)"
   ]
  },
  {
   "cell_type": "markdown",
   "id": "56eb4a67",
   "metadata": {
    "papermill": {
     "duration": 0.013757,
     "end_time": "2024-03-09T01:09:16.206986",
     "exception": false,
     "start_time": "2024-03-09T01:09:16.193229",
     "status": "completed"
    },
    "tags": []
   },
   "source": [
    "the data show the big number is from age equal 18 and age 23 and 19 very close"
   ]
  },
  {
   "cell_type": "code",
   "execution_count": 22,
   "id": "1b27d177",
   "metadata": {
    "execution": {
     "iopub.execute_input": "2024-03-09T01:09:16.237069Z",
     "iopub.status.busy": "2024-03-09T01:09:16.236479Z",
     "iopub.status.idle": "2024-03-09T01:09:16.243220Z",
     "shell.execute_reply": "2024-03-09T01:09:16.242504Z"
    },
    "papermill": {
     "duration": 0.024143,
     "end_time": "2024-03-09T01:09:16.245264",
     "exception": false,
     "start_time": "2024-03-09T01:09:16.221121",
     "status": "completed"
    },
    "tags": []
   },
   "outputs": [],
   "source": [
    "age_group = df['age_group'].value_counts().reset_index()\n",
    "age_group.sort_values(by='age_group',inplace=True)"
   ]
  },
  {
   "cell_type": "code",
   "execution_count": 23,
   "id": "3d2798eb",
   "metadata": {
    "execution": {
     "iopub.execute_input": "2024-03-09T01:09:16.275978Z",
     "iopub.status.busy": "2024-03-09T01:09:16.275395Z",
     "iopub.status.idle": "2024-03-09T01:09:16.284646Z",
     "shell.execute_reply": "2024-03-09T01:09:16.283695Z"
    },
    "papermill": {
     "duration": 0.026945,
     "end_time": "2024-03-09T01:09:16.286426",
     "exception": false,
     "start_time": "2024-03-09T01:09:16.259481",
     "status": "completed"
    },
    "tags": []
   },
   "outputs": [
    {
     "data": {
      "text/html": [
       "<div>\n",
       "<style scoped>\n",
       "    .dataframe tbody tr th:only-of-type {\n",
       "        vertical-align: middle;\n",
       "    }\n",
       "\n",
       "    .dataframe tbody tr th {\n",
       "        vertical-align: top;\n",
       "    }\n",
       "\n",
       "    .dataframe thead th {\n",
       "        text-align: right;\n",
       "    }\n",
       "</style>\n",
       "<table border=\"1\" class=\"dataframe\">\n",
       "  <thead>\n",
       "    <tr style=\"text-align: right;\">\n",
       "      <th></th>\n",
       "      <th>age_group</th>\n",
       "      <th>count</th>\n",
       "    </tr>\n",
       "  </thead>\n",
       "  <tbody>\n",
       "    <tr>\n",
       "      <th>1</th>\n",
       "      <td>10-20</td>\n",
       "      <td>24747</td>\n",
       "    </tr>\n",
       "    <tr>\n",
       "      <th>0</th>\n",
       "      <td>21-30</td>\n",
       "      <td>28634</td>\n",
       "    </tr>\n",
       "    <tr>\n",
       "      <th>2</th>\n",
       "      <td>31-40</td>\n",
       "      <td>12487</td>\n",
       "    </tr>\n",
       "    <tr>\n",
       "      <th>4</th>\n",
       "      <td>41-50</td>\n",
       "      <td>8962</td>\n",
       "    </tr>\n",
       "    <tr>\n",
       "      <th>3</th>\n",
       "      <td>51-60</td>\n",
       "      <td>9288</td>\n",
       "    </tr>\n",
       "    <tr>\n",
       "      <th>5</th>\n",
       "      <td>61-70</td>\n",
       "      <td>6830</td>\n",
       "    </tr>\n",
       "    <tr>\n",
       "      <th>7</th>\n",
       "      <td>71-80</td>\n",
       "      <td>2234</td>\n",
       "    </tr>\n",
       "    <tr>\n",
       "      <th>9</th>\n",
       "      <td>81-90</td>\n",
       "      <td>803</td>\n",
       "    </tr>\n",
       "    <tr>\n",
       "      <th>8</th>\n",
       "      <td>91-100</td>\n",
       "      <td>1201</td>\n",
       "    </tr>\n",
       "    <tr>\n",
       "      <th>6</th>\n",
       "      <td>101-110</td>\n",
       "      <td>3409</td>\n",
       "    </tr>\n",
       "    <tr>\n",
       "      <th>10</th>\n",
       "      <td>111-120</td>\n",
       "      <td>231</td>\n",
       "    </tr>\n",
       "  </tbody>\n",
       "</table>\n",
       "</div>"
      ],
      "text/plain": [
       "   age_group  count\n",
       "1      10-20  24747\n",
       "0      21-30  28634\n",
       "2      31-40  12487\n",
       "4      41-50   8962\n",
       "3      51-60   9288\n",
       "5      61-70   6830\n",
       "7      71-80   2234\n",
       "9      81-90    803\n",
       "8     91-100   1201\n",
       "6    101-110   3409\n",
       "10   111-120    231"
      ]
     },
     "execution_count": 23,
     "metadata": {},
     "output_type": "execute_result"
    }
   ],
   "source": [
    "age_group"
   ]
  },
  {
   "cell_type": "code",
   "execution_count": 24,
   "id": "20daec20",
   "metadata": {
    "execution": {
     "iopub.execute_input": "2024-03-09T01:09:16.316351Z",
     "iopub.status.busy": "2024-03-09T01:09:16.315816Z",
     "iopub.status.idle": "2024-03-09T01:09:16.665805Z",
     "shell.execute_reply": "2024-03-09T01:09:16.664911Z"
    },
    "papermill": {
     "duration": 0.367147,
     "end_time": "2024-03-09T01:09:16.667717",
     "exception": false,
     "start_time": "2024-03-09T01:09:16.300570",
     "status": "completed"
    },
    "tags": []
   },
   "outputs": [
    {
     "data": {
      "image/png": "[encoded data removed]",
      "text/plain": [
       "<Figure size 1200x1000 with 1 Axes>"
      ]
     },
     "metadata": {},
     "output_type": "display_data"
    }
   ],
   "source": [
    "plt.figure(figsize=(12, 10))\n",
    "plt.bar(age_group['age_group'], age_group['count'],color='g')\n",
    "plt.xlabel('age_group')\n",
    "plt.ylabel('Count of people')\n",
    "plt.title('the age VS counter')\n",
    "plt.show()"
   ]
  },
  {
   "cell_type": "code",
   "execution_count": 25,
   "id": "ddc6ac73",
   "metadata": {
    "execution": {
     "iopub.execute_input": "2024-03-09T01:09:16.697997Z",
     "iopub.status.busy": "2024-03-09T01:09:16.697508Z",
     "iopub.status.idle": "2024-03-09T01:09:16.927633Z",
     "shell.execute_reply": "2024-03-09T01:09:16.926473Z"
    },
    "papermill": {
     "duration": 0.247577,
     "end_time": "2024-03-09T01:09:16.929534",
     "exception": false,
     "start_time": "2024-03-09T01:09:16.681957",
     "status": "completed"
    },
    "tags": []
   },
   "outputs": [
    {
     "data": {
      "image/png": "[encoded data removed]",
      "text/plain": [
       "<Figure size 1000x800 with 1 Axes>"
      ]
     },
     "metadata": {},
     "output_type": "display_data"
    }
   ],
   "source": [
    "plt.figure(figsize=(10, 8))\n",
    "plt.plot(age_group['age_group'], age_group['count'],color='g',marker='o')\n",
    "plt.xlabel('age_group')\n",
    "plt.ylabel('Count of people')\n",
    "plt.title('the age VS counter')\n",
    "plt.show()"
   ]
  },
  {
   "cell_type": "markdown",
   "id": "53a35f0e",
   "metadata": {
    "papermill": {
     "duration": 0.014493,
     "end_time": "2024-03-09T01:09:16.958842",
     "exception": false,
     "start_time": "2024-03-09T01:09:16.944349",
     "status": "completed"
    },
    "tags": []
   },
   "source": [
    "this graphs show the many people on facebook is from 10 to before 31 age"
   ]
  },
  {
   "cell_type": "code",
   "execution_count": 26,
   "id": "7b65880b",
   "metadata": {
    "execution": {
     "iopub.execute_input": "2024-03-09T01:09:16.990530Z",
     "iopub.status.busy": "2024-03-09T01:09:16.990098Z",
     "iopub.status.idle": "2024-03-09T01:09:17.004003Z",
     "shell.execute_reply": "2024-03-09T01:09:17.003061Z"
    },
    "papermill": {
     "duration": 0.032507,
     "end_time": "2024-03-09T01:09:17.006251",
     "exception": false,
     "start_time": "2024-03-09T01:09:16.973744",
     "status": "completed"
    },
    "tags": []
   },
   "outputs": [
    {
     "data": {
      "text/html": [
       "<div>\n",
       "<style scoped>\n",
       "    .dataframe tbody tr th:only-of-type {\n",
       "        vertical-align: middle;\n",
       "    }\n",
       "\n",
       "    .dataframe tbody tr th {\n",
       "        vertical-align: top;\n",
       "    }\n",
       "\n",
       "    .dataframe thead th {\n",
       "        text-align: right;\n",
       "    }\n",
       "</style>\n",
       "<table border=\"1\" class=\"dataframe\">\n",
       "  <thead>\n",
       "    <tr style=\"text-align: right;\">\n",
       "      <th></th>\n",
       "      <th>gender</th>\n",
       "      <th>count</th>\n",
       "    </tr>\n",
       "  </thead>\n",
       "  <tbody>\n",
       "    <tr>\n",
       "      <th>0</th>\n",
       "      <td>male</td>\n",
       "      <td>58574</td>\n",
       "    </tr>\n",
       "    <tr>\n",
       "      <th>1</th>\n",
       "      <td>female</td>\n",
       "      <td>40252</td>\n",
       "    </tr>\n",
       "  </tbody>\n",
       "</table>\n",
       "</div>"
      ],
      "text/plain": [
       "   gender  count\n",
       "0    male  58574\n",
       "1  female  40252"
      ]
     },
     "execution_count": 26,
     "metadata": {},
     "output_type": "execute_result"
    }
   ],
   "source": [
    "gender = df['gender'].value_counts().reset_index()\n",
    "gender"
   ]
  },
  {
   "cell_type": "code",
   "execution_count": 27,
   "id": "ecf359af",
   "metadata": {
    "execution": {
     "iopub.execute_input": "2024-03-09T01:09:17.038618Z",
     "iopub.status.busy": "2024-03-09T01:09:17.038251Z",
     "iopub.status.idle": "2024-03-09T01:09:17.050278Z",
     "shell.execute_reply": "2024-03-09T01:09:17.049321Z"
    },
    "papermill": {
     "duration": 0.030962,
     "end_time": "2024-03-09T01:09:17.052700",
     "exception": false,
     "start_time": "2024-03-09T01:09:17.021738",
     "status": "completed"
    },
    "tags": []
   },
   "outputs": [
    {
     "data": {
      "text/plain": [
       "gender\n",
       "male      58574\n",
       "female    40252\n",
       "Name: count, dtype: int64"
      ]
     },
     "execution_count": 27,
     "metadata": {},
     "output_type": "execute_result"
    }
   ],
   "source": [
    "gender1 = df['gender'].value_counts()\n",
    "gender1"
   ]
  },
  {
   "cell_type": "code",
   "execution_count": 28,
   "id": "6748dacf",
   "metadata": {
    "execution": {
     "iopub.execute_input": "2024-03-09T01:09:17.084732Z",
     "iopub.status.busy": "2024-03-09T01:09:17.084340Z",
     "iopub.status.idle": "2024-03-09T01:09:17.186762Z",
     "shell.execute_reply": "2024-03-09T01:09:17.185937Z"
    },
    "papermill": {
     "duration": 0.121184,
     "end_time": "2024-03-09T01:09:17.189057",
     "exception": false,
     "start_time": "2024-03-09T01:09:17.067873",
     "status": "completed"
    },
    "tags": []
   },
   "outputs": [
    {
     "data": {
      "image/png": "[encoded data removed]",
      "text/plain": [
       "<Figure size 500x500 with 1 Axes>"
      ]
     },
     "metadata": {},
     "output_type": "display_data"
    }
   ],
   "source": [
    "plt.figure(figsize=(5, 5))\n",
    "plt.pie(gender1, labels=['Male', 'Female'], autopct='%1.1f%%')\n",
    "plt.title('Gender Distribution')\n",
    "plt.show()"
   ]
  },
  {
   "cell_type": "code",
   "execution_count": 29,
   "id": "f42afd83",
   "metadata": {
    "execution": {
     "iopub.execute_input": "2024-03-09T01:09:17.231397Z",
     "iopub.status.busy": "2024-03-09T01:09:17.230514Z",
     "iopub.status.idle": "2024-03-09T01:09:17.403932Z",
     "shell.execute_reply": "2024-03-09T01:09:17.402772Z"
    },
    "papermill": {
     "duration": 0.197299,
     "end_time": "2024-03-09T01:09:17.406393",
     "exception": false,
     "start_time": "2024-03-09T01:09:17.209094",
     "status": "completed"
    },
    "tags": []
   },
   "outputs": [
    {
     "data": {
      "image/png": "[encoded data removed]",
      "text/plain": [
       "<Figure size 1000x800 with 1 Axes>"
      ]
     },
     "metadata": {},
     "output_type": "display_data"
    }
   ],
   "source": [
    "plt.figure(figsize=(10,8))\n",
    "plt.bar(gender['gender'],gender['count'],color=['b','r'])\n",
    "plt.title('Gender')\n",
    "plt.show()"
   ]
  },
  {
   "cell_type": "markdown",
   "id": "299ef524",
   "metadata": {
    "papermill": {
     "duration": 0.017007,
     "end_time": "2024-03-09T01:09:17.439202",
     "exception": false,
     "start_time": "2024-03-09T01:09:17.422195",
     "status": "completed"
    },
    "tags": []
   },
   "source": [
    "From this pie appear the mans use facebook more and in facebook more from female"
   ]
  },
  {
   "cell_type": "code",
   "execution_count": 30,
   "id": "b262b6c3",
   "metadata": {
    "execution": {
     "iopub.execute_input": "2024-03-09T01:09:17.472454Z",
     "iopub.status.busy": "2024-03-09T01:09:17.472095Z",
     "iopub.status.idle": "2024-03-09T01:09:17.485705Z",
     "shell.execute_reply": "2024-03-09T01:09:17.484932Z"
    },
    "papermill": {
     "duration": 0.032303,
     "end_time": "2024-03-09T01:09:17.487277",
     "exception": false,
     "start_time": "2024-03-09T01:09:17.454974",
     "status": "completed"
    },
    "tags": []
   },
   "outputs": [
    {
     "data": {
      "text/html": [
       "<div>\n",
       "<style scoped>\n",
       "    .dataframe tbody tr th:only-of-type {\n",
       "        vertical-align: middle;\n",
       "    }\n",
       "\n",
       "    .dataframe tbody tr th {\n",
       "        vertical-align: top;\n",
       "    }\n",
       "\n",
       "    .dataframe thead th {\n",
       "        text-align: right;\n",
       "    }\n",
       "</style>\n",
       "<table border=\"1\" class=\"dataframe\">\n",
       "  <thead>\n",
       "    <tr style=\"text-align: right;\">\n",
       "      <th></th>\n",
       "      <th>age</th>\n",
       "      <th>dob_day</th>\n",
       "      <th>dob_year</th>\n",
       "      <th>dob_month</th>\n",
       "      <th>gender</th>\n",
       "      <th>tenure</th>\n",
       "      <th>friend_count</th>\n",
       "      <th>friendships_initiated</th>\n",
       "      <th>likes</th>\n",
       "      <th>likes_received</th>\n",
       "      <th>mobile_likes</th>\n",
       "      <th>mobile_likes_received</th>\n",
       "      <th>www_likes</th>\n",
       "      <th>www_likes_received</th>\n",
       "      <th>age_group</th>\n",
       "    </tr>\n",
       "  </thead>\n",
       "  <tbody>\n",
       "    <tr>\n",
       "      <th>0</th>\n",
       "      <td>14</td>\n",
       "      <td>19</td>\n",
       "      <td>1999</td>\n",
       "      <td>11</td>\n",
       "      <td>male</td>\n",
       "      <td>266.0</td>\n",
       "      <td>0</td>\n",
       "      <td>0</td>\n",
       "      <td>0</td>\n",
       "      <td>0</td>\n",
       "      <td>0</td>\n",
       "      <td>0</td>\n",
       "      <td>0</td>\n",
       "      <td>0</td>\n",
       "      <td>10-20</td>\n",
       "    </tr>\n",
       "    <tr>\n",
       "      <th>1</th>\n",
       "      <td>14</td>\n",
       "      <td>2</td>\n",
       "      <td>1999</td>\n",
       "      <td>11</td>\n",
       "      <td>female</td>\n",
       "      <td>6.0</td>\n",
       "      <td>0</td>\n",
       "      <td>0</td>\n",
       "      <td>0</td>\n",
       "      <td>0</td>\n",
       "      <td>0</td>\n",
       "      <td>0</td>\n",
       "      <td>0</td>\n",
       "      <td>0</td>\n",
       "      <td>10-20</td>\n",
       "    </tr>\n",
       "    <tr>\n",
       "      <th>2</th>\n",
       "      <td>14</td>\n",
       "      <td>16</td>\n",
       "      <td>1999</td>\n",
       "      <td>11</td>\n",
       "      <td>male</td>\n",
       "      <td>13.0</td>\n",
       "      <td>0</td>\n",
       "      <td>0</td>\n",
       "      <td>0</td>\n",
       "      <td>0</td>\n",
       "      <td>0</td>\n",
       "      <td>0</td>\n",
       "      <td>0</td>\n",
       "      <td>0</td>\n",
       "      <td>10-20</td>\n",
       "    </tr>\n",
       "    <tr>\n",
       "      <th>3</th>\n",
       "      <td>14</td>\n",
       "      <td>25</td>\n",
       "      <td>1999</td>\n",
       "      <td>12</td>\n",
       "      <td>female</td>\n",
       "      <td>93.0</td>\n",
       "      <td>0</td>\n",
       "      <td>0</td>\n",
       "      <td>0</td>\n",
       "      <td>0</td>\n",
       "      <td>0</td>\n",
       "      <td>0</td>\n",
       "      <td>0</td>\n",
       "      <td>0</td>\n",
       "      <td>10-20</td>\n",
       "    </tr>\n",
       "    <tr>\n",
       "      <th>4</th>\n",
       "      <td>14</td>\n",
       "      <td>4</td>\n",
       "      <td>1999</td>\n",
       "      <td>12</td>\n",
       "      <td>male</td>\n",
       "      <td>82.0</td>\n",
       "      <td>0</td>\n",
       "      <td>0</td>\n",
       "      <td>0</td>\n",
       "      <td>0</td>\n",
       "      <td>0</td>\n",
       "      <td>0</td>\n",
       "      <td>0</td>\n",
       "      <td>0</td>\n",
       "      <td>10-20</td>\n",
       "    </tr>\n",
       "  </tbody>\n",
       "</table>\n",
       "</div>"
      ],
      "text/plain": [
       "   age  dob_day  dob_year  dob_month  gender  tenure  friend_count  \\\n",
       "0   14       19      1999         11    male   266.0             0   \n",
       "1   14        2      1999         11  female     6.0             0   \n",
       "2   14       16      1999         11    male    13.0             0   \n",
       "3   14       25      1999         12  female    93.0             0   \n",
       "4   14        4      1999         12    male    82.0             0   \n",
       "\n",
       "   friendships_initiated  likes  likes_received  mobile_likes  \\\n",
       "0                      0      0               0             0   \n",
       "1                      0      0               0             0   \n",
       "2                      0      0               0             0   \n",
       "3                      0      0               0             0   \n",
       "4                      0      0               0             0   \n",
       "\n",
       "   mobile_likes_received  www_likes  www_likes_received age_group  \n",
       "0                      0          0                   0     10-20  \n",
       "1                      0          0                   0     10-20  \n",
       "2                      0          0                   0     10-20  \n",
       "3                      0          0                   0     10-20  \n",
       "4                      0          0                   0     10-20  "
      ]
     },
     "execution_count": 30,
     "metadata": {},
     "output_type": "execute_result"
    }
   ],
   "source": [
    "df.head()"
   ]
  },
  {
   "cell_type": "code",
   "execution_count": 31,
   "id": "6017059f",
   "metadata": {
    "execution": {
     "iopub.execute_input": "2024-03-09T01:09:17.520354Z",
     "iopub.status.busy": "2024-03-09T01:09:17.519834Z",
     "iopub.status.idle": "2024-03-09T01:09:17.533816Z",
     "shell.execute_reply": "2024-03-09T01:09:17.532920Z"
    },
    "papermill": {
     "duration": 0.033111,
     "end_time": "2024-03-09T01:09:17.536040",
     "exception": false,
     "start_time": "2024-03-09T01:09:17.502929",
     "status": "completed"
    },
    "tags": []
   },
   "outputs": [
    {
     "name": "stdout",
     "output_type": "stream",
     "text": [
      "<class 'pandas.core.frame.DataFrame'>\n",
      "Index: 98826 entries, 0 to 99002\n",
      "Data columns (total 15 columns):\n",
      " #   Column                 Non-Null Count  Dtype   \n",
      "---  ------                 --------------  -----   \n",
      " 0   age                    98826 non-null  int64   \n",
      " 1   dob_day                98826 non-null  int64   \n",
      " 2   dob_year               98826 non-null  int64   \n",
      " 3   dob_month              98826 non-null  int64   \n",
      " 4   gender                 98826 non-null  object  \n",
      " 5   tenure                 98826 non-null  float64 \n",
      " 6   friend_count           98826 non-null  int64   \n",
      " 7   friendships_initiated  98826 non-null  int64   \n",
      " 8   likes                  98826 non-null  int64   \n",
      " 9   likes_received         98826 non-null  int64   \n",
      " 10  mobile_likes           98826 non-null  int64   \n",
      " 11  mobile_likes_received  98826 non-null  int64   \n",
      " 12  www_likes              98826 non-null  int64   \n",
      " 13  www_likes_received     98826 non-null  int64   \n",
      " 14  age_group              98826 non-null  category\n",
      "dtypes: category(1), float64(1), int64(12), object(1)\n",
      "memory usage: 11.4+ MB\n"
     ]
    }
   ],
   "source": [
    "df.info()"
   ]
  },
  {
   "cell_type": "code",
   "execution_count": 32,
   "id": "705e068e",
   "metadata": {
    "execution": {
     "iopub.execute_input": "2024-03-09T01:09:17.569772Z",
     "iopub.status.busy": "2024-03-09T01:09:17.569399Z",
     "iopub.status.idle": "2024-03-09T01:09:17.593575Z",
     "shell.execute_reply": "2024-03-09T01:09:17.592591Z"
    },
    "papermill": {
     "duration": 0.043395,
     "end_time": "2024-03-09T01:09:17.595896",
     "exception": false,
     "start_time": "2024-03-09T01:09:17.552501",
     "status": "completed"
    },
    "tags": []
   },
   "outputs": [
    {
     "data": {
      "text/html": [
       "<div>\n",
       "<style scoped>\n",
       "    .dataframe tbody tr th:only-of-type {\n",
       "        vertical-align: middle;\n",
       "    }\n",
       "\n",
       "    .dataframe tbody tr th {\n",
       "        vertical-align: top;\n",
       "    }\n",
       "\n",
       "    .dataframe thead th {\n",
       "        text-align: right;\n",
       "    }\n",
       "</style>\n",
       "<table border=\"1\" class=\"dataframe\">\n",
       "  <thead>\n",
       "    <tr style=\"text-align: right;\">\n",
       "      <th></th>\n",
       "      <th>age_group</th>\n",
       "      <th>gender</th>\n",
       "      <th>count</th>\n",
       "    </tr>\n",
       "  </thead>\n",
       "  <tbody>\n",
       "    <tr>\n",
       "      <th>0</th>\n",
       "      <td>21-30</td>\n",
       "      <td>male</td>\n",
       "      <td>18828</td>\n",
       "    </tr>\n",
       "    <tr>\n",
       "      <th>1</th>\n",
       "      <td>10-20</td>\n",
       "      <td>male</td>\n",
       "      <td>15044</td>\n",
       "    </tr>\n",
       "    <tr>\n",
       "      <th>2</th>\n",
       "      <td>21-30</td>\n",
       "      <td>female</td>\n",
       "      <td>9806</td>\n",
       "    </tr>\n",
       "    <tr>\n",
       "      <th>3</th>\n",
       "      <td>10-20</td>\n",
       "      <td>female</td>\n",
       "      <td>9703</td>\n",
       "    </tr>\n",
       "    <tr>\n",
       "      <th>4</th>\n",
       "      <td>31-40</td>\n",
       "      <td>male</td>\n",
       "      <td>7799</td>\n",
       "    </tr>\n",
       "    <tr>\n",
       "      <th>5</th>\n",
       "      <td>41-50</td>\n",
       "      <td>male</td>\n",
       "      <td>5031</td>\n",
       "    </tr>\n",
       "    <tr>\n",
       "      <th>6</th>\n",
       "      <td>51-60</td>\n",
       "      <td>female</td>\n",
       "      <td>4921</td>\n",
       "    </tr>\n",
       "    <tr>\n",
       "      <th>7</th>\n",
       "      <td>31-40</td>\n",
       "      <td>female</td>\n",
       "      <td>4688</td>\n",
       "    </tr>\n",
       "    <tr>\n",
       "      <th>8</th>\n",
       "      <td>51-60</td>\n",
       "      <td>male</td>\n",
       "      <td>4367</td>\n",
       "    </tr>\n",
       "    <tr>\n",
       "      <th>9</th>\n",
       "      <td>41-50</td>\n",
       "      <td>female</td>\n",
       "      <td>3931</td>\n",
       "    </tr>\n",
       "    <tr>\n",
       "      <th>10</th>\n",
       "      <td>61-70</td>\n",
       "      <td>female</td>\n",
       "      <td>3659</td>\n",
       "    </tr>\n",
       "    <tr>\n",
       "      <th>11</th>\n",
       "      <td>61-70</td>\n",
       "      <td>male</td>\n",
       "      <td>3171</td>\n",
       "    </tr>\n",
       "    <tr>\n",
       "      <th>12</th>\n",
       "      <td>101-110</td>\n",
       "      <td>male</td>\n",
       "      <td>2092</td>\n",
       "    </tr>\n",
       "    <tr>\n",
       "      <th>13</th>\n",
       "      <td>101-110</td>\n",
       "      <td>female</td>\n",
       "      <td>1317</td>\n",
       "    </tr>\n",
       "    <tr>\n",
       "      <th>14</th>\n",
       "      <td>71-80</td>\n",
       "      <td>female</td>\n",
       "      <td>1229</td>\n",
       "    </tr>\n",
       "    <tr>\n",
       "      <th>15</th>\n",
       "      <td>71-80</td>\n",
       "      <td>male</td>\n",
       "      <td>1005</td>\n",
       "    </tr>\n",
       "    <tr>\n",
       "      <th>16</th>\n",
       "      <td>91-100</td>\n",
       "      <td>male</td>\n",
       "      <td>704</td>\n",
       "    </tr>\n",
       "    <tr>\n",
       "      <th>17</th>\n",
       "      <td>91-100</td>\n",
       "      <td>female</td>\n",
       "      <td>497</td>\n",
       "    </tr>\n",
       "    <tr>\n",
       "      <th>18</th>\n",
       "      <td>81-90</td>\n",
       "      <td>male</td>\n",
       "      <td>419</td>\n",
       "    </tr>\n",
       "    <tr>\n",
       "      <th>19</th>\n",
       "      <td>81-90</td>\n",
       "      <td>female</td>\n",
       "      <td>384</td>\n",
       "    </tr>\n",
       "    <tr>\n",
       "      <th>20</th>\n",
       "      <td>111-120</td>\n",
       "      <td>female</td>\n",
       "      <td>117</td>\n",
       "    </tr>\n",
       "    <tr>\n",
       "      <th>21</th>\n",
       "      <td>111-120</td>\n",
       "      <td>male</td>\n",
       "      <td>114</td>\n",
       "    </tr>\n",
       "  </tbody>\n",
       "</table>\n",
       "</div>"
      ],
      "text/plain": [
       "   age_group  gender  count\n",
       "0      21-30    male  18828\n",
       "1      10-20    male  15044\n",
       "2      21-30  female   9806\n",
       "3      10-20  female   9703\n",
       "4      31-40    male   7799\n",
       "5      41-50    male   5031\n",
       "6      51-60  female   4921\n",
       "7      31-40  female   4688\n",
       "8      51-60    male   4367\n",
       "9      41-50  female   3931\n",
       "10     61-70  female   3659\n",
       "11     61-70    male   3171\n",
       "12   101-110    male   2092\n",
       "13   101-110  female   1317\n",
       "14     71-80  female   1229\n",
       "15     71-80    male   1005\n",
       "16    91-100    male    704\n",
       "17    91-100  female    497\n",
       "18     81-90    male    419\n",
       "19     81-90  female    384\n",
       "20   111-120  female    117\n",
       "21   111-120    male    114"
      ]
     },
     "execution_count": 32,
     "metadata": {},
     "output_type": "execute_result"
    }
   ],
   "source": [
    "age_gender_group = df[['age_group', 'gender']].value_counts().sort_values(ascending=False).reset_index()\n",
    "age_gender_group"
   ]
  },
  {
   "cell_type": "code",
   "execution_count": 33,
   "id": "e8842e6e",
   "metadata": {
    "execution": {
     "iopub.execute_input": "2024-03-09T01:09:17.630822Z",
     "iopub.status.busy": "2024-03-09T01:09:17.630228Z",
     "iopub.status.idle": "2024-03-09T01:09:17.950980Z",
     "shell.execute_reply": "2024-03-09T01:09:17.949890Z"
    },
    "papermill": {
     "duration": 0.341191,
     "end_time": "2024-03-09T01:09:17.953533",
     "exception": false,
     "start_time": "2024-03-09T01:09:17.612342",
     "status": "completed"
    },
    "tags": []
   },
   "outputs": [
    {
     "name": "stderr",
     "output_type": "stream",
     "text": [
      "/opt/conda/lib/python3.10/site-packages/seaborn/categorical.py:641: FutureWarning: The default of observed=False is deprecated and will be changed to True in a future version of pandas. Pass observed=False to retain current behavior or observed=True to adopt the future default and silence this warning.\n",
      "  grouped_vals = vals.groupby(grouper)\n",
      "/opt/conda/lib/python3.10/site-packages/seaborn/categorical.py:641: FutureWarning: The default of observed=False is deprecated and will be changed to True in a future version of pandas. Pass observed=False to retain current behavior or observed=True to adopt the future default and silence this warning.\n",
      "  grouped_vals = vals.groupby(grouper)\n"
     ]
    },
    {
     "data": {
      "image/png": "[encoded data removed]",
      "text/plain": [
       "<Figure size 1200x800 with 1 Axes>"
      ]
     },
     "metadata": {},
     "output_type": "display_data"
    }
   ],
   "source": [
    "plt.figure(figsize=(12, 8))\n",
    "sns.barplot(data=age_gender_group, x='age_group', y='count', hue='gender')\n",
    "plt.xlabel('Age')\n",
    "plt.ylabel('Count')\n",
    "plt.show()"
   ]
  },
  {
   "cell_type": "markdown",
   "id": "7f37c2c2",
   "metadata": {
    "papermill": {
     "duration": 0.016881,
     "end_time": "2024-03-09T01:09:17.990617",
     "exception": false,
     "start_time": "2024-03-09T01:09:17.973736",
     "status": "completed"
    },
    "tags": []
   },
   "source": [
    "this graph show the difference between male and female in facebook"
   ]
  },
  {
   "cell_type": "code",
   "execution_count": 34,
   "id": "1b9e426f",
   "metadata": {
    "execution": {
     "iopub.execute_input": "2024-03-09T01:09:18.025147Z",
     "iopub.status.busy": "2024-03-09T01:09:18.024815Z",
     "iopub.status.idle": "2024-03-09T01:09:19.454892Z",
     "shell.execute_reply": "2024-03-09T01:09:19.454044Z"
    },
    "papermill": {
     "duration": 1.449823,
     "end_time": "2024-03-09T01:09:19.456893",
     "exception": false,
     "start_time": "2024-03-09T01:09:18.007070",
     "status": "completed"
    },
    "tags": []
   },
   "outputs": [
    {
     "name": "stderr",
     "output_type": "stream",
     "text": [
      "/opt/conda/lib/python3.10/site-packages/seaborn/categorical.py:641: FutureWarning: The default of observed=False is deprecated and will be changed to True in a future version of pandas. Pass observed=False to retain current behavior or observed=True to adopt the future default and silence this warning.\n",
      "  grouped_vals = vals.groupby(grouper)\n",
      "/opt/conda/lib/python3.10/site-packages/seaborn/categorical.py:641: FutureWarning: The default of observed=False is deprecated and will be changed to True in a future version of pandas. Pass observed=False to retain current behavior or observed=True to adopt the future default and silence this warning.\n",
      "  grouped_vals = vals.groupby(grouper)\n"
     ]
    },
    {
     "data": {
      "text/plain": [
       "<Axes: xlabel='age_group', ylabel='likes'>"
      ]
     },
     "execution_count": 34,
     "metadata": {},
     "output_type": "execute_result"
    },
    {
     "data": {
      "image/png": "[encoded data removed]",
      "text/plain": [
       "<Figure size 1200x800 with 1 Axes>"
      ]
     },
     "metadata": {},
     "output_type": "display_data"
    }
   ],
   "source": [
    "plt.figure(figsize=(12, 8))\n",
    "sns.barplot(x='age_group', y='likes', data=df, hue='gender')"
   ]
  },
  {
   "cell_type": "markdown",
   "id": "b894c728",
   "metadata": {
    "papermill": {
     "duration": 0.023476,
     "end_time": "2024-03-09T01:09:19.500366",
     "exception": false,
     "start_time": "2024-03-09T01:09:19.476890",
     "status": "completed"
    },
    "tags": []
   },
   "source": [
    "this graph show the female make more likes from male"
   ]
  },
  {
   "cell_type": "code",
   "execution_count": 35,
   "id": "7daaac5c",
   "metadata": {
    "execution": {
     "iopub.execute_input": "2024-03-09T01:09:19.541206Z",
     "iopub.status.busy": "2024-03-09T01:09:19.540583Z",
     "iopub.status.idle": "2024-03-09T01:09:20.939030Z",
     "shell.execute_reply": "2024-03-09T01:09:20.937275Z"
    },
    "papermill": {
     "duration": 1.418867,
     "end_time": "2024-03-09T01:09:20.941440",
     "exception": false,
     "start_time": "2024-03-09T01:09:19.522573",
     "status": "completed"
    },
    "tags": []
   },
   "outputs": [
    {
     "name": "stderr",
     "output_type": "stream",
     "text": [
      "/opt/conda/lib/python3.10/site-packages/seaborn/categorical.py:641: FutureWarning: The default of observed=False is deprecated and will be changed to True in a future version of pandas. Pass observed=False to retain current behavior or observed=True to adopt the future default and silence this warning.\n",
      "  grouped_vals = vals.groupby(grouper)\n",
      "/opt/conda/lib/python3.10/site-packages/seaborn/categorical.py:641: FutureWarning: The default of observed=False is deprecated and will be changed to True in a future version of pandas. Pass observed=False to retain current behavior or observed=True to adopt the future default and silence this warning.\n",
      "  grouped_vals = vals.groupby(grouper)\n"
     ]
    },
    {
     "data": {
      "text/plain": [
       "<Axes: xlabel='age_group', ylabel='likes_received'>"
      ]
     },
     "execution_count": 35,
     "metadata": {},
     "output_type": "execute_result"
    },
    {
     "data": {
      "image/png": "[encoded data removed]",
      "text/plain": [
       "<Figure size 1200x800 with 1 Axes>"
      ]
     },
     "metadata": {},
     "output_type": "display_data"
    }
   ],
   "source": [
    "plt.figure(figsize=(12, 8))\n",
    "sns.barplot(x='age_group', y='likes_received', data=df, hue='gender')"
   ]
  },
  {
   "cell_type": "markdown",
   "id": "f4907f3f",
   "metadata": {
    "papermill": {
     "duration": 0.016962,
     "end_time": "2024-03-09T01:09:20.975736",
     "exception": false,
     "start_time": "2024-03-09T01:09:20.958774",
     "status": "completed"
    },
    "tags": []
   },
   "source": [
    "this graph show the female make more likes Recive from male"
   ]
  },
  {
   "cell_type": "markdown",
   "id": "894968d8",
   "metadata": {
    "papermill": {
     "duration": 0.01755,
     "end_time": "2024-03-09T01:09:21.011735",
     "exception": false,
     "start_time": "2024-03-09T01:09:20.994185",
     "status": "completed"
    },
    "tags": []
   },
   "source": [
    "analysis part of data using age"
   ]
  },
  {
   "cell_type": "code",
   "execution_count": 36,
   "id": "7a087f1b",
   "metadata": {
    "execution": {
     "iopub.execute_input": "2024-03-09T01:09:21.049087Z",
     "iopub.status.busy": "2024-03-09T01:09:21.048762Z",
     "iopub.status.idle": "2024-03-09T01:09:21.068991Z",
     "shell.execute_reply": "2024-03-09T01:09:21.067825Z"
    },
    "papermill": {
     "duration": 0.041346,
     "end_time": "2024-03-09T01:09:21.071045",
     "exception": false,
     "start_time": "2024-03-09T01:09:21.029699",
     "status": "completed"
    },
    "tags": []
   },
   "outputs": [
    {
     "data": {
      "text/html": [
       "<div>\n",
       "<style scoped>\n",
       "    .dataframe tbody tr th:only-of-type {\n",
       "        vertical-align: middle;\n",
       "    }\n",
       "\n",
       "    .dataframe tbody tr th {\n",
       "        vertical-align: top;\n",
       "    }\n",
       "\n",
       "    .dataframe thead th {\n",
       "        text-align: right;\n",
       "    }\n",
       "</style>\n",
       "<table border=\"1\" class=\"dataframe\">\n",
       "  <thead>\n",
       "    <tr style=\"text-align: right;\">\n",
       "      <th></th>\n",
       "      <th>age</th>\n",
       "      <th>dob_day</th>\n",
       "      <th>dob_year</th>\n",
       "      <th>dob_month</th>\n",
       "      <th>gender</th>\n",
       "      <th>tenure</th>\n",
       "      <th>friend_count</th>\n",
       "      <th>friendships_initiated</th>\n",
       "      <th>likes</th>\n",
       "      <th>likes_received</th>\n",
       "      <th>mobile_likes</th>\n",
       "      <th>mobile_likes_received</th>\n",
       "      <th>www_likes</th>\n",
       "      <th>www_likes_received</th>\n",
       "      <th>age_group</th>\n",
       "    </tr>\n",
       "  </thead>\n",
       "  <tbody>\n",
       "    <tr>\n",
       "      <th>302</th>\n",
       "      <td>21</td>\n",
       "      <td>21</td>\n",
       "      <td>1992</td>\n",
       "      <td>11</td>\n",
       "      <td>male</td>\n",
       "      <td>251.0</td>\n",
       "      <td>0</td>\n",
       "      <td>0</td>\n",
       "      <td>0</td>\n",
       "      <td>0</td>\n",
       "      <td>0</td>\n",
       "      <td>0</td>\n",
       "      <td>0</td>\n",
       "      <td>0</td>\n",
       "      <td>21-30</td>\n",
       "    </tr>\n",
       "    <tr>\n",
       "      <th>303</th>\n",
       "      <td>21</td>\n",
       "      <td>4</td>\n",
       "      <td>1992</td>\n",
       "      <td>11</td>\n",
       "      <td>male</td>\n",
       "      <td>16.0</td>\n",
       "      <td>0</td>\n",
       "      <td>0</td>\n",
       "      <td>0</td>\n",
       "      <td>0</td>\n",
       "      <td>0</td>\n",
       "      <td>0</td>\n",
       "      <td>0</td>\n",
       "      <td>0</td>\n",
       "      <td>21-30</td>\n",
       "    </tr>\n",
       "    <tr>\n",
       "      <th>304</th>\n",
       "      <td>21</td>\n",
       "      <td>29</td>\n",
       "      <td>1992</td>\n",
       "      <td>12</td>\n",
       "      <td>male</td>\n",
       "      <td>1244.0</td>\n",
       "      <td>0</td>\n",
       "      <td>0</td>\n",
       "      <td>0</td>\n",
       "      <td>0</td>\n",
       "      <td>0</td>\n",
       "      <td>0</td>\n",
       "      <td>0</td>\n",
       "      <td>0</td>\n",
       "      <td>21-30</td>\n",
       "    </tr>\n",
       "    <tr>\n",
       "      <th>305</th>\n",
       "      <td>21</td>\n",
       "      <td>25</td>\n",
       "      <td>1992</td>\n",
       "      <td>12</td>\n",
       "      <td>male</td>\n",
       "      <td>669.0</td>\n",
       "      <td>0</td>\n",
       "      <td>0</td>\n",
       "      <td>0</td>\n",
       "      <td>0</td>\n",
       "      <td>0</td>\n",
       "      <td>0</td>\n",
       "      <td>0</td>\n",
       "      <td>0</td>\n",
       "      <td>21-30</td>\n",
       "    </tr>\n",
       "    <tr>\n",
       "      <th>306</th>\n",
       "      <td>21</td>\n",
       "      <td>31</td>\n",
       "      <td>1992</td>\n",
       "      <td>12</td>\n",
       "      <td>male</td>\n",
       "      <td>11.0</td>\n",
       "      <td>0</td>\n",
       "      <td>0</td>\n",
       "      <td>0</td>\n",
       "      <td>0</td>\n",
       "      <td>0</td>\n",
       "      <td>0</td>\n",
       "      <td>0</td>\n",
       "      <td>0</td>\n",
       "      <td>21-30</td>\n",
       "    </tr>\n",
       "    <tr>\n",
       "      <th>...</th>\n",
       "      <td>...</td>\n",
       "      <td>...</td>\n",
       "      <td>...</td>\n",
       "      <td>...</td>\n",
       "      <td>...</td>\n",
       "      <td>...</td>\n",
       "      <td>...</td>\n",
       "      <td>...</td>\n",
       "      <td>...</td>\n",
       "      <td>...</td>\n",
       "      <td>...</td>\n",
       "      <td>...</td>\n",
       "      <td>...</td>\n",
       "      <td>...</td>\n",
       "      <td>...</td>\n",
       "    </tr>\n",
       "    <tr>\n",
       "      <th>98988</th>\n",
       "      <td>21</td>\n",
       "      <td>20</td>\n",
       "      <td>1992</td>\n",
       "      <td>10</td>\n",
       "      <td>male</td>\n",
       "      <td>587.0</td>\n",
       "      <td>2784</td>\n",
       "      <td>809</td>\n",
       "      <td>5177</td>\n",
       "      <td>5423</td>\n",
       "      <td>4759</td>\n",
       "      <td>3278</td>\n",
       "      <td>418</td>\n",
       "      <td>2145</td>\n",
       "      <td>21-30</td>\n",
       "    </tr>\n",
       "    <tr>\n",
       "      <th>98989</th>\n",
       "      <td>25</td>\n",
       "      <td>5</td>\n",
       "      <td>1988</td>\n",
       "      <td>9</td>\n",
       "      <td>female</td>\n",
       "      <td>273.0</td>\n",
       "      <td>2332</td>\n",
       "      <td>1849</td>\n",
       "      <td>6135</td>\n",
       "      <td>4952</td>\n",
       "      <td>6029</td>\n",
       "      <td>4547</td>\n",
       "      <td>106</td>\n",
       "      <td>405</td>\n",
       "      <td>21-30</td>\n",
       "    </tr>\n",
       "    <tr>\n",
       "      <th>98996</th>\n",
       "      <td>24</td>\n",
       "      <td>25</td>\n",
       "      <td>1989</td>\n",
       "      <td>4</td>\n",
       "      <td>female</td>\n",
       "      <td>182.0</td>\n",
       "      <td>2938</td>\n",
       "      <td>1272</td>\n",
       "      <td>6018</td>\n",
       "      <td>17765</td>\n",
       "      <td>5843</td>\n",
       "      <td>11708</td>\n",
       "      <td>175</td>\n",
       "      <td>6057</td>\n",
       "      <td>21-30</td>\n",
       "    </tr>\n",
       "    <tr>\n",
       "      <th>98997</th>\n",
       "      <td>28</td>\n",
       "      <td>14</td>\n",
       "      <td>1985</td>\n",
       "      <td>12</td>\n",
       "      <td>female</td>\n",
       "      <td>290.0</td>\n",
       "      <td>2218</td>\n",
       "      <td>1618</td>\n",
       "      <td>4626</td>\n",
       "      <td>10268</td>\n",
       "      <td>4290</td>\n",
       "      <td>4250</td>\n",
       "      <td>336</td>\n",
       "      <td>6018</td>\n",
       "      <td>21-30</td>\n",
       "    </tr>\n",
       "    <tr>\n",
       "      <th>99001</th>\n",
       "      <td>23</td>\n",
       "      <td>11</td>\n",
       "      <td>1990</td>\n",
       "      <td>4</td>\n",
       "      <td>female</td>\n",
       "      <td>416.0</td>\n",
       "      <td>2560</td>\n",
       "      <td>185</td>\n",
       "      <td>4506</td>\n",
       "      <td>6516</td>\n",
       "      <td>4506</td>\n",
       "      <td>5760</td>\n",
       "      <td>0</td>\n",
       "      <td>756</td>\n",
       "      <td>21-30</td>\n",
       "    </tr>\n",
       "  </tbody>\n",
       "</table>\n",
       "<p>28634 rows × 15 columns</p>\n",
       "</div>"
      ],
      "text/plain": [
       "       age  dob_day  dob_year  dob_month  gender  tenure  friend_count  \\\n",
       "302     21       21      1992         11    male   251.0             0   \n",
       "303     21        4      1992         11    male    16.0             0   \n",
       "304     21       29      1992         12    male  1244.0             0   \n",
       "305     21       25      1992         12    male   669.0             0   \n",
       "306     21       31      1992         12    male    11.0             0   \n",
       "...    ...      ...       ...        ...     ...     ...           ...   \n",
       "98988   21       20      1992         10    male   587.0          2784   \n",
       "98989   25        5      1988          9  female   273.0          2332   \n",
       "98996   24       25      1989          4  female   182.0          2938   \n",
       "98997   28       14      1985         12  female   290.0          2218   \n",
       "99001   23       11      1990          4  female   416.0          2560   \n",
       "\n",
       "       friendships_initiated  likes  likes_received  mobile_likes  \\\n",
       "302                        0      0               0             0   \n",
       "303                        0      0               0             0   \n",
       "304                        0      0               0             0   \n",
       "305                        0      0               0             0   \n",
       "306                        0      0               0             0   \n",
       "...                      ...    ...             ...           ...   \n",
       "98988                    809   5177            5423          4759   \n",
       "98989                   1849   6135            4952          6029   \n",
       "98996                   1272   6018           17765          5843   \n",
       "98997                   1618   4626           10268          4290   \n",
       "99001                    185   4506            6516          4506   \n",
       "\n",
       "       mobile_likes_received  www_likes  www_likes_received age_group  \n",
       "302                        0          0                   0     21-30  \n",
       "303                        0          0                   0     21-30  \n",
       "304                        0          0                   0     21-30  \n",
       "305                        0          0                   0     21-30  \n",
       "306                        0          0                   0     21-30  \n",
       "...                      ...        ...                 ...       ...  \n",
       "98988                   3278        418                2145     21-30  \n",
       "98989                   4547        106                 405     21-30  \n",
       "98996                  11708        175                6057     21-30  \n",
       "98997                   4250        336                6018     21-30  \n",
       "99001                   5760          0                 756     21-30  \n",
       "\n",
       "[28634 rows x 15 columns]"
      ]
     },
     "execution_count": 36,
     "metadata": {},
     "output_type": "execute_result"
    }
   ],
   "source": [
    "age_20s = df[ (df['age'] > 20) & (df['age'] <= 30) ]\n",
    "age_20s"
   ]
  },
  {
   "cell_type": "markdown",
   "id": "0648a27d",
   "metadata": {
    "papermill": {
     "duration": 0.017861,
     "end_time": "2024-03-09T01:09:21.106831",
     "exception": false,
     "start_time": "2024-03-09T01:09:21.088970",
     "status": "completed"
    },
    "tags": []
   },
   "source": [
    "part Age 20 to 30"
   ]
  },
  {
   "cell_type": "code",
   "execution_count": 37,
   "id": "1260ef08",
   "metadata": {
    "execution": {
     "iopub.execute_input": "2024-03-09T01:09:21.144948Z",
     "iopub.status.busy": "2024-03-09T01:09:21.144309Z",
     "iopub.status.idle": "2024-03-09T01:09:21.154734Z",
     "shell.execute_reply": "2024-03-09T01:09:21.153774Z"
    },
    "papermill": {
     "duration": 0.0318,
     "end_time": "2024-03-09T01:09:21.156664",
     "exception": false,
     "start_time": "2024-03-09T01:09:21.124864",
     "status": "completed"
    },
    "tags": []
   },
   "outputs": [
    {
     "data": {
      "text/html": [
       "<div>\n",
       "<style scoped>\n",
       "    .dataframe tbody tr th:only-of-type {\n",
       "        vertical-align: middle;\n",
       "    }\n",
       "\n",
       "    .dataframe tbody tr th {\n",
       "        vertical-align: top;\n",
       "    }\n",
       "\n",
       "    .dataframe thead th {\n",
       "        text-align: right;\n",
       "    }\n",
       "</style>\n",
       "<table border=\"1\" class=\"dataframe\">\n",
       "  <thead>\n",
       "    <tr style=\"text-align: right;\">\n",
       "      <th></th>\n",
       "      <th>age</th>\n",
       "      <th>count</th>\n",
       "    </tr>\n",
       "  </thead>\n",
       "  <tbody>\n",
       "    <tr>\n",
       "      <th>0</th>\n",
       "      <td>23</td>\n",
       "      <td>4402</td>\n",
       "    </tr>\n",
       "    <tr>\n",
       "      <th>1</th>\n",
       "      <td>21</td>\n",
       "      <td>3670</td>\n",
       "    </tr>\n",
       "    <tr>\n",
       "      <th>2</th>\n",
       "      <td>25</td>\n",
       "      <td>3636</td>\n",
       "    </tr>\n",
       "    <tr>\n",
       "      <th>3</th>\n",
       "      <td>22</td>\n",
       "      <td>3032</td>\n",
       "    </tr>\n",
       "    <tr>\n",
       "      <th>4</th>\n",
       "      <td>24</td>\n",
       "      <td>2827</td>\n",
       "    </tr>\n",
       "    <tr>\n",
       "      <th>5</th>\n",
       "      <td>26</td>\n",
       "      <td>2814</td>\n",
       "    </tr>\n",
       "    <tr>\n",
       "      <th>6</th>\n",
       "      <td>28</td>\n",
       "      <td>2363</td>\n",
       "    </tr>\n",
       "    <tr>\n",
       "      <th>7</th>\n",
       "      <td>27</td>\n",
       "      <td>2239</td>\n",
       "    </tr>\n",
       "    <tr>\n",
       "      <th>8</th>\n",
       "      <td>29</td>\n",
       "      <td>1935</td>\n",
       "    </tr>\n",
       "    <tr>\n",
       "      <th>9</th>\n",
       "      <td>30</td>\n",
       "      <td>1716</td>\n",
       "    </tr>\n",
       "  </tbody>\n",
       "</table>\n",
       "</div>"
      ],
      "text/plain": [
       "   age  count\n",
       "0   23   4402\n",
       "1   21   3670\n",
       "2   25   3636\n",
       "3   22   3032\n",
       "4   24   2827\n",
       "5   26   2814\n",
       "6   28   2363\n",
       "7   27   2239\n",
       "8   29   1935\n",
       "9   30   1716"
      ]
     },
     "execution_count": 37,
     "metadata": {},
     "output_type": "execute_result"
    }
   ],
   "source": [
    "df = age_20s['age'].value_counts().sort_values(ascending=False).reset_index()\n",
    "df"
   ]
  },
  {
   "cell_type": "code",
   "execution_count": 38,
   "id": "55f497f6",
   "metadata": {
    "execution": {
     "iopub.execute_input": "2024-03-09T01:09:21.195253Z",
     "iopub.status.busy": "2024-03-09T01:09:21.194657Z",
     "iopub.status.idle": "2024-03-09T01:09:21.399762Z",
     "shell.execute_reply": "2024-03-09T01:09:21.398556Z"
    },
    "papermill": {
     "duration": 0.227021,
     "end_time": "2024-03-09T01:09:21.402057",
     "exception": false,
     "start_time": "2024-03-09T01:09:21.175036",
     "status": "completed"
    },
    "tags": []
   },
   "outputs": [
    {
     "data": {
      "text/plain": [
       "<Axes: xlabel='age', ylabel='count'>"
      ]
     },
     "execution_count": 38,
     "metadata": {},
     "output_type": "execute_result"
    },
    {
     "data": {
      "image/png": "[encoded data removed]",
      "text/plain": [
       "<Figure size 1200x600 with 1 Axes>"
      ]
     },
     "metadata": {},
     "output_type": "display_data"
    }
   ],
   "source": [
    "plt.figure(figsize=(12, 6))\n",
    "sns.barplot(x='age', y='count', data=df)"
   ]
  },
  {
   "cell_type": "markdown",
   "id": "2c4f48ad",
   "metadata": {
    "papermill": {
     "duration": 0.018905,
     "end_time": "2024-03-09T01:09:21.440801",
     "exception": false,
     "start_time": "2024-03-09T01:09:21.421896",
     "status": "completed"
    },
    "tags": []
   },
   "source": [
    "know the age analysis the likes"
   ]
  },
  {
   "cell_type": "code",
   "execution_count": 39,
   "id": "af5bc64b",
   "metadata": {
    "execution": {
     "iopub.execute_input": "2024-03-09T01:09:21.481488Z",
     "iopub.status.busy": "2024-03-09T01:09:21.481140Z",
     "iopub.status.idle": "2024-03-09T01:09:22.310079Z",
     "shell.execute_reply": "2024-03-09T01:09:22.309038Z"
    },
    "papermill": {
     "duration": 0.851006,
     "end_time": "2024-03-09T01:09:22.312166",
     "exception": false,
     "start_time": "2024-03-09T01:09:21.461160",
     "status": "completed"
    },
    "tags": []
   },
   "outputs": [
    {
     "data": {
      "text/plain": [
       "<Axes: xlabel='age', ylabel='likes'>"
      ]
     },
     "execution_count": 39,
     "metadata": {},
     "output_type": "execute_result"
    },
    {
     "data": {
      "image/png": "[encoded data removed]",
      "text/plain": [
       "<Figure size 1200x800 with 1 Axes>"
      ]
     },
     "metadata": {},
     "output_type": "display_data"
    }
   ],
   "source": [
    "plt.figure(figsize=(12, 8))\n",
    "sns.barplot(x='age', y='likes', data=age_20s, hue='gender')"
   ]
  },
  {
   "cell_type": "code",
   "execution_count": 40,
   "id": "a96b9f2f",
   "metadata": {
    "execution": {
     "iopub.execute_input": "2024-03-09T01:09:22.351235Z",
     "iopub.status.busy": "2024-03-09T01:09:22.350918Z",
     "iopub.status.idle": "2024-03-09T01:09:23.197063Z",
     "shell.execute_reply": "2024-03-09T01:09:23.196013Z"
    },
    "papermill": {
     "duration": 0.868672,
     "end_time": "2024-03-09T01:09:23.199511",
     "exception": false,
     "start_time": "2024-03-09T01:09:22.330839",
     "status": "completed"
    },
    "tags": []
   },
   "outputs": [
    {
     "data": {
      "text/plain": [
       "<Axes: xlabel='age', ylabel='likes_received'>"
      ]
     },
     "execution_count": 40,
     "metadata": {},
     "output_type": "execute_result"
    },
    {
     "data": {
      "image/png": "[encoded data removed]",
      "text/plain": [
       "<Figure size 1200x800 with 1 Axes>"
      ]
     },
     "metadata": {},
     "output_type": "display_data"
    }
   ],
   "source": [
    "plt.figure(figsize=(12, 8))\n",
    "sns.barplot(x='age', y='likes_received', data=age_20s, hue='gender')"
   ]
  }
 ],
 "metadata": {
  "kaggle": {
   "accelerator": "none",
   "dataSources": [
    {
     "datasetId": 36954,
     "sourceId": 56227,
     "sourceType": "datasetVersion"
    }
   ],
   "dockerImageVersionId": 30664,
   "isGpuEnabled": false,
   "isInternetEnabled": true,
   "language": "python",
   "sourceType": "notebook"
  },
  "kernelspec": {
   "display_name": "Python 3",
   "language": "python",
   "name": "python3"
  },
  "language_info": {
   "codemirror_mode": {
    "name": "ipython",
    "version": 3
   },
   "file_extension": ".py",
   "mimetype": "text/x-python",
   "name": "python",
   "nbconvert_exporter": "python",
   "pygments_lexer": "ipython3",
   "version": "3.10.13"
  },
  "papermill": {
   "default_parameters": {},
   "duration": 13.807802,
   "end_time": "2024-03-09T01:09:23.738871",
   "environment_variables": {},
   "exception": null,
   "input_path": "__notebook__.ipynb",
   "output_path": "__notebook__.ipynb",
   "parameters": {},
   "start_time": "2024-03-09T01:09:09.931069",
   "version": "2.5.0"
  }
 },
 "nbformat": 4,
 "nbformat_minor": 5
}
