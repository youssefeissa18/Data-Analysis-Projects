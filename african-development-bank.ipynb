{
 "cells": [
  {
   "cell_type": "markdown",
   "id": "74f63442",
   "metadata": {
    "papermill": {
     "duration": 0.012946,
     "end_time": "2024-03-06T02:19:46.905774",
     "exception": false,
     "start_time": "2024-03-06T02:19:46.892828",
     "status": "completed"
    },
    "tags": []
   },
   "source": [
    "# African Development Bank (Finance)\n"
   ]
  },
  {
   "cell_type": "markdown",
   "id": "3381865b",
   "metadata": {
    "papermill": {
     "duration": 0.012239,
     "end_time": "2024-03-06T02:19:46.931347",
     "exception": false,
     "start_time": "2024-03-06T02:19:46.919108",
     "status": "completed"
    },
    "tags": []
   },
   "source": [
    "Import Necessery Library"
   ]
  },
  {
   "cell_type": "code",
   "execution_count": 1,
   "id": "14e7db19",
   "metadata": {
    "execution": {
     "iopub.execute_input": "2024-03-06T02:19:46.958718Z",
     "iopub.status.busy": "2024-03-06T02:19:46.958253Z",
     "iopub.status.idle": "2024-03-06T02:19:49.558657Z",
     "shell.execute_reply": "2024-03-06T02:19:49.557311Z"
    },
    "papermill": {
     "duration": 2.617948,
     "end_time": "2024-03-06T02:19:49.561676",
     "exception": false,
     "start_time": "2024-03-06T02:19:46.943728",
     "status": "completed"
    },
    "tags": []
   },
   "outputs": [],
   "source": [
    "import numpy as np\n",
    "import pandas as pd\n",
    "import matplotlib.pyplot as plt\n",
    "import seaborn as sns"
   ]
  },
  {
   "cell_type": "code",
   "execution_count": 2,
   "id": "7c206a55",
   "metadata": {
    "execution": {
     "iopub.execute_input": "2024-03-06T02:19:49.589531Z",
     "iopub.status.busy": "2024-03-06T02:19:49.588953Z",
     "iopub.status.idle": "2024-03-06T02:19:49.622331Z",
     "shell.execute_reply": "2024-03-06T02:19:49.620852Z"
    },
    "papermill": {
     "duration": 0.050527,
     "end_time": "2024-03-06T02:19:49.625219",
     "exception": false,
     "start_time": "2024-03-06T02:19:49.574692",
     "status": "completed"
    },
    "tags": []
   },
   "outputs": [],
   "source": [
    "df = pd.read_csv(\"/kaggle/input/african-development-bank/finance1.csv\", encoding = 'latin-1')"
   ]
  },
  {
   "cell_type": "markdown",
   "id": "e2bacb53",
   "metadata": {
    "papermill": {
     "duration": 0.012139,
     "end_time": "2024-03-06T02:19:49.650855",
     "exception": false,
     "start_time": "2024-03-06T02:19:49.638716",
     "status": "completed"
    },
    "tags": []
   },
   "source": [
    "<h2>After Loading Data and print first 5 rows to show data<h2>\n",
    "    <h3>Using encoding = 'latina-1' becouse the file write with another exe<h3>"
   ]
  },
  {
   "cell_type": "code",
   "execution_count": 3,
   "id": "87455220",
   "metadata": {
    "execution": {
     "iopub.execute_input": "2024-03-06T02:19:49.678436Z",
     "iopub.status.busy": "2024-03-06T02:19:49.677743Z",
     "iopub.status.idle": "2024-03-06T02:19:49.702668Z",
     "shell.execute_reply": "2024-03-06T02:19:49.701314Z"
    },
    "papermill": {
     "duration": 0.041834,
     "end_time": "2024-03-06T02:19:49.705167",
     "exception": false,
     "start_time": "2024-03-06T02:19:49.663333",
     "status": "completed"
    },
    "tags": []
   },
   "outputs": [
    {
     "data": {
      "text/html": [
       "<div>\n",
       "<style scoped>\n",
       "    .dataframe tbody tr th:only-of-type {\n",
       "        vertical-align: middle;\n",
       "    }\n",
       "\n",
       "    .dataframe tbody tr th {\n",
       "        vertical-align: top;\n",
       "    }\n",
       "\n",
       "    .dataframe thead th {\n",
       "        text-align: right;\n",
       "    }\n",
       "</style>\n",
       "<table border=\"1\" class=\"dataframe\">\n",
       "  <thead>\n",
       "    <tr style=\"text-align: right;\">\n",
       "      <th></th>\n",
       "      <th>Project Code</th>\n",
       "      <th>Title</th>\n",
       "      <th>Commitment in U.A</th>\n",
       "      <th>Country</th>\n",
       "      <th>Starting Date</th>\n",
       "      <th>Status</th>\n",
       "      <th>Source of Financing</th>\n",
       "      <th>Sector</th>\n",
       "      <th>Sovereign</th>\n",
       "    </tr>\n",
       "  </thead>\n",
       "  <tbody>\n",
       "    <tr>\n",
       "      <th>0</th>\n",
       "      <td>P-MG-H00-002</td>\n",
       "      <td>Madagascar - Industrialisation and Financial S...</td>\n",
       "      <td>12,080,000.00</td>\n",
       "      <td>Madagascar</td>\n",
       "      <td>28 Oct 2020</td>\n",
       "      <td>Approved</td>\n",
       "      <td>African Development Fund</td>\n",
       "      <td>Finance</td>\n",
       "      <td>Sovereign</td>\n",
       "    </tr>\n",
       "    <tr>\n",
       "      <th>1</th>\n",
       "      <td>P-Z1-H00-063</td>\n",
       "      <td>Multinational - Domestic debt markets developm...</td>\n",
       "      <td>1,500,000.00</td>\n",
       "      <td>Multinational</td>\n",
       "      <td>13 Oct 2020</td>\n",
       "      <td>Implementation</td>\n",
       "      <td>Fragile States Facility</td>\n",
       "      <td>Finance</td>\n",
       "      <td>Sovereign</td>\n",
       "    </tr>\n",
       "    <tr>\n",
       "      <th>2</th>\n",
       "      <td>P-MG-HAZ-001</td>\n",
       "      <td>Madagascar - SME Business Linkages Program</td>\n",
       "      <td>1,000,000.00</td>\n",
       "      <td>Madagascar</td>\n",
       "      <td>15 May 2020</td>\n",
       "      <td>Implementation</td>\n",
       "      <td>Fragile States Facility</td>\n",
       "      <td>Finance</td>\n",
       "      <td>Sovereign</td>\n",
       "    </tr>\n",
       "    <tr>\n",
       "      <th>3</th>\n",
       "      <td>P-MU-H00-004</td>\n",
       "      <td>Mauritius - Stock Exchange Mauritius (SEM) Pro...</td>\n",
       "      <td>430,000.00</td>\n",
       "      <td>Mauritius</td>\n",
       "      <td>27 Apr 2020</td>\n",
       "      <td>Implementation</td>\n",
       "      <td>Middle Income Countries Fund</td>\n",
       "      <td>Finance</td>\n",
       "      <td>Sovereign</td>\n",
       "    </tr>\n",
       "    <tr>\n",
       "      <th>4</th>\n",
       "      <td>P-AO-HAB-009</td>\n",
       "      <td>Angola - Line of Credit to « Banco Millennium ...</td>\n",
       "      <td>23,415,605.04</td>\n",
       "      <td>Angola</td>\n",
       "      <td>15 Apr 2020</td>\n",
       "      <td>Approved</td>\n",
       "      <td>African Development Bank</td>\n",
       "      <td>Finance</td>\n",
       "      <td>Non Sovereign</td>\n",
       "    </tr>\n",
       "  </tbody>\n",
       "</table>\n",
       "</div>"
      ],
      "text/plain": [
       "   Project Code                                              Title  \\\n",
       "0  P-MG-H00-002  Madagascar - Industrialisation and Financial S...   \n",
       "1  P-Z1-H00-063  Multinational - Domestic debt markets developm...   \n",
       "2  P-MG-HAZ-001         Madagascar - SME Business Linkages Program   \n",
       "3  P-MU-H00-004  Mauritius - Stock Exchange Mauritius (SEM) Pro...   \n",
       "4  P-AO-HAB-009  Angola - Line of Credit to « Banco Millennium ...   \n",
       "\n",
       "  Commitment in U.A        Country Starting Date          Status  \\\n",
       "0     12,080,000.00     Madagascar   28 Oct 2020        Approved   \n",
       "1      1,500,000.00  Multinational   13 Oct 2020  Implementation   \n",
       "2      1,000,000.00     Madagascar   15 May 2020  Implementation   \n",
       "3        430,000.00      Mauritius   27 Apr 2020  Implementation   \n",
       "4     23,415,605.04         Angola   15 Apr 2020        Approved   \n",
       "\n",
       "            Source of Financing   Sector      Sovereign  \n",
       "0      African Development Fund  Finance      Sovereign  \n",
       "1       Fragile States Facility  Finance      Sovereign  \n",
       "2       Fragile States Facility  Finance      Sovereign  \n",
       "3  Middle Income Countries Fund  Finance      Sovereign  \n",
       "4      African Development Bank  Finance  Non Sovereign  "
      ]
     },
     "execution_count": 3,
     "metadata": {},
     "output_type": "execute_result"
    }
   ],
   "source": [
    "df.head()"
   ]
  },
  {
   "cell_type": "code",
   "execution_count": 4,
   "id": "34f515bd",
   "metadata": {
    "execution": {
     "iopub.execute_input": "2024-03-06T02:19:49.733686Z",
     "iopub.status.busy": "2024-03-06T02:19:49.732670Z",
     "iopub.status.idle": "2024-03-06T02:19:49.750271Z",
     "shell.execute_reply": "2024-03-06T02:19:49.748426Z"
    },
    "papermill": {
     "duration": 0.035126,
     "end_time": "2024-03-06T02:19:49.753046",
     "exception": false,
     "start_time": "2024-03-06T02:19:49.717920",
     "status": "completed"
    },
    "tags": []
   },
   "outputs": [
    {
     "data": {
      "text/html": [
       "<div>\n",
       "<style scoped>\n",
       "    .dataframe tbody tr th:only-of-type {\n",
       "        vertical-align: middle;\n",
       "    }\n",
       "\n",
       "    .dataframe tbody tr th {\n",
       "        vertical-align: top;\n",
       "    }\n",
       "\n",
       "    .dataframe thead th {\n",
       "        text-align: right;\n",
       "    }\n",
       "</style>\n",
       "<table border=\"1\" class=\"dataframe\">\n",
       "  <thead>\n",
       "    <tr style=\"text-align: right;\">\n",
       "      <th></th>\n",
       "      <th>Project Code</th>\n",
       "      <th>Title</th>\n",
       "      <th>Commitment in U.A</th>\n",
       "      <th>Country</th>\n",
       "      <th>Starting Date</th>\n",
       "      <th>Status</th>\n",
       "      <th>Source of Financing</th>\n",
       "      <th>Sector</th>\n",
       "      <th>Sovereign</th>\n",
       "    </tr>\n",
       "  </thead>\n",
       "  <tbody>\n",
       "    <tr>\n",
       "      <th>350</th>\n",
       "      <td>P-MA-HAA-001</td>\n",
       "      <td>1ère Ligne de Crédit à la Banque Nationale pou...</td>\n",
       "      <td>3,912,222.92</td>\n",
       "      <td>Morocco</td>\n",
       "      <td>08 May 1974</td>\n",
       "      <td>Completion</td>\n",
       "      <td>African Development Bank</td>\n",
       "      <td>Finance</td>\n",
       "      <td>Sovereign</td>\n",
       "    </tr>\n",
       "    <tr>\n",
       "      <th>351</th>\n",
       "      <td>P-MW-HA0-001</td>\n",
       "      <td>Malawi Development Corporation</td>\n",
       "      <td>1,485,997.20</td>\n",
       "      <td>Malawi</td>\n",
       "      <td>22 Nov 1972</td>\n",
       "      <td>Completion</td>\n",
       "      <td>African Development Bank</td>\n",
       "      <td>Finance</td>\n",
       "      <td>Sovereign</td>\n",
       "    </tr>\n",
       "    <tr>\n",
       "      <th>352</th>\n",
       "      <td>NaN</td>\n",
       "      <td>NaN</td>\n",
       "      <td>NaN</td>\n",
       "      <td>NaN</td>\n",
       "      <td>NaN</td>\n",
       "      <td>NaN</td>\n",
       "      <td>NaN</td>\n",
       "      <td>NaN</td>\n",
       "      <td>NaN</td>\n",
       "    </tr>\n",
       "    <tr>\n",
       "      <th>353</th>\n",
       "      <td>African Development Bank Group</td>\n",
       "      <td>NaN</td>\n",
       "      <td>NaN</td>\n",
       "      <td>NaN</td>\n",
       "      <td>NaN</td>\n",
       "      <td>NaN</td>\n",
       "      <td>NaN</td>\n",
       "      <td>NaN</td>\n",
       "      <td>IATI Data Portal</td>\n",
       "    </tr>\n",
       "    <tr>\n",
       "      <th>354</th>\n",
       "      <td>NaN</td>\n",
       "      <td>NaN</td>\n",
       "      <td>NaN</td>\n",
       "      <td>NaN</td>\n",
       "      <td>NaN</td>\n",
       "      <td>NaN</td>\n",
       "      <td>NaN</td>\n",
       "      <td>NaN</td>\n",
       "      <td>NaN</td>\n",
       "    </tr>\n",
       "  </tbody>\n",
       "</table>\n",
       "</div>"
      ],
      "text/plain": [
       "                       Project Code  \\\n",
       "350                    P-MA-HAA-001   \n",
       "351                    P-MW-HA0-001   \n",
       "352                             NaN   \n",
       "353  African Development Bank Group   \n",
       "354                             NaN   \n",
       "\n",
       "                                                 Title Commitment in U.A  \\\n",
       "350  1ère Ligne de Crédit à la Banque Nationale pou...      3,912,222.92   \n",
       "351                     Malawi Development Corporation      1,485,997.20   \n",
       "352                                                NaN               NaN   \n",
       "353                                                NaN               NaN   \n",
       "354                                                NaN               NaN   \n",
       "\n",
       "     Country Starting Date      Status       Source of Financing   Sector  \\\n",
       "350  Morocco   08 May 1974  Completion  African Development Bank  Finance   \n",
       "351   Malawi   22 Nov 1972  Completion  African Development Bank  Finance   \n",
       "352      NaN           NaN         NaN                       NaN      NaN   \n",
       "353      NaN           NaN         NaN                       NaN      NaN   \n",
       "354      NaN           NaN         NaN                       NaN      NaN   \n",
       "\n",
       "            Sovereign  \n",
       "350         Sovereign  \n",
       "351         Sovereign  \n",
       "352               NaN  \n",
       "353  IATI Data Portal  \n",
       "354               NaN  "
      ]
     },
     "execution_count": 4,
     "metadata": {},
     "output_type": "execute_result"
    }
   ],
   "source": [
    "df.tail()"
   ]
  },
  {
   "cell_type": "markdown",
   "id": "7ce10414",
   "metadata": {
    "papermill": {
     "duration": 0.013989,
     "end_time": "2024-03-06T02:19:49.782062",
     "exception": false,
     "start_time": "2024-03-06T02:19:49.768073",
     "status": "completed"
    },
    "tags": []
   },
   "source": [
    "# Preproccessing to the data"
   ]
  },
  {
   "cell_type": "code",
   "execution_count": 5,
   "id": "95833b20",
   "metadata": {
    "execution": {
     "iopub.execute_input": "2024-03-06T02:19:49.813056Z",
     "iopub.status.busy": "2024-03-06T02:19:49.812592Z",
     "iopub.status.idle": "2024-03-06T02:19:49.844896Z",
     "shell.execute_reply": "2024-03-06T02:19:49.843729Z"
    },
    "papermill": {
     "duration": 0.051566,
     "end_time": "2024-03-06T02:19:49.847529",
     "exception": false,
     "start_time": "2024-03-06T02:19:49.795963",
     "status": "completed"
    },
    "tags": []
   },
   "outputs": [
    {
     "name": "stdout",
     "output_type": "stream",
     "text": [
      "<class 'pandas.core.frame.DataFrame'>\n",
      "RangeIndex: 355 entries, 0 to 354\n",
      "Data columns (total 9 columns):\n",
      " #   Column               Non-Null Count  Dtype \n",
      "---  ------               --------------  ----- \n",
      " 0   Project Code         337 non-null    object\n",
      " 1   Title                336 non-null    object\n",
      " 2   Commitment in U.A    336 non-null    object\n",
      " 3   Country              336 non-null    object\n",
      " 4   Starting Date        336 non-null    object\n",
      " 5   Status               336 non-null    object\n",
      " 6   Source of Financing  336 non-null    object\n",
      " 7   Sector               336 non-null    object\n",
      " 8   Sovereign            281 non-null    object\n",
      "dtypes: object(9)\n",
      "memory usage: 25.1+ KB\n"
     ]
    }
   ],
   "source": [
    "df.info()"
   ]
  },
  {
   "cell_type": "markdown",
   "id": "b46de430",
   "metadata": {
    "papermill": {
     "duration": 0.013077,
     "end_time": "2024-03-06T02:19:49.874078",
     "exception": false,
     "start_time": "2024-03-06T02:19:49.861001",
     "status": "completed"
    },
    "tags": []
   },
   "source": [
    "There is value = NULL\n",
    "\n",
    "and Edit the data type for some Columns"
   ]
  },
  {
   "cell_type": "code",
   "execution_count": 6,
   "id": "229f87de",
   "metadata": {
    "execution": {
     "iopub.execute_input": "2024-03-06T02:19:49.902707Z",
     "iopub.status.busy": "2024-03-06T02:19:49.902289Z",
     "iopub.status.idle": "2024-03-06T02:19:49.911977Z",
     "shell.execute_reply": "2024-03-06T02:19:49.910732Z"
    },
    "papermill": {
     "duration": 0.026952,
     "end_time": "2024-03-06T02:19:49.914312",
     "exception": false,
     "start_time": "2024-03-06T02:19:49.887360",
     "status": "completed"
    },
    "tags": []
   },
   "outputs": [
    {
     "data": {
      "text/plain": [
       "17"
      ]
     },
     "execution_count": 6,
     "metadata": {},
     "output_type": "execute_result"
    }
   ],
   "source": [
    "df.duplicated().sum()"
   ]
  },
  {
   "cell_type": "markdown",
   "id": "b40c0e35",
   "metadata": {
    "papermill": {
     "duration": 0.012893,
     "end_time": "2024-03-06T02:19:49.940516",
     "exception": false,
     "start_time": "2024-03-06T02:19:49.927623",
     "status": "completed"
    },
    "tags": []
   },
   "source": [
    "There is Duplicated Value"
   ]
  },
  {
   "cell_type": "code",
   "execution_count": 7,
   "id": "a8b34466",
   "metadata": {
    "execution": {
     "iopub.execute_input": "2024-03-06T02:19:49.971648Z",
     "iopub.status.busy": "2024-03-06T02:19:49.971175Z",
     "iopub.status.idle": "2024-03-06T02:19:49.981687Z",
     "shell.execute_reply": "2024-03-06T02:19:49.980255Z"
    },
    "papermill": {
     "duration": 0.030085,
     "end_time": "2024-03-06T02:19:49.984312",
     "exception": false,
     "start_time": "2024-03-06T02:19:49.954227",
     "status": "completed"
    },
    "tags": []
   },
   "outputs": [
    {
     "data": {
      "text/plain": [
       "Project Code           18\n",
       "Title                  19\n",
       "Commitment in U.A      19\n",
       "Country                19\n",
       "Starting Date          19\n",
       "Status                 19\n",
       "Source of Financing    19\n",
       "Sector                 19\n",
       "Sovereign              74\n",
       "dtype: int64"
      ]
     },
     "execution_count": 7,
     "metadata": {},
     "output_type": "execute_result"
    }
   ],
   "source": [
    "df.isna().sum()"
   ]
  },
  {
   "cell_type": "markdown",
   "id": "47d6c072",
   "metadata": {
    "papermill": {
     "duration": 0.013456,
     "end_time": "2024-03-06T02:19:50.011734",
     "exception": false,
     "start_time": "2024-03-06T02:19:49.998278",
     "status": "completed"
    },
    "tags": []
   },
   "source": [
    "There is values = NULL"
   ]
  },
  {
   "cell_type": "markdown",
   "id": "b80ce8d9",
   "metadata": {
    "papermill": {
     "duration": 0.012994,
     "end_time": "2024-03-06T02:19:50.038251",
     "exception": false,
     "start_time": "2024-03-06T02:19:50.025257",
     "status": "completed"
    },
    "tags": []
   },
   "source": [
    "# Cleaning Data "
   ]
  },
  {
   "cell_type": "code",
   "execution_count": 8,
   "id": "87d3149e",
   "metadata": {
    "execution": {
     "iopub.execute_input": "2024-03-06T02:19:50.067274Z",
     "iopub.status.busy": "2024-03-06T02:19:50.066782Z",
     "iopub.status.idle": "2024-03-06T02:19:50.078126Z",
     "shell.execute_reply": "2024-03-06T02:19:50.077077Z"
    },
    "papermill": {
     "duration": 0.028794,
     "end_time": "2024-03-06T02:19:50.080494",
     "exception": false,
     "start_time": "2024-03-06T02:19:50.051700",
     "status": "completed"
    },
    "tags": []
   },
   "outputs": [],
   "source": [
    "df.dropna(inplace= True)"
   ]
  },
  {
   "cell_type": "markdown",
   "id": "f71b220e",
   "metadata": {
    "papermill": {
     "duration": 0.013033,
     "end_time": "2024-03-06T02:19:50.107086",
     "exception": false,
     "start_time": "2024-03-06T02:19:50.094053",
     "status": "completed"
    },
    "tags": []
   },
   "source": [
    "Remove all rows have a null value"
   ]
  },
  {
   "cell_type": "code",
   "execution_count": 9,
   "id": "c30c9602",
   "metadata": {
    "execution": {
     "iopub.execute_input": "2024-03-06T02:19:50.136087Z",
     "iopub.status.busy": "2024-03-06T02:19:50.135575Z",
     "iopub.status.idle": "2024-03-06T02:19:50.149961Z",
     "shell.execute_reply": "2024-03-06T02:19:50.148512Z"
    },
    "papermill": {
     "duration": 0.032347,
     "end_time": "2024-03-06T02:19:50.152963",
     "exception": false,
     "start_time": "2024-03-06T02:19:50.120616",
     "status": "completed"
    },
    "tags": []
   },
   "outputs": [
    {
     "name": "stdout",
     "output_type": "stream",
     "text": [
      "<class 'pandas.core.frame.DataFrame'>\n",
      "Index: 280 entries, 0 to 351\n",
      "Data columns (total 9 columns):\n",
      " #   Column               Non-Null Count  Dtype \n",
      "---  ------               --------------  ----- \n",
      " 0   Project Code         280 non-null    object\n",
      " 1   Title                280 non-null    object\n",
      " 2   Commitment in U.A    280 non-null    object\n",
      " 3   Country              280 non-null    object\n",
      " 4   Starting Date        280 non-null    object\n",
      " 5   Status               280 non-null    object\n",
      " 6   Source of Financing  280 non-null    object\n",
      " 7   Sector               280 non-null    object\n",
      " 8   Sovereign            280 non-null    object\n",
      "dtypes: object(9)\n",
      "memory usage: 21.9+ KB\n"
     ]
    }
   ],
   "source": [
    "df.info()"
   ]
  },
  {
   "cell_type": "code",
   "execution_count": 10,
   "id": "163c2201",
   "metadata": {
    "execution": {
     "iopub.execute_input": "2024-03-06T02:19:50.182631Z",
     "iopub.status.busy": "2024-03-06T02:19:50.182190Z",
     "iopub.status.idle": "2024-03-06T02:19:50.189326Z",
     "shell.execute_reply": "2024-03-06T02:19:50.188281Z"
    },
    "papermill": {
     "duration": 0.024978,
     "end_time": "2024-03-06T02:19:50.191692",
     "exception": false,
     "start_time": "2024-03-06T02:19:50.166714",
     "status": "completed"
    },
    "tags": []
   },
   "outputs": [],
   "source": [
    "df.drop_duplicates(inplace=True)"
   ]
  },
  {
   "cell_type": "markdown",
   "id": "8752bd29",
   "metadata": {
    "papermill": {
     "duration": 0.013821,
     "end_time": "2024-03-06T02:19:50.219636",
     "exception": false,
     "start_time": "2024-03-06T02:19:50.205815",
     "status": "completed"
    },
    "tags": []
   },
   "source": [
    "Remove all duplicated Value"
   ]
  },
  {
   "cell_type": "code",
   "execution_count": 11,
   "id": "c8b0e1c6",
   "metadata": {
    "execution": {
     "iopub.execute_input": "2024-03-06T02:19:50.249743Z",
     "iopub.status.busy": "2024-03-06T02:19:50.248537Z",
     "iopub.status.idle": "2024-03-06T02:19:50.258216Z",
     "shell.execute_reply": "2024-03-06T02:19:50.257245Z"
    },
    "papermill": {
     "duration": 0.027279,
     "end_time": "2024-03-06T02:19:50.260543",
     "exception": false,
     "start_time": "2024-03-06T02:19:50.233264",
     "status": "completed"
    },
    "tags": []
   },
   "outputs": [
    {
     "data": {
      "text/plain": [
       "0"
      ]
     },
     "execution_count": 11,
     "metadata": {},
     "output_type": "execute_result"
    }
   ],
   "source": [
    "df.duplicated().sum()"
   ]
  },
  {
   "cell_type": "code",
   "execution_count": 12,
   "id": "660762f8",
   "metadata": {
    "execution": {
     "iopub.execute_input": "2024-03-06T02:19:50.291239Z",
     "iopub.status.busy": "2024-03-06T02:19:50.290399Z",
     "iopub.status.idle": "2024-03-06T02:19:50.302846Z",
     "shell.execute_reply": "2024-03-06T02:19:50.301229Z"
    },
    "papermill": {
     "duration": 0.030752,
     "end_time": "2024-03-06T02:19:50.305502",
     "exception": false,
     "start_time": "2024-03-06T02:19:50.274750",
     "status": "completed"
    },
    "tags": []
   },
   "outputs": [
    {
     "name": "stdout",
     "output_type": "stream",
     "text": [
      "<class 'pandas.core.frame.DataFrame'>\n",
      "Index: 280 entries, 0 to 351\n",
      "Data columns (total 9 columns):\n",
      " #   Column               Non-Null Count  Dtype \n",
      "---  ------               --------------  ----- \n",
      " 0   Project Code         280 non-null    object\n",
      " 1   Title                280 non-null    object\n",
      " 2   Commitment in U.A    280 non-null    object\n",
      " 3   Country              280 non-null    object\n",
      " 4   Starting Date        280 non-null    object\n",
      " 5   Status               280 non-null    object\n",
      " 6   Source of Financing  280 non-null    object\n",
      " 7   Sector               280 non-null    object\n",
      " 8   Sovereign            280 non-null    object\n",
      "dtypes: object(9)\n",
      "memory usage: 21.9+ KB\n"
     ]
    }
   ],
   "source": [
    "df.info()"
   ]
  },
  {
   "cell_type": "code",
   "execution_count": 13,
   "id": "215b1d46",
   "metadata": {
    "execution": {
     "iopub.execute_input": "2024-03-06T02:19:50.335769Z",
     "iopub.status.busy": "2024-03-06T02:19:50.334901Z",
     "iopub.status.idle": "2024-03-06T02:19:50.350347Z",
     "shell.execute_reply": "2024-03-06T02:19:50.349048Z"
    },
    "papermill": {
     "duration": 0.033757,
     "end_time": "2024-03-06T02:19:50.353189",
     "exception": false,
     "start_time": "2024-03-06T02:19:50.319432",
     "status": "completed"
    },
    "tags": []
   },
   "outputs": [],
   "source": [
    "df['Starting Date'] = pd.to_datetime(df['Starting Date'])"
   ]
  },
  {
   "cell_type": "markdown",
   "id": "c9b81007",
   "metadata": {
    "papermill": {
     "duration": 0.013497,
     "end_time": "2024-03-06T02:19:50.380579",
     "exception": false,
     "start_time": "2024-03-06T02:19:50.367082",
     "status": "completed"
    },
    "tags": []
   },
   "source": [
    "convert the data type from string to datetime to handle the analysis"
   ]
  },
  {
   "cell_type": "code",
   "execution_count": 14,
   "id": "9254f8a1",
   "metadata": {
    "execution": {
     "iopub.execute_input": "2024-03-06T02:19:50.410080Z",
     "iopub.status.busy": "2024-03-06T02:19:50.409694Z",
     "iopub.status.idle": "2024-03-06T02:19:50.427128Z",
     "shell.execute_reply": "2024-03-06T02:19:50.425728Z"
    },
    "papermill": {
     "duration": 0.035404,
     "end_time": "2024-03-06T02:19:50.429888",
     "exception": false,
     "start_time": "2024-03-06T02:19:50.394484",
     "status": "completed"
    },
    "tags": []
   },
   "outputs": [
    {
     "data": {
      "text/html": [
       "<div>\n",
       "<style scoped>\n",
       "    .dataframe tbody tr th:only-of-type {\n",
       "        vertical-align: middle;\n",
       "    }\n",
       "\n",
       "    .dataframe tbody tr th {\n",
       "        vertical-align: top;\n",
       "    }\n",
       "\n",
       "    .dataframe thead th {\n",
       "        text-align: right;\n",
       "    }\n",
       "</style>\n",
       "<table border=\"1\" class=\"dataframe\">\n",
       "  <thead>\n",
       "    <tr style=\"text-align: right;\">\n",
       "      <th></th>\n",
       "      <th>Project Code</th>\n",
       "      <th>Title</th>\n",
       "      <th>Commitment in U.A</th>\n",
       "      <th>Country</th>\n",
       "      <th>Starting Date</th>\n",
       "      <th>Status</th>\n",
       "      <th>Source of Financing</th>\n",
       "      <th>Sector</th>\n",
       "      <th>Sovereign</th>\n",
       "    </tr>\n",
       "  </thead>\n",
       "  <tbody>\n",
       "    <tr>\n",
       "      <th>0</th>\n",
       "      <td>P-MG-H00-002</td>\n",
       "      <td>Madagascar - Industrialisation and Financial S...</td>\n",
       "      <td>12,080,000.00</td>\n",
       "      <td>Madagascar</td>\n",
       "      <td>2020-10-28</td>\n",
       "      <td>Approved</td>\n",
       "      <td>African Development Fund</td>\n",
       "      <td>Finance</td>\n",
       "      <td>Sovereign</td>\n",
       "    </tr>\n",
       "    <tr>\n",
       "      <th>1</th>\n",
       "      <td>P-Z1-H00-063</td>\n",
       "      <td>Multinational - Domestic debt markets developm...</td>\n",
       "      <td>1,500,000.00</td>\n",
       "      <td>Multinational</td>\n",
       "      <td>2020-10-13</td>\n",
       "      <td>Implementation</td>\n",
       "      <td>Fragile States Facility</td>\n",
       "      <td>Finance</td>\n",
       "      <td>Sovereign</td>\n",
       "    </tr>\n",
       "    <tr>\n",
       "      <th>2</th>\n",
       "      <td>P-MG-HAZ-001</td>\n",
       "      <td>Madagascar - SME Business Linkages Program</td>\n",
       "      <td>1,000,000.00</td>\n",
       "      <td>Madagascar</td>\n",
       "      <td>2020-05-15</td>\n",
       "      <td>Implementation</td>\n",
       "      <td>Fragile States Facility</td>\n",
       "      <td>Finance</td>\n",
       "      <td>Sovereign</td>\n",
       "    </tr>\n",
       "    <tr>\n",
       "      <th>3</th>\n",
       "      <td>P-MU-H00-004</td>\n",
       "      <td>Mauritius - Stock Exchange Mauritius (SEM) Pro...</td>\n",
       "      <td>430,000.00</td>\n",
       "      <td>Mauritius</td>\n",
       "      <td>2020-04-27</td>\n",
       "      <td>Implementation</td>\n",
       "      <td>Middle Income Countries Fund</td>\n",
       "      <td>Finance</td>\n",
       "      <td>Sovereign</td>\n",
       "    </tr>\n",
       "    <tr>\n",
       "      <th>4</th>\n",
       "      <td>P-AO-HAB-009</td>\n",
       "      <td>Angola - Line of Credit to « Banco Millennium ...</td>\n",
       "      <td>23,415,605.04</td>\n",
       "      <td>Angola</td>\n",
       "      <td>2020-04-15</td>\n",
       "      <td>Approved</td>\n",
       "      <td>African Development Bank</td>\n",
       "      <td>Finance</td>\n",
       "      <td>Non Sovereign</td>\n",
       "    </tr>\n",
       "  </tbody>\n",
       "</table>\n",
       "</div>"
      ],
      "text/plain": [
       "   Project Code                                              Title  \\\n",
       "0  P-MG-H00-002  Madagascar - Industrialisation and Financial S...   \n",
       "1  P-Z1-H00-063  Multinational - Domestic debt markets developm...   \n",
       "2  P-MG-HAZ-001         Madagascar - SME Business Linkages Program   \n",
       "3  P-MU-H00-004  Mauritius - Stock Exchange Mauritius (SEM) Pro...   \n",
       "4  P-AO-HAB-009  Angola - Line of Credit to « Banco Millennium ...   \n",
       "\n",
       "  Commitment in U.A        Country Starting Date          Status  \\\n",
       "0     12,080,000.00     Madagascar    2020-10-28        Approved   \n",
       "1      1,500,000.00  Multinational    2020-10-13  Implementation   \n",
       "2      1,000,000.00     Madagascar    2020-05-15  Implementation   \n",
       "3        430,000.00      Mauritius    2020-04-27  Implementation   \n",
       "4     23,415,605.04         Angola    2020-04-15        Approved   \n",
       "\n",
       "            Source of Financing   Sector      Sovereign  \n",
       "0      African Development Fund  Finance      Sovereign  \n",
       "1       Fragile States Facility  Finance      Sovereign  \n",
       "2       Fragile States Facility  Finance      Sovereign  \n",
       "3  Middle Income Countries Fund  Finance      Sovereign  \n",
       "4      African Development Bank  Finance  Non Sovereign  "
      ]
     },
     "execution_count": 14,
     "metadata": {},
     "output_type": "execute_result"
    }
   ],
   "source": [
    "df.head()"
   ]
  },
  {
   "cell_type": "code",
   "execution_count": 15,
   "id": "f8350509",
   "metadata": {
    "execution": {
     "iopub.execute_input": "2024-03-06T02:19:50.461129Z",
     "iopub.status.busy": "2024-03-06T02:19:50.460719Z",
     "iopub.status.idle": "2024-03-06T02:19:50.468577Z",
     "shell.execute_reply": "2024-03-06T02:19:50.467214Z"
    },
    "papermill": {
     "duration": 0.026458,
     "end_time": "2024-03-06T02:19:50.471163",
     "exception": false,
     "start_time": "2024-03-06T02:19:50.444705",
     "status": "completed"
    },
    "tags": []
   },
   "outputs": [],
   "source": [
    "df['starting_year'] = df['Starting Date'].dt.year"
   ]
  },
  {
   "cell_type": "markdown",
   "id": "1fa01ad5",
   "metadata": {
    "papermill": {
     "duration": 0.013845,
     "end_time": "2024-03-06T02:19:50.499377",
     "exception": false,
     "start_time": "2024-03-06T02:19:50.485532",
     "status": "completed"
    },
    "tags": []
   },
   "source": [
    "Make Column included the value for year only becouse i will deal with year = 2019"
   ]
  },
  {
   "cell_type": "code",
   "execution_count": 16,
   "id": "26f806e2",
   "metadata": {
    "execution": {
     "iopub.execute_input": "2024-03-06T02:19:50.529930Z",
     "iopub.status.busy": "2024-03-06T02:19:50.529380Z",
     "iopub.status.idle": "2024-03-06T02:19:50.547611Z",
     "shell.execute_reply": "2024-03-06T02:19:50.546438Z"
    },
    "papermill": {
     "duration": 0.036697,
     "end_time": "2024-03-06T02:19:50.550303",
     "exception": false,
     "start_time": "2024-03-06T02:19:50.513606",
     "status": "completed"
    },
    "tags": []
   },
   "outputs": [
    {
     "data": {
      "text/html": [
       "<div>\n",
       "<style scoped>\n",
       "    .dataframe tbody tr th:only-of-type {\n",
       "        vertical-align: middle;\n",
       "    }\n",
       "\n",
       "    .dataframe tbody tr th {\n",
       "        vertical-align: top;\n",
       "    }\n",
       "\n",
       "    .dataframe thead th {\n",
       "        text-align: right;\n",
       "    }\n",
       "</style>\n",
       "<table border=\"1\" class=\"dataframe\">\n",
       "  <thead>\n",
       "    <tr style=\"text-align: right;\">\n",
       "      <th></th>\n",
       "      <th>Project Code</th>\n",
       "      <th>Title</th>\n",
       "      <th>Commitment in U.A</th>\n",
       "      <th>Country</th>\n",
       "      <th>Starting Date</th>\n",
       "      <th>Status</th>\n",
       "      <th>Source of Financing</th>\n",
       "      <th>Sector</th>\n",
       "      <th>Sovereign</th>\n",
       "      <th>starting_year</th>\n",
       "    </tr>\n",
       "  </thead>\n",
       "  <tbody>\n",
       "    <tr>\n",
       "      <th>0</th>\n",
       "      <td>P-MG-H00-002</td>\n",
       "      <td>Madagascar - Industrialisation and Financial S...</td>\n",
       "      <td>12,080,000.00</td>\n",
       "      <td>Madagascar</td>\n",
       "      <td>2020-10-28</td>\n",
       "      <td>Approved</td>\n",
       "      <td>African Development Fund</td>\n",
       "      <td>Finance</td>\n",
       "      <td>Sovereign</td>\n",
       "      <td>2020</td>\n",
       "    </tr>\n",
       "    <tr>\n",
       "      <th>1</th>\n",
       "      <td>P-Z1-H00-063</td>\n",
       "      <td>Multinational - Domestic debt markets developm...</td>\n",
       "      <td>1,500,000.00</td>\n",
       "      <td>Multinational</td>\n",
       "      <td>2020-10-13</td>\n",
       "      <td>Implementation</td>\n",
       "      <td>Fragile States Facility</td>\n",
       "      <td>Finance</td>\n",
       "      <td>Sovereign</td>\n",
       "      <td>2020</td>\n",
       "    </tr>\n",
       "    <tr>\n",
       "      <th>2</th>\n",
       "      <td>P-MG-HAZ-001</td>\n",
       "      <td>Madagascar - SME Business Linkages Program</td>\n",
       "      <td>1,000,000.00</td>\n",
       "      <td>Madagascar</td>\n",
       "      <td>2020-05-15</td>\n",
       "      <td>Implementation</td>\n",
       "      <td>Fragile States Facility</td>\n",
       "      <td>Finance</td>\n",
       "      <td>Sovereign</td>\n",
       "      <td>2020</td>\n",
       "    </tr>\n",
       "    <tr>\n",
       "      <th>3</th>\n",
       "      <td>P-MU-H00-004</td>\n",
       "      <td>Mauritius - Stock Exchange Mauritius (SEM) Pro...</td>\n",
       "      <td>430,000.00</td>\n",
       "      <td>Mauritius</td>\n",
       "      <td>2020-04-27</td>\n",
       "      <td>Implementation</td>\n",
       "      <td>Middle Income Countries Fund</td>\n",
       "      <td>Finance</td>\n",
       "      <td>Sovereign</td>\n",
       "      <td>2020</td>\n",
       "    </tr>\n",
       "    <tr>\n",
       "      <th>4</th>\n",
       "      <td>P-AO-HAB-009</td>\n",
       "      <td>Angola - Line of Credit to « Banco Millennium ...</td>\n",
       "      <td>23,415,605.04</td>\n",
       "      <td>Angola</td>\n",
       "      <td>2020-04-15</td>\n",
       "      <td>Approved</td>\n",
       "      <td>African Development Bank</td>\n",
       "      <td>Finance</td>\n",
       "      <td>Non Sovereign</td>\n",
       "      <td>2020</td>\n",
       "    </tr>\n",
       "  </tbody>\n",
       "</table>\n",
       "</div>"
      ],
      "text/plain": [
       "   Project Code                                              Title  \\\n",
       "0  P-MG-H00-002  Madagascar - Industrialisation and Financial S...   \n",
       "1  P-Z1-H00-063  Multinational - Domestic debt markets developm...   \n",
       "2  P-MG-HAZ-001         Madagascar - SME Business Linkages Program   \n",
       "3  P-MU-H00-004  Mauritius - Stock Exchange Mauritius (SEM) Pro...   \n",
       "4  P-AO-HAB-009  Angola - Line of Credit to « Banco Millennium ...   \n",
       "\n",
       "  Commitment in U.A        Country Starting Date          Status  \\\n",
       "0     12,080,000.00     Madagascar    2020-10-28        Approved   \n",
       "1      1,500,000.00  Multinational    2020-10-13  Implementation   \n",
       "2      1,000,000.00     Madagascar    2020-05-15  Implementation   \n",
       "3        430,000.00      Mauritius    2020-04-27  Implementation   \n",
       "4     23,415,605.04         Angola    2020-04-15        Approved   \n",
       "\n",
       "            Source of Financing   Sector      Sovereign  starting_year  \n",
       "0      African Development Fund  Finance      Sovereign           2020  \n",
       "1       Fragile States Facility  Finance      Sovereign           2020  \n",
       "2       Fragile States Facility  Finance      Sovereign           2020  \n",
       "3  Middle Income Countries Fund  Finance      Sovereign           2020  \n",
       "4      African Development Bank  Finance  Non Sovereign           2020  "
      ]
     },
     "execution_count": 16,
     "metadata": {},
     "output_type": "execute_result"
    }
   ],
   "source": [
    "df.head()"
   ]
  },
  {
   "cell_type": "code",
   "execution_count": 17,
   "id": "68405d04",
   "metadata": {
    "execution": {
     "iopub.execute_input": "2024-03-06T02:19:50.582452Z",
     "iopub.status.busy": "2024-03-06T02:19:50.581989Z",
     "iopub.status.idle": "2024-03-06T02:19:50.589506Z",
     "shell.execute_reply": "2024-03-06T02:19:50.588050Z"
    },
    "papermill": {
     "duration": 0.026972,
     "end_time": "2024-03-06T02:19:50.592194",
     "exception": false,
     "start_time": "2024-03-06T02:19:50.565222",
     "status": "completed"
    },
    "tags": []
   },
   "outputs": [],
   "source": [
    "newdf = df[df['starting_year'] == 2019]"
   ]
  },
  {
   "cell_type": "markdown",
   "id": "6265ff92",
   "metadata": {
    "papermill": {
     "duration": 0.014859,
     "end_time": "2024-03-06T02:19:50.622953",
     "exception": false,
     "start_time": "2024-03-06T02:19:50.608094",
     "status": "completed"
    },
    "tags": []
   },
   "source": [
    "Work at this data from 2019"
   ]
  },
  {
   "cell_type": "code",
   "execution_count": 18,
   "id": "f95f3a3e",
   "metadata": {
    "execution": {
     "iopub.execute_input": "2024-03-06T02:19:50.656213Z",
     "iopub.status.busy": "2024-03-06T02:19:50.655688Z",
     "iopub.status.idle": "2024-03-06T02:19:50.674894Z",
     "shell.execute_reply": "2024-03-06T02:19:50.673574Z"
    },
    "papermill": {
     "duration": 0.038687,
     "end_time": "2024-03-06T02:19:50.677660",
     "exception": false,
     "start_time": "2024-03-06T02:19:50.638973",
     "status": "completed"
    },
    "tags": []
   },
   "outputs": [
    {
     "data": {
      "text/html": [
       "<div>\n",
       "<style scoped>\n",
       "    .dataframe tbody tr th:only-of-type {\n",
       "        vertical-align: middle;\n",
       "    }\n",
       "\n",
       "    .dataframe tbody tr th {\n",
       "        vertical-align: top;\n",
       "    }\n",
       "\n",
       "    .dataframe thead th {\n",
       "        text-align: right;\n",
       "    }\n",
       "</style>\n",
       "<table border=\"1\" class=\"dataframe\">\n",
       "  <thead>\n",
       "    <tr style=\"text-align: right;\">\n",
       "      <th></th>\n",
       "      <th>Project Code</th>\n",
       "      <th>Title</th>\n",
       "      <th>Commitment in U.A</th>\n",
       "      <th>Country</th>\n",
       "      <th>Starting Date</th>\n",
       "      <th>Status</th>\n",
       "      <th>Source of Financing</th>\n",
       "      <th>Sector</th>\n",
       "      <th>Sovereign</th>\n",
       "      <th>starting_year</th>\n",
       "    </tr>\n",
       "  </thead>\n",
       "  <tbody>\n",
       "    <tr>\n",
       "      <th>10</th>\n",
       "      <td>P-ML-HZ0-001</td>\n",
       "      <td>Mali - African Trade Insurance Agency (ATI): C...</td>\n",
       "      <td>7,290,000.00</td>\n",
       "      <td>Mali</td>\n",
       "      <td>2019-12-05</td>\n",
       "      <td>Approved</td>\n",
       "      <td>African Development Fund</td>\n",
       "      <td>Finance</td>\n",
       "      <td>Sovereign</td>\n",
       "      <td>2019</td>\n",
       "    </tr>\n",
       "    <tr>\n",
       "      <th>11</th>\n",
       "      <td>P-KE-HAB-030</td>\n",
       "      <td>Kenya - Equity Group Holdings Plc</td>\n",
       "      <td>73,173,765.74</td>\n",
       "      <td>Kenya</td>\n",
       "      <td>2019-11-28</td>\n",
       "      <td>Approved</td>\n",
       "      <td>African Development Bank</td>\n",
       "      <td>Finance</td>\n",
       "      <td>Non Sovereign</td>\n",
       "      <td>2019</td>\n",
       "    </tr>\n",
       "    <tr>\n",
       "      <th>12</th>\n",
       "      <td>P-MA-HAA-012</td>\n",
       "      <td>Morocco - \"Fonds dEquipement Communal (FEC)\"</td>\n",
       "      <td>79,781,717.22</td>\n",
       "      <td>Morocco</td>\n",
       "      <td>2019-11-28</td>\n",
       "      <td>Approved</td>\n",
       "      <td>African Development Bank</td>\n",
       "      <td>Finance</td>\n",
       "      <td>Non Sovereign</td>\n",
       "      <td>2019</td>\n",
       "    </tr>\n",
       "    <tr>\n",
       "      <th>13</th>\n",
       "      <td>P-Z1-HB0-064</td>\n",
       "      <td>Multinational  Project for Digitisation of Go...</td>\n",
       "      <td>1,258,000.00</td>\n",
       "      <td>Multinational</td>\n",
       "      <td>2019-11-25</td>\n",
       "      <td>Implementation</td>\n",
       "      <td>Fragile States Facility</td>\n",
       "      <td>Finance</td>\n",
       "      <td>Sovereign</td>\n",
       "      <td>2019</td>\n",
       "    </tr>\n",
       "    <tr>\n",
       "      <th>14</th>\n",
       "      <td>P-Z1-HB0-071</td>\n",
       "      <td>SIERRA LEONE - Government Payments Digitizatio...</td>\n",
       "      <td>279,000.00</td>\n",
       "      <td>Multinational</td>\n",
       "      <td>2019-11-25</td>\n",
       "      <td>Approved</td>\n",
       "      <td>Fragile States Facility</td>\n",
       "      <td>Finance</td>\n",
       "      <td>Sovereign</td>\n",
       "      <td>2019</td>\n",
       "    </tr>\n",
       "  </tbody>\n",
       "</table>\n",
       "</div>"
      ],
      "text/plain": [
       "    Project Code                                              Title  \\\n",
       "10  P-ML-HZ0-001  Mali - African Trade Insurance Agency (ATI): C...   \n",
       "11  P-KE-HAB-030                  Kenya - Equity Group Holdings Plc   \n",
       "12  P-MA-HAA-012      Morocco - \"Fonds dEquipement Communal (FEC)\"   \n",
       "13  P-Z1-HB0-064  Multinational  Project for Digitisation of Go...   \n",
       "14  P-Z1-HB0-071  SIERRA LEONE - Government Payments Digitizatio...   \n",
       "\n",
       "   Commitment in U.A        Country Starting Date          Status  \\\n",
       "10      7,290,000.00           Mali    2019-12-05        Approved   \n",
       "11     73,173,765.74          Kenya    2019-11-28        Approved   \n",
       "12     79,781,717.22        Morocco    2019-11-28        Approved   \n",
       "13      1,258,000.00  Multinational    2019-11-25  Implementation   \n",
       "14        279,000.00  Multinational    2019-11-25        Approved   \n",
       "\n",
       "         Source of Financing   Sector      Sovereign  starting_year  \n",
       "10  African Development Fund  Finance      Sovereign           2019  \n",
       "11  African Development Bank  Finance  Non Sovereign           2019  \n",
       "12  African Development Bank  Finance  Non Sovereign           2019  \n",
       "13   Fragile States Facility  Finance      Sovereign           2019  \n",
       "14   Fragile States Facility  Finance      Sovereign           2019  "
      ]
     },
     "execution_count": 18,
     "metadata": {},
     "output_type": "execute_result"
    }
   ],
   "source": [
    "newdf.head()"
   ]
  },
  {
   "cell_type": "markdown",
   "id": "399ecd7e",
   "metadata": {
    "papermill": {
     "duration": 0.014518,
     "end_time": "2024-03-06T02:19:50.707117",
     "exception": false,
     "start_time": "2024-03-06T02:19:50.692599",
     "status": "completed"
    },
    "tags": []
   },
   "source": [
    "# now we need to work only one year 2019 not on the entire date\n"
   ]
  },
  {
   "cell_type": "code",
   "execution_count": 19,
   "id": "0513f463",
   "metadata": {
    "execution": {
     "iopub.execute_input": "2024-03-06T02:19:50.740508Z",
     "iopub.status.busy": "2024-03-06T02:19:50.739957Z",
     "iopub.status.idle": "2024-03-06T02:19:50.750300Z",
     "shell.execute_reply": "2024-03-06T02:19:50.749225Z"
    },
    "papermill": {
     "duration": 0.031057,
     "end_time": "2024-03-06T02:19:50.753014",
     "exception": false,
     "start_time": "2024-03-06T02:19:50.721957",
     "status": "completed"
    },
    "tags": []
   },
   "outputs": [
    {
     "name": "stderr",
     "output_type": "stream",
     "text": [
      "/tmp/ipykernel_18/778306601.py:1: SettingWithCopyWarning: \n",
      "A value is trying to be set on a copy of a slice from a DataFrame\n",
      "\n",
      "See the caveats in the documentation: https://pandas.pydata.org/pandas-docs/stable/user_guide/indexing.html#returning-a-view-versus-a-copy\n",
      "  newdf.drop(['Project Code', 'Title', 'Starting Date', 'Status', 'Source of Financing', 'Sector', 'Sovereign'], axis=1,inplace=True)\n"
     ]
    }
   ],
   "source": [
    "newdf.drop(['Project Code', 'Title', 'Starting Date', 'Status', 'Source of Financing', 'Sector', 'Sovereign'], axis=1,inplace=True)"
   ]
  },
  {
   "cell_type": "markdown",
   "id": "fabcf15d",
   "metadata": {
    "papermill": {
     "duration": 0.014783,
     "end_time": "2024-03-06T02:19:50.782829",
     "exception": false,
     "start_time": "2024-03-06T02:19:50.768046",
     "status": "completed"
    },
    "tags": []
   },
   "source": [
    "Remove Column that i not use it"
   ]
  },
  {
   "cell_type": "code",
   "execution_count": 20,
   "id": "70a4c53e",
   "metadata": {
    "execution": {
     "iopub.execute_input": "2024-03-06T02:19:50.815240Z",
     "iopub.status.busy": "2024-03-06T02:19:50.814775Z",
     "iopub.status.idle": "2024-03-06T02:19:50.827871Z",
     "shell.execute_reply": "2024-03-06T02:19:50.826337Z"
    },
    "papermill": {
     "duration": 0.032566,
     "end_time": "2024-03-06T02:19:50.830395",
     "exception": false,
     "start_time": "2024-03-06T02:19:50.797829",
     "status": "completed"
    },
    "tags": []
   },
   "outputs": [
    {
     "data": {
      "text/html": [
       "<div>\n",
       "<style scoped>\n",
       "    .dataframe tbody tr th:only-of-type {\n",
       "        vertical-align: middle;\n",
       "    }\n",
       "\n",
       "    .dataframe tbody tr th {\n",
       "        vertical-align: top;\n",
       "    }\n",
       "\n",
       "    .dataframe thead th {\n",
       "        text-align: right;\n",
       "    }\n",
       "</style>\n",
       "<table border=\"1\" class=\"dataframe\">\n",
       "  <thead>\n",
       "    <tr style=\"text-align: right;\">\n",
       "      <th></th>\n",
       "      <th>Commitment in U.A</th>\n",
       "      <th>Country</th>\n",
       "      <th>starting_year</th>\n",
       "    </tr>\n",
       "  </thead>\n",
       "  <tbody>\n",
       "    <tr>\n",
       "      <th>10</th>\n",
       "      <td>7,290,000.00</td>\n",
       "      <td>Mali</td>\n",
       "      <td>2019</td>\n",
       "    </tr>\n",
       "    <tr>\n",
       "      <th>11</th>\n",
       "      <td>73,173,765.74</td>\n",
       "      <td>Kenya</td>\n",
       "      <td>2019</td>\n",
       "    </tr>\n",
       "    <tr>\n",
       "      <th>12</th>\n",
       "      <td>79,781,717.22</td>\n",
       "      <td>Morocco</td>\n",
       "      <td>2019</td>\n",
       "    </tr>\n",
       "    <tr>\n",
       "      <th>13</th>\n",
       "      <td>1,258,000.00</td>\n",
       "      <td>Multinational</td>\n",
       "      <td>2019</td>\n",
       "    </tr>\n",
       "    <tr>\n",
       "      <th>14</th>\n",
       "      <td>279,000.00</td>\n",
       "      <td>Multinational</td>\n",
       "      <td>2019</td>\n",
       "    </tr>\n",
       "  </tbody>\n",
       "</table>\n",
       "</div>"
      ],
      "text/plain": [
       "   Commitment in U.A        Country  starting_year\n",
       "10      7,290,000.00           Mali           2019\n",
       "11     73,173,765.74          Kenya           2019\n",
       "12     79,781,717.22        Morocco           2019\n",
       "13      1,258,000.00  Multinational           2019\n",
       "14        279,000.00  Multinational           2019"
      ]
     },
     "execution_count": 20,
     "metadata": {},
     "output_type": "execute_result"
    }
   ],
   "source": [
    "newdf.head()"
   ]
  },
  {
   "cell_type": "code",
   "execution_count": 21,
   "id": "0a791e01",
   "metadata": {
    "execution": {
     "iopub.execute_input": "2024-03-06T02:19:50.863107Z",
     "iopub.status.busy": "2024-03-06T02:19:50.862686Z",
     "iopub.status.idle": "2024-03-06T02:19:50.876469Z",
     "shell.execute_reply": "2024-03-06T02:19:50.875394Z"
    },
    "papermill": {
     "duration": 0.033532,
     "end_time": "2024-03-06T02:19:50.879078",
     "exception": false,
     "start_time": "2024-03-06T02:19:50.845546",
     "status": "completed"
    },
    "tags": []
   },
   "outputs": [
    {
     "name": "stdout",
     "output_type": "stream",
     "text": [
      "<class 'pandas.core.frame.DataFrame'>\n",
      "Index: 26 entries, 10 to 36\n",
      "Data columns (total 3 columns):\n",
      " #   Column             Non-Null Count  Dtype \n",
      "---  ------             --------------  ----- \n",
      " 0   Commitment in U.A  26 non-null     object\n",
      " 1   Country            26 non-null     object\n",
      " 2   starting_year      26 non-null     int32 \n",
      "dtypes: int32(1), object(2)\n",
      "memory usage: 728.0+ bytes\n"
     ]
    }
   ],
   "source": [
    "newdf.info()"
   ]
  },
  {
   "cell_type": "markdown",
   "id": "60cc4b9f",
   "metadata": {
    "papermill": {
     "duration": 0.015167,
     "end_time": "2024-03-06T02:19:50.909880",
     "exception": false,
     "start_time": "2024-03-06T02:19:50.894713",
     "status": "completed"
    },
    "tags": []
   },
   "source": [
    "<h2>should Convert the Commitment in U.A to number<h2>\n",
    "    but should convert number from string with remove ',' and after that convert to number"
   ]
  },
  {
   "cell_type": "code",
   "execution_count": 22,
   "id": "65724a5d",
   "metadata": {
    "execution": {
     "iopub.execute_input": "2024-03-06T02:19:51.007737Z",
     "iopub.status.busy": "2024-03-06T02:19:51.007312Z",
     "iopub.status.idle": "2024-03-06T02:19:51.017141Z",
     "shell.execute_reply": "2024-03-06T02:19:51.015467Z"
    },
    "papermill": {
     "duration": 0.029874,
     "end_time": "2024-03-06T02:19:51.019540",
     "exception": false,
     "start_time": "2024-03-06T02:19:50.989666",
     "status": "completed"
    },
    "tags": []
   },
   "outputs": [
    {
     "name": "stderr",
     "output_type": "stream",
     "text": [
      "/tmp/ipykernel_18/2722045369.py:1: SettingWithCopyWarning: \n",
      "A value is trying to be set on a copy of a slice from a DataFrame.\n",
      "Try using .loc[row_indexer,col_indexer] = value instead\n",
      "\n",
      "See the caveats in the documentation: https://pandas.pydata.org/pandas-docs/stable/user_guide/indexing.html#returning-a-view-versus-a-copy\n",
      "  newdf['Commitment in U.A'] = newdf['Commitment in U.A'].str.replace(r',', '')\n",
      "/tmp/ipykernel_18/2722045369.py:2: SettingWithCopyWarning: \n",
      "A value is trying to be set on a copy of a slice from a DataFrame.\n",
      "Try using .loc[row_indexer,col_indexer] = value instead\n",
      "\n",
      "See the caveats in the documentation: https://pandas.pydata.org/pandas-docs/stable/user_guide/indexing.html#returning-a-view-versus-a-copy\n",
      "  newdf['Commitment in U.A'] = newdf['Commitment in U.A'].apply(pd.to_numeric)\n"
     ]
    }
   ],
   "source": [
    "newdf['Commitment in U.A'] = newdf['Commitment in U.A'].str.replace(r',', '')\n",
    "newdf['Commitment in U.A'] = newdf['Commitment in U.A'].apply(pd.to_numeric)"
   ]
  },
  {
   "cell_type": "code",
   "execution_count": 23,
   "id": "7f4203c2",
   "metadata": {
    "execution": {
     "iopub.execute_input": "2024-03-06T02:19:51.052887Z",
     "iopub.status.busy": "2024-03-06T02:19:51.052462Z",
     "iopub.status.idle": "2024-03-06T02:19:51.064951Z",
     "shell.execute_reply": "2024-03-06T02:19:51.063462Z"
    },
    "papermill": {
     "duration": 0.032367,
     "end_time": "2024-03-06T02:19:51.067621",
     "exception": false,
     "start_time": "2024-03-06T02:19:51.035254",
     "status": "completed"
    },
    "tags": []
   },
   "outputs": [
    {
     "name": "stdout",
     "output_type": "stream",
     "text": [
      "<class 'pandas.core.frame.DataFrame'>\n",
      "Index: 26 entries, 10 to 36\n",
      "Data columns (total 3 columns):\n",
      " #   Column             Non-Null Count  Dtype  \n",
      "---  ------             --------------  -----  \n",
      " 0   Commitment in U.A  26 non-null     float64\n",
      " 1   Country            26 non-null     object \n",
      " 2   starting_year      26 non-null     int32  \n",
      "dtypes: float64(1), int32(1), object(1)\n",
      "memory usage: 728.0+ bytes\n"
     ]
    }
   ],
   "source": [
    "newdf.info()"
   ]
  },
  {
   "cell_type": "code",
   "execution_count": 24,
   "id": "b50c4ec7",
   "metadata": {
    "execution": {
     "iopub.execute_input": "2024-03-06T02:19:51.101264Z",
     "iopub.status.busy": "2024-03-06T02:19:51.100751Z",
     "iopub.status.idle": "2024-03-06T02:19:51.114542Z",
     "shell.execute_reply": "2024-03-06T02:19:51.113596Z"
    },
    "papermill": {
     "duration": 0.033362,
     "end_time": "2024-03-06T02:19:51.116878",
     "exception": false,
     "start_time": "2024-03-06T02:19:51.083516",
     "status": "completed"
    },
    "tags": []
   },
   "outputs": [
    {
     "data": {
      "text/html": [
       "<div>\n",
       "<style scoped>\n",
       "    .dataframe tbody tr th:only-of-type {\n",
       "        vertical-align: middle;\n",
       "    }\n",
       "\n",
       "    .dataframe tbody tr th {\n",
       "        vertical-align: top;\n",
       "    }\n",
       "\n",
       "    .dataframe thead th {\n",
       "        text-align: right;\n",
       "    }\n",
       "</style>\n",
       "<table border=\"1\" class=\"dataframe\">\n",
       "  <thead>\n",
       "    <tr style=\"text-align: right;\">\n",
       "      <th></th>\n",
       "      <th>Country</th>\n",
       "      <th>count</th>\n",
       "    </tr>\n",
       "  </thead>\n",
       "  <tbody>\n",
       "    <tr>\n",
       "      <th>0</th>\n",
       "      <td>Multinational</td>\n",
       "      <td>10</td>\n",
       "    </tr>\n",
       "    <tr>\n",
       "      <th>1</th>\n",
       "      <td>Tunisia</td>\n",
       "      <td>4</td>\n",
       "    </tr>\n",
       "    <tr>\n",
       "      <th>2</th>\n",
       "      <td>Kenya</td>\n",
       "      <td>3</td>\n",
       "    </tr>\n",
       "    <tr>\n",
       "      <th>3</th>\n",
       "      <td>Mali</td>\n",
       "      <td>1</td>\n",
       "    </tr>\n",
       "    <tr>\n",
       "      <th>4</th>\n",
       "      <td>Morocco</td>\n",
       "      <td>1</td>\n",
       "    </tr>\n",
       "    <tr>\n",
       "      <th>5</th>\n",
       "      <td>Guinea</td>\n",
       "      <td>1</td>\n",
       "    </tr>\n",
       "    <tr>\n",
       "      <th>6</th>\n",
       "      <td>Senegal</td>\n",
       "      <td>1</td>\n",
       "    </tr>\n",
       "    <tr>\n",
       "      <th>7</th>\n",
       "      <td>Rwanda</td>\n",
       "      <td>1</td>\n",
       "    </tr>\n",
       "    <tr>\n",
       "      <th>8</th>\n",
       "      <td>Mozambique</td>\n",
       "      <td>1</td>\n",
       "    </tr>\n",
       "    <tr>\n",
       "      <th>9</th>\n",
       "      <td>Madagascar</td>\n",
       "      <td>1</td>\n",
       "    </tr>\n",
       "    <tr>\n",
       "      <th>10</th>\n",
       "      <td>Botswana</td>\n",
       "      <td>1</td>\n",
       "    </tr>\n",
       "    <tr>\n",
       "      <th>11</th>\n",
       "      <td>Nigeria</td>\n",
       "      <td>1</td>\n",
       "    </tr>\n",
       "  </tbody>\n",
       "</table>\n",
       "</div>"
      ],
      "text/plain": [
       "          Country  count\n",
       "0   Multinational     10\n",
       "1         Tunisia      4\n",
       "2           Kenya      3\n",
       "3            Mali      1\n",
       "4         Morocco      1\n",
       "5          Guinea      1\n",
       "6         Senegal      1\n",
       "7          Rwanda      1\n",
       "8      Mozambique      1\n",
       "9      Madagascar      1\n",
       "10       Botswana      1\n",
       "11        Nigeria      1"
      ]
     },
     "execution_count": 24,
     "metadata": {},
     "output_type": "execute_result"
    }
   ],
   "source": [
    "newdf['Country'].value_counts().reset_index()"
   ]
  },
  {
   "cell_type": "markdown",
   "id": "2618a80e",
   "metadata": {
    "papermill": {
     "duration": 0.016107,
     "end_time": "2024-03-06T02:19:51.148937",
     "exception": false,
     "start_time": "2024-03-06T02:19:51.132830",
     "status": "completed"
    },
    "tags": []
   },
   "source": [
    "The number of each country with Commitment in U.A in data"
   ]
  },
  {
   "cell_type": "code",
   "execution_count": 25,
   "id": "2e45ec58",
   "metadata": {
    "execution": {
     "iopub.execute_input": "2024-03-06T02:19:51.183648Z",
     "iopub.status.busy": "2024-03-06T02:19:51.182859Z",
     "iopub.status.idle": "2024-03-06T02:19:51.739365Z",
     "shell.execute_reply": "2024-03-06T02:19:51.738121Z"
    },
    "papermill": {
     "duration": 0.577169,
     "end_time": "2024-03-06T02:19:51.742190",
     "exception": false,
     "start_time": "2024-03-06T02:19:51.165021",
     "status": "completed"
    },
    "tags": []
   },
   "outputs": [
    {
     "data": {
      "image/png": "[encoded data removed]",
      "text/plain": [
       "<Figure size 1000x800 with 1 Axes>"
      ]
     },
     "metadata": {},
     "output_type": "display_data"
    }
   ],
   "source": [
    "plt.figure(figsize=(10,8))\n",
    "plt.bar(newdf['Country'],newdf['Commitment in U.A'], label='Country')\n",
    "plt.xticks(rotation=90)\n",
    "plt.title(\"Commitment in U.A and Country\")\n",
    "plt.xlabel('Country')\n",
    "plt.ylabel('Commitment in U.A')\n",
    "plt.legend()\n",
    "plt.show()"
   ]
  },
  {
   "cell_type": "markdown",
   "id": "85e91d1c",
   "metadata": {
    "papermill": {
     "duration": 0.016251,
     "end_time": "2024-03-06T02:19:51.775838",
     "exception": false,
     "start_time": "2024-03-06T02:19:51.759587",
     "status": "completed"
    },
    "tags": []
   },
   "source": [
    "From Graph then Multinational is the greater of Commitment in U.A and Madagascar is Smaller"
   ]
  },
  {
   "cell_type": "code",
   "execution_count": 26,
   "id": "4e2f4a02",
   "metadata": {
    "execution": {
     "iopub.execute_input": "2024-03-06T02:19:51.811596Z",
     "iopub.status.busy": "2024-03-06T02:19:51.811076Z",
     "iopub.status.idle": "2024-03-06T02:19:52.321603Z",
     "shell.execute_reply": "2024-03-06T02:19:52.319888Z"
    },
    "papermill": {
     "duration": 0.533043,
     "end_time": "2024-03-06T02:19:52.325478",
     "exception": false,
     "start_time": "2024-03-06T02:19:51.792435",
     "status": "completed"
    },
    "tags": []
   },
   "outputs": [
    {
     "data": {
      "text/plain": [
       "<Axes: xlabel='Country', ylabel='Commitment in U.A'>"
      ]
     },
     "execution_count": 26,
     "metadata": {},
     "output_type": "execute_result"
    },
    {
     "data": {
      "image/png": "[encoded data removed]",
      "text/plain": [
       "<Figure size 1200x600 with 1 Axes>"
      ]
     },
     "metadata": {},
     "output_type": "display_data"
    }
   ],
   "source": [
    "plt.figure(figsize=(12, 6))\n",
    "sns.barplot(x='Country', y='Commitment in U.A', data=newdf)"
   ]
  },
  {
   "cell_type": "markdown",
   "id": "a1f052bc",
   "metadata": {
    "papermill": {
     "duration": 0.024458,
     "end_time": "2024-03-06T02:19:52.375037",
     "exception": false,
     "start_time": "2024-03-06T02:19:52.350579",
     "status": "completed"
    },
    "tags": []
   },
   "source": [
    "# Conclusion \n",
    "we can notice that Multinational investors invest in a lot of projects, this can deceive us and make us say that they are in the first place, but when we look at the total amount of investments we notice that Morocco, Botswana, Tunisia, and Kenya has more investments, and this is the final result of our Analysis"
   ]
  }
 ],
 "metadata": {
  "kaggle": {
   "accelerator": "none",
   "dataSources": [
    {
     "datasetId": 996014,
     "sourceId": 1681046,
     "sourceType": "datasetVersion"
    }
   ],
   "dockerImageVersionId": 30664,
   "isGpuEnabled": false,
   "isInternetEnabled": true,
   "language": "python",
   "sourceType": "notebook"
  },
  "kernelspec": {
   "display_name": "Python 3",
   "language": "python",
   "name": "python3"
  },
  "language_info": {
   "codemirror_mode": {
    "name": "ipython",
    "version": 3
   },
   "file_extension": ".py",
   "mimetype": "text/x-python",
   "name": "python",
   "nbconvert_exporter": "python",
   "pygments_lexer": "ipython3",
   "version": "3.10.13"
  },
  "papermill": {
   "default_parameters": {},
   "duration": 9.465504,
   "end_time": "2024-03-06T02:19:53.019934",
   "environment_variables": {},
   "exception": null,
   "input_path": "__notebook__.ipynb",
   "output_path": "__notebook__.ipynb",
   "parameters": {},
   "start_time": "2024-03-06T02:19:43.554430",
   "version": "2.5.0"
  }
 },
 "nbformat": 4,
 "nbformat_minor": 5
}
